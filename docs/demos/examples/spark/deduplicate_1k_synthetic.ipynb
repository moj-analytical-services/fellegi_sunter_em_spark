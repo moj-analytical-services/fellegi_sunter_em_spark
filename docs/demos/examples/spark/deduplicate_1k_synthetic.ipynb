{
 "cells": [
  {
   "attachments": {},
   "cell_type": "markdown",
   "metadata": {},
   "source": [
    "## Linking in Spark\n"
   ]
  },
  {
   "cell_type": "markdown",
   "metadata": {},
   "source": [
    "<a target=\"_blank\" href=\"https://colab.research.google.com/github/moj-analytical-services/splink/blob/splink4_dev/docs/demos/examples/spark/deduplicate_1k_synthetic.ipynb\">\n",
    "  <img src=\"https://colab.research.google.com/assets/colab-badge.svg\" alt=\"Open In Colab\"/>\n",
    "</a>\n"
   ]
  },
  {
   "cell_type": "code",
   "execution_count": 1,
   "metadata": {
    "execution": {
     "iopub.execute_input": "2024-03-13T12:29:57.518197Z",
     "iopub.status.busy": "2024-03-13T12:29:57.517750Z",
     "iopub.status.idle": "2024-03-13T12:29:57.523242Z",
     "shell.execute_reply": "2024-03-13T12:29:57.522525Z"
    }
   },
   "outputs": [],
   "source": [
    "# Uncomment and run this cell if you're running in Google Colab.\n",
    "# !pip install git+https://github.com/moj-analytical-services/splink.git@splink4_dev\n",
    "# !pip install pyspark"
   ]
  },
  {
   "cell_type": "code",
   "execution_count": 2,
   "metadata": {
    "execution": {
     "iopub.execute_input": "2024-03-13T12:29:57.527366Z",
     "iopub.status.busy": "2024-03-13T12:29:57.527045Z",
     "iopub.status.idle": "2024-03-13T12:30:42.348824Z",
     "shell.execute_reply": "2024-03-13T12:30:42.347900Z"
    }
   },
   "outputs": [
    {
     "name": "stderr",
     "output_type": "stream",
     "text": [
      "24/03/13 12:30:29 WARN NativeCodeLoader: Unable to load native-hadoop library for your platform... using builtin-java classes where applicable\n"
     ]
    },
    {
     "name": "stderr",
     "output_type": "stream",
     "text": [
      "Setting default log level to \"WARN\".\n",
      "To adjust logging level use sc.setLogLevel(newLevel). For SparkR, use setLogLevel(newLevel).\n"
     ]
    }
   ],
   "source": [
    "from splink.spark.jar_location import similarity_jar_location\n",
    "\n",
    "from pyspark import SparkContext, SparkConf\n",
    "from pyspark.sql import SparkSession\n",
    "\n",
    "conf = SparkConf()\n",
    "# This parallelism setting is only suitable for a small toy example\n",
    "conf.set(\"spark.driver.memory\", \"12g\")\n",
    "conf.set(\"spark.default.parallelism\", \"16\")\n",
    "\n",
    "\n",
    "# Add custom similarity functions, which are bundled with Splink\n",
    "# documented here: https://github.com/moj-analytical-services/splink_scalaudfs\n",
    "path = similarity_jar_location()\n",
    "conf.set(\"spark.jars\", path)\n",
    "\n",
    "sc = SparkContext.getOrCreate(conf=conf)\n",
    "\n",
    "spark = SparkSession(sc)\n",
    "spark.sparkContext.setCheckpointDir(\"./tmp_checkpoints\")"
   ]
  },
  {
   "cell_type": "code",
   "execution_count": 3,
   "metadata": {
    "execution": {
     "iopub.execute_input": "2024-03-13T12:30:42.353970Z",
     "iopub.status.busy": "2024-03-13T12:30:42.353260Z",
     "iopub.status.idle": "2024-03-13T12:30:42.358982Z",
     "shell.execute_reply": "2024-03-13T12:30:42.358209Z"
    }
   },
   "outputs": [],
   "source": [
    "# Disable warnings for pyspark - you don't need to include this\n",
    "import warnings\n",
    "\n",
    "spark.sparkContext.setLogLevel(\"ERROR\")\n",
    "warnings.simplefilter(\"ignore\", UserWarning)"
   ]
  },
  {
   "cell_type": "code",
   "execution_count": 4,
   "metadata": {
    "execution": {
     "iopub.execute_input": "2024-03-13T12:30:42.363648Z",
     "iopub.status.busy": "2024-03-13T12:30:42.363227Z",
     "iopub.status.idle": "2024-03-13T12:30:45.734688Z",
     "shell.execute_reply": "2024-03-13T12:30:45.733419Z"
    }
   },
   "outputs": [],
   "source": [
    "from splink import splink_datasets\n",
    "\n",
    "pandas_df = splink_datasets.fake_1000\n",
    "\n",
    "df = spark.createDataFrame(pandas_df)"
   ]
  },
  {
   "cell_type": "code",
   "execution_count": 5,
   "metadata": {
    "execution": {
     "iopub.execute_input": "2024-03-13T12:30:45.740685Z",
     "iopub.status.busy": "2024-03-13T12:30:45.740314Z",
     "iopub.status.idle": "2024-03-13T12:30:45.773778Z",
     "shell.execute_reply": "2024-03-13T12:30:45.772855Z"
    }
   },
   "outputs": [],
   "source": [
    "import splink.comparison_library as cl\n",
    "import splink.comparison_template_library as ctl\n",
    "\n",
    "from splink import Linker, SparkAPI, block_on, SettingsCreator\n",
    "\n",
    "settings = SettingsCreator(\n",
    "    link_type=\"dedupe_only\",\n",
    "    comparisons=[\n",
    "        ctl.NameComparison(\"first_name\"),\n",
    "        ctl.NameComparison(\"surname\"),\n",
    "        # ctl.date_comparison(\"dob\", cast_strings_to_date=True),\n",
    "        # TOD=Fix date comparison\n",
    "        ctl.DateComparison(\n",
    "            \"dob\",\n",
    "            input_is_string=True,\n",
    "            datetime_metrics=[\"month\", \"year\", \"year\"],\n",
    "            datetime_thresholds=[1, 1, 10],\n",
    "            datetime_format=\"%Y%m%d\",\n",
    "        ),\n",
    "        cl.ExactMatch(\"city\").configure(term_frequency_adjustments=True),\n",
    "        ctl.EmailComparison(\"email\", include_username_fuzzy_level=False),\n",
    "    ],\n",
    "    blocking_rules_to_generate_predictions=[\n",
    "        block_on(\"first_name\"),\n",
    "        \"l.surname = r.surname\",  # alternatively, you can write BRs in their SQL form\n",
    "    ],\n",
    "    retain_intermediate_calculation_columns=True,\n",
    "    em_convergence=0.01,\n",
    ")"
   ]
  },
  {
   "cell_type": "code",
   "execution_count": 6,
   "metadata": {
    "execution": {
     "iopub.execute_input": "2024-03-13T12:30:45.779194Z",
     "iopub.status.busy": "2024-03-13T12:30:45.778688Z",
     "iopub.status.idle": "2024-03-13T12:30:57.746806Z",
     "shell.execute_reply": "2024-03-13T12:30:57.744480Z"
    }
   },
   "outputs": [
    {
     "name": "stderr",
     "output_type": "stream",
     "text": [
      "\r",
      "[Stage 0:>                                                        (0 + 12) / 16]\r"
     ]
    },
    {
     "name": "stderr",
     "output_type": "stream",
     "text": [
      "\r",
      "[Stage 0:==========================================>              (12 + 4) / 16]\r"
     ]
    },
    {
     "name": "stderr",
     "output_type": "stream",
     "text": [
      "\r",
      "                                                                                \r"
     ]
    },
    {
     "name": "stderr",
     "output_type": "stream",
     "text": [
      "\r",
      "[Stage 3:==========================================>              (12 + 4) / 16]\r"
     ]
    },
    {
     "name": "stderr",
     "output_type": "stream",
     "text": [
      "\r",
      "[Stage 3:==>(12 + 4) / 16][Stage 4:>   (0 + 8) / 16][Stage 5:>   (0 + 0) / 16]\r",
      "\r",
      "[Stage 4:>  (1 + 12) / 16][Stage 5:>   (0 + 0) / 16][Stage 6:>   (0 + 0) / 16]\r"
     ]
    },
    {
     "name": "stderr",
     "output_type": "stream",
     "text": [
      "\r",
      "[Stage 4:==> (8 + 8) / 16][Stage 5:>   (0 + 4) / 16][Stage 6:>   (0 + 0) / 16]\r"
     ]
    },
    {
     "name": "stderr",
     "output_type": "stream",
     "text": [
      "\r",
      "[Stage 5:>  (0 + 12) / 16][Stage 6:>   (0 + 0) / 16][Stage 8:>    (0 + 0) / 1]\r",
      "\r",
      "[Stage 5:>  (4 + 12) / 16][Stage 6:>   (0 + 0) / 16][Stage 8:>    (0 + 0) / 1]\r"
     ]
    },
    {
     "name": "stderr",
     "output_type": "stream",
     "text": [
      "\r",
      "[Stage 5:==>(12 + 4) / 16][Stage 6:>   (0 + 8) / 16][Stage 8:>    (0 + 0) / 1]\r",
      "\r",
      "[Stage 6:>  (0 + 12) / 16][Stage 8:>    (0 + 0) / 1][Stage 10:>   (0 + 0) / 1]\r"
     ]
    },
    {
     "name": "stderr",
     "output_type": "stream",
     "text": [
      "\r",
      "[Stage 6:=>  (7 + 9) / 16][Stage 8:>    (0 + 1) / 1][Stage 10:>   (0 + 1) / 1]\r",
      "\r",
      "                                                                                \r"
     ]
    },
    {
     "name": "stderr",
     "output_type": "stream",
     "text": [
      "Probability two random records match is estimated to be  0.0806.\n",
      "This means that amongst all possible pairwise record comparisons, one in 12.41 are expected to match.  With 499,500 total possible comparisons, we expect a total of around 40,246.67 matching pairs\n"
     ]
    }
   ],
   "source": [
    "linker = Linker(df, settings, database_api=SparkAPI(spark_session=spark))\n",
    "deterministic_rules = [\n",
    "    \"l.first_name = r.first_name and levenshtein(r.dob, l.dob) <= 1\",\n",
    "    \"l.surname = r.surname and levenshtein(r.dob, l.dob) <= 1\",\n",
    "    \"l.first_name = r.first_name and levenshtein(r.surname, l.surname) <= 2\",\n",
    "    \"l.email = r.email\",\n",
    "]\n",
    "\n",
    "linker.estimate_probability_two_random_records_match(deterministic_rules, recall=0.6)"
   ]
  },
  {
   "cell_type": "code",
   "execution_count": 7,
   "metadata": {
    "execution": {
     "iopub.execute_input": "2024-03-13T12:30:57.757986Z",
     "iopub.status.busy": "2024-03-13T12:30:57.757315Z",
     "iopub.status.idle": "2024-03-13T12:31:17.080600Z",
     "shell.execute_reply": "2024-03-13T12:31:17.079503Z"
    }
   },
   "outputs": [
    {
     "name": "stderr",
     "output_type": "stream",
     "text": [
      "----- Estimating u probabilities using random sampling -----\n"
     ]
    },
    {
     "name": "stderr",
     "output_type": "stream",
     "text": [
      "\r",
      "[Stage 39:============================>                            (8 + 8) / 16]\r"
     ]
    },
    {
     "name": "stderr",
     "output_type": "stream",
     "text": [
      "\r",
      "[Stage 39:============>   (12 + 4) / 16][Stage 40:>                (0 + 8) / 16]\r"
     ]
    },
    {
     "name": "stderr",
     "output_type": "stream",
     "text": [
      "\r",
      "[Stage 39:==============> (14 + 2) / 16][Stage 40:===>            (3 + 10) / 16]\r",
      "\r",
      "[Stage 40:============================>                            (8 + 8) / 16]\r"
     ]
    },
    {
     "name": "stderr",
     "output_type": "stream",
     "text": [
      "\r",
      "[Stage 41:==========================================>             (12 + 4) / 16]\r",
      "\r",
      "                                                                                \r"
     ]
    },
    {
     "name": "stderr",
     "output_type": "stream",
     "text": [
      "\r",
      "[Stage 50:>                                                       (0 + 12) / 25]\r"
     ]
    },
    {
     "name": "stderr",
     "output_type": "stream",
     "text": [
      "\r",
      "[Stage 50:========================>                              (11 + 12) / 25]\r"
     ]
    },
    {
     "name": "stderr",
     "output_type": "stream",
     "text": [
      "\r",
      "[Stage 50:=====================================================>  (24 + 1) / 25]\r",
      "\r",
      "                                                                                \r"
     ]
    },
    {
     "name": "stderr",
     "output_type": "stream",
     "text": [
      "\r",
      "[Stage 55:=====================>                                   (5 + 8) / 13]\r",
      "\r",
      "[Stage 56:=====>           (4 + 9) / 13][Stage 57:>                (0 + 3) / 13]\r"
     ]
    },
    {
     "name": "stderr",
     "output_type": "stream",
     "text": [
      "\r",
      "[Stage 57:=> (5 + 8) / 13][Stage 58:>  (0 + 4) / 13][Stage 59:>  (0 + 0) / 13]\r"
     ]
    },
    {
     "name": "stderr",
     "output_type": "stream",
     "text": [
      "\r",
      "[Stage 57:==>(9 + 4) / 13][Stage 58:>  (0 + 8) / 13][Stage 59:>  (0 + 0) / 13]\r"
     ]
    },
    {
     "name": "stderr",
     "output_type": "stream",
     "text": [
      "\r",
      "[Stage 58:> (3 + 10) / 13][Stage 59:>  (0 + 2) / 13][Stage 60:>  (0 + 0) / 13]\r",
      "\r",
      "[Stage 58:=> (7 + 6) / 13][Stage 59:>  (0 + 6) / 13][Stage 60:>  (0 + 0) / 13]\r"
     ]
    },
    {
     "name": "stderr",
     "output_type": "stream",
     "text": [
      "\r",
      "[Stage 59:> (2 + 11) / 13][Stage 60:>  (0 + 1) / 13][Stage 62:>  (0 + 0) / 25]\r"
     ]
    },
    {
     "name": "stderr",
     "output_type": "stream",
     "text": [
      "\r",
      "[Stage 60:> (1 + 12) / 13][Stage 62:>  (0 + 0) / 25][Stage 64:>  (0 + 0) / 25]\r",
      "\r",
      "                                                                                \r"
     ]
    },
    {
     "name": "stderr",
     "output_type": "stream",
     "text": [
      "\r",
      "[Stage 72:>               (0 + 12) / 25][Stage 74:>                (0 + 0) / 25]\r"
     ]
    },
    {
     "name": "stderr",
     "output_type": "stream",
     "text": [
      "\r",
      "[Stage 72:> (0 + 12) / 25][Stage 74:>  (0 + 0) / 25][Stage 76:>  (0 + 0) / 25]\r"
     ]
    },
    {
     "name": "stderr",
     "output_type": "stream",
     "text": [
      "\r",
      "[Stage 72:>(13 + 12) / 25][Stage 74:>  (0 + 0) / 25][Stage 76:>  (0 + 0) / 25]\r",
      "\r",
      "                                                                                \r"
     ]
    },
    {
     "name": "stderr",
     "output_type": "stream",
     "text": [
      "\r",
      "[Stage 78:> (0 + 12) / 25][Stage 80:>  (0 + 0) / 25][Stage 82:>  (0 + 0) / 25]\r"
     ]
    },
    {
     "name": "stderr",
     "output_type": "stream",
     "text": [
      "\r",
      "[Stage 78:> (3 + 12) / 25][Stage 80:>  (0 + 0) / 25][Stage 82:>  (0 + 0) / 25]\r"
     ]
    },
    {
     "name": "stderr",
     "output_type": "stream",
     "text": [
      "\r",
      "[Stage 78:> (5 + 12) / 25][Stage 80:>  (0 + 0) / 25][Stage 82:>  (0 + 0) / 25]\r"
     ]
    },
    {
     "name": "stderr",
     "output_type": "stream",
     "text": [
      "\r",
      "[Stage 78:> (7 + 12) / 25][Stage 80:>  (0 + 0) / 25][Stage 82:>  (0 + 0) / 25]\r"
     ]
    },
    {
     "name": "stderr",
     "output_type": "stream",
     "text": [
      "\r",
      "[Stage 78:>(10 + 12) / 25][Stage 80:>  (0 + 0) / 25][Stage 82:>  (0 + 0) / 25]\r"
     ]
    },
    {
     "name": "stderr",
     "output_type": "stream",
     "text": [
      "\r",
      "[Stage 78:>(12 + 12) / 25][Stage 80:>  (0 + 0) / 25][Stage 82:>  (0 + 0) / 25]\r"
     ]
    },
    {
     "name": "stderr",
     "output_type": "stream",
     "text": [
      "\r",
      "[Stage 78:>(14 + 11) / 25][Stage 80:>  (0 + 1) / 25][Stage 82:>  (0 + 0) / 25]\r",
      "\r",
      "[Stage 78:=>(17 + 8) / 25][Stage 80:>  (3 + 5) / 25][Stage 82:>  (0 + 0) / 25]\r"
     ]
    },
    {
     "name": "stderr",
     "output_type": "stream",
     "text": [
      "\r",
      "[Stage 78:=>(20 + 5) / 25][Stage 80:=>(16 + 7) / 25][Stage 82:>  (0 + 0) / 25]\r"
     ]
    },
    {
     "name": "stderr",
     "output_type": "stream",
     "text": [
      "\r",
      "[Stage 78:=>(21 + 4) / 25][Stage 82:>  (0 + 8) / 25][Stage 84:>  (0 + 0) / 25]\r",
      "\r",
      "[Stage 78:=>(24 + 1) / 25][Stage 82:> (0 + 11) / 25][Stage 84:>  (0 + 0) / 25]\r"
     ]
    },
    {
     "name": "stderr",
     "output_type": "stream",
     "text": [
      "\r",
      "[Stage 78:=>(24 + 1) / 25][Stage 82:> (1 + 11) / 25][Stage 84:>  (0 + 0) / 25]\r",
      "\r",
      "[Stage 78:=>(24 + 1) / 25][Stage 82:> (5 + 11) / 25][Stage 84:>  (0 + 0) / 25]\r"
     ]
    },
    {
     "name": "stderr",
     "output_type": "stream",
     "text": [
      "\r",
      "[Stage 78:=>(24 + 1) / 25][Stage 82:>(11 + 11) / 25][Stage 84:>  (0 + 0) / 25]\r"
     ]
    },
    {
     "name": "stderr",
     "output_type": "stream",
     "text": [
      "\r",
      "[Stage 78:=>(24 + 1) / 25][Stage 82:=>(19 + 6) / 25][Stage 84:>  (6 + 5) / 25]\r"
     ]
    },
    {
     "name": "stderr",
     "output_type": "stream",
     "text": [
      "\r",
      "[Stage 78:===============>(24 + 1) / 25][Stage 82:==============> (22 + 3) / 25]\r"
     ]
    },
    {
     "name": "stderr",
     "output_type": "stream",
     "text": [
      "\r",
      "                                                                                \r"
     ]
    },
    {
     "name": "stderr",
     "output_type": "stream",
     "text": [
      "\n",
      "Estimated u probabilities using random sampling\n"
     ]
    },
    {
     "name": "stderr",
     "output_type": "stream",
     "text": [
      "\n",
      "Your model is not yet fully trained. Missing estimates for:\n",
      "    - first_name (no m values are trained).\n",
      "    - surname (no m values are trained).\n",
      "    - dob (no m values are trained).\n",
      "    - city (no m values are trained).\n",
      "    - email (no m values are trained).\n"
     ]
    }
   ],
   "source": [
    "linker.estimate_u_using_random_sampling(max_pairs=5e5)"
   ]
  },
  {
   "cell_type": "code",
   "execution_count": 8,
   "metadata": {
    "execution": {
     "iopub.execute_input": "2024-03-13T12:31:17.085610Z",
     "iopub.status.busy": "2024-03-13T12:31:17.085246Z",
     "iopub.status.idle": "2024-03-13T12:31:36.217869Z",
     "shell.execute_reply": "2024-03-13T12:31:36.217063Z"
    }
   },
   "outputs": [
    {
     "name": "stderr",
     "output_type": "stream",
     "text": [
      "\n",
      "----- Starting EM training session -----\n",
      "\n"
     ]
    },
    {
     "name": "stderr",
     "output_type": "stream",
     "text": [
      "Estimating the m probabilities of the model by blocking on:\n",
      "l.first_name = r.first_name and l.surname = r.surname\n",
      "\n",
      "Parameter estimates will be made for the following comparison(s):\n",
      "    - dob\n",
      "    - city\n",
      "    - email\n",
      "\n",
      "Parameter estimates cannot be made for the following comparison(s) since they are used in the blocking rules: \n",
      "    - first_name\n",
      "    - surname\n"
     ]
    },
    {
     "name": "stderr",
     "output_type": "stream",
     "text": [
      "\r",
      "[Stage 101:====================>                                (39 + 12) / 100]\r"
     ]
    },
    {
     "name": "stderr",
     "output_type": "stream",
     "text": [
      "\r",
      "[Stage 101:============================>                        (54 + 12) / 100]\r"
     ]
    },
    {
     "name": "stderr",
     "output_type": "stream",
     "text": [
      "\r",
      "[Stage 101:=================================>                   (63 + 12) / 100]\r"
     ]
    },
    {
     "name": "stderr",
     "output_type": "stream",
     "text": [
      "\r",
      "[Stage 101:=======================================>             (75 + 13) / 100]\r",
      "\r",
      "[Stage 101:===============================================>     (89 + 11) / 100]\r"
     ]
    },
    {
     "name": "stderr",
     "output_type": "stream",
     "text": [
      "\r",
      "                                                                                \r"
     ]
    },
    {
     "name": "stderr",
     "output_type": "stream",
     "text": [
      "\n"
     ]
    },
    {
     "name": "stderr",
     "output_type": "stream",
     "text": [
      "\r",
      "[Stage 106:==============>                                        (4 + 11) / 15]\r"
     ]
    },
    {
     "name": "stderr",
     "output_type": "stream",
     "text": [
      "\r",
      "                                                                                \r",
      "Iteration 1: Largest change in params was -0.697 in probability_two_random_records_match\n"
     ]
    },
    {
     "name": "stderr",
     "output_type": "stream",
     "text": [
      "Iteration 2: Largest change in params was 0.0565 in the m_probability of email, level `All other comparisons`\n"
     ]
    },
    {
     "name": "stderr",
     "output_type": "stream",
     "text": [
      "\r",
      "[Stage 124:====================================>                  (10 + 5) / 15]\r",
      "\r",
      "                                                                                \r",
      "Iteration 3: Largest change in params was 0.019 in the m_probability of email, level `All other comparisons`\n"
     ]
    },
    {
     "name": "stderr",
     "output_type": "stream",
     "text": [
      "\r",
      "[Stage 132:>(5 + 10) / 15][Stage 133:> (0 + 2) / 15][Stage 134:> (0 + 0) / 15]\r"
     ]
    },
    {
     "name": "stderr",
     "output_type": "stream",
     "text": [
      "\r",
      "[Stage 133:===>           (3 + 12) / 15][Stage 134:>               (0 + 0) / 15]\r"
     ]
    },
    {
     "name": "stderr",
     "output_type": "stream",
     "text": [
      "\r",
      "                                                                                \r",
      "Iteration 4: Largest change in params was 0.008 in the m_probability of email, level `All other comparisons`\n"
     ]
    },
    {
     "name": "stderr",
     "output_type": "stream",
     "text": [
      "\n",
      "EM converged after 4 iterations\n"
     ]
    },
    {
     "name": "stderr",
     "output_type": "stream",
     "text": [
      "\n",
      "Your model is not yet fully trained. Missing estimates for:\n",
      "    - first_name (no m values are trained).\n",
      "    - surname (no m values are trained).\n"
     ]
    },
    {
     "name": "stderr",
     "output_type": "stream",
     "text": [
      "\n",
      "----- Starting EM training session -----\n",
      "\n"
     ]
    },
    {
     "name": "stderr",
     "output_type": "stream",
     "text": [
      "Estimating the m probabilities of the model by blocking on:\n",
      "l.dob = r.dob\n",
      "\n",
      "Parameter estimates will be made for the following comparison(s):\n",
      "    - first_name\n",
      "    - surname\n",
      "    - city\n",
      "    - email\n",
      "\n",
      "Parameter estimates cannot be made for the following comparison(s) since they are used in the blocking rules: \n",
      "    - dob\n"
     ]
    },
    {
     "name": "stderr",
     "output_type": "stream",
     "text": [
      "\r",
      "[Stage 143:===================>                                 (37 + 13) / 100]\r"
     ]
    },
    {
     "name": "stderr",
     "output_type": "stream",
     "text": [
      "\r",
      "[Stage 143:========================>                            (46 + 12) / 100]\r"
     ]
    },
    {
     "name": "stderr",
     "output_type": "stream",
     "text": [
      "\r",
      "[Stage 143:===============================>                     (60 + 12) / 100]\r"
     ]
    },
    {
     "name": "stderr",
     "output_type": "stream",
     "text": [
      "\r",
      "[Stage 143:========================================>            (76 + 12) / 100]\r"
     ]
    },
    {
     "name": "stderr",
     "output_type": "stream",
     "text": [
      "\r",
      "[Stage 143:=================================================>    (92 + 8) / 100]\r",
      "\r",
      "                                                                                \r"
     ]
    },
    {
     "name": "stderr",
     "output_type": "stream",
     "text": [
      "\n"
     ]
    },
    {
     "name": "stderr",
     "output_type": "stream",
     "text": [
      "\r",
      "[Stage 148:>(0 + 12) / 15][Stage 149:> (0 + 0) / 15][Stage 150:> (0 + 0) / 15]\r"
     ]
    },
    {
     "name": "stderr",
     "output_type": "stream",
     "text": [
      "\r",
      "[Stage 148:>(14 + 1) / 15][Stage 149:>(1 + 11) / 15][Stage 150:> (0 + 0) / 15]\r"
     ]
    },
    {
     "name": "stderr",
     "output_type": "stream",
     "text": [
      "\r",
      "[Stage 150:============================================>          (12 + 3) / 15]\r",
      "\r",
      "                                                                                \r",
      "Iteration 1: Largest change in params was -0.541 in the m_probability of surname, level `Exact match on surname`\n"
     ]
    },
    {
     "name": "stderr",
     "output_type": "stream",
     "text": [
      "Iteration 2: Largest change in params was 0.126 in probability_two_random_records_match\n"
     ]
    },
    {
     "name": "stderr",
     "output_type": "stream",
     "text": [
      "\r",
      "[Stage 172:===============================================>       (13 + 2) / 15]\r",
      "\r",
      "                                                                                \r",
      "Iteration 3: Largest change in params was 0.0431 in probability_two_random_records_match\n"
     ]
    },
    {
     "name": "stderr",
     "output_type": "stream",
     "text": [
      "Iteration 4: Largest change in params was 0.0178 in probability_two_random_records_match\n"
     ]
    },
    {
     "name": "stderr",
     "output_type": "stream",
     "text": [
      "Iteration 5: Largest change in params was 0.00899 in probability_two_random_records_match\n"
     ]
    },
    {
     "name": "stderr",
     "output_type": "stream",
     "text": [
      "\n",
      "EM converged after 5 iterations\n"
     ]
    },
    {
     "name": "stderr",
     "output_type": "stream",
     "text": [
      "\n",
      "Your model is fully trained. All comparisons have at least one estimate for their m and u values\n"
     ]
    }
   ],
   "source": [
    "training_blocking_rule = \"l.first_name = r.first_name and l.surname = r.surname\"\n",
    "training_session_fname_sname = (\n",
    "    linker.estimate_parameters_using_expectation_maximisation(training_blocking_rule)\n",
    ")\n",
    "\n",
    "training_blocking_rule = \"l.dob = r.dob\"\n",
    "training_session_dob = linker.estimate_parameters_using_expectation_maximisation(\n",
    "    training_blocking_rule\n",
    ")"
   ]
  },
  {
   "cell_type": "code",
   "execution_count": 9,
   "metadata": {
    "execution": {
     "iopub.execute_input": "2024-03-13T12:31:36.223120Z",
     "iopub.status.busy": "2024-03-13T12:31:36.222561Z",
     "iopub.status.idle": "2024-03-13T12:31:44.599133Z",
     "shell.execute_reply": "2024-03-13T12:31:44.597894Z"
    }
   },
   "outputs": [
    {
     "name": "stderr",
     "output_type": "stream",
     "text": [
      "\r",
      "[Stage 203:>                                                      (0 + 12) / 26]\r"
     ]
    },
    {
     "name": "stderr",
     "output_type": "stream",
     "text": [
      "\r",
      "[Stage 203:==>                                                    (1 + 12) / 26]\r",
      "\r",
      "[Stage 203:====>                                                  (2 + 12) / 26]\r"
     ]
    },
    {
     "name": "stderr",
     "output_type": "stream",
     "text": [
      "\r",
      "[Stage 203:======>                                                (3 + 12) / 26]\r"
     ]
    },
    {
     "name": "stderr",
     "output_type": "stream",
     "text": [
      "\r",
      "[Stage 203:================>                                      (8 + 12) / 26]\r"
     ]
    },
    {
     "name": "stderr",
     "output_type": "stream",
     "text": [
      "\r",
      "[Stage 203:====================>                                 (10 + 12) / 26]\r"
     ]
    },
    {
     "name": "stderr",
     "output_type": "stream",
     "text": [
      "\r",
      "[Stage 203:===========================>                          (13 + 12) / 26]\r"
     ]
    },
    {
     "name": "stderr",
     "output_type": "stream",
     "text": [
      "\r",
      "[Stage 203:=============================>                        (14 + 12) / 26]\r"
     ]
    },
    {
     "name": "stderr",
     "output_type": "stream",
     "text": [
      "\r",
      "[Stage 203:===============================>                      (15 + 11) / 26]\r",
      "\r",
      "[Stage 203:========================================>              (19 + 7) / 26]\r"
     ]
    },
    {
     "name": "stderr",
     "output_type": "stream",
     "text": [
      "\r",
      "[Stage 203:================================================>      (23 + 3) / 26]\r"
     ]
    },
    {
     "name": "stderr",
     "output_type": "stream",
     "text": [
      "\r",
      "[Stage 205:=========================>                           (49 + 12) / 100]\r"
     ]
    },
    {
     "name": "stderr",
     "output_type": "stream",
     "text": [
      "\r",
      "[Stage 205:==================================>                  (66 + 12) / 100]\r",
      "\r",
      "[Stage 205:==============================================>      (87 + 12) / 100]\r"
     ]
    },
    {
     "name": "stderr",
     "output_type": "stream",
     "text": [
      "\r",
      "                                                                                \r"
     ]
    }
   ],
   "source": [
    "results = linker.predict(threshold_match_probability=0.9)"
   ]
  },
  {
   "cell_type": "code",
   "execution_count": 10,
   "metadata": {
    "execution": {
     "iopub.execute_input": "2024-03-13T12:31:44.605970Z",
     "iopub.status.busy": "2024-03-13T12:31:44.605505Z",
     "iopub.status.idle": "2024-03-13T12:31:44.750590Z",
     "shell.execute_reply": "2024-03-13T12:31:44.749429Z"
    },
    "tags": []
   },
   "outputs": [
    {
     "data": {
      "text/html": [
       "<div>\n",
       "<style scoped>\n",
       "    .dataframe tbody tr th:only-of-type {\n",
       "        vertical-align: middle;\n",
       "    }\n",
       "\n",
       "    .dataframe tbody tr th {\n",
       "        vertical-align: top;\n",
       "    }\n",
       "\n",
       "    .dataframe thead th {\n",
       "        text-align: right;\n",
       "    }\n",
       "</style>\n",
       "<table border=\"1\" class=\"dataframe\">\n",
       "  <thead>\n",
       "    <tr style=\"text-align: right;\">\n",
       "      <th></th>\n",
       "      <th>match_weight</th>\n",
       "      <th>match_probability</th>\n",
       "      <th>unique_id_l</th>\n",
       "      <th>unique_id_r</th>\n",
       "      <th>first_name_l</th>\n",
       "      <th>first_name_r</th>\n",
       "      <th>gamma_first_name</th>\n",
       "      <th>bf_first_name</th>\n",
       "      <th>surname_l</th>\n",
       "      <th>surname_r</th>\n",
       "      <th>...</th>\n",
       "      <th>gamma_city</th>\n",
       "      <th>tf_city_l</th>\n",
       "      <th>tf_city_r</th>\n",
       "      <th>bf_city</th>\n",
       "      <th>bf_tf_adj_city</th>\n",
       "      <th>email_l</th>\n",
       "      <th>email_r</th>\n",
       "      <th>gamma_email</th>\n",
       "      <th>bf_email</th>\n",
       "      <th>match_key</th>\n",
       "    </tr>\n",
       "  </thead>\n",
       "  <tbody>\n",
       "    <tr>\n",
       "      <th>0</th>\n",
       "      <td>16.439400</td>\n",
       "      <td>0.999989</td>\n",
       "      <td>533</td>\n",
       "      <td>536</td>\n",
       "      <td>Freddie</td>\n",
       "      <td>Freddie</td>\n",
       "      <td>3</td>\n",
       "      <td>11.44555</td>\n",
       "      <td>Gregory</td>\n",
       "      <td>Grerrogy</td>\n",
       "      <td>...</td>\n",
       "      <td>0</td>\n",
       "      <td>0.173</td>\n",
       "      <td>0.187</td>\n",
       "      <td>0.624788</td>\n",
       "      <td>1.000000</td>\n",
       "      <td>freddiegregory71@jensen.info</td>\n",
       "      <td>freddiegregory71@jensen.info</td>\n",
       "      <td>3</td>\n",
       "      <td>8.472959</td>\n",
       "      <td>0</td>\n",
       "    </tr>\n",
       "    <tr>\n",
       "      <th>1</th>\n",
       "      <td>10.030650</td>\n",
       "      <td>0.999045</td>\n",
       "      <td>838</td>\n",
       "      <td>841</td>\n",
       "      <td>Charlotte</td>\n",
       "      <td>Charlotte</td>\n",
       "      <td>3</td>\n",
       "      <td>11.44555</td>\n",
       "      <td>Harper</td>\n",
       "      <td>Harper</td>\n",
       "      <td>...</td>\n",
       "      <td>0</td>\n",
       "      <td>0.187</td>\n",
       "      <td>0.012</td>\n",
       "      <td>0.624788</td>\n",
       "      <td>1.000000</td>\n",
       "      <td>charpe@r@milleb.riz</td>\n",
       "      <td>charper@miller.biz</td>\n",
       "      <td>1</td>\n",
       "      <td>252.763068</td>\n",
       "      <td>0</td>\n",
       "    </tr>\n",
       "    <tr>\n",
       "      <th>2</th>\n",
       "      <td>7.476405</td>\n",
       "      <td>0.994416</td>\n",
       "      <td>365</td>\n",
       "      <td>369</td>\n",
       "      <td>Samuel</td>\n",
       "      <td>Samuel</td>\n",
       "      <td>3</td>\n",
       "      <td>11.44555</td>\n",
       "      <td>Campbell</td>\n",
       "      <td>Campbell</td>\n",
       "      <td>...</td>\n",
       "      <td>0</td>\n",
       "      <td>0.001</td>\n",
       "      <td>0.018</td>\n",
       "      <td>0.624788</td>\n",
       "      <td>1.000000</td>\n",
       "      <td>samuelcampbell35@hebert.com</td>\n",
       "      <td>samuelcampbell35@hebert.com</td>\n",
       "      <td>3</td>\n",
       "      <td>8.472959</td>\n",
       "      <td>0</td>\n",
       "    </tr>\n",
       "    <tr>\n",
       "      <th>3</th>\n",
       "      <td>25.105978</td>\n",
       "      <td>1.000000</td>\n",
       "      <td>606</td>\n",
       "      <td>608</td>\n",
       "      <td>Amelia</td>\n",
       "      <td>Amelia</td>\n",
       "      <td>3</td>\n",
       "      <td>11.44555</td>\n",
       "      <td>Porter</td>\n",
       "      <td>Porrret</td>\n",
       "      <td>...</td>\n",
       "      <td>1</td>\n",
       "      <td>0.014</td>\n",
       "      <td>0.014</td>\n",
       "      <td>5.890233</td>\n",
       "      <td>5.089947</td>\n",
       "      <td>ameiiap@nlcholson.orrg</td>\n",
       "      <td>ameliap@nicholson.org</td>\n",
       "      <td>1</td>\n",
       "      <td>252.763068</td>\n",
       "      <td>0</td>\n",
       "    </tr>\n",
       "    <tr>\n",
       "      <th>4</th>\n",
       "      <td>8.192765</td>\n",
       "      <td>0.996594</td>\n",
       "      <td>35</td>\n",
       "      <td>416</td>\n",
       "      <td>NaN</td>\n",
       "      <td>NaN</td>\n",
       "      <td>3</td>\n",
       "      <td>11.44555</td>\n",
       "      <td>Bron</td>\n",
       "      <td>Brown</td>\n",
       "      <td>...</td>\n",
       "      <td>0</td>\n",
       "      <td>0.009</td>\n",
       "      <td>0.187</td>\n",
       "      <td>0.624788</td>\n",
       "      <td>1.000000</td>\n",
       "      <td>NaN</td>\n",
       "      <td>NaN</td>\n",
       "      <td>3</td>\n",
       "      <td>8.472959</td>\n",
       "      <td>0</td>\n",
       "    </tr>\n",
       "  </tbody>\n",
       "</table>\n",
       "<p>5 rows × 28 columns</p>\n",
       "</div>"
      ],
      "text/plain": [
       "   match_weight  match_probability  unique_id_l  unique_id_r first_name_l  \\\n",
       "0     16.439400           0.999989          533          536      Freddie   \n",
       "1     10.030650           0.999045          838          841    Charlotte   \n",
       "2      7.476405           0.994416          365          369       Samuel   \n",
       "3     25.105978           1.000000          606          608       Amelia   \n",
       "4      8.192765           0.996594           35          416          NaN   \n",
       "\n",
       "  first_name_r  gamma_first_name  bf_first_name surname_l surname_r  ...  \\\n",
       "0      Freddie                 3       11.44555   Gregory  Grerrogy  ...   \n",
       "1    Charlotte                 3       11.44555    Harper    Harper  ...   \n",
       "2       Samuel                 3       11.44555  Campbell  Campbell  ...   \n",
       "3       Amelia                 3       11.44555    Porter   Porrret  ...   \n",
       "4          NaN                 3       11.44555      Bron     Brown  ...   \n",
       "\n",
       "   gamma_city  tf_city_l tf_city_r   bf_city  bf_tf_adj_city  \\\n",
       "0           0      0.173     0.187  0.624788        1.000000   \n",
       "1           0      0.187     0.012  0.624788        1.000000   \n",
       "2           0      0.001     0.018  0.624788        1.000000   \n",
       "3           1      0.014     0.014  5.890233        5.089947   \n",
       "4           0      0.009     0.187  0.624788        1.000000   \n",
       "\n",
       "                        email_l                       email_r gamma_email  \\\n",
       "0  freddiegregory71@jensen.info  freddiegregory71@jensen.info           3   \n",
       "1           charpe@r@milleb.riz            charper@miller.biz           1   \n",
       "2   samuelcampbell35@hebert.com   samuelcampbell35@hebert.com           3   \n",
       "3        ameiiap@nlcholson.orrg         ameliap@nicholson.org           1   \n",
       "4                           NaN                           NaN           3   \n",
       "\n",
       "     bf_email  match_key  \n",
       "0    8.472959          0  \n",
       "1  252.763068          0  \n",
       "2    8.472959          0  \n",
       "3  252.763068          0  \n",
       "4    8.472959          0  \n",
       "\n",
       "[5 rows x 28 columns]"
      ]
     },
     "execution_count": 10,
     "metadata": {},
     "output_type": "execute_result"
    }
   ],
   "source": [
    "results.as_pandas_dataframe(limit=5)"
   ]
  }
 ],
 "metadata": {
  "kernelspec": {
   "display_name": "Python 3 (ipykernel)",
   "language": "python",
   "name": "python3"
  },
  "language_info": {
   "codemirror_mode": {
    "name": "ipython",
    "version": 3
   },
   "file_extension": ".py",
   "mimetype": "text/x-python",
   "name": "python",
   "nbconvert_exporter": "python",
   "pygments_lexer": "ipython3",
   "version": "3.10.8"
  }
 },
 "nbformat": 4,
 "nbformat_minor": 4
}
