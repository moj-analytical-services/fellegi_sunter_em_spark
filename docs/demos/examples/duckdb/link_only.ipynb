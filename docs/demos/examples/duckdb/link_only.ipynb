{
 "cells": [
  {
   "attachments": {},
   "cell_type": "markdown",
   "metadata": {},
   "source": [
    "## Linking without deduplication\n",
    "\n",
    "A simple record linkage model using the `link_only` [link type](https://moj-analytical-services.github.io/splink/settings_dict_guide.html#link_type).\n",
    "\n",
    "With `link_only`, only between-dataset record comparisons are generated. No within-dataset record comparisons are created, meaning that the model does not attempt to find within-dataset duplicates.\n"
   ]
  },
  {
   "cell_type": "markdown",
   "metadata": {},
   "source": [
    "<a target=\"_blank\" href=\"https://colab.research.google.com/github/moj-analytical-services/splink/blob/splink4_dev/docs/demos/examples/duckdb/link_only.ipynb\">\n",
    "  <img src=\"https://colab.research.google.com/assets/colab-badge.svg\" alt=\"Open In Colab\"/>\n",
    "</a>\n"
   ]
  },
  {
   "cell_type": "code",
   "execution_count": 1,
   "metadata": {
    "execution": {
     "iopub.execute_input": "2024-03-13T12:21:44.299307Z",
     "iopub.status.busy": "2024-03-13T12:21:44.298972Z",
     "iopub.status.idle": "2024-03-13T12:21:44.303913Z",
     "shell.execute_reply": "2024-03-13T12:21:44.303139Z"
    }
   },
   "outputs": [],
   "source": [
    "# Uncomment and run this cell if you're running in Google Colab.\n",
    "# !pip install git+https://github.com/moj-analytical-services/splink.git@splink4_dev"
   ]
  },
  {
   "cell_type": "code",
   "execution_count": 2,
   "metadata": {
    "execution": {
     "iopub.execute_input": "2024-03-13T12:21:44.308093Z",
     "iopub.status.busy": "2024-03-13T12:21:44.307777Z",
     "iopub.status.idle": "2024-03-13T12:21:46.781238Z",
     "shell.execute_reply": "2024-03-13T12:21:46.780112Z"
    }
   },
   "outputs": [
    {
     "data": {
      "text/html": [
       "<div>\n",
       "<style scoped>\n",
       "    .dataframe tbody tr th:only-of-type {\n",
       "        vertical-align: middle;\n",
       "    }\n",
       "\n",
       "    .dataframe tbody tr th {\n",
       "        vertical-align: top;\n",
       "    }\n",
       "\n",
       "    .dataframe thead th {\n",
       "        text-align: right;\n",
       "    }\n",
       "</style>\n",
       "<table border=\"1\" class=\"dataframe\">\n",
       "  <thead>\n",
       "    <tr style=\"text-align: right;\">\n",
       "      <th></th>\n",
       "      <th>unique_id</th>\n",
       "      <th>first_name</th>\n",
       "      <th>surname</th>\n",
       "      <th>dob</th>\n",
       "      <th>city</th>\n",
       "      <th>email</th>\n",
       "      <th>cluster</th>\n",
       "    </tr>\n",
       "  </thead>\n",
       "  <tbody>\n",
       "    <tr>\n",
       "      <th>413</th>\n",
       "      <td>413</td>\n",
       "      <td>NaN</td>\n",
       "      <td>Owen</td>\n",
       "      <td>1973-01-16</td>\n",
       "      <td>London</td>\n",
       "      <td>opoppy.owen71@diaz.co</td>\n",
       "      <td>107</td>\n",
       "    </tr>\n",
       "    <tr>\n",
       "      <th>571</th>\n",
       "      <td>571</td>\n",
       "      <td>NaN</td>\n",
       "      <td>Turner</td>\n",
       "      <td>1997-04-24</td>\n",
       "      <td>Glasgow</td>\n",
       "      <td>NaN</td>\n",
       "      <td>140</td>\n",
       "    </tr>\n",
       "  </tbody>\n",
       "</table>\n",
       "</div>"
      ],
      "text/plain": [
       "     unique_id first_name surname         dob     city                  email  \\\n",
       "413        413        NaN    Owen  1973-01-16   London  opoppy.owen71@diaz.co   \n",
       "571        571        NaN  Turner  1997-04-24  Glasgow                    NaN   \n",
       "\n",
       "     cluster  \n",
       "413      107  \n",
       "571      140  "
      ]
     },
     "execution_count": 2,
     "metadata": {},
     "output_type": "execute_result"
    }
   ],
   "source": [
    "from splink import splink_datasets\n",
    "\n",
    "df = splink_datasets.fake_1000\n",
    "\n",
    "# Split a simple dataset into two, separate datasets which can be linked together.\n",
    "df_l = df.sample(frac=0.5)\n",
    "df_r = df.drop(df_l.index)\n",
    "\n",
    "df_l.head(2)"
   ]
  },
  {
   "cell_type": "code",
   "execution_count": 3,
   "metadata": {
    "execution": {
     "iopub.execute_input": "2024-03-13T12:21:46.830203Z",
     "iopub.status.busy": "2024-03-13T12:21:46.829747Z",
     "iopub.status.idle": "2024-03-13T12:21:47.129910Z",
     "shell.execute_reply": "2024-03-13T12:21:47.128866Z"
    }
   },
   "outputs": [],
   "source": [
    "from splink import Linker, DuckDBAPI, block_on, SettingsCreator\n",
    "import splink.comparison_library as cl\n",
    "import splink.comparison_template_library as ctl\n",
    "\n",
    "settings = SettingsCreator(\n",
    "    link_type=\"link_only\",\n",
    "    blocking_rules_to_generate_predictions=[\n",
    "        block_on(\"first_name\"),\n",
    "        block_on(\"surname\"),\n",
    "    ],\n",
    "    comparisons=[\n",
    "        ctl.NameComparison(\n",
    "            \"first_name\",\n",
    "        ),\n",
    "        ctl.NameComparison(\"surname\"),\n",
    "        ctl.DateComparison(\n",
    "            \"dob\",\n",
    "            input_is_string=True,\n",
    "            invalid_dates_as_null=True,\n",
    "            datetime_metrics=[\"month\", \"year\", \"year\"],\n",
    "            datetime_thresholds=[1, 1, 10],\n",
    "        ),\n",
    "        cl.ExactMatch(\"city\").configure(term_frequency_adjustments=True),\n",
    "        ctl.EmailComparison(\"email\", include_username_fuzzy_level=False),\n",
    "    ],\n",
    ")\n",
    "\n",
    "linker = Linker(\n",
    "    [df_l, df_r],\n",
    "    settings,\n",
    "    database_api=DuckDBAPI(),\n",
    "    input_table_aliases=[\"df_left\", \"df_right\"],\n",
    ")"
   ]
  },
  {
   "cell_type": "code",
   "execution_count": 4,
   "metadata": {
    "execution": {
     "iopub.execute_input": "2024-03-13T12:21:47.133585Z",
     "iopub.status.busy": "2024-03-13T12:21:47.133307Z",
     "iopub.status.idle": "2024-03-13T12:21:47.733155Z",
     "shell.execute_reply": "2024-03-13T12:21:47.732500Z"
    }
   },
   "outputs": [
    {
     "data": {
      "text/html": [
       "\n",
       "<style>\n",
       "  #altair-viz-a054e0d4eb474985af0242bdce30861d.vega-embed {\n",
       "    width: 100%;\n",
       "    display: flex;\n",
       "  }\n",
       "\n",
       "  #altair-viz-a054e0d4eb474985af0242bdce30861d.vega-embed details,\n",
       "  #altair-viz-a054e0d4eb474985af0242bdce30861d.vega-embed details summary {\n",
       "    position: relative;\n",
       "  }\n",
       "</style>\n",
       "<div id=\"altair-viz-a054e0d4eb474985af0242bdce30861d\"></div>\n",
       "<script type=\"text/javascript\">\n",
       "  var VEGA_DEBUG = (typeof VEGA_DEBUG == \"undefined\") ? {} : VEGA_DEBUG;\n",
       "  (function(spec, embedOpt){\n",
       "    let outputDiv = document.currentScript.previousElementSibling;\n",
       "    if (outputDiv.id !== \"altair-viz-a054e0d4eb474985af0242bdce30861d\") {\n",
       "      outputDiv = document.getElementById(\"altair-viz-a054e0d4eb474985af0242bdce30861d\");\n",
       "    }\n",
       "    const paths = {\n",
       "      \"vega\": \"https://cdn.jsdelivr.net/npm/vega@5?noext\",\n",
       "      \"vega-lib\": \"https://cdn.jsdelivr.net/npm/vega-lib?noext\",\n",
       "      \"vega-lite\": \"https://cdn.jsdelivr.net/npm/vega-lite@5.16.3?noext\",\n",
       "      \"vega-embed\": \"https://cdn.jsdelivr.net/npm/vega-embed@6?noext\",\n",
       "    };\n",
       "\n",
       "    function maybeLoadScript(lib, version) {\n",
       "      var key = `${lib.replace(\"-\", \"\")}_version`;\n",
       "      return (VEGA_DEBUG[key] == version) ?\n",
       "        Promise.resolve(paths[lib]) :\n",
       "        new Promise(function(resolve, reject) {\n",
       "          var s = document.createElement('script');\n",
       "          document.getElementsByTagName(\"head\")[0].appendChild(s);\n",
       "          s.async = true;\n",
       "          s.onload = () => {\n",
       "            VEGA_DEBUG[key] = version;\n",
       "            return resolve(paths[lib]);\n",
       "          };\n",
       "          s.onerror = () => reject(`Error loading script: ${paths[lib]}`);\n",
       "          s.src = paths[lib];\n",
       "        });\n",
       "    }\n",
       "\n",
       "    function showError(err) {\n",
       "      outputDiv.innerHTML = `<div class=\"error\" style=\"color:red;\">${err}</div>`;\n",
       "      throw err;\n",
       "    }\n",
       "\n",
       "    function displayChart(vegaEmbed) {\n",
       "      vegaEmbed(outputDiv, spec, embedOpt)\n",
       "        .catch(err => showError(`Javascript Error: ${err.message}<br>This usually means there's a typo in your chart specification. See the javascript console for the full traceback.`));\n",
       "    }\n",
       "\n",
       "    if(typeof define === \"function\" && define.amd) {\n",
       "      requirejs.config({paths});\n",
       "      require([\"vega-embed\"], displayChart, err => showError(`Error loading script: ${err.message}`));\n",
       "    } else {\n",
       "      maybeLoadScript(\"vega\", \"5\")\n",
       "        .then(() => maybeLoadScript(\"vega-lite\", \"5.16.3\"))\n",
       "        .then(() => maybeLoadScript(\"vega-embed\", \"6\"))\n",
       "        .catch(showError)\n",
       "        .then(() => displayChart(vegaEmbed));\n",
       "    }\n",
       "  })({\"config\": {\"view\": {\"continuousWidth\": 400, \"continuousHeight\": 300}}, \"layer\": [{\"mark\": \"rect\", \"encoding\": {\"color\": {\"field\": \"completeness\", \"legend\": null, \"scale\": {\"scheme\": \"darkred\", \"zero\": true}, \"type\": \"quantitative\"}, \"tooltip\": [{\"field\": \"source_dataset\", \"title\": \"Source dataset\", \"type\": \"nominal\"}, {\"field\": \"total_rows_inc_nulls\", \"format\": \",\", \"title\": \"# of records\", \"type\": \"quantitative\"}, {\"field\": \"column_name\", \"title\": \"Column name\", \"type\": \"nominal\"}, {\"field\": \"total_null_rows\", \"format\": \",\", \"title\": \"# of nulls\", \"type\": \"quantitative\"}, {\"field\": \"completeness\", \"format\": \".1%\", \"type\": \"quantitative\"}], \"x\": {\"axis\": {\"labelAngle\": 20}, \"field\": \"column_name\", \"sort\": {\"field\": \"mean_comp\", \"order\": \"descending\"}, \"title\": \"Column name\", \"type\": \"nominal\"}, \"y\": {\"field\": \"source_dataset\", \"title\": \"Source dataset\", \"type\": \"nominal\"}}, \"title\": \"Column completeness by source dataset\", \"transform\": [{\"joinaggregate\": [{\"op\": \"mean\", \"field\": \"completeness\", \"as\": \"mean_comp\"}], \"groupby\": [\"column_name\"]}]}, {\"mark\": {\"type\": \"text\"}, \"encoding\": {\"color\": {\"condition\": {\"test\": \"datum['completeness'] < 0.5\", \"value\": \"white\"}, \"value\": \"black\"}, \"text\": {\"field\": \"completeness\", \"format\": \".0%\", \"type\": \"quantitative\"}, \"x\": {\"axis\": {\"labelAngle\": 0}, \"field\": \"column_name\", \"sort\": {\"field\": \"mean_comp\", \"order\": \"descending\"}, \"type\": \"nominal\"}, \"y\": {\"field\": \"source_dataset\", \"type\": \"nominal\"}}, \"transform\": [{\"joinaggregate\": [{\"op\": \"mean\", \"field\": \"completeness\", \"as\": \"mean_comp\"}], \"groupby\": [\"column_name\"]}]}], \"data\": {\"name\": \"data-4e91c83854a7ed01c0226ceb43559fee\"}, \"height\": {\"step\": 40}, \"width\": {\"step\": 40}, \"$schema\": \"https://vega.github.io/schema/vega-lite/v5.9.3.json\", \"datasets\": {\"data-4e91c83854a7ed01c0226ceb43559fee\": [{\"source_dataset\": \"df_right\", \"column_name\": \"first_name\", \"total_null_rows\": 76, \"total_rows_inc_nulls\": 500, \"completeness\": 0.8479999899864197}, {\"source_dataset\": \"df_left\", \"column_name\": \"first_name\", \"total_null_rows\": 93, \"total_rows_inc_nulls\": 500, \"completeness\": 0.8140000104904175}, {\"source_dataset\": \"df_left\", \"column_name\": \"surname\", \"total_null_rows\": 83, \"total_rows_inc_nulls\": 500, \"completeness\": 0.8339999914169312}, {\"source_dataset\": \"df_right\", \"column_name\": \"surname\", \"total_null_rows\": 98, \"total_rows_inc_nulls\": 500, \"completeness\": 0.8040000200271606}, {\"source_dataset\": \"df_left\", \"column_name\": \"dob\", \"total_null_rows\": 0, \"total_rows_inc_nulls\": 500, \"completeness\": 1.0}, {\"source_dataset\": \"df_right\", \"column_name\": \"dob\", \"total_null_rows\": 0, \"total_rows_inc_nulls\": 500, \"completeness\": 1.0}, {\"source_dataset\": \"df_left\", \"column_name\": \"city\", \"total_null_rows\": 97, \"total_rows_inc_nulls\": 500, \"completeness\": 0.8059999942779541}, {\"source_dataset\": \"df_right\", \"column_name\": \"city\", \"total_null_rows\": 90, \"total_rows_inc_nulls\": 500, \"completeness\": 0.8199999928474426}, {\"source_dataset\": \"df_right\", \"column_name\": \"email\", \"total_null_rows\": 104, \"total_rows_inc_nulls\": 500, \"completeness\": 0.7919999957084656}, {\"source_dataset\": \"df_left\", \"column_name\": \"email\", \"total_null_rows\": 107, \"total_rows_inc_nulls\": 500, \"completeness\": 0.7860000133514404}]}}, {\"mode\": \"vega-lite\"});\n",
       "</script>"
      ],
      "text/plain": [
       "alt.LayerChart(...)"
      ]
     },
     "execution_count": 4,
     "metadata": {},
     "output_type": "execute_result"
    }
   ],
   "source": [
    "linker.completeness_chart(cols=[\"first_name\", \"surname\", \"dob\", \"city\", \"email\"])"
   ]
  },
  {
   "cell_type": "code",
   "execution_count": 5,
   "metadata": {
    "execution": {
     "iopub.execute_input": "2024-03-13T12:21:47.736543Z",
     "iopub.status.busy": "2024-03-13T12:21:47.736270Z",
     "iopub.status.idle": "2024-03-13T12:21:47.881498Z",
     "shell.execute_reply": "2024-03-13T12:21:47.880797Z"
    }
   },
   "outputs": [
    {
     "name": "stderr",
     "output_type": "stream",
     "text": [
      "Probability two random records match is estimated to be  0.00346.\n",
      "This means that amongst all possible pairwise record comparisons, one in 289.26 are expected to match.  With 250,000 total possible comparisons, we expect a total of around 864.29 matching pairs\n"
     ]
    }
   ],
   "source": [
    "from splink.blocking_rule_library import BlockingRuleCreator\n",
    "\n",
    "deterministic_rules = [\n",
    "    \"l.first_name = r.first_name and levenshtein(r.dob, l.dob) <= 1\",\n",
    "    \"l.surname = r.surname and levenshtein(r.dob, l.dob) <= 1\",\n",
    "    \"l.first_name = r.first_name and levenshtein(r.surname, l.surname) <= 2\",\n",
    "    block_on(\"email\"),\n",
    "]\n",
    "\n",
    "# TODO: estimate_probability_two_random_records_match should accept\n",
    "# BlockingRuleCreator objects\n",
    "deterministic_rules = [\n",
    "    br.get_blocking_rule(\"duckdb\") if isinstance(br, BlockingRuleCreator) else br\n",
    "    for br in deterministic_rules\n",
    "]\n",
    "\n",
    "linker.estimate_probability_two_random_records_match(deterministic_rules, recall=0.7)"
   ]
  },
  {
   "cell_type": "code",
   "execution_count": 6,
   "metadata": {
    "execution": {
     "iopub.execute_input": "2024-03-13T12:21:47.885287Z",
     "iopub.status.busy": "2024-03-13T12:21:47.885000Z",
     "iopub.status.idle": "2024-03-13T12:21:48.621147Z",
     "shell.execute_reply": "2024-03-13T12:21:48.620422Z"
    }
   },
   "outputs": [
    {
     "name": "stderr",
     "output_type": "stream",
     "text": [
      "----- Estimating u probabilities using random sampling -----\n"
     ]
    },
    {
     "name": "stderr",
     "output_type": "stream",
     "text": [
      "\n",
      "Estimated u probabilities using random sampling\n"
     ]
    },
    {
     "name": "stderr",
     "output_type": "stream",
     "text": [
      "\n",
      "Your model is not yet fully trained. Missing estimates for:\n",
      "    - first_name (no m values are trained).\n",
      "    - surname (no m values are trained).\n",
      "    - dob (no m values are trained).\n",
      "    - city (no m values are trained).\n",
      "    - email (no m values are trained).\n"
     ]
    }
   ],
   "source": [
    "linker.estimate_u_using_random_sampling(max_pairs=1e6, seed=1)"
   ]
  },
  {
   "cell_type": "code",
   "execution_count": 7,
   "metadata": {
    "execution": {
     "iopub.execute_input": "2024-03-13T12:21:48.624572Z",
     "iopub.status.busy": "2024-03-13T12:21:48.624285Z",
     "iopub.status.idle": "2024-03-13T12:21:50.623287Z",
     "shell.execute_reply": "2024-03-13T12:21:50.622438Z"
    }
   },
   "outputs": [
    {
     "name": "stderr",
     "output_type": "stream",
     "text": [
      "\n",
      "----- Starting EM training session -----\n",
      "\n"
     ]
    },
    {
     "name": "stderr",
     "output_type": "stream",
     "text": [
      "Estimating the m probabilities of the model by blocking on:\n",
      "l.\"dob\" = r.\"dob\"\n",
      "\n",
      "Parameter estimates will be made for the following comparison(s):\n",
      "    - first_name\n",
      "    - surname\n",
      "    - city\n",
      "    - email\n",
      "\n",
      "Parameter estimates cannot be made for the following comparison(s) since they are used in the blocking rules: \n",
      "    - dob\n"
     ]
    },
    {
     "name": "stderr",
     "output_type": "stream",
     "text": [
      "\n"
     ]
    },
    {
     "name": "stderr",
     "output_type": "stream",
     "text": [
      "Iteration 1: Largest change in params was -0.438 in the m_probability of surname, level `Exact match on surname`\n"
     ]
    },
    {
     "name": "stderr",
     "output_type": "stream",
     "text": [
      "Iteration 2: Largest change in params was 0.112 in probability_two_random_records_match\n"
     ]
    },
    {
     "name": "stderr",
     "output_type": "stream",
     "text": [
      "Iteration 3: Largest change in params was 0.0307 in probability_two_random_records_match\n"
     ]
    },
    {
     "name": "stderr",
     "output_type": "stream",
     "text": [
      "Iteration 4: Largest change in params was 0.0117 in probability_two_random_records_match\n"
     ]
    },
    {
     "name": "stderr",
     "output_type": "stream",
     "text": [
      "Iteration 5: Largest change in params was 0.00543 in probability_two_random_records_match\n"
     ]
    },
    {
     "name": "stderr",
     "output_type": "stream",
     "text": [
      "Iteration 6: Largest change in params was 0.00288 in probability_two_random_records_match\n"
     ]
    },
    {
     "name": "stderr",
     "output_type": "stream",
     "text": [
      "Iteration 7: Largest change in params was 0.00197 in the m_probability of first_name, level `All other comparisons`\n"
     ]
    },
    {
     "name": "stderr",
     "output_type": "stream",
     "text": [
      "Iteration 8: Largest change in params was 0.00166 in the m_probability of first_name, level `All other comparisons`\n"
     ]
    },
    {
     "name": "stderr",
     "output_type": "stream",
     "text": [
      "Iteration 9: Largest change in params was 0.0012 in the m_probability of first_name, level `All other comparisons`\n"
     ]
    },
    {
     "name": "stderr",
     "output_type": "stream",
     "text": [
      "Iteration 10: Largest change in params was 0.000755 in probability_two_random_records_match\n"
     ]
    },
    {
     "name": "stderr",
     "output_type": "stream",
     "text": [
      "Iteration 11: Largest change in params was 0.000457 in probability_two_random_records_match\n"
     ]
    },
    {
     "name": "stderr",
     "output_type": "stream",
     "text": [
      "Iteration 12: Largest change in params was 0.000271 in probability_two_random_records_match\n"
     ]
    },
    {
     "name": "stderr",
     "output_type": "stream",
     "text": [
      "Iteration 13: Largest change in params was 0.00016 in probability_two_random_records_match\n"
     ]
    },
    {
     "name": "stderr",
     "output_type": "stream",
     "text": [
      "Iteration 14: Largest change in params was 9.39e-05 in probability_two_random_records_match\n"
     ]
    },
    {
     "name": "stderr",
     "output_type": "stream",
     "text": [
      "\n",
      "EM converged after 14 iterations\n"
     ]
    },
    {
     "name": "stderr",
     "output_type": "stream",
     "text": [
      "\n",
      "Your model is not yet fully trained. Missing estimates for:\n",
      "    - dob (no m values are trained).\n"
     ]
    },
    {
     "name": "stderr",
     "output_type": "stream",
     "text": [
      "\n",
      "----- Starting EM training session -----\n",
      "\n"
     ]
    },
    {
     "name": "stderr",
     "output_type": "stream",
     "text": [
      "Estimating the m probabilities of the model by blocking on:\n",
      "l.\"email\" = r.\"email\"\n",
      "\n",
      "Parameter estimates will be made for the following comparison(s):\n",
      "    - first_name\n",
      "    - surname\n",
      "    - dob\n",
      "    - city\n",
      "\n",
      "Parameter estimates cannot be made for the following comparison(s) since they are used in the blocking rules: \n",
      "    - email\n"
     ]
    },
    {
     "name": "stderr",
     "output_type": "stream",
     "text": [
      "\n"
     ]
    },
    {
     "name": "stderr",
     "output_type": "stream",
     "text": [
      "Iteration 1: Largest change in params was -0.47 in the m_probability of dob, level `Exact match on dob`\n"
     ]
    },
    {
     "name": "stderr",
     "output_type": "stream",
     "text": [
      "Iteration 2: Largest change in params was 0.105 in probability_two_random_records_match\n"
     ]
    },
    {
     "name": "stderr",
     "output_type": "stream",
     "text": [
      "Iteration 3: Largest change in params was 0.023 in probability_two_random_records_match\n"
     ]
    },
    {
     "name": "stderr",
     "output_type": "stream",
     "text": [
      "Iteration 4: Largest change in params was 0.0069 in probability_two_random_records_match\n"
     ]
    },
    {
     "name": "stderr",
     "output_type": "stream",
     "text": [
      "Iteration 5: Largest change in params was 0.00242 in probability_two_random_records_match\n"
     ]
    },
    {
     "name": "stderr",
     "output_type": "stream",
     "text": [
      "Iteration 6: Largest change in params was 0.000974 in probability_two_random_records_match\n"
     ]
    },
    {
     "name": "stderr",
     "output_type": "stream",
     "text": [
      "Iteration 7: Largest change in params was 0.000442 in probability_two_random_records_match\n"
     ]
    },
    {
     "name": "stderr",
     "output_type": "stream",
     "text": [
      "Iteration 8: Largest change in params was 0.000216 in probability_two_random_records_match\n"
     ]
    },
    {
     "name": "stderr",
     "output_type": "stream",
     "text": [
      "Iteration 9: Largest change in params was 0.000111 in probability_two_random_records_match\n"
     ]
    },
    {
     "name": "stderr",
     "output_type": "stream",
     "text": [
      "Iteration 10: Largest change in params was 5.83e-05 in probability_two_random_records_match\n"
     ]
    },
    {
     "name": "stderr",
     "output_type": "stream",
     "text": [
      "\n",
      "EM converged after 10 iterations\n"
     ]
    },
    {
     "name": "stderr",
     "output_type": "stream",
     "text": [
      "\n",
      "Your model is fully trained. All comparisons have at least one estimate for their m and u values\n"
     ]
    },
    {
     "name": "stderr",
     "output_type": "stream",
     "text": [
      "\n",
      "----- Starting EM training session -----\n",
      "\n"
     ]
    },
    {
     "name": "stderr",
     "output_type": "stream",
     "text": [
      "Estimating the m probabilities of the model by blocking on:\n",
      "l.\"first_name\" = r.\"first_name\"\n",
      "\n",
      "Parameter estimates will be made for the following comparison(s):\n",
      "    - surname\n",
      "    - dob\n",
      "    - city\n",
      "    - email\n",
      "\n",
      "Parameter estimates cannot be made for the following comparison(s) since they are used in the blocking rules: \n",
      "    - first_name\n"
     ]
    },
    {
     "name": "stderr",
     "output_type": "stream",
     "text": [
      "\n"
     ]
    },
    {
     "name": "stderr",
     "output_type": "stream",
     "text": [
      "Iteration 1: Largest change in params was 0.187 in the m_probability of surname, level `Exact match on surname`\n"
     ]
    },
    {
     "name": "stderr",
     "output_type": "stream",
     "text": [
      "Iteration 2: Largest change in params was -0.0071 in the m_probability of surname, level `All other comparisons`\n"
     ]
    },
    {
     "name": "stderr",
     "output_type": "stream",
     "text": [
      "Iteration 3: Largest change in params was 0.000987 in the m_probability of email, level `All other comparisons`\n"
     ]
    },
    {
     "name": "stderr",
     "output_type": "stream",
     "text": [
      "Iteration 4: Largest change in params was 0.000257 in the m_probability of email, level `All other comparisons`\n"
     ]
    },
    {
     "name": "stderr",
     "output_type": "stream",
     "text": [
      "Iteration 5: Largest change in params was 6.56e-05 in the m_probability of email, level `All other comparisons`\n"
     ]
    },
    {
     "name": "stderr",
     "output_type": "stream",
     "text": [
      "\n",
      "EM converged after 5 iterations\n"
     ]
    },
    {
     "name": "stderr",
     "output_type": "stream",
     "text": [
      "\n",
      "Your model is fully trained. All comparisons have at least one estimate for their m and u values\n"
     ]
    }
   ],
   "source": [
    "session_dob = linker.estimate_parameters_using_expectation_maximisation(block_on(\"dob\"))\n",
    "session_email = linker.estimate_parameters_using_expectation_maximisation(\n",
    "    block_on(\"email\")\n",
    ")\n",
    "session_first_name = linker.estimate_parameters_using_expectation_maximisation(\n",
    "    block_on(\"first_name\")\n",
    ")"
   ]
  },
  {
   "cell_type": "code",
   "execution_count": 8,
   "metadata": {
    "execution": {
     "iopub.execute_input": "2024-03-13T12:21:50.627213Z",
     "iopub.status.busy": "2024-03-13T12:21:50.626918Z",
     "iopub.status.idle": "2024-03-13T12:21:50.994929Z",
     "shell.execute_reply": "2024-03-13T12:21:50.994183Z"
    }
   },
   "outputs": [],
   "source": [
    "results = linker.predict(threshold_match_probability=0.9)"
   ]
  },
  {
   "cell_type": "code",
   "execution_count": 9,
   "metadata": {
    "execution": {
     "iopub.execute_input": "2024-03-13T12:21:50.999699Z",
     "iopub.status.busy": "2024-03-13T12:21:50.999120Z",
     "iopub.status.idle": "2024-03-13T12:21:51.024142Z",
     "shell.execute_reply": "2024-03-13T12:21:51.023016Z"
    }
   },
   "outputs": [
    {
     "data": {
      "text/html": [
       "<div>\n",
       "<style scoped>\n",
       "    .dataframe tbody tr th:only-of-type {\n",
       "        vertical-align: middle;\n",
       "    }\n",
       "\n",
       "    .dataframe tbody tr th {\n",
       "        vertical-align: top;\n",
       "    }\n",
       "\n",
       "    .dataframe thead th {\n",
       "        text-align: right;\n",
       "    }\n",
       "</style>\n",
       "<table border=\"1\" class=\"dataframe\">\n",
       "  <thead>\n",
       "    <tr style=\"text-align: right;\">\n",
       "      <th></th>\n",
       "      <th>match_weight</th>\n",
       "      <th>match_probability</th>\n",
       "      <th>source_dataset_l</th>\n",
       "      <th>source_dataset_r</th>\n",
       "      <th>unique_id_l</th>\n",
       "      <th>unique_id_r</th>\n",
       "      <th>first_name_l</th>\n",
       "      <th>first_name_r</th>\n",
       "      <th>gamma_first_name</th>\n",
       "      <th>surname_l</th>\n",
       "      <th>...</th>\n",
       "      <th>dob_l</th>\n",
       "      <th>dob_r</th>\n",
       "      <th>gamma_dob</th>\n",
       "      <th>city_l</th>\n",
       "      <th>city_r</th>\n",
       "      <th>gamma_city</th>\n",
       "      <th>email_l</th>\n",
       "      <th>email_r</th>\n",
       "      <th>gamma_email</th>\n",
       "      <th>match_key</th>\n",
       "    </tr>\n",
       "  </thead>\n",
       "  <tbody>\n",
       "    <tr>\n",
       "      <th>0</th>\n",
       "      <td>3.208019</td>\n",
       "      <td>0.902351</td>\n",
       "      <td>df_left</td>\n",
       "      <td>df_right</td>\n",
       "      <td>790</td>\n",
       "      <td>791</td>\n",
       "      <td>Jackson</td>\n",
       "      <td>Jackson</td>\n",
       "      <td>3</td>\n",
       "      <td>Fisreh</td>\n",
       "      <td>...</td>\n",
       "      <td>2004-12-26</td>\n",
       "      <td>2003-12-28</td>\n",
       "      <td>2</td>\n",
       "      <td>Lodon</td>\n",
       "      <td>Londonn</td>\n",
       "      <td>0</td>\n",
       "      <td>j.fisher4@sullivan.com</td>\n",
       "      <td>None</td>\n",
       "      <td>-1</td>\n",
       "      <td>0</td>\n",
       "    </tr>\n",
       "    <tr>\n",
       "      <th>1</th>\n",
       "      <td>3.229125</td>\n",
       "      <td>0.903633</td>\n",
       "      <td>df_left</td>\n",
       "      <td>df_right</td>\n",
       "      <td>541</td>\n",
       "      <td>542</td>\n",
       "      <td>Harry</td>\n",
       "      <td>Harry</td>\n",
       "      <td>3</td>\n",
       "      <td>None</td>\n",
       "      <td>...</td>\n",
       "      <td>2019-03-16</td>\n",
       "      <td>2019-04-15</td>\n",
       "      <td>3</td>\n",
       "      <td>York</td>\n",
       "      <td>None</td>\n",
       "      <td>-1</td>\n",
       "      <td>None</td>\n",
       "      <td>harryandrews@woods.bz</td>\n",
       "      <td>-1</td>\n",
       "      <td>0</td>\n",
       "    </tr>\n",
       "    <tr>\n",
       "      <th>2</th>\n",
       "      <td>3.229125</td>\n",
       "      <td>0.903633</td>\n",
       "      <td>df_left</td>\n",
       "      <td>df_right</td>\n",
       "      <td>525</td>\n",
       "      <td>526</td>\n",
       "      <td>George</td>\n",
       "      <td>George</td>\n",
       "      <td>3</td>\n",
       "      <td>None</td>\n",
       "      <td>...</td>\n",
       "      <td>1980-06-29</td>\n",
       "      <td>1980-06-30</td>\n",
       "      <td>3</td>\n",
       "      <td>None</td>\n",
       "      <td>Lndon</td>\n",
       "      <td>-1</td>\n",
       "      <td>None</td>\n",
       "      <td>go94@brndshaw-saaders.com</td>\n",
       "      <td>-1</td>\n",
       "      <td>0</td>\n",
       "    </tr>\n",
       "    <tr>\n",
       "      <th>3</th>\n",
       "      <td>3.285750</td>\n",
       "      <td>0.906997</td>\n",
       "      <td>df_left</td>\n",
       "      <td>df_right</td>\n",
       "      <td>324</td>\n",
       "      <td>325</td>\n",
       "      <td>Kai</td>\n",
       "      <td>Kai</td>\n",
       "      <td>3</td>\n",
       "      <td>None</td>\n",
       "      <td>...</td>\n",
       "      <td>2018-12-31</td>\n",
       "      <td>2008-12-03</td>\n",
       "      <td>0</td>\n",
       "      <td>London</td>\n",
       "      <td>London</td>\n",
       "      <td>1</td>\n",
       "      <td>k.t50eherand@z.ncom</td>\n",
       "      <td>k.t50@hernandez.com</td>\n",
       "      <td>1</td>\n",
       "      <td>0</td>\n",
       "    </tr>\n",
       "    <tr>\n",
       "      <th>4</th>\n",
       "      <td>3.449200</td>\n",
       "      <td>0.916123</td>\n",
       "      <td>df_left</td>\n",
       "      <td>df_right</td>\n",
       "      <td>426</td>\n",
       "      <td>425</td>\n",
       "      <td>None</td>\n",
       "      <td>Alfie</td>\n",
       "      <td>-1</td>\n",
       "      <td>Roberts</td>\n",
       "      <td>...</td>\n",
       "      <td>2005-02-08</td>\n",
       "      <td>1995-01-10</td>\n",
       "      <td>0</td>\n",
       "      <td>London</td>\n",
       "      <td>London</td>\n",
       "      <td>1</td>\n",
       "      <td>ar20@miller-tores.org</td>\n",
       "      <td>ar20@miller-torres.org</td>\n",
       "      <td>2</td>\n",
       "      <td>1</td>\n",
       "    </tr>\n",
       "  </tbody>\n",
       "</table>\n",
       "<p>5 rows × 22 columns</p>\n",
       "</div>"
      ],
      "text/plain": [
       "   match_weight  match_probability source_dataset_l source_dataset_r  \\\n",
       "0      3.208019           0.902351          df_left         df_right   \n",
       "1      3.229125           0.903633          df_left         df_right   \n",
       "2      3.229125           0.903633          df_left         df_right   \n",
       "3      3.285750           0.906997          df_left         df_right   \n",
       "4      3.449200           0.916123          df_left         df_right   \n",
       "\n",
       "   unique_id_l  unique_id_r first_name_l first_name_r  gamma_first_name  \\\n",
       "0          790          791      Jackson      Jackson                 3   \n",
       "1          541          542        Harry        Harry                 3   \n",
       "2          525          526       George       George                 3   \n",
       "3          324          325          Kai          Kai                 3   \n",
       "4          426          425         None        Alfie                -1   \n",
       "\n",
       "  surname_l  ...       dob_l       dob_r gamma_dob  city_l   city_r  \\\n",
       "0    Fisreh  ...  2004-12-26  2003-12-28         2   Lodon  Londonn   \n",
       "1      None  ...  2019-03-16  2019-04-15         3    York     None   \n",
       "2      None  ...  1980-06-29  1980-06-30         3    None    Lndon   \n",
       "3      None  ...  2018-12-31  2008-12-03         0  London   London   \n",
       "4   Roberts  ...  2005-02-08  1995-01-10         0  London   London   \n",
       "\n",
       "  gamma_city                 email_l                    email_r gamma_email  \\\n",
       "0          0  j.fisher4@sullivan.com                       None          -1   \n",
       "1         -1                    None      harryandrews@woods.bz          -1   \n",
       "2         -1                    None  go94@brndshaw-saaders.com          -1   \n",
       "3          1     k.t50eherand@z.ncom        k.t50@hernandez.com           1   \n",
       "4          1   ar20@miller-tores.org     ar20@miller-torres.org           2   \n",
       "\n",
       "  match_key  \n",
       "0         0  \n",
       "1         0  \n",
       "2         0  \n",
       "3         0  \n",
       "4         1  \n",
       "\n",
       "[5 rows x 22 columns]"
      ]
     },
     "execution_count": 9,
     "metadata": {},
     "output_type": "execute_result"
    }
   ],
   "source": [
    "results.as_pandas_dataframe(limit=5)"
   ]
  }
 ],
 "metadata": {
  "kernelspec": {
   "display_name": "Python 3 (ipykernel)",
   "language": "python",
   "name": "python3"
  },
  "language_info": {
   "codemirror_mode": {
    "name": "ipython",
    "version": 3
   },
   "file_extension": ".py",
   "mimetype": "text/x-python",
   "name": "python",
   "nbconvert_exporter": "python",
   "pygments_lexer": "ipython3",
   "version": "3.10.8"
  }
 },
 "nbformat": 4,
 "nbformat_minor": 4
}
