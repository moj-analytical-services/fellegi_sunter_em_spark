{
 "cells": [
  {
   "attachments": {},
   "cell_type": "markdown",
   "metadata": {},
   "source": [
    "## Estimating m from a sample of pairwise labels\n",
    "\n",
    "In this example, we estimate the m probabilities of the model from a table containing pairwise record comparisons which we know are 'true' matches. For example, these may be the result of work by a clerical team who have manually labelled a sample of matches.\n",
    "\n",
    "The table must be in the following format:\n",
    "\n",
    "| source_dataset_l | unique_id_l | source_dataset_r | unique_id_r |\n",
    "| ---------------- | ----------- | ---------------- | ----------- |\n",
    "| df_1             | 1           | df_2             | 2           |\n",
    "| df_1             | 1           | df_2             | 3           |\n",
    "\n",
    "It is assumed that every record in the table represents a certain match.\n",
    "\n",
    "Note that the column names above are the defaults. They should correspond to the values you've set for [`unique_id_column_name`](https://moj-analytical-services.github.io/splink/settings_dict_guide.html#unique_id_column_name) and [`source_dataset_column_name`](https://moj-analytical-services.github.io/splink/settings_dict_guide.html#source_dataset_column_name), if you've chosen custom values.\n"
   ]
  },
  {
   "cell_type": "markdown",
   "metadata": {},
   "source": [
    "<a target=\"_blank\" href=\"https://colab.research.google.com/github/moj-analytical-services/splink/blob/splink4_dev/docs/demos/examples/duckdb/pairwise_labels.ipynb\">\n",
    "  <img src=\"https://colab.research.google.com/assets/colab-badge.svg\" alt=\"Open In Colab\"/>\n",
    "</a>\n"
   ]
  },
  {
   "cell_type": "code",
   "execution_count": 1,
   "metadata": {
    "execution": {
     "iopub.execute_input": "2024-03-13T12:22:21.496884Z",
     "iopub.status.busy": "2024-03-13T12:22:21.496566Z",
     "iopub.status.idle": "2024-03-13T12:22:21.501648Z",
     "shell.execute_reply": "2024-03-13T12:22:21.500998Z"
    }
   },
   "outputs": [],
   "source": [
    "# Uncomment and run this cell if you're running in Google Colab.\n",
    "# !pip install git+https://github.com/moj-analytical-services/splink.git@splink4_dev"
   ]
  },
  {
   "cell_type": "code",
   "execution_count": 2,
   "metadata": {
    "execution": {
     "iopub.execute_input": "2024-03-13T12:22:21.505574Z",
     "iopub.status.busy": "2024-03-13T12:22:21.505281Z",
     "iopub.status.idle": "2024-03-13T12:22:23.518721Z",
     "shell.execute_reply": "2024-03-13T12:22:23.517119Z"
    }
   },
   "outputs": [
    {
     "data": {
      "text/html": [
       "<div>\n",
       "<style scoped>\n",
       "    .dataframe tbody tr th:only-of-type {\n",
       "        vertical-align: middle;\n",
       "    }\n",
       "\n",
       "    .dataframe tbody tr th {\n",
       "        vertical-align: top;\n",
       "    }\n",
       "\n",
       "    .dataframe thead th {\n",
       "        text-align: right;\n",
       "    }\n",
       "</style>\n",
       "<table border=\"1\" class=\"dataframe\">\n",
       "  <thead>\n",
       "    <tr style=\"text-align: right;\">\n",
       "      <th></th>\n",
       "      <th>unique_id_l</th>\n",
       "      <th>source_dataset_l</th>\n",
       "      <th>unique_id_r</th>\n",
       "      <th>source_dataset_r</th>\n",
       "      <th>clerical_match_score</th>\n",
       "    </tr>\n",
       "  </thead>\n",
       "  <tbody>\n",
       "    <tr>\n",
       "      <th>0</th>\n",
       "      <td>0</td>\n",
       "      <td>fake_1000</td>\n",
       "      <td>1</td>\n",
       "      <td>fake_1000</td>\n",
       "      <td>1.0</td>\n",
       "    </tr>\n",
       "    <tr>\n",
       "      <th>1</th>\n",
       "      <td>0</td>\n",
       "      <td>fake_1000</td>\n",
       "      <td>2</td>\n",
       "      <td>fake_1000</td>\n",
       "      <td>1.0</td>\n",
       "    </tr>\n",
       "    <tr>\n",
       "      <th>2</th>\n",
       "      <td>0</td>\n",
       "      <td>fake_1000</td>\n",
       "      <td>3</td>\n",
       "      <td>fake_1000</td>\n",
       "      <td>1.0</td>\n",
       "    </tr>\n",
       "    <tr>\n",
       "      <th>49</th>\n",
       "      <td>1</td>\n",
       "      <td>fake_1000</td>\n",
       "      <td>2</td>\n",
       "      <td>fake_1000</td>\n",
       "      <td>1.0</td>\n",
       "    </tr>\n",
       "    <tr>\n",
       "      <th>50</th>\n",
       "      <td>1</td>\n",
       "      <td>fake_1000</td>\n",
       "      <td>3</td>\n",
       "      <td>fake_1000</td>\n",
       "      <td>1.0</td>\n",
       "    </tr>\n",
       "    <tr>\n",
       "      <th>...</th>\n",
       "      <td>...</td>\n",
       "      <td>...</td>\n",
       "      <td>...</td>\n",
       "      <td>...</td>\n",
       "      <td>...</td>\n",
       "    </tr>\n",
       "    <tr>\n",
       "      <th>3171</th>\n",
       "      <td>994</td>\n",
       "      <td>fake_1000</td>\n",
       "      <td>996</td>\n",
       "      <td>fake_1000</td>\n",
       "      <td>1.0</td>\n",
       "    </tr>\n",
       "    <tr>\n",
       "      <th>3172</th>\n",
       "      <td>995</td>\n",
       "      <td>fake_1000</td>\n",
       "      <td>996</td>\n",
       "      <td>fake_1000</td>\n",
       "      <td>1.0</td>\n",
       "    </tr>\n",
       "    <tr>\n",
       "      <th>3173</th>\n",
       "      <td>997</td>\n",
       "      <td>fake_1000</td>\n",
       "      <td>998</td>\n",
       "      <td>fake_1000</td>\n",
       "      <td>1.0</td>\n",
       "    </tr>\n",
       "    <tr>\n",
       "      <th>3174</th>\n",
       "      <td>997</td>\n",
       "      <td>fake_1000</td>\n",
       "      <td>999</td>\n",
       "      <td>fake_1000</td>\n",
       "      <td>1.0</td>\n",
       "    </tr>\n",
       "    <tr>\n",
       "      <th>3175</th>\n",
       "      <td>998</td>\n",
       "      <td>fake_1000</td>\n",
       "      <td>999</td>\n",
       "      <td>fake_1000</td>\n",
       "      <td>1.0</td>\n",
       "    </tr>\n",
       "  </tbody>\n",
       "</table>\n",
       "<p>2031 rows × 5 columns</p>\n",
       "</div>"
      ],
      "text/plain": [
       "      unique_id_l source_dataset_l  unique_id_r source_dataset_r  \\\n",
       "0               0        fake_1000            1        fake_1000   \n",
       "1               0        fake_1000            2        fake_1000   \n",
       "2               0        fake_1000            3        fake_1000   \n",
       "49              1        fake_1000            2        fake_1000   \n",
       "50              1        fake_1000            3        fake_1000   \n",
       "...           ...              ...          ...              ...   \n",
       "3171          994        fake_1000          996        fake_1000   \n",
       "3172          995        fake_1000          996        fake_1000   \n",
       "3173          997        fake_1000          998        fake_1000   \n",
       "3174          997        fake_1000          999        fake_1000   \n",
       "3175          998        fake_1000          999        fake_1000   \n",
       "\n",
       "      clerical_match_score  \n",
       "0                      1.0  \n",
       "1                      1.0  \n",
       "2                      1.0  \n",
       "49                     1.0  \n",
       "50                     1.0  \n",
       "...                    ...  \n",
       "3171                   1.0  \n",
       "3172                   1.0  \n",
       "3173                   1.0  \n",
       "3174                   1.0  \n",
       "3175                   1.0  \n",
       "\n",
       "[2031 rows x 5 columns]"
      ]
     },
     "execution_count": 2,
     "metadata": {},
     "output_type": "execute_result"
    }
   ],
   "source": [
    "from splink.datasets import splink_dataset_labels\n",
    "\n",
    "pairwise_labels = splink_dataset_labels.fake_1000_labels\n",
    "\n",
    "# Choose labels indicating a match\n",
    "pairwise_labels = pairwise_labels[pairwise_labels[\"clerical_match_score\"] == 1]\n",
    "pairwise_labels"
   ]
  },
  {
   "attachments": {},
   "cell_type": "markdown",
   "metadata": {},
   "source": [
    "We now proceed to estimate the Fellegi Sunter model:\n"
   ]
  },
  {
   "cell_type": "code",
   "execution_count": 3,
   "metadata": {
    "execution": {
     "iopub.execute_input": "2024-03-13T12:22:23.582780Z",
     "iopub.status.busy": "2024-03-13T12:22:23.581901Z",
     "iopub.status.idle": "2024-03-13T12:22:23.603852Z",
     "shell.execute_reply": "2024-03-13T12:22:23.602696Z"
    }
   },
   "outputs": [
    {
     "data": {
      "text/html": [
       "<div>\n",
       "<style scoped>\n",
       "    .dataframe tbody tr th:only-of-type {\n",
       "        vertical-align: middle;\n",
       "    }\n",
       "\n",
       "    .dataframe tbody tr th {\n",
       "        vertical-align: top;\n",
       "    }\n",
       "\n",
       "    .dataframe thead th {\n",
       "        text-align: right;\n",
       "    }\n",
       "</style>\n",
       "<table border=\"1\" class=\"dataframe\">\n",
       "  <thead>\n",
       "    <tr style=\"text-align: right;\">\n",
       "      <th></th>\n",
       "      <th>unique_id</th>\n",
       "      <th>first_name</th>\n",
       "      <th>surname</th>\n",
       "      <th>dob</th>\n",
       "      <th>city</th>\n",
       "      <th>email</th>\n",
       "      <th>cluster</th>\n",
       "    </tr>\n",
       "  </thead>\n",
       "  <tbody>\n",
       "    <tr>\n",
       "      <th>0</th>\n",
       "      <td>0</td>\n",
       "      <td>Robert</td>\n",
       "      <td>Alan</td>\n",
       "      <td>1971-06-24</td>\n",
       "      <td>NaN</td>\n",
       "      <td>robert255@smith.net</td>\n",
       "      <td>0</td>\n",
       "    </tr>\n",
       "    <tr>\n",
       "      <th>1</th>\n",
       "      <td>1</td>\n",
       "      <td>Robert</td>\n",
       "      <td>Allen</td>\n",
       "      <td>1971-05-24</td>\n",
       "      <td>NaN</td>\n",
       "      <td>roberta25@smith.net</td>\n",
       "      <td>0</td>\n",
       "    </tr>\n",
       "  </tbody>\n",
       "</table>\n",
       "</div>"
      ],
      "text/plain": [
       "   unique_id first_name surname         dob city                email  cluster\n",
       "0          0     Robert    Alan  1971-06-24  NaN  robert255@smith.net        0\n",
       "1          1     Robert   Allen  1971-05-24  NaN  roberta25@smith.net        0"
      ]
     },
     "execution_count": 3,
     "metadata": {},
     "output_type": "execute_result"
    }
   ],
   "source": [
    "from splink import splink_datasets\n",
    "\n",
    "df = splink_datasets.fake_1000\n",
    "df.head(2)"
   ]
  },
  {
   "cell_type": "code",
   "execution_count": 4,
   "metadata": {
    "execution": {
     "iopub.execute_input": "2024-03-13T12:22:23.611043Z",
     "iopub.status.busy": "2024-03-13T12:22:23.610654Z",
     "iopub.status.idle": "2024-03-13T12:22:23.901927Z",
     "shell.execute_reply": "2024-03-13T12:22:23.900939Z"
    }
   },
   "outputs": [],
   "source": [
    "from splink import Linker, DuckDBAPI, block_on, SettingsCreator\n",
    "import splink.comparison_library as cl\n",
    "import splink.comparison_template_library as ctl\n",
    "\n",
    "\n",
    "settings = SettingsCreator(\n",
    "    link_type=\"dedupe_only\",\n",
    "    blocking_rules_to_generate_predictions=[\n",
    "        block_on(\"first_name\"),\n",
    "        block_on(\"surname\"),\n",
    "    ],\n",
    "    comparisons=[\n",
    "        ctl.NameComparison(\"first_name\"),\n",
    "        ctl.NameComparison(\"surname\"),\n",
    "        ctl.DateComparison(\n",
    "            \"dob\",\n",
    "            input_is_string=True,\n",
    "            invalid_dates_as_null=True,\n",
    "            datetime_metrics=[\"month\", \"year\", \"year\"],\n",
    "            datetime_thresholds=[1, 1, 10],\n",
    "        ),\n",
    "        cl.LevenshteinAtThresholds(\"dob\", [2]),\n",
    "        cl.ExactMatch(\"city\").configure(term_frequency_adjustments=True),\n",
    "        ctl.EmailComparison(\"email\", include_username_fuzzy_level=False),\n",
    "    ],\n",
    "    retain_intermediate_calculation_columns=True\n",
    ")\n",
    "\n"
   ]
  },
  {
   "cell_type": "code",
   "execution_count": 5,
   "metadata": {
    "execution": {
     "iopub.execute_input": "2024-03-13T12:22:23.907347Z",
     "iopub.status.busy": "2024-03-13T12:22:23.906978Z",
     "iopub.status.idle": "2024-03-13T12:22:24.318946Z",
     "shell.execute_reply": "2024-03-13T12:22:24.318127Z"
    }
   },
   "outputs": [],
   "source": [
    "from splink.duckdb.database_api import DuckDBAPI\n",
    "\n",
    "linker = Linker(df, settings, database_api=DuckDBAPI(), set_up_basic_logging=False)\n",
    "deterministic_rules = [\n",
    "    \"l.first_name = r.first_name and levenshtein(r.dob, l.dob) <= 1\",\n",
    "    \"l.surname = r.surname and levenshtein(r.dob, l.dob) <= 1\",\n",
    "    \"l.first_name = r.first_name and levenshtein(r.surname, l.surname) <= 2\",\n",
    "    \"l.email = r.email\",\n",
    "]\n",
    "\n",
    "linker.estimate_probability_two_random_records_match(deterministic_rules, recall=0.7)"
   ]
  },
  {
   "cell_type": "code",
   "execution_count": 6,
   "metadata": {
    "execution": {
     "iopub.execute_input": "2024-03-13T12:22:24.324379Z",
     "iopub.status.busy": "2024-03-13T12:22:24.323897Z",
     "iopub.status.idle": "2024-03-13T12:22:27.144569Z",
     "shell.execute_reply": "2024-03-13T12:22:27.143751Z"
    }
   },
   "outputs": [
    {
     "data": {
      "application/vnd.jupyter.widget-view+json": {
       "model_id": "54186cece08b4f6fa03f33cc282f36a6",
       "version_major": 2,
       "version_minor": 0
      },
      "text/plain": [
       "FloatProgress(value=0.0, layout=Layout(width='auto'), style=ProgressStyle(bar_color='black'))"
      ]
     },
     "metadata": {},
     "output_type": "display_data"
    }
   ],
   "source": [
    "linker.estimate_u_using_random_sampling(max_pairs=1e6)"
   ]
  },
  {
   "cell_type": "code",
   "execution_count": 7,
   "metadata": {
    "execution": {
     "iopub.execute_input": "2024-03-13T12:22:27.155869Z",
     "iopub.status.busy": "2024-03-13T12:22:27.155018Z",
     "iopub.status.idle": "2024-03-13T12:22:27.607011Z",
     "shell.execute_reply": "2024-03-13T12:22:27.606258Z"
    }
   },
   "outputs": [],
   "source": [
    "# Register the pairwise labels table with the database, and then use it to estimate the m values\n",
    "labels_df = linker.register_labels_table(pairwise_labels, overwrite=True)\n",
    "linker.estimate_m_from_pairwise_labels(labels_df)\n",
    "\n",
    "\n",
    "# If the labels table already existing in the dataset you could run\n",
    "# linker.estimate_m_from_pairwise_labels(\"labels_tablename_here\")"
   ]
  },
  {
   "cell_type": "code",
   "execution_count": 8,
   "metadata": {
    "execution": {
     "iopub.execute_input": "2024-03-13T12:22:27.611063Z",
     "iopub.status.busy": "2024-03-13T12:22:27.610772Z",
     "iopub.status.idle": "2024-03-13T12:22:28.518439Z",
     "shell.execute_reply": "2024-03-13T12:22:28.517681Z"
    }
   },
   "outputs": [
    {
     "data": {
      "text/plain": [
       "<EMTrainingSession, blocking on l.\"first_name\" = r.\"first_name\", deactivating comparisons first_name>"
      ]
     },
     "execution_count": 8,
     "metadata": {},
     "output_type": "execute_result"
    }
   ],
   "source": [
    "training_blocking_rule = block_on(\"first_name\")\n",
    "linker.estimate_parameters_using_expectation_maximisation(training_blocking_rule)"
   ]
  },
  {
   "cell_type": "code",
   "execution_count": 9,
   "metadata": {
    "execution": {
     "iopub.execute_input": "2024-03-13T12:22:28.522839Z",
     "iopub.status.busy": "2024-03-13T12:22:28.522504Z",
     "iopub.status.idle": "2024-03-13T12:22:29.169169Z",
     "shell.execute_reply": "2024-03-13T12:22:29.168523Z"
    }
   },
   "outputs": [
    {
     "data": {
      "text/html": [
       "\n",
       "<style>\n",
       "  #altair-viz-3cc50db1ad014a47a63cc429c1da5d9b.vega-embed {\n",
       "    width: 100%;\n",
       "    display: flex;\n",
       "  }\n",
       "\n",
       "  #altair-viz-3cc50db1ad014a47a63cc429c1da5d9b.vega-embed details,\n",
       "  #altair-viz-3cc50db1ad014a47a63cc429c1da5d9b.vega-embed details summary {\n",
       "    position: relative;\n",
       "  }\n",
       "</style>\n",
       "<div id=\"altair-viz-3cc50db1ad014a47a63cc429c1da5d9b\"></div>\n",
       "<script type=\"text/javascript\">\n",
       "  var VEGA_DEBUG = (typeof VEGA_DEBUG == \"undefined\") ? {} : VEGA_DEBUG;\n",
       "  (function(spec, embedOpt){\n",
       "    let outputDiv = document.currentScript.previousElementSibling;\n",
       "    if (outputDiv.id !== \"altair-viz-3cc50db1ad014a47a63cc429c1da5d9b\") {\n",
       "      outputDiv = document.getElementById(\"altair-viz-3cc50db1ad014a47a63cc429c1da5d9b\");\n",
       "    }\n",
       "    const paths = {\n",
       "      \"vega\": \"https://cdn.jsdelivr.net/npm/vega@5?noext\",\n",
       "      \"vega-lib\": \"https://cdn.jsdelivr.net/npm/vega-lib?noext\",\n",
       "      \"vega-lite\": \"https://cdn.jsdelivr.net/npm/vega-lite@5.16.3?noext\",\n",
       "      \"vega-embed\": \"https://cdn.jsdelivr.net/npm/vega-embed@6?noext\",\n",
       "    };\n",
       "\n",
       "    function maybeLoadScript(lib, version) {\n",
       "      var key = `${lib.replace(\"-\", \"\")}_version`;\n",
       "      return (VEGA_DEBUG[key] == version) ?\n",
       "        Promise.resolve(paths[lib]) :\n",
       "        new Promise(function(resolve, reject) {\n",
       "          var s = document.createElement('script');\n",
       "          document.getElementsByTagName(\"head\")[0].appendChild(s);\n",
       "          s.async = true;\n",
       "          s.onload = () => {\n",
       "            VEGA_DEBUG[key] = version;\n",
       "            return resolve(paths[lib]);\n",
       "          };\n",
       "          s.onerror = () => reject(`Error loading script: ${paths[lib]}`);\n",
       "          s.src = paths[lib];\n",
       "        });\n",
       "    }\n",
       "\n",
       "    function showError(err) {\n",
       "      outputDiv.innerHTML = `<div class=\"error\" style=\"color:red;\">${err}</div>`;\n",
       "      throw err;\n",
       "    }\n",
       "\n",
       "    function displayChart(vegaEmbed) {\n",
       "      vegaEmbed(outputDiv, spec, embedOpt)\n",
       "        .catch(err => showError(`Javascript Error: ${err.message}<br>This usually means there's a typo in your chart specification. See the javascript console for the full traceback.`));\n",
       "    }\n",
       "\n",
       "    if(typeof define === \"function\" && define.amd) {\n",
       "      requirejs.config({paths});\n",
       "      require([\"vega-embed\"], displayChart, err => showError(`Error loading script: ${err.message}`));\n",
       "    } else {\n",
       "      maybeLoadScript(\"vega\", \"5\")\n",
       "        .then(() => maybeLoadScript(\"vega-lite\", \"5.16.3\"))\n",
       "        .then(() => maybeLoadScript(\"vega-embed\", \"6\"))\n",
       "        .catch(showError)\n",
       "        .then(() => displayChart(vegaEmbed));\n",
       "    }\n",
       "  })({\"config\": {\"view\": {\"continuousWidth\": 400, \"continuousHeight\": 300}, \"title\": {\"anchor\": \"middle\", \"fontSize\": 18, \"subtitleFontSize\": 14}}, \"data\": {\"name\": \"data-d1b3221400c17738d1c0d3a508e836a6\"}, \"mark\": {\"type\": \"point\", \"filled\": false, \"opacity\": 0.7, \"size\": 100}, \"encoding\": {\"color\": {\"field\": \"estimate_description\", \"type\": \"nominal\"}, \"column\": {\"align\": \"each\", \"field\": \"col_header\", \"header\": {\"labelFontSize\": 14, \"labelFontWeight\": \"bold\"}, \"title\": null, \"type\": \"nominal\"}, \"row\": {\"align\": \"each\", \"field\": \"comparison_name\", \"header\": {\"labelAlign\": \"left\", \"labelAnchor\": \"middle\", \"labelAngle\": 0, \"labelFontSize\": 12, \"labelFontWeight\": \"bold\"}, \"sort\": {\"field\": \"comparison_sort_order\"}, \"title\": null, \"type\": \"nominal\"}, \"shape\": {\"field\": \"estimate_description\", \"scale\": {\"range\": [\"circle\", \"square\", \"triangle\", \"diamond\"]}, \"type\": \"nominal\"}, \"tooltip\": [{\"field\": \"comparison_name\", \"type\": \"nominal\"}, {\"field\": \"estimate_description\", \"type\": \"nominal\"}, {\"field\": \"estimated_probability\", \"type\": \"quantitative\"}], \"x\": {\"axis\": {\"gridColor\": {\"condition\": {\"test\": \"abs(datum.value / 10)  <= 1 & datum.value % 10 === 0\", \"value\": \"#aaa\"}, \"value\": \"#ddd\"}, \"gridDash\": {\"condition\": {\"test\": \"abs(datum.value / 10) == 1\", \"value\": [3]}, \"value\": null}, \"gridWidth\": {\"condition\": {\"test\": \"abs(datum.value / 10)  <= 1 & datum.value % 10 === 0\", \"value\": 2}, \"value\": 1}}, \"field\": \"estimated_probability_as_log_odds\", \"title\": \"Estimated probability as log odds\", \"type\": \"quantitative\"}, \"y\": {\"axis\": {\"grid\": true, \"title\": null}, \"field\": \"comparison_level_label\", \"sort\": {\"field\": \"comparison_vector_value\", \"order\": \"descending\"}, \"type\": \"nominal\"}}, \"params\": [{\"name\": \"mouse_zoom\", \"select\": {\"type\": \"interval\", \"encodings\": [\"x\"]}, \"bind\": \"scales\"}], \"resolve\": {\"scale\": {\"y\": \"independent\"}}, \"title\": {\"text\": \"Comparison of parameter estimates across training sessions\", \"subtitle\": \"Use mousewheel to zoom\"}, \"transform\": [{\"calculate\": \"datum.m_or_u + '-probability (as log odds)'\", \"as\": \"col_header\"}], \"$schema\": \"https://vega.github.io/schema/vega-lite/v5.9.3.json\", \"datasets\": {\"data-d1b3221400c17738d1c0d3a508e836a6\": [{\"m_or_u\": \"m\", \"estimated_probability\": 0.4953998584571833, \"estimate_description\": \"estimate m from pairwise labels\", \"estimated_probability_as_log_odds\": -0.026547154611559317, \"sql_condition\": \"\\\"first_name_l\\\" = \\\"first_name_r\\\"\", \"comparison_level_label\": \"Exact match on first_name\", \"comparison_vector_value\": 3, \"comparison_name\": \"first_name\", \"comparison_sort_order\": 0}, {\"m_or_u\": \"m\", \"estimated_probability\": 0.19815994338287332, \"estimate_description\": \"estimate m from pairwise labels\", \"estimated_probability_as_log_odds\": -2.016649128875549, \"sql_condition\": \"jaro_winkler_similarity(\\\"first_name_l\\\", \\\"first_name_r\\\") >= 0.9\", \"comparison_level_label\": \"Jaro-Winkler distance of first_name >= 0.9\", \"comparison_vector_value\": 2, \"comparison_name\": \"first_name\", \"comparison_sort_order\": 0}, {\"m_or_u\": \"m\", \"estimated_probability\": 0.07501769285208776, \"estimate_description\": \"estimate m from pairwise labels\", \"estimated_probability_as_log_odds\": -3.624122971232234, \"sql_condition\": \"jaro_winkler_similarity(\\\"first_name_l\\\", \\\"first_name_r\\\") >= 0.8\", \"comparison_level_label\": \"Jaro-Winkler distance of first_name >= 0.8\", \"comparison_vector_value\": 1, \"comparison_name\": \"first_name\", \"comparison_sort_order\": 0}, {\"m_or_u\": \"m\", \"estimated_probability\": 0.23142250530785563, \"estimate_description\": \"estimate m from pairwise labels\", \"estimated_probability_as_log_odds\": -1.731661562306279, \"sql_condition\": \"ELSE\", \"comparison_level_label\": \"All other comparisons\", \"comparison_vector_value\": 0, \"comparison_name\": \"first_name\", \"comparison_sort_order\": 0}, {\"m_or_u\": \"m\", \"estimated_probability\": 0.4485294117647059, \"estimate_description\": \"estimate m from pairwise labels\", \"estimated_probability_as_log_odds\": -0.2980813529329946, \"sql_condition\": \"\\\"surname_l\\\" = \\\"surname_r\\\"\", \"comparison_level_label\": \"Exact match on surname\", \"comparison_vector_value\": 3, \"comparison_name\": \"surname\", \"comparison_sort_order\": 1}, {\"m_or_u\": \"m\", \"estimated_probability\": 0.6347110469195653, \"estimate_description\": \"EM, blocked on: l.\\\"first_name\\\" = r.\\\"first_name\\\"\", \"estimated_probability_as_log_odds\": 0.7970618274677378, \"sql_condition\": \"\\\"surname_l\\\" = \\\"surname_r\\\"\", \"comparison_level_label\": \"Exact match on surname\", \"comparison_vector_value\": 3, \"comparison_name\": \"surname\", \"comparison_sort_order\": 1}, {\"m_or_u\": \"m\", \"estimated_probability\": 0.2411764705882353, \"estimate_description\": \"estimate m from pairwise labels\", \"estimated_probability_as_log_odds\": -1.6536752508051704, \"sql_condition\": \"jaro_winkler_similarity(\\\"surname_l\\\", \\\"surname_r\\\") >= 0.9\", \"comparison_level_label\": \"Jaro-Winkler distance of surname >= 0.9\", \"comparison_vector_value\": 2, \"comparison_name\": \"surname\", \"comparison_sort_order\": 1}, {\"m_or_u\": \"m\", \"estimated_probability\": 0.25974533507241626, \"estimate_description\": \"EM, blocked on: l.\\\"first_name\\\" = r.\\\"first_name\\\"\", \"estimated_probability_as_log_odds\": -1.5109238378819705, \"sql_condition\": \"jaro_winkler_similarity(\\\"surname_l\\\", \\\"surname_r\\\") >= 0.9\", \"comparison_level_label\": \"Jaro-Winkler distance of surname >= 0.9\", \"comparison_vector_value\": 2, \"comparison_name\": \"surname\", \"comparison_sort_order\": 1}, {\"m_or_u\": \"m\", \"estimated_probability\": 0.06470588235294118, \"estimate_description\": \"estimate m from pairwise labels\", \"estimated_probability_as_log_odds\": -3.853451336647058, \"sql_condition\": \"jaro_winkler_similarity(\\\"surname_l\\\", \\\"surname_r\\\") >= 0.8\", \"comparison_level_label\": \"Jaro-Winkler distance of surname >= 0.8\", \"comparison_vector_value\": 1, \"comparison_name\": \"surname\", \"comparison_sort_order\": 1}, {\"m_or_u\": \"m\", \"estimated_probability\": 0.05797183086658913, \"estimate_description\": \"EM, blocked on: l.\\\"first_name\\\" = r.\\\"first_name\\\"\", \"estimated_probability_as_log_odds\": -4.022346246234957, \"sql_condition\": \"jaro_winkler_similarity(\\\"surname_l\\\", \\\"surname_r\\\") >= 0.8\", \"comparison_level_label\": \"Jaro-Winkler distance of surname >= 0.8\", \"comparison_vector_value\": 1, \"comparison_name\": \"surname\", \"comparison_sort_order\": 1}, {\"m_or_u\": \"m\", \"estimated_probability\": 0.24558823529411763, \"estimate_description\": \"estimate m from pairwise labels\", \"estimated_probability_as_log_odds\": -1.619110723133002, \"sql_condition\": \"ELSE\", \"comparison_level_label\": \"All other comparisons\", \"comparison_vector_value\": 0, \"comparison_name\": \"surname\", \"comparison_sort_order\": 1}, {\"m_or_u\": \"m\", \"estimated_probability\": 0.047571787141429345, \"estimate_description\": \"EM, blocked on: l.\\\"first_name\\\" = r.\\\"first_name\\\"\", \"estimated_probability_as_log_odds\": -4.323432227276559, \"sql_condition\": \"ELSE\", \"comparison_level_label\": \"All other comparisons\", \"comparison_vector_value\": 0, \"comparison_name\": \"surname\", \"comparison_sort_order\": 1}, {\"m_or_u\": \"m\", \"estimated_probability\": 0.21073362875430823, \"estimate_description\": \"estimate m from pairwise labels\", \"estimated_probability_as_log_odds\": -1.9050917237534009, \"sql_condition\": \"\\\"dob_l\\\" = \\\"dob_r\\\"\", \"comparison_level_label\": \"Exact match on dob\", \"comparison_vector_value\": 5, \"comparison_name\": \"dob\", \"comparison_sort_order\": 2}, {\"m_or_u\": \"m\", \"estimated_probability\": 0.2042125623210912, \"estimate_description\": \"EM, blocked on: l.\\\"first_name\\\" = r.\\\"first_name\\\"\", \"estimated_probability_as_log_odds\": -1.9623115071499257, \"sql_condition\": \"\\\"dob_l\\\" = \\\"dob_r\\\"\", \"comparison_level_label\": \"Exact match on dob\", \"comparison_vector_value\": 5, \"comparison_name\": \"dob\", \"comparison_sort_order\": 2}, {\"m_or_u\": \"m\", \"estimated_probability\": 0.04431314623338257, \"estimate_description\": \"estimate m from pairwise labels\", \"estimated_probability_as_log_odds\": -4.430731306383989, \"sql_condition\": \"damerau_levenshtein(\\\"dob_l\\\", \\\"dob_r\\\") <= 1\", \"comparison_level_label\": \"Damerau-Levenshtein distance of dob <= 1\", \"comparison_vector_value\": 4, \"comparison_name\": \"dob\", \"comparison_sort_order\": 2}, {\"m_or_u\": \"m\", \"estimated_probability\": 0.06681631803674098, \"estimate_description\": \"EM, blocked on: l.\\\"first_name\\\" = r.\\\"first_name\\\"\", \"estimated_probability_as_log_odds\": -3.8038886907941514, \"sql_condition\": \"damerau_levenshtein(\\\"dob_l\\\", \\\"dob_r\\\") <= 1\", \"comparison_level_label\": \"Damerau-Levenshtein distance of dob <= 1\", \"comparison_vector_value\": 4, \"comparison_name\": \"dob\", \"comparison_sort_order\": 2}, {\"m_or_u\": \"m\", \"estimated_probability\": 0.04849827671097981, \"estimate_description\": \"estimate m from pairwise labels\", \"estimated_probability_as_log_odds\": -4.2942008793558335, \"sql_condition\": \"ABS(EPOCH(try_strptime(\\\"dob_l\\\", '%Y-%m-%d')) - EPOCH(try_strptime(\\\"dob_r\\\", '%Y-%m-%d'))) <= 2629800.0\", \"comparison_level_label\": \"Abs difference of 'transformed dob <= 1 month'\", \"comparison_vector_value\": 3, \"comparison_name\": \"dob\", \"comparison_sort_order\": 2}, {\"m_or_u\": \"m\", \"estimated_probability\": 0.03449139602351336, \"estimate_description\": \"EM, blocked on: l.\\\"first_name\\\" = r.\\\"first_name\\\"\", \"estimated_probability_as_log_odds\": -4.806980688064272, \"sql_condition\": \"ABS(EPOCH(try_strptime(\\\"dob_l\\\", '%Y-%m-%d')) - EPOCH(try_strptime(\\\"dob_r\\\", '%Y-%m-%d'))) <= 2629800.0\", \"comparison_level_label\": \"Abs difference of 'transformed dob <= 1 month'\", \"comparison_vector_value\": 3, \"comparison_name\": \"dob\", \"comparison_sort_order\": 2}, {\"m_or_u\": \"m\", \"estimated_probability\": 0.05711472181191531, \"estimate_description\": \"estimate m from pairwise labels\", \"estimated_probability_as_log_odds\": -4.045147681684747, \"sql_condition\": \"ABS(EPOCH(try_strptime(\\\"dob_l\\\", '%Y-%m-%d')) - EPOCH(try_strptime(\\\"dob_r\\\", '%Y-%m-%d'))) <= 31557600.0\", \"comparison_level_label\": \"Abs difference of 'transformed dob <= 1 year'\", \"comparison_vector_value\": 2, \"comparison_name\": \"dob\", \"comparison_sort_order\": 2}, {\"m_or_u\": \"m\", \"estimated_probability\": 0.07266649019016899, \"estimate_description\": \"EM, blocked on: l.\\\"first_name\\\" = r.\\\"first_name\\\"\", \"estimated_probability_as_log_odds\": -3.673726158016186, \"sql_condition\": \"ABS(EPOCH(try_strptime(\\\"dob_l\\\", '%Y-%m-%d')) - EPOCH(try_strptime(\\\"dob_r\\\", '%Y-%m-%d'))) <= 31557600.0\", \"comparison_level_label\": \"Abs difference of 'transformed dob <= 1 year'\", \"comparison_vector_value\": 2, \"comparison_name\": \"dob\", \"comparison_sort_order\": 2}, {\"m_or_u\": \"m\", \"estimated_probability\": 0.07266649019016899, \"estimate_description\": \"EM, blocked on: l.\\\"first_name\\\" = r.\\\"first_name\\\"\", \"estimated_probability_as_log_odds\": -3.673726158016186, \"sql_condition\": \"ABS(EPOCH(try_strptime(\\\"dob_l\\\", '%Y-%m-%d')) - EPOCH(try_strptime(\\\"dob_r\\\", '%Y-%m-%d'))) <= 31557600.0\", \"comparison_level_label\": \"Abs difference of 'transformed dob <= 1 year'\", \"comparison_vector_value\": 2, \"comparison_name\": \"dob\", \"comparison_sort_order\": 2}, {\"m_or_u\": \"m\", \"estimated_probability\": 0.11915312653865091, \"estimate_description\": \"estimate m from pairwise labels\", \"estimated_probability_as_log_odds\": -2.8860744347773135, \"sql_condition\": \"ABS(EPOCH(try_strptime(\\\"dob_l\\\", '%Y-%m-%d')) - EPOCH(try_strptime(\\\"dob_r\\\", '%Y-%m-%d'))) <= 315576000.0\", \"comparison_level_label\": \"Abs difference of 'transformed dob <= 10 year'\", \"comparison_vector_value\": 1, \"comparison_name\": \"dob\", \"comparison_sort_order\": 2}, {\"m_or_u\": \"m\", \"estimated_probability\": 0.10711873706101245, \"estimate_description\": \"EM, blocked on: l.\\\"first_name\\\" = r.\\\"first_name\\\"\", \"estimated_probability_as_log_odds\": -3.059257479372883, \"sql_condition\": \"ABS(EPOCH(try_strptime(\\\"dob_l\\\", '%Y-%m-%d')) - EPOCH(try_strptime(\\\"dob_r\\\", '%Y-%m-%d'))) <= 315576000.0\", \"comparison_level_label\": \"Abs difference of 'transformed dob <= 10 year'\", \"comparison_vector_value\": 1, \"comparison_name\": \"dob\", \"comparison_sort_order\": 2}, {\"m_or_u\": \"m\", \"estimated_probability\": 0.10711873706101245, \"estimate_description\": \"EM, blocked on: l.\\\"first_name\\\" = r.\\\"first_name\\\"\", \"estimated_probability_as_log_odds\": -3.059257479372883, \"sql_condition\": \"ABS(EPOCH(try_strptime(\\\"dob_l\\\", '%Y-%m-%d')) - EPOCH(try_strptime(\\\"dob_r\\\", '%Y-%m-%d'))) <= 315576000.0\", \"comparison_level_label\": \"Abs difference of 'transformed dob <= 10 year'\", \"comparison_vector_value\": 1, \"comparison_name\": \"dob\", \"comparison_sort_order\": 2}, {\"m_or_u\": \"m\", \"estimated_probability\": 0.02018709995076317, \"estimate_description\": \"estimate m from pairwise labels\", \"estimated_probability_as_log_odds\": -5.601000710812928, \"sql_condition\": \"ELSE\", \"comparison_level_label\": \"All other comparisons\", \"comparison_vector_value\": 0, \"comparison_name\": \"dob\", \"comparison_sort_order\": 2}, {\"m_or_u\": \"m\", \"estimated_probability\": 0.014694496367473091, \"estimate_description\": \"EM, blocked on: l.\\\"first_name\\\" = r.\\\"first_name\\\"\", \"estimated_probability_as_log_odds\": -6.067223297003503, \"sql_condition\": \"ELSE\", \"comparison_level_label\": \"All other comparisons\", \"comparison_vector_value\": 0, \"comparison_name\": \"dob\", \"comparison_sort_order\": 2}, {\"m_or_u\": \"m\", \"estimated_probability\": 0.014694496367473091, \"estimate_description\": \"EM, blocked on: l.\\\"first_name\\\" = r.\\\"first_name\\\"\", \"estimated_probability_as_log_odds\": -6.067223297003503, \"sql_condition\": \"ELSE\", \"comparison_level_label\": \"All other comparisons\", \"comparison_vector_value\": 0, \"comparison_name\": \"dob\", \"comparison_sort_order\": 2}, {\"m_or_u\": \"m\", \"estimated_probability\": 0.05711472181191531, \"estimate_description\": \"estimate m from pairwise labels\", \"estimated_probability_as_log_odds\": -4.045147681684747, \"sql_condition\": \"\\\"dob_l\\\" = \\\"dob_r\\\"\", \"comparison_level_label\": \"Exact match on dob\", \"comparison_vector_value\": 2, \"comparison_name\": \"dob\", \"comparison_sort_order\": 3}, {\"m_or_u\": \"m\", \"estimated_probability\": 0.11915312653865091, \"estimate_description\": \"estimate m from pairwise labels\", \"estimated_probability_as_log_odds\": -2.8860744347773135, \"sql_condition\": \"levenshtein(\\\"dob_l\\\", \\\"dob_r\\\") <= 2\", \"comparison_level_label\": \"Levenshtein distance of dob <= 2\", \"comparison_vector_value\": 1, \"comparison_name\": \"dob\", \"comparison_sort_order\": 3}, {\"m_or_u\": \"m\", \"estimated_probability\": 0.02018709995076317, \"estimate_description\": \"estimate m from pairwise labels\", \"estimated_probability_as_log_odds\": -5.601000710812928, \"sql_condition\": \"ELSE\", \"comparison_level_label\": \"All other comparisons\", \"comparison_vector_value\": 0, \"comparison_name\": \"dob\", \"comparison_sort_order\": 3}, {\"m_or_u\": \"m\", \"estimated_probability\": 0.5661492978566149, \"estimate_description\": \"estimate m from pairwise labels\", \"estimated_probability_as_log_odds\": 0.38398388881490503, \"sql_condition\": \"\\\"city_l\\\" = \\\"city_r\\\"\", \"comparison_level_label\": \"Exact match on city\", \"comparison_vector_value\": 1, \"comparison_name\": \"city\", \"comparison_sort_order\": 4}, {\"m_or_u\": \"m\", \"estimated_probability\": 0.5689448743686215, \"estimate_description\": \"EM, blocked on: l.\\\"first_name\\\" = r.\\\"first_name\\\"\", \"estimated_probability_as_log_odds\": 0.4004164944956098, \"sql_condition\": \"\\\"city_l\\\" = \\\"city_r\\\"\", \"comparison_level_label\": \"Exact match on city\", \"comparison_vector_value\": 1, \"comparison_name\": \"city\", \"comparison_sort_order\": 4}, {\"m_or_u\": \"m\", \"estimated_probability\": 0.43385070214338506, \"estimate_description\": \"estimate m from pairwise labels\", \"estimated_probability_as_log_odds\": -0.3839838888149049, \"sql_condition\": \"ELSE\", \"comparison_level_label\": \"All other comparisons\", \"comparison_vector_value\": 0, \"comparison_name\": \"city\", \"comparison_sort_order\": 4}, {\"m_or_u\": \"m\", \"estimated_probability\": 0.4310551256313785, \"estimate_description\": \"EM, blocked on: l.\\\"first_name\\\" = r.\\\"first_name\\\"\", \"estimated_probability_as_log_odds\": -0.4004164944956098, \"sql_condition\": \"ELSE\", \"comparison_level_label\": \"All other comparisons\", \"comparison_vector_value\": 0, \"comparison_name\": \"city\", \"comparison_sort_order\": 4}, {\"m_or_u\": \"m\", \"estimated_probability\": 0.5340642129992169, \"estimate_description\": \"estimate m from pairwise labels\", \"estimated_probability_as_log_odds\": 0.1968820708288665, \"sql_condition\": \"\\\"email_l\\\" = \\\"email_r\\\"\", \"comparison_level_label\": \"Exact match on email\", \"comparison_vector_value\": 3, \"comparison_name\": \"email\", \"comparison_sort_order\": 5}, {\"m_or_u\": \"m\", \"estimated_probability\": 0.5885764994801997, \"estimate_description\": \"EM, blocked on: l.\\\"first_name\\\" = r.\\\"first_name\\\"\", \"estimated_probability_as_log_odds\": 0.5166057369090564, \"sql_condition\": \"\\\"email_l\\\" = \\\"email_r\\\"\", \"comparison_level_label\": \"Exact match on email\", \"comparison_vector_value\": 3, \"comparison_name\": \"email\", \"comparison_sort_order\": 5}, {\"m_or_u\": \"m\", \"estimated_probability\": 0.23492560689115113, \"estimate_description\": \"estimate m from pairwise labels\", \"estimated_probability_as_log_odds\": -1.7033960614725043, \"sql_condition\": \"NULLIF(regexp_extract(\\\"email_l\\\", '^[^@]+', 0), '') = NULLIF(regexp_extract(\\\"email_r\\\", '^[^@]+', 0), '')\", \"comparison_level_label\": \"Exact match on transformed email\", \"comparison_vector_value\": 2, \"comparison_name\": \"email\", \"comparison_sort_order\": 5}, {\"m_or_u\": \"m\", \"estimated_probability\": 0.21328489477953344, \"estimate_description\": \"EM, blocked on: l.\\\"first_name\\\" = r.\\\"first_name\\\"\", \"estimated_probability_as_log_odds\": -1.8830594891126682, \"sql_condition\": \"NULLIF(regexp_extract(\\\"email_l\\\", '^[^@]+', 0), '') = NULLIF(regexp_extract(\\\"email_r\\\", '^[^@]+', 0), '')\", \"comparison_level_label\": \"Exact match on transformed email\", \"comparison_vector_value\": 2, \"comparison_name\": \"email\", \"comparison_sort_order\": 5}, {\"m_or_u\": \"m\", \"estimated_probability\": 0.22239624119028975, \"estimate_description\": \"estimate m from pairwise labels\", \"estimated_probability_as_log_odds\": -1.8059027880236918, \"sql_condition\": \"jaro_winkler_similarity(\\\"email_l\\\", \\\"email_r\\\") >= 0.88\", \"comparison_level_label\": \"Jaro-Winkler distance of email >= 0.88\", \"comparison_vector_value\": 1, \"comparison_name\": \"email\", \"comparison_sort_order\": 5}, {\"m_or_u\": \"m\", \"estimated_probability\": 0.18561086595437806, \"estimate_description\": \"EM, blocked on: l.\\\"first_name\\\" = r.\\\"first_name\\\"\", \"estimated_probability_as_log_odds\": -2.133437141848463, \"sql_condition\": \"jaro_winkler_similarity(\\\"email_l\\\", \\\"email_r\\\") >= 0.88\", \"comparison_level_label\": \"Jaro-Winkler distance of email >= 0.88\", \"comparison_vector_value\": 1, \"comparison_name\": \"email\", \"comparison_sort_order\": 5}, {\"m_or_u\": \"m\", \"estimated_probability\": 0.008613938919342208, \"estimate_description\": \"estimate m from pairwise labels\", \"estimated_probability_as_log_odds\": -6.846630070791044, \"sql_condition\": \"ELSE\", \"comparison_level_label\": \"All other comparisons\", \"comparison_vector_value\": 0, \"comparison_name\": \"email\", \"comparison_sort_order\": 5}, {\"m_or_u\": \"m\", \"estimated_probability\": 0.01252773978588875, \"estimate_description\": \"EM, blocked on: l.\\\"first_name\\\" = r.\\\"first_name\\\"\", \"estimated_probability_as_log_odds\": -6.300542164075971, \"sql_condition\": \"ELSE\", \"comparison_level_label\": \"All other comparisons\", \"comparison_vector_value\": 0, \"comparison_name\": \"email\", \"comparison_sort_order\": 5}]}}, {\"mode\": \"vega-lite\"});\n",
       "</script>"
      ],
      "text/plain": [
       "alt.Chart(...)"
      ]
     },
     "execution_count": 9,
     "metadata": {},
     "output_type": "execute_result"
    }
   ],
   "source": [
    "linker.parameter_estimate_comparisons_chart()"
   ]
  },
  {
   "cell_type": "code",
   "execution_count": 10,
   "metadata": {
    "execution": {
     "iopub.execute_input": "2024-03-13T12:22:29.173033Z",
     "iopub.status.busy": "2024-03-13T12:22:29.172732Z",
     "iopub.status.idle": "2024-03-13T12:22:30.511661Z",
     "shell.execute_reply": "2024-03-13T12:22:30.510812Z"
    }
   },
   "outputs": [
    {
     "data": {
      "text/html": [
       "\n",
       "<style>\n",
       "  #altair-viz-e185df71ebd74143bb0b9bd1c6db7ff5.vega-embed {\n",
       "    width: 100%;\n",
       "    display: flex;\n",
       "  }\n",
       "\n",
       "  #altair-viz-e185df71ebd74143bb0b9bd1c6db7ff5.vega-embed details,\n",
       "  #altair-viz-e185df71ebd74143bb0b9bd1c6db7ff5.vega-embed details summary {\n",
       "    position: relative;\n",
       "  }\n",
       "</style>\n",
       "<div id=\"altair-viz-e185df71ebd74143bb0b9bd1c6db7ff5\"></div>\n",
       "<script type=\"text/javascript\">\n",
       "  var VEGA_DEBUG = (typeof VEGA_DEBUG == \"undefined\") ? {} : VEGA_DEBUG;\n",
       "  (function(spec, embedOpt){\n",
       "    let outputDiv = document.currentScript.previousElementSibling;\n",
       "    if (outputDiv.id !== \"altair-viz-e185df71ebd74143bb0b9bd1c6db7ff5\") {\n",
       "      outputDiv = document.getElementById(\"altair-viz-e185df71ebd74143bb0b9bd1c6db7ff5\");\n",
       "    }\n",
       "    const paths = {\n",
       "      \"vega\": \"https://cdn.jsdelivr.net/npm/vega@5?noext\",\n",
       "      \"vega-lib\": \"https://cdn.jsdelivr.net/npm/vega-lib?noext\",\n",
       "      \"vega-lite\": \"https://cdn.jsdelivr.net/npm/vega-lite@5.16.3?noext\",\n",
       "      \"vega-embed\": \"https://cdn.jsdelivr.net/npm/vega-embed@6?noext\",\n",
       "    };\n",
       "\n",
       "    function maybeLoadScript(lib, version) {\n",
       "      var key = `${lib.replace(\"-\", \"\")}_version`;\n",
       "      return (VEGA_DEBUG[key] == version) ?\n",
       "        Promise.resolve(paths[lib]) :\n",
       "        new Promise(function(resolve, reject) {\n",
       "          var s = document.createElement('script');\n",
       "          document.getElementsByTagName(\"head\")[0].appendChild(s);\n",
       "          s.async = true;\n",
       "          s.onload = () => {\n",
       "            VEGA_DEBUG[key] = version;\n",
       "            return resolve(paths[lib]);\n",
       "          };\n",
       "          s.onerror = () => reject(`Error loading script: ${paths[lib]}`);\n",
       "          s.src = paths[lib];\n",
       "        });\n",
       "    }\n",
       "\n",
       "    function showError(err) {\n",
       "      outputDiv.innerHTML = `<div class=\"error\" style=\"color:red;\">${err}</div>`;\n",
       "      throw err;\n",
       "    }\n",
       "\n",
       "    function displayChart(vegaEmbed) {\n",
       "      vegaEmbed(outputDiv, spec, embedOpt)\n",
       "        .catch(err => showError(`Javascript Error: ${err.message}<br>This usually means there's a typo in your chart specification. See the javascript console for the full traceback.`));\n",
       "    }\n",
       "\n",
       "    if(typeof define === \"function\" && define.amd) {\n",
       "      requirejs.config({paths});\n",
       "      require([\"vega-embed\"], displayChart, err => showError(`Error loading script: ${err.message}`));\n",
       "    } else {\n",
       "      maybeLoadScript(\"vega\", \"5\")\n",
       "        .then(() => maybeLoadScript(\"vega-lite\", \"5.16.3\"))\n",
       "        .then(() => maybeLoadScript(\"vega-embed\", \"6\"))\n",
       "        .catch(showError)\n",
       "        .then(() => displayChart(vegaEmbed));\n",
       "    }\n",
       "  })({\"config\": {\"view\": {\"continuousWidth\": 300, \"continuousHeight\": 300, \"discreteHeight\": 60, \"discreteWidth\": 400}, \"header\": {\"title\": null}, \"mark\": {\"tooltip\": null}, \"title\": {\"anchor\": \"middle\"}}, \"vconcat\": [{\"mark\": {\"type\": \"bar\", \"clip\": true, \"height\": 15}, \"encoding\": {\"color\": {\"field\": \"log2_bayes_factor\", \"scale\": {\"domain\": [-10, 0, 10], \"interpolate\": \"lab\", \"range\": [\"red\", \"#bbbbbb\", \"green\"]}, \"title\": \"Match weight\", \"type\": \"quantitative\"}, \"tooltip\": [{\"field\": \"comparison_name\", \"title\": \"Comparison name\", \"type\": \"nominal\"}, {\"field\": \"probability_two_random_records_match\", \"format\": \".4f\", \"title\": \"Probability two random records match\", \"type\": \"nominal\"}, {\"field\": \"log2_bayes_factor\", \"format\": \",.4f\", \"title\": \"Equivalent match weight\", \"type\": \"quantitative\"}, {\"field\": \"bayes_factor_description\", \"title\": \"Match weight description\", \"type\": \"nominal\"}], \"x\": {\"axis\": {\"domain\": false, \"gridColor\": {\"condition\": {\"test\": \"abs(datum.value / 10)  <= 1 & datum.value % 10 === 0\", \"value\": \"#aaa\"}, \"value\": \"#ddd\"}, \"gridDash\": {\"condition\": {\"test\": \"abs(datum.value / 10) == 1\", \"value\": [3]}, \"value\": null}, \"gridWidth\": {\"condition\": {\"test\": \"abs(datum.value / 10)  <= 1 & datum.value % 10 === 0\", \"value\": 2}, \"value\": 1}, \"labels\": false, \"ticks\": false, \"title\": \"\"}, \"field\": \"log2_bayes_factor\", \"scale\": {\"domain\": [-9, 9]}, \"type\": \"quantitative\"}, \"y\": {\"axis\": {\"title\": \"Prior (starting) match weight\", \"titleAlign\": \"right\", \"titleAngle\": 0, \"titleFontWeight\": \"normal\"}, \"field\": \"label_for_charts\", \"sort\": {\"field\": \"comparison_vector_value\", \"order\": \"descending\"}, \"type\": \"nominal\"}}, \"height\": 20, \"transform\": [{\"filter\": \"(datum.comparison_name == 'probability_two_random_records_match')\"}]}, {\"mark\": {\"type\": \"bar\", \"clip\": true}, \"encoding\": {\"color\": {\"field\": \"log2_bayes_factor\", \"scale\": {\"domain\": [-10, 0, 10], \"interpolate\": \"lab\", \"range\": [\"red\", \"#bbbbbb\", \"green\"]}, \"title\": \"Match weight\", \"type\": \"quantitative\"}, \"row\": {\"field\": \"comparison_name\", \"header\": {\"labelAlign\": \"left\", \"labelAnchor\": \"middle\", \"labelAngle\": 0}, \"sort\": {\"field\": \"comparison_sort_order\"}, \"type\": \"nominal\"}, \"tooltip\": [{\"field\": \"comparison_name\", \"title\": \"Comparison name\", \"type\": \"nominal\"}, {\"field\": \"label_for_charts\", \"title\": \"Label\", \"type\": \"ordinal\"}, {\"field\": \"sql_condition\", \"title\": \"SQL condition\", \"type\": \"nominal\"}, {\"field\": \"m_probability\", \"format\": \".4f\", \"title\": \"M probability\", \"type\": \"quantitative\"}, {\"field\": \"u_probability\", \"format\": \".4f\", \"title\": \"U probability\", \"type\": \"quantitative\"}, {\"field\": \"bayes_factor\", \"format\": \",.4f\", \"title\": \"Bayes factor = m/u\", \"type\": \"quantitative\"}, {\"field\": \"log2_bayes_factor\", \"format\": \",.4f\", \"title\": \"Match weight = log2(m/u)\", \"type\": \"quantitative\"}, {\"field\": \"bayes_factor_description\", \"title\": \"Match weight description\", \"type\": \"nominal\"}], \"x\": {\"axis\": {\"gridColor\": {\"condition\": {\"test\": \"abs(datum.value / 10)  <= 1 & datum.value % 10 === 0\", \"value\": \"#aaa\"}, \"value\": \"#ddd\"}, \"gridDash\": {\"condition\": {\"test\": \"abs(datum.value / 10) == 1\", \"value\": [3]}, \"value\": null}, \"gridWidth\": {\"condition\": {\"test\": \"abs(datum.value / 10)  <= 1 & datum.value % 10 === 0\", \"value\": 2}, \"value\": 1}, \"title\": \"Comparison level match weight = log2(m/u)\"}, \"field\": \"log2_bayes_factor\", \"scale\": {\"domain\": [-9, 9]}, \"type\": \"quantitative\"}, \"y\": {\"axis\": {\"title\": null}, \"field\": \"label_for_charts\", \"sort\": {\"field\": \"comparison_vector_value\", \"order\": \"descending\"}, \"type\": \"nominal\"}}, \"height\": {\"step\": 12}, \"resolve\": {\"axis\": {\"y\": \"independent\"}, \"scale\": {\"y\": \"independent\"}}, \"transform\": [{\"filter\": \"(datum.comparison_name != 'probability_two_random_records_match')\"}]}], \"data\": {\"name\": \"data-56a6fb2bbdd34b32128868c6e5893cb6\"}, \"params\": [{\"name\": \"mouse_zoom\", \"select\": {\"type\": \"interval\", \"encodings\": [\"x\"]}, \"bind\": \"scales\", \"views\": []}], \"resolve\": {\"axis\": {\"y\": \"independent\"}, \"scale\": {\"y\": \"independent\"}}, \"title\": {\"text\": \"Model parameters (components of final match weight)\", \"subtitle\": \"Use mousewheel to zoom\"}, \"$schema\": \"https://vega.github.io/schema/vega-lite/v5.9.3.json\", \"datasets\": {\"data-56a6fb2bbdd34b32128868c6e5893cb6\": [{\"comparison_name\": \"probability_two_random_records_match\", \"sql_condition\": null, \"label_for_charts\": \"\", \"m_probability\": null, \"u_probability\": null, \"m_probability_description\": null, \"u_probability_description\": null, \"has_tf_adjustments\": false, \"tf_adjustment_column\": null, \"tf_adjustment_weight\": null, \"is_null_level\": false, \"bayes_factor\": 0.0033430420247643373, \"log2_bayes_factor\": -8.224622793739668, \"comparison_vector_value\": 0, \"max_comparison_vector_value\": 0, \"bayes_factor_description\": \"The probability that two random records drawn at random match is 0.003 or one in  300.1 records.This is equivalent to a starting match weight of -8.225.\", \"probability_two_random_records_match\": 0.0033319033319033323, \"comparison_sort_order\": -1}, {\"comparison_name\": \"first_name\", \"sql_condition\": \"\\\"first_name_l\\\" = \\\"first_name_r\\\"\", \"label_for_charts\": \"Exact match on first_name\", \"m_probability\": 0.4953998584571833, \"u_probability\": 0.0057935713975033705, \"m_probability_description\": \"Amongst matching record comparisons, 49.54% of records are in the exact match on first_name comparison level\", \"u_probability_description\": \"Amongst non-matching record comparisons, 0.58% of records are in the exact match on first_name comparison level\", \"has_tf_adjustments\": false, \"tf_adjustment_column\": null, \"tf_adjustment_weight\": 1.0, \"is_null_level\": false, \"bayes_factor\": 85.50854463805632, \"log2_bayes_factor\": 6.417996686710603, \"comparison_vector_value\": 3, \"max_comparison_vector_value\": 3, \"bayes_factor_description\": \"If comparison level is `exact match on first_name` then comparison is 85.51 times more likely to be a match\", \"probability_two_random_records_match\": 0.0033319033319033323, \"comparison_sort_order\": 0}, {\"comparison_name\": \"first_name\", \"sql_condition\": \"jaro_winkler_similarity(\\\"first_name_l\\\", \\\"first_name_r\\\") >= 0.9\", \"label_for_charts\": \"Jaro-Winkler distance of first_name >= 0.9\", \"m_probability\": 0.19815994338287332, \"u_probability\": 0.003386832528670639, \"m_probability_description\": \"Amongst matching record comparisons, 19.82% of records are in the jaro-winkler distance of first_name >= 0.9 comparison level\", \"u_probability_description\": \"Amongst non-matching record comparisons, 0.34% of records are in the jaro-winkler distance of first_name >= 0.9 comparison level\", \"has_tf_adjustments\": false, \"tf_adjustment_column\": null, \"tf_adjustment_weight\": 1.0, \"is_null_level\": false, \"bayes_factor\": 58.5089288311084, \"log2_bayes_factor\": 5.870584900735642, \"comparison_vector_value\": 2, \"max_comparison_vector_value\": 3, \"bayes_factor_description\": \"If comparison level is `jaro-winkler distance of first_name >= 0.9` then comparison is 58.51 times more likely to be a match\", \"probability_two_random_records_match\": 0.0033319033319033323, \"comparison_sort_order\": 0}, {\"comparison_name\": \"first_name\", \"sql_condition\": \"jaro_winkler_similarity(\\\"first_name_l\\\", \\\"first_name_r\\\") >= 0.8\", \"label_for_charts\": \"Jaro-Winkler distance of first_name >= 0.8\", \"m_probability\": 0.07501769285208776, \"u_probability\": 0.005935655981326026, \"m_probability_description\": \"Amongst matching record comparisons, 7.50% of records are in the jaro-winkler distance of first_name >= 0.8 comparison level\", \"u_probability_description\": \"Amongst non-matching record comparisons, 0.59% of records are in the jaro-winkler distance of first_name >= 0.8 comparison level\", \"has_tf_adjustments\": false, \"tf_adjustment_column\": null, \"tf_adjustment_weight\": 1.0, \"is_null_level\": false, \"bayes_factor\": 12.638483949895088, \"log2_bayes_factor\": 3.659751510210481, \"comparison_vector_value\": 1, \"max_comparison_vector_value\": 3, \"bayes_factor_description\": \"If comparison level is `jaro-winkler distance of first_name >= 0.8` then comparison is 12.64 times more likely to be a match\", \"probability_two_random_records_match\": 0.0033319033319033323, \"comparison_sort_order\": 0}, {\"comparison_name\": \"first_name\", \"sql_condition\": \"ELSE\", \"label_for_charts\": \"All other comparisons\", \"m_probability\": 0.23142250530785563, \"u_probability\": 0.9848839400924999, \"m_probability_description\": \"Amongst matching record comparisons, 23.14% of records are in the all other comparisons comparison level\", \"u_probability_description\": \"Amongst non-matching record comparisons, 98.49% of records are in the all other comparisons comparison level\", \"has_tf_adjustments\": false, \"tf_adjustment_column\": null, \"tf_adjustment_weight\": 1.0, \"is_null_level\": false, \"bayes_factor\": 0.23497439229856923, \"log2_bayes_factor\": -2.089424555615764, \"comparison_vector_value\": 0, \"max_comparison_vector_value\": 3, \"bayes_factor_description\": \"If comparison level is `all other comparisons` then comparison is  4.26 times less likely to be a match\", \"probability_two_random_records_match\": 0.0033319033319033323, \"comparison_sort_order\": 0}, {\"comparison_name\": \"surname\", \"sql_condition\": \"\\\"surname_l\\\" = \\\"surname_r\\\"\", \"label_for_charts\": \"Exact match on surname\", \"m_probability\": 0.5416202293421356, \"u_probability\": 0.004889975550122249, \"m_probability_description\": \"Amongst matching record comparisons, 54.16% of records are in the exact match on surname comparison level\", \"u_probability_description\": \"Amongst non-matching record comparisons, 0.49% of records are in the exact match on surname comparison level\", \"has_tf_adjustments\": false, \"tf_adjustment_column\": null, \"tf_adjustment_weight\": 1.0, \"is_null_level\": false, \"bayes_factor\": 110.76133690046673, \"log2_bayes_factor\": 6.791310562171417, \"comparison_vector_value\": 3, \"max_comparison_vector_value\": 3, \"bayes_factor_description\": \"If comparison level is `exact match on surname` then comparison is 110.76 times more likely to be a match\", \"probability_two_random_records_match\": 0.0033319033319033323, \"comparison_sort_order\": 1}, {\"comparison_name\": \"surname\", \"sql_condition\": \"jaro_winkler_similarity(\\\"surname_l\\\", \\\"surname_r\\\") >= 0.9\", \"label_for_charts\": \"Jaro-Winkler distance of surname >= 0.9\", \"m_probability\": 0.2504609028303258, \"u_probability\": 0.0034032796868982687, \"m_probability_description\": \"Amongst matching record comparisons, 25.05% of records are in the jaro-winkler distance of surname >= 0.9 comparison level\", \"u_probability_description\": \"Amongst non-matching record comparisons, 0.34% of records are in the jaro-winkler distance of surname >= 0.9 comparison level\", \"has_tf_adjustments\": false, \"tf_adjustment_column\": null, \"tf_adjustment_weight\": 1.0, \"is_null_level\": false, \"bayes_factor\": 73.59398165085707, \"log2_bayes_factor\": 6.2015158856604575, \"comparison_vector_value\": 2, \"max_comparison_vector_value\": 3, \"bayes_factor_description\": \"If comparison level is `jaro-winkler distance of surname >= 0.9` then comparison is 73.59 times more likely to be a match\", \"probability_two_random_records_match\": 0.0033319033319033323, \"comparison_sort_order\": 1}, {\"comparison_name\": \"surname\", \"sql_condition\": \"jaro_winkler_similarity(\\\"surname_l\\\", \\\"surname_r\\\") >= 0.8\", \"label_for_charts\": \"Jaro-Winkler distance of surname >= 0.8\", \"m_probability\": 0.06133885660976515, \"u_probability\": 0.0039048156407569612, \"m_probability_description\": \"Amongst matching record comparisons, 6.13% of records are in the jaro-winkler distance of surname >= 0.8 comparison level\", \"u_probability_description\": \"Amongst non-matching record comparisons, 0.39% of records are in the jaro-winkler distance of surname >= 0.8 comparison level\", \"has_tf_adjustments\": false, \"tf_adjustment_column\": null, \"tf_adjustment_weight\": 1.0, \"is_null_level\": false, \"bayes_factor\": 15.708515395588412, \"log2_bayes_factor\": 3.973474933531513, \"comparison_vector_value\": 1, \"max_comparison_vector_value\": 3, \"bayes_factor_description\": \"If comparison level is `jaro-winkler distance of surname >= 0.8` then comparison is 15.71 times more likely to be a match\", \"probability_two_random_records_match\": 0.0033319033319033323, \"comparison_sort_order\": 1}, {\"comparison_name\": \"surname\", \"sql_condition\": \"ELSE\", \"label_for_charts\": \"All other comparisons\", \"m_probability\": 0.14658001121777348, \"u_probability\": 0.9878019291222225, \"m_probability_description\": \"Amongst matching record comparisons, 14.66% of records are in the all other comparisons comparison level\", \"u_probability_description\": \"Amongst non-matching record comparisons, 98.78% of records are in the all other comparisons comparison level\", \"has_tf_adjustments\": false, \"tf_adjustment_column\": null, \"tf_adjustment_weight\": 1.0, \"is_null_level\": false, \"bayes_factor\": 0.14839008397971742, \"log2_bayes_factor\": -2.7525334063738054, \"comparison_vector_value\": 0, \"max_comparison_vector_value\": 3, \"bayes_factor_description\": \"If comparison level is `all other comparisons` then comparison is  6.74 times less likely to be a match\", \"probability_two_random_records_match\": 0.0033319033319033323, \"comparison_sort_order\": 1}, {\"comparison_name\": \"dob\", \"sql_condition\": \"\\\"dob_l\\\" = \\\"dob_r\\\"\", \"label_for_charts\": \"Exact match on dob\", \"m_probability\": 0.20747309553769971, \"u_probability\": 0.0008738738738738739, \"m_probability_description\": \"Amongst matching record comparisons, 20.75% of records are in the exact match on dob comparison level\", \"u_probability_description\": \"Amongst non-matching record comparisons, 0.09% of records are in the exact match on dob comparison level\", \"has_tf_adjustments\": false, \"tf_adjustment_column\": null, \"tf_adjustment_weight\": 1.0, \"is_null_level\": false, \"bayes_factor\": 237.41766602767697, \"log2_bayes_factor\": 7.891283478344594, \"comparison_vector_value\": 5, \"max_comparison_vector_value\": 5, \"bayes_factor_description\": \"If comparison level is `exact match on dob` then comparison is 237.42 times more likely to be a match\", \"probability_two_random_records_match\": 0.0033319033319033323, \"comparison_sort_order\": 2}, {\"comparison_name\": \"dob\", \"sql_condition\": \"damerau_levenshtein(\\\"dob_l\\\", \\\"dob_r\\\") <= 1\", \"label_for_charts\": \"Damerau-Levenshtein distance of dob <= 1\", \"m_probability\": 0.05556473213506177, \"u_probability\": 0.0008218218218218218, \"m_probability_description\": \"Amongst matching record comparisons, 5.56% of records are in the damerau-levenshtein distance of dob <= 1 comparison level\", \"u_probability_description\": \"Amongst non-matching record comparisons, 0.08% of records are in the damerau-levenshtein distance of dob <= 1 comparison level\", \"has_tf_adjustments\": false, \"tf_adjustment_column\": null, \"tf_adjustment_weight\": 1.0, \"is_null_level\": false, \"bayes_factor\": 67.61165335313851, \"log2_bayes_factor\": 6.0792000216587985, \"comparison_vector_value\": 4, \"max_comparison_vector_value\": 5, \"bayes_factor_description\": \"If comparison level is `damerau-levenshtein distance of dob <= 1` then comparison is 67.61 times more likely to be a match\", \"probability_two_random_records_match\": 0.0033319033319033323, \"comparison_sort_order\": 2}, {\"comparison_name\": \"dob\", \"sql_condition\": \"ABS(EPOCH(try_strptime(\\\"dob_l\\\", '%Y-%m-%d')) - EPOCH(try_strptime(\\\"dob_r\\\", '%Y-%m-%d'))) <= 2629800.0\", \"label_for_charts\": \"Abs difference of 'transformed dob <= 1 month'\", \"m_probability\": 0.04149483636724659, \"u_probability\": 0.0012042042042042043, \"m_probability_description\": \"Amongst matching record comparisons, 4.15% of records are in the abs difference of 'transformed dob <= 1 month' comparison level\", \"u_probability_description\": \"Amongst non-matching record comparisons, 0.12% of records are in the abs difference of 'transformed dob <= 1 month' comparison level\", \"has_tf_adjustments\": false, \"tf_adjustment_column\": null, \"tf_adjustment_weight\": 1.0, \"is_null_level\": false, \"bayes_factor\": 34.4583055119529, \"log2_bayes_factor\": 5.106779853629307, \"comparison_vector_value\": 3, \"max_comparison_vector_value\": 5, \"bayes_factor_description\": \"If comparison level is `abs difference of 'transformed dob <= 1 month'` then comparison is 34.46 times more likely to be a match\", \"probability_two_random_records_match\": 0.0033319033319033323, \"comparison_sort_order\": 2}, {\"comparison_name\": \"dob\", \"sql_condition\": \"ABS(EPOCH(try_strptime(\\\"dob_l\\\", '%Y-%m-%d')) - EPOCH(try_strptime(\\\"dob_r\\\", '%Y-%m-%d'))) <= 31557600.0\", \"label_for_charts\": \"Abs difference of 'transformed dob <= 1 year'\", \"m_probability\": 0.07266649019016899, \"u_probability\": 0.016526526526526527, \"m_probability_description\": \"Amongst matching record comparisons, 7.27% of records are in the abs difference of 'transformed dob <= 1 year' comparison level\", \"u_probability_description\": \"Amongst non-matching record comparisons, 1.65% of records are in the abs difference of 'transformed dob <= 1 year' comparison level\", \"has_tf_adjustments\": false, \"tf_adjustment_column\": null, \"tf_adjustment_weight\": 1.0, \"is_null_level\": false, \"bayes_factor\": 4.396960854026579, \"log2_bayes_factor\": 2.1365066883492583, \"comparison_vector_value\": 2, \"max_comparison_vector_value\": 5, \"bayes_factor_description\": \"If comparison level is `abs difference of 'transformed dob <= 1 year'` then comparison is 4.40 times more likely to be a match\", \"probability_two_random_records_match\": 0.0033319033319033323, \"comparison_sort_order\": 2}, {\"comparison_name\": \"dob\", \"sql_condition\": \"ABS(EPOCH(try_strptime(\\\"dob_l\\\", '%Y-%m-%d')) - EPOCH(try_strptime(\\\"dob_r\\\", '%Y-%m-%d'))) <= 315576000.0\", \"label_for_charts\": \"Abs difference of 'transformed dob <= 10 year'\", \"m_probability\": 0.10711873706101245, \"u_probability\": 0.15373973973973973, \"m_probability_description\": \"Amongst matching record comparisons, 10.71% of records are in the abs difference of 'transformed dob <= 10 year' comparison level\", \"u_probability_description\": \"Amongst non-matching record comparisons, 15.37% of records are in the abs difference of 'transformed dob <= 10 year' comparison level\", \"has_tf_adjustments\": false, \"tf_adjustment_column\": null, \"tf_adjustment_weight\": 1.0, \"is_null_level\": false, \"bayes_factor\": 0.6967537296625438, \"log2_bayes_factor\": -0.5212792749156447, \"comparison_vector_value\": 1, \"max_comparison_vector_value\": 5, \"bayes_factor_description\": \"If comparison level is `abs difference of 'transformed dob <= 10 year'` then comparison is  1.44 times less likely to be a match\", \"probability_two_random_records_match\": 0.0033319033319033323, \"comparison_sort_order\": 2}, {\"comparison_name\": \"dob\", \"sql_condition\": \"ELSE\", \"label_for_charts\": \"All other comparisons\", \"m_probability\": 0.014694496367473091, \"u_probability\": 0.32683383383383385, \"m_probability_description\": \"Amongst matching record comparisons, 1.47% of records are in the all other comparisons comparison level\", \"u_probability_description\": \"Amongst non-matching record comparisons, 32.68% of records are in the all other comparisons comparison level\", \"has_tf_adjustments\": false, \"tf_adjustment_column\": null, \"tf_adjustment_weight\": 1.0, \"is_null_level\": false, \"bayes_factor\": 0.04496014441070365, \"log2_bayes_factor\": -4.475209520313052, \"comparison_vector_value\": 0, \"max_comparison_vector_value\": 5, \"bayes_factor_description\": \"If comparison level is `all other comparisons` then comparison is  22.24 times less likely to be a match\", \"probability_two_random_records_match\": 0.0033319033319033323, \"comparison_sort_order\": 2}, {\"comparison_name\": \"dob\", \"sql_condition\": \"\\\"dob_l\\\" = \\\"dob_r\\\"\", \"label_for_charts\": \"Exact match on dob\", \"m_probability\": 0.05711472181191531, \"u_probability\": 0.016526526526526527, \"m_probability_description\": \"Amongst matching record comparisons, 5.71% of records are in the exact match on dob comparison level\", \"u_probability_description\": \"Amongst non-matching record comparisons, 1.65% of records are in the exact match on dob comparison level\", \"has_tf_adjustments\": false, \"tf_adjustment_column\": null, \"tf_adjustment_weight\": 1.0, \"is_null_level\": false, \"bayes_factor\": 3.455942282865136, \"log2_bayes_factor\": 1.789079123485304, \"comparison_vector_value\": 2, \"max_comparison_vector_value\": 2, \"bayes_factor_description\": \"If comparison level is `exact match on dob` then comparison is 3.46 times more likely to be a match\", \"probability_two_random_records_match\": 0.0033319033319033323, \"comparison_sort_order\": 3}, {\"comparison_name\": \"dob\", \"sql_condition\": \"levenshtein(\\\"dob_l\\\", \\\"dob_r\\\") <= 2\", \"label_for_charts\": \"Levenshtein distance of dob <= 2\", \"m_probability\": 0.11915312653865091, \"u_probability\": 0.15373973973973973, \"m_probability_description\": \"Amongst matching record comparisons, 11.92% of records are in the levenshtein distance of dob <= 2 comparison level\", \"u_probability_description\": \"Amongst non-matching record comparisons, 15.37% of records are in the levenshtein distance of dob <= 2 comparison level\", \"has_tf_adjustments\": false, \"tf_adjustment_column\": null, \"tf_adjustment_weight\": 1.0, \"is_null_level\": false, \"bayes_factor\": 0.7750314052850669, \"log2_bayes_factor\": -0.36767332342818193, \"comparison_vector_value\": 1, \"max_comparison_vector_value\": 2, \"bayes_factor_description\": \"If comparison level is `levenshtein distance of dob <= 2` then comparison is  1.29 times less likely to be a match\", \"probability_two_random_records_match\": 0.0033319033319033323, \"comparison_sort_order\": 3}, {\"comparison_name\": \"dob\", \"sql_condition\": \"ELSE\", \"label_for_charts\": \"All other comparisons\", \"m_probability\": 0.02018709995076317, \"u_probability\": 0.32683383383383385, \"m_probability_description\": \"Amongst matching record comparisons, 2.02% of records are in the all other comparisons comparison level\", \"u_probability_description\": \"Amongst non-matching record comparisons, 32.68% of records are in the all other comparisons comparison level\", \"has_tf_adjustments\": false, \"tf_adjustment_column\": null, \"tf_adjustment_weight\": 1.0, \"is_null_level\": false, \"bayes_factor\": 0.06176563703324096, \"log2_bayes_factor\": -4.017051763775207, \"comparison_vector_value\": 0, \"max_comparison_vector_value\": 2, \"bayes_factor_description\": \"If comparison level is `all other comparisons` then comparison is  16.19 times less likely to be a match\", \"probability_two_random_records_match\": 0.0033319033319033323, \"comparison_sort_order\": 3}, {\"comparison_name\": \"city\", \"sql_condition\": \"\\\"city_l\\\" = \\\"city_r\\\"\", \"label_for_charts\": \"Exact match on city\", \"m_probability\": 0.5675470861126182, \"u_probability\": 0.0551475711801453, \"m_probability_description\": \"Amongst matching record comparisons, 56.75% of records are in the exact match on city comparison level\", \"u_probability_description\": \"Amongst non-matching record comparisons, 5.51% of records are in the exact match on city comparison level\", \"has_tf_adjustments\": true, \"tf_adjustment_column\": \"city\", \"tf_adjustment_weight\": 1.0, \"is_null_level\": false, \"bayes_factor\": 10.29142487995829, \"log2_bayes_factor\": 3.3633708365882757, \"comparison_vector_value\": 1, \"max_comparison_vector_value\": 1, \"bayes_factor_description\": \"If comparison level is `exact match on city` then comparison is 10.29 times more likely to be a match\", \"probability_two_random_records_match\": 0.0033319033319033323, \"comparison_sort_order\": 4}, {\"comparison_name\": \"city\", \"sql_condition\": \"ELSE\", \"label_for_charts\": \"All other comparisons\", \"m_probability\": 0.4324529138873818, \"u_probability\": 0.9448524288198547, \"m_probability_description\": \"Amongst matching record comparisons, 43.25% of records are in the all other comparisons comparison level\", \"u_probability_description\": \"Amongst non-matching record comparisons, 94.49% of records are in the all other comparisons comparison level\", \"has_tf_adjustments\": false, \"tf_adjustment_column\": null, \"tf_adjustment_weight\": 1.0, \"is_null_level\": false, \"bayes_factor\": 0.4576936045214243, \"log2_bayes_factor\": -1.1275459619824095, \"comparison_vector_value\": 0, \"max_comparison_vector_value\": 1, \"bayes_factor_description\": \"If comparison level is `all other comparisons` then comparison is  2.18 times less likely to be a match\", \"probability_two_random_records_match\": 0.0033319033319033323, \"comparison_sort_order\": 4}, {\"comparison_name\": \"email\", \"sql_condition\": \"\\\"email_l\\\" = \\\"email_r\\\"\", \"label_for_charts\": \"Exact match on email\", \"m_probability\": 0.5613203562397083, \"u_probability\": 0.0021938713143283602, \"m_probability_description\": \"Amongst matching record comparisons, 56.13% of records are in the exact match on email comparison level\", \"u_probability_description\": \"Amongst non-matching record comparisons, 0.22% of records are in the exact match on email comparison level\", \"has_tf_adjustments\": false, \"tf_adjustment_column\": null, \"tf_adjustment_weight\": 1.0, \"is_null_level\": false, \"bayes_factor\": 255.85837809796652, \"log2_bayes_factor\": 7.999201665031965, \"comparison_vector_value\": 3, \"max_comparison_vector_value\": 3, \"bayes_factor_description\": \"If comparison level is `exact match on email` then comparison is 255.86 times more likely to be a match\", \"probability_two_random_records_match\": 0.0033319033319033323, \"comparison_sort_order\": 5}, {\"comparison_name\": \"email\", \"sql_condition\": \"NULLIF(regexp_extract(\\\"email_l\\\", '^[^@]+', 0), '') = NULLIF(regexp_extract(\\\"email_r\\\", '^[^@]+', 0), '')\", \"label_for_charts\": \"Exact match on transformed email\", \"m_probability\": 0.22410525083534227, \"u_probability\": 0.0010390328952024346, \"m_probability_description\": \"Amongst matching record comparisons, 22.41% of records are in the exact match on transformed email comparison level\", \"u_probability_description\": \"Amongst non-matching record comparisons, 0.10% of records are in the exact match on transformed email comparison level\", \"has_tf_adjustments\": false, \"tf_adjustment_column\": null, \"tf_adjustment_weight\": 1.0, \"is_null_level\": false, \"bayes_factor\": 215.6863867064381, \"log2_bayes_factor\": 7.75279131179514, \"comparison_vector_value\": 2, \"max_comparison_vector_value\": 3, \"bayes_factor_description\": \"If comparison level is `exact match on transformed email` then comparison is 215.69 times more likely to be a match\", \"probability_two_random_records_match\": 0.0033319033319033323, \"comparison_sort_order\": 5}, {\"comparison_name\": \"email\", \"sql_condition\": \"jaro_winkler_similarity(\\\"email_l\\\", \\\"email_r\\\") >= 0.88\", \"label_for_charts\": \"Jaro-Winkler distance of email >= 0.88\", \"m_probability\": 0.2040035535723339, \"u_probability\": 0.0009135769109519858, \"m_probability_description\": \"Amongst matching record comparisons, 20.40% of records are in the jaro-winkler distance of email >= 0.88 comparison level\", \"u_probability_description\": \"Amongst non-matching record comparisons, 0.09% of records are in the jaro-winkler distance of email >= 0.88 comparison level\", \"has_tf_adjustments\": false, \"tf_adjustment_column\": null, \"tf_adjustment_weight\": 1.0, \"is_null_level\": false, \"bayes_factor\": 223.302002411328, \"log2_bayes_factor\": 7.802852378041874, \"comparison_vector_value\": 1, \"max_comparison_vector_value\": 3, \"bayes_factor_description\": \"If comparison level is `jaro-winkler distance of email >= 0.88` then comparison is 223.30 times more likely to be a match\", \"probability_two_random_records_match\": 0.0033319033319033323, \"comparison_sort_order\": 5}, {\"comparison_name\": \"email\", \"sql_condition\": \"ELSE\", \"label_for_charts\": \"All other comparisons\", \"m_probability\": 0.010570839352615479, \"u_probability\": 0.9958535188795172, \"m_probability_description\": \"Amongst matching record comparisons, 1.06% of records are in the all other comparisons comparison level\", \"u_probability_description\": \"Amongst non-matching record comparisons, 99.59% of records are in the all other comparisons comparison level\", \"has_tf_adjustments\": false, \"tf_adjustment_column\": null, \"tf_adjustment_weight\": 1.0, \"is_null_level\": false, \"bayes_factor\": 0.010614853642842212, \"log2_bayes_factor\": -6.557771710213148, \"comparison_vector_value\": 0, \"max_comparison_vector_value\": 3, \"bayes_factor_description\": \"If comparison level is `all other comparisons` then comparison is  94.21 times less likely to be a match\", \"probability_two_random_records_match\": 0.0033319033319033323, \"comparison_sort_order\": 5}]}}, {\"mode\": \"vega-lite\"});\n",
       "</script>"
      ],
      "text/plain": [
       "alt.VConcatChart(...)"
      ]
     },
     "execution_count": 10,
     "metadata": {},
     "output_type": "execute_result"
    }
   ],
   "source": [
    "linker.match_weights_chart()"
   ]
  },
  {
   "cell_type": "code",
   "execution_count": null,
   "metadata": {},
   "outputs": [],
   "source": []
  },
  {
   "cell_type": "code",
   "execution_count": null,
   "metadata": {},
   "outputs": [],
   "source": []
  }
 ],
 "metadata": {
  "kernelspec": {
   "display_name": "Python 3 (ipykernel)",
   "language": "python",
   "name": "python3"
  },
  "language_info": {
   "codemirror_mode": {
    "name": "ipython",
    "version": 3
   },
   "file_extension": ".py",
   "mimetype": "text/x-python",
   "name": "python",
   "nbconvert_exporter": "python",
   "pygments_lexer": "ipython3",
   "version": "3.10.8"
  },
  "widgets": {
   "application/vnd.jupyter.widget-state+json": {
    "state": {
     "54186cece08b4f6fa03f33cc282f36a6": {
      "model_module": "@jupyter-widgets/controls",
      "model_module_version": "2.0.0",
      "model_name": "FloatProgressModel",
      "state": {
       "_dom_classes": [],
       "_model_module": "@jupyter-widgets/controls",
       "_model_module_version": "2.0.0",
       "_model_name": "FloatProgressModel",
       "_view_count": null,
       "_view_module": "@jupyter-widgets/controls",
       "_view_module_version": "2.0.0",
       "_view_name": "ProgressView",
       "bar_style": "",
       "description": "",
       "description_allow_html": false,
       "layout": "IPY_MODEL_8863bef4905c44fc9705add5d5165a71",
       "max": 100.0,
       "min": 0.0,
       "orientation": "horizontal",
       "style": "IPY_MODEL_ce7ee37dfbeb4d26ae9171f7f3b857e7",
       "tabbable": null,
       "tooltip": null,
       "value": 100.0
      }
     },
     "8863bef4905c44fc9705add5d5165a71": {
      "model_module": "@jupyter-widgets/base",
      "model_module_version": "2.0.0",
      "model_name": "LayoutModel",
      "state": {
       "_model_module": "@jupyter-widgets/base",
       "_model_module_version": "2.0.0",
       "_model_name": "LayoutModel",
       "_view_count": null,
       "_view_module": "@jupyter-widgets/base",
       "_view_module_version": "2.0.0",
       "_view_name": "LayoutView",
       "align_content": null,
       "align_items": null,
       "align_self": null,
       "border_bottom": null,
       "border_left": null,
       "border_right": null,
       "border_top": null,
       "bottom": null,
       "display": null,
       "flex": null,
       "flex_flow": null,
       "grid_area": null,
       "grid_auto_columns": null,
       "grid_auto_flow": null,
       "grid_auto_rows": null,
       "grid_column": null,
       "grid_gap": null,
       "grid_row": null,
       "grid_template_areas": null,
       "grid_template_columns": null,
       "grid_template_rows": null,
       "height": null,
       "justify_content": null,
       "justify_items": null,
       "left": null,
       "margin": null,
       "max_height": null,
       "max_width": null,
       "min_height": null,
       "min_width": null,
       "object_fit": null,
       "object_position": null,
       "order": null,
       "overflow": null,
       "padding": null,
       "right": null,
       "top": null,
       "visibility": null,
       "width": "auto"
      }
     },
     "ce7ee37dfbeb4d26ae9171f7f3b857e7": {
      "model_module": "@jupyter-widgets/controls",
      "model_module_version": "2.0.0",
      "model_name": "ProgressStyleModel",
      "state": {
       "_model_module": "@jupyter-widgets/controls",
       "_model_module_version": "2.0.0",
       "_model_name": "ProgressStyleModel",
       "_view_count": null,
       "_view_module": "@jupyter-widgets/base",
       "_view_module_version": "2.0.0",
       "_view_name": "StyleView",
       "bar_color": "black",
       "description_width": ""
      }
     }
    },
    "version_major": 2,
    "version_minor": 0
   }
  }
 },
 "nbformat": 4,
 "nbformat_minor": 4
}
