{
 "cells": [
  {
   "cell_type": "markdown",
   "id": "d729e302",
   "metadata": {},
   "source": [
    "# Specifying and estimating a linkage model\n",
    "\n",
    "<a target=\"_blank\" href=\"https://colab.research.google.com/github/moj-analytical-services/splink/blob/splink4_dev/docs/demos/tutorials/04_Estimating_model_parameters.ipynb\">\n",
    "  <img src=\"https://colab.research.google.com/assets/colab-badge.svg\" alt=\"Open In Colab\"/>\n",
    "</a>\n",
    "\n",
    "In the last tutorial we looked at how we can use blocking rules to generate pairwise record comparisons.\n",
    "\n",
    "Now it's time to estimate a probabilistic linkage model to score each of these comparisons. The resultant match score is a prediction of whether the two records represent the same entity (e.g. are the same person).\n",
    "\n",
    "The purpose of estimating the model is to learn the relative importance of different parts of your data for the purpose of data linking.\n",
    "\n",
    "For example, a match on date of birth is a much stronger indicator that two records refer to the same entity than a match on gender. A mismatch on gender may be a stronger indicate against two records referring than a mismatch on name, since names are more likely to be entered differently.\n",
    "\n",
    "The relative importance of different information is captured in the (partial) 'match weights', which can be learned from your data. These match weights are then added up to compute the overall match score.\n",
    "\n",
    "The match weights are are derived from the `m` and `u` parameters of the underlying Fellegi Sunter model. Splink uses various statistical routines to estimate these parameters. Further details of the underlying theory can be found [here](https://www.robinlinacre.com/intro_to_probabilistic_linkage/), which will help you understand this part of the tutorial.\n"
   ]
  },
  {
   "cell_type": "markdown",
   "id": "0f104340",
   "metadata": {},
   "source": [
    "## Specifying a linkage model\n",
    "\n",
    "To build a linkage model, the user defines the partial match weights that `splink` needs to estimate. This is done by defining how the information in the input records should be compared.\n",
    "\n",
    "To be concrete, here is an example comparison:\n",
    "\n",
    "| first_name_l | first_name_r | surname_l | surname_r | dob_l      | dob_r      | city_l | city_r | email_l             | email_r             |\n",
    "| ------------ | ------------ | --------- | --------- | ---------- | ---------- | ------ | ------ | ------------------- | ------------------- |\n",
    "| Robert       | Rob          | Allen     | Allen     | 1971-05-24 | 1971-06-24 | nan    | London | roberta25@smith.net | roberta25@smith.net |\n",
    "\n",
    "What functions should we use to assess the similarity of `Rob` vs. `Robert` in the the `first_name` field?\n",
    "\n",
    "Should similarity in the `dob` field be computed in the same way, or a different way?\n",
    "\n",
    "Your job as the developer of a linkage model is to decide what comparisons are most appropriate for the types of data you have.\n",
    "\n",
    "Splink can then estimate how much weight to place on a fuzzy match of `Rob` vs. `Robert`, relative to an exact match on `Robert`, or a non-match.\n",
    "\n",
    "Defining these scenarios is done using `Comparison`s.\n"
   ]
  },
  {
   "cell_type": "markdown",
   "id": "8a520392",
   "metadata": {},
   "source": [
    "### Comparisons\n",
    "\n",
    "The concept of a `Comparison` has a specific definition within Splink: it defines how data from one or more input columns is compared.\n",
    "\n",
    "For example, one `Comparison` may represent how similarity is assessed for a person's date of birth.\n",
    "\n",
    "Another `Comparison` may represent the comparison of a person's name or location.\n",
    "\n",
    "A model is composed of many `Comparison`s, which between them assess the similarity of all of the columns being used for data linking.\n",
    "\n",
    "Each `Comparison` contains two or more `ComparisonLevels` which define _n_ discrete gradations of similarity between the input columns within the Comparison.\n",
    "\n",
    "As such `ComparisonLevels`are nested within `Comparisons` as follows:\n",
    "\n",
    "```\n",
    "Data Linking Model\n",
    "├─-- Comparison: Date of birth\n",
    "│    ├─-- ComparisonLevel: Exact match\n",
    "│    ├─-- ComparisonLevel: One character difference\n",
    "│    ├─-- ComparisonLevel: All other\n",
    "├─-- Comparison: Surname\n",
    "│    ├─-- ComparisonLevel: Exact match on surname\n",
    "│    ├─-- ComparisonLevel: All other\n",
    "│    etc.\n",
    "```\n",
    "\n",
    "Our example data would therefore result in the following comparisons, for `dob` and `surname`:\n",
    "\n",
    "| dob_l      | dob_r      | comparison_level         | interpretation |\n",
    "| ---------- | ---------- | ------------------------ | -------------- |\n",
    "| 1971-05-24 | 1971-05-24 | Exact match              | great match    |\n",
    "| 1971-05-24 | 1971-06-24 | One character difference | fuzzy match    |\n",
    "| 1971-05-24 | 2000-01-02 | All other                | bad match      |\n",
    "\n",
    "| surname_l | surname_r | comparison_level | interpretation                                        |\n",
    "| --------- | --------- | ---------------- | ----------------------------------------------------- |\n",
    "| Rob       | Rob       | Exact match      | great match                                           |\n",
    "| Rob       | Jane      | All other        | bad match                                             |\n",
    "| Rob       | Robert    | All other        | bad match, this comparison has no notion of nicknames |\n",
    "\n",
    "More information about comparisons can be found [here](https://moj-analytical-services.github.io/splink/comparison.html).\n",
    "\n",
    "We will now use these concepts to build a data linking model.\n"
   ]
  },
  {
   "cell_type": "code",
   "execution_count": 1,
   "id": "9ceef6f1",
   "metadata": {
    "execution": {
     "iopub.execute_input": "2024-03-13T11:57:12.729823Z",
     "iopub.status.busy": "2024-03-13T11:57:12.729491Z",
     "iopub.status.idle": "2024-03-13T11:57:12.740371Z",
     "shell.execute_reply": "2024-03-13T11:57:12.739568Z"
    }
   },
   "outputs": [],
   "source": [
    "# Uncomment and run this cell if you're running in Google Colab.\n",
    "# !pip install git+https://github.com/moj-analytical-services/splink.git@splink4_dev"
   ]
  },
  {
   "cell_type": "code",
   "execution_count": 2,
   "id": "aa6a9e30",
   "metadata": {
    "execution": {
     "iopub.execute_input": "2024-03-13T11:57:12.744306Z",
     "iopub.status.busy": "2024-03-13T11:57:12.743998Z",
     "iopub.status.idle": "2024-03-13T11:57:16.300298Z",
     "shell.execute_reply": "2024-03-13T11:57:16.299600Z"
    },
    "tags": []
   },
   "outputs": [],
   "source": [
    "# Begin by reading in the tutorial data again\n",
    "from splink import DuckDBAPI, splink_datasets\n",
    "\n",
    "df = splink_datasets.fake_1000"
   ]
  },
  {
   "cell_type": "markdown",
   "id": "02000a24",
   "metadata": {},
   "source": [
    "### Specifying the model using comparisons\n",
    "\n",
    "Splink includes libraries of comparison functions to make it simple to get started. These are split into two categories:\n",
    "\n",
    "1. `Comparison` functions which apply a particular fuzzy matching function. For example, levenshtein distance.\n"
   ]
  },
  {
   "cell_type": "code",
   "execution_count": 3,
   "id": "4b7159fb",
   "metadata": {
    "execution": {
     "iopub.execute_input": "2024-03-13T11:57:16.304485Z",
     "iopub.status.busy": "2024-03-13T11:57:16.304094Z",
     "iopub.status.idle": "2024-03-13T11:57:16.319741Z",
     "shell.execute_reply": "2024-03-13T11:57:16.318967Z"
    },
    "tags": []
   },
   "outputs": [
    {
     "name": "stdout",
     "output_type": "stream",
     "text": [
      "Comparison 'Exact match 'email' vs. Levenshtein distance at thresholds 2 vs. anything else' of \"email\".\n",
      "Similarity is assessed using the following ComparisonLevels:\n",
      "    - 'email is NULL' with SQL rule: \"email_l\" IS NULL OR \"email_r\" IS NULL\n",
      "    - 'Exact match on email' with SQL rule: \"email_l\" = \"email_r\"\n",
      "    - 'Levenshtein distance of email <= 2' with SQL rule: levenshtein(\"email_l\", \"email_r\") <= 2\n",
      "    - 'All other comparisons' with SQL rule: ELSE\n",
      "\n"
     ]
    }
   ],
   "source": [
    "import splink.comparison_library as cl\n",
    "\n",
    "email_comparison = cl.LevenshteinAtThresholds(\"email\", 2)\n",
    "print(email_comparison.get_comparison(\"duckdb\").human_readable_description)"
   ]
  },
  {
   "cell_type": "markdown",
   "id": "f0a6cc8b",
   "metadata": {},
   "source": [
    "2. `Comparison Template` functions which have been created for specific data types. For example, names.\n"
   ]
  },
  {
   "cell_type": "code",
   "execution_count": 4,
   "id": "bd6143e7",
   "metadata": {
    "execution": {
     "iopub.execute_input": "2024-03-13T11:57:16.324968Z",
     "iopub.status.busy": "2024-03-13T11:57:16.324640Z",
     "iopub.status.idle": "2024-03-13T11:57:16.353785Z",
     "shell.execute_reply": "2024-03-13T11:57:16.353028Z"
    },
    "tags": []
   },
   "outputs": [
    {
     "name": "stdout",
     "output_type": "stream",
     "text": [
      "Comparison 'jaro_winkler at thresholds 0.9, 0.8 vs. anything else' of \"first_name\".\n",
      "Similarity is assessed using the following ComparisonLevels:\n",
      "    - 'first_name is NULL' with SQL rule: \"first_name_l\" IS NULL OR \"first_name_r\" IS NULL\n",
      "    - 'Exact match on first_name' with SQL rule: \"first_name_l\" = \"first_name_r\"\n",
      "    - 'Jaro-Winkler distance of first_name >= 0.9' with SQL rule: jaro_winkler_similarity(\"first_name_l\", \"first_name_r\") >= 0.9\n",
      "    - 'Jaro-Winkler distance of first_name >= 0.8' with SQL rule: jaro_winkler_similarity(\"first_name_l\", \"first_name_r\") >= 0.8\n",
      "    - 'All other comparisons' with SQL rule: ELSE\n",
      "\n"
     ]
    }
   ],
   "source": [
    "import splink.comparison_template_library as ctl\n",
    "\n",
    "first_name_comparison = ctl.NameComparison(\"first_name\")\n",
    "print(first_name_comparison.get_comparison(\"duckdb\").human_readable_description)"
   ]
  },
  {
   "cell_type": "markdown",
   "id": "47b7677a",
   "metadata": {},
   "source": [
    "## Specifying the full settings dictionary\n",
    "\n",
    "`Comparisons` are specified as part of the Splink `settings`, a Python dictionary which controls all of the configuration of a Splink model:\n"
   ]
  },
  {
   "cell_type": "code",
   "execution_count": 5,
   "id": "0fa0611a",
   "metadata": {
    "execution": {
     "iopub.execute_input": "2024-03-13T11:57:16.358021Z",
     "iopub.status.busy": "2024-03-13T11:57:16.357707Z",
     "iopub.status.idle": "2024-03-13T11:57:16.477646Z",
     "shell.execute_reply": "2024-03-13T11:57:16.476771Z"
    },
    "tags": []
   },
   "outputs": [],
   "source": [
    "from splink import SettingsCreator, block_on, Linker, DuckDBAPI\n",
    "\n",
    "settings = SettingsCreator(\n",
    "    link_type=\"dedupe_only\",\n",
    "    comparisons=[\n",
    "        ctl.NameComparison(\"first_name\"),\n",
    "        ctl.NameComparison(\"surname\"),\n",
    "        cl.LevenshteinAtThresholds(\"dob\", 1),\n",
    "        cl.ExactMatch(\"city\").configure(term_frequency_adjustments=True),\n",
    "        ctl.EmailComparison(\"email\", include_username_fuzzy_level=False),\n",
    "    ],\n",
    "    blocking_rules_to_generate_predictions=[\n",
    "        block_on(\"first_name\"),\n",
    "        block_on(\"surname\"),\n",
    "    ],\n",
    "    retain_intermediate_calculation_columns=True,\n",
    ")\n",
    "\n",
    "linker = Linker(df, settings, database_api=DuckDBAPI())"
   ]
  },
  {
   "cell_type": "markdown",
   "id": "657a1fb8",
   "metadata": {},
   "source": [
    "In words, this setting dictionary says:\n",
    "\n",
    "- We are performing a `dedupe_only` (the other options are `link_only`, or `link_and_dedupe`, which may be used if there are multiple input datasets).\n",
    "- When comparing records, we will use information from the `first_name`, `surname`, `dob`, `city` and `email` columns to compute a match score.\n",
    "- The `blocking_rules_to_generate_predictions` states that we will only check for duplicates amongst records where either the `first_name` or `surname` is identical.\n",
    "- We have enabled [term frequency adjustments](https://moj-analytical-services.github.io/splink/topic_guides/term-frequency.html) for the 'city' column, because some values (e.g. `London`) appear much more frequently than others.\n",
    "- We have set `retain_intermediate_calculation_columns` and `additional_columns_to_retain` to `True` so that Splink outputs additional information that helps the user understand the calculations. If they were `False`, the computations would run faster.\n"
   ]
  },
  {
   "cell_type": "markdown",
   "id": "afa31386",
   "metadata": {},
   "source": [
    "## Estimate the parameters of the model\n",
    "\n",
    "Now that we have specified our linkage model, we need to estimate the [`probability_two_random_records_match`](https://moj-analytical-services.github.io/splink/settings_dict_guide.html#probability_two_random_records_match), `u`, and `m` parameters.\n",
    "\n",
    "- The `probability_two_random_records_match` parameter is the probability that two records taken at random from your input data represent a match (typically a very small number).\n",
    "\n",
    "- The `u` values are the proportion of records falling into each `ComparisonLevel` amongst truly _non-matching_ records.\n",
    "\n",
    "- The `m` values are the proportion of records falling into each `ComparisonLevel` amongst truly _matching_ records\n",
    "\n",
    "You can read more about [the theory of what these mean](https://www.robinlinacre.com/m_and_u_values/).\n",
    "\n",
    "We can estimate these parameters using unlabeled data. If we have labels, then we can estimate them even more accurately.\n"
   ]
  },
  {
   "cell_type": "markdown",
   "id": "c2871ac6",
   "metadata": {},
   "source": [
    "### Estimation of `probability_two_random_records_match`\n",
    "\n",
    "In some cases, the `probability_two_random_records_match` will be known. For example, if you are linking two tables of 10,000 records and expect a one-to-one match, then you should set this value to `1/10_000` in your settings instead of estimating it.\n",
    "\n",
    "More generally, this parameter is unknown and needs to be estimated.\n",
    "\n",
    "It can be estimated accurately enough for most purposes by combining a series of deterministic matching rules and a guess of the recall corresponding to those rules. For further details of the rationale behind this appraoch see [here](https://github.com/moj-analytical-services/splink/issues/462#issuecomment-1227027995).\n",
    "\n",
    "In this example, I guess that the following deterministic matching rules have a recall of about 70%. That means, between them, the rules recover 70% of all true matches.\n"
   ]
  },
  {
   "cell_type": "code",
   "execution_count": 6,
   "id": "cbf92120",
   "metadata": {
    "execution": {
     "iopub.execute_input": "2024-03-13T11:57:16.482584Z",
     "iopub.status.busy": "2024-03-13T11:57:16.482116Z",
     "iopub.status.idle": "2024-03-13T11:57:16.619592Z",
     "shell.execute_reply": "2024-03-13T11:57:16.618764Z"
    },
    "tags": []
   },
   "outputs": [
    {
     "name": "stderr",
     "output_type": "stream",
     "text": [
      "Probability two random records match is estimated to be  0.00333.\n",
      "This means that amongst all possible pairwise record comparisons, one in 300.13 are expected to match.  With 499,500 total possible comparisons, we expect a total of around 1,664.29 matching pairs\n"
     ]
    }
   ],
   "source": [
    "deterministic_rules = [\n",
    "    \"l.first_name = r.first_name and levenshtein(r.dob, l.dob) <= 1\",\n",
    "    \"l.surname = r.surname and levenshtein(r.dob, l.dob) <= 1\",\n",
    "    \"l.first_name = r.first_name and levenshtein(r.surname, l.surname) <= 2\",\n",
    "    \"l.email = r.email\",\n",
    "]\n",
    "\n",
    "linker.estimate_probability_two_random_records_match(deterministic_rules, recall=0.7)"
   ]
  },
  {
   "cell_type": "markdown",
   "id": "7712860b",
   "metadata": {},
   "source": [
    "### Estimation of `u` probabilities\n",
    "\n",
    "Once we have the `probability_two_random_records_match` parameter, we can estimate the `u` probabilities.\n",
    "\n",
    "We estimate `u` using the `estimate_u_using_random_sampling` method, which doesn't require any labels.\n",
    "\n",
    "It works by sampling random pairs of records, since most of these pairs are going to be non-matches. Over these non-matches we compute the distribution of `ComparisonLevel`s for each `Comparison`.\n",
    "\n",
    "For instance, for `gender`, we would find that the the gender matches 50% of the time, and mismatches 50% of the time.\n",
    "\n",
    "For `dob` on the other hand, we would find that the `dob` matches 1% of the time, has a \"one character difference\" 3% of the time, and everything else happens 96% of the time.\n",
    "\n",
    "The larger the random sample, the more accurate the predictions. You control this using the `max_pairs` parameter. For large datasets, we recommend using at least 10 million - but the higher the better and 1 billion is often appropriate for larger datasets.\n"
   ]
  },
  {
   "cell_type": "code",
   "execution_count": 7,
   "id": "b8d49e7a",
   "metadata": {
    "execution": {
     "iopub.execute_input": "2024-03-13T11:57:16.623583Z",
     "iopub.status.busy": "2024-03-13T11:57:16.623258Z",
     "iopub.status.idle": "2024-03-13T11:57:17.240455Z",
     "shell.execute_reply": "2024-03-13T11:57:17.237985Z"
    }
   },
   "outputs": [
    {
     "name": "stderr",
     "output_type": "stream",
     "text": [
      "----- Estimating u probabilities using random sampling -----\n"
     ]
    },
    {
     "name": "stderr",
     "output_type": "stream",
     "text": [
      "\n",
      "Estimated u probabilities using random sampling\n"
     ]
    },
    {
     "name": "stderr",
     "output_type": "stream",
     "text": [
      "\n",
      "Your model is not yet fully trained. Missing estimates for:\n",
      "    - first_name (no m values are trained).\n",
      "    - surname (no m values are trained).\n",
      "    - dob (no m values are trained).\n",
      "    - city (no m values are trained).\n",
      "    - email (no m values are trained).\n"
     ]
    }
   ],
   "source": [
    "linker.estimate_u_using_random_sampling(max_pairs=1e6)"
   ]
  },
  {
   "cell_type": "markdown",
   "id": "a73921b7",
   "metadata": {},
   "source": [
    "### Estimation of `m` probabilities\n",
    "\n",
    "`m` is the trickiest of the parameters to estimate, because we have to have some idea of what the true matches are.\n",
    "\n",
    "If we have labels, we can directly estimate it.\n",
    "\n",
    "If we do not have labelled data, the `m` parameters can be estimated using an iterative maximum likelihood approach called Expectation Maximisation.\n",
    "\n",
    "#### Estimating directly\n",
    "\n",
    "If we have labels, we can estimate `m` directly using the `estimate_m_from_label_column` method of the linker.\n",
    "\n",
    "For example, if the entity being matched is persons, and your input dataset(s) contain social security number, this could be used to estimate the m values for the model.\n",
    "\n",
    "Note that this column does not need to be fully populated. A common case is where a unique identifier such as social security number is only partially populated.\n",
    "\n",
    "For example (in this tutorial we don't have labels, so we're not actually going to use this):\n",
    "\n",
    "```python\n",
    "linker.estimate_m_from_label_column(\"social_security_number\")\n",
    "```\n",
    "\n",
    "#### Estimating with Expectation Maximisation\n",
    "\n",
    "This algorithm estimates the `m` values by generating pairwise record comparisons, and using them to maximise a likelihood function.\n",
    "\n",
    "Each estimation pass requires the user to configure an estimation blocking rule to reduce the number of record comparisons generated to a manageable level.\n",
    "\n",
    "In our first estimation pass, we block on `first_name` and `surname`, meaning we will generate all record comparisons that have `first_name` and `surname` exactly equal.\n",
    "\n",
    "Recall we are trying to estimate the `m` values of the model, i.e. proportion of records falling into each `ComparisonLevel` amongst truly matching records.\n",
    "\n",
    "This means that, in this training session, we cannot estimate parameter estimates for the `first_name` or `surname` columns, since they will be equal for all the comparisons we do.\n",
    "\n",
    "We can, however, estimate parameter estimates for all of the other columns. The output messages produced by Splink confirm this.\n"
   ]
  },
  {
   "cell_type": "code",
   "execution_count": 8,
   "id": "098f0a40",
   "metadata": {
    "execution": {
     "iopub.execute_input": "2024-03-13T11:57:17.245688Z",
     "iopub.status.busy": "2024-03-13T11:57:17.244857Z",
     "iopub.status.idle": "2024-03-13T11:57:18.070654Z",
     "shell.execute_reply": "2024-03-13T11:57:18.069734Z"
    }
   },
   "outputs": [
    {
     "name": "stderr",
     "output_type": "stream",
     "text": [
      "\n",
      "----- Starting EM training session -----\n",
      "\n"
     ]
    },
    {
     "name": "stderr",
     "output_type": "stream",
     "text": [
      "Estimating the m probabilities of the model by blocking on:\n",
      "(l.\"first_name\" = r.\"first_name\") AND (l.\"surname\" = r.\"surname\")\n",
      "\n",
      "Parameter estimates will be made for the following comparison(s):\n",
      "    - dob\n",
      "    - city\n",
      "    - email\n",
      "\n",
      "Parameter estimates cannot be made for the following comparison(s) since they are used in the blocking rules: \n",
      "    - first_name\n",
      "    - surname\n"
     ]
    },
    {
     "name": "stderr",
     "output_type": "stream",
     "text": [
      "\n"
     ]
    },
    {
     "name": "stderr",
     "output_type": "stream",
     "text": [
      "Iteration 1: Largest change in params was -0.525 in the m_probability of dob, level `Exact match on dob`\n"
     ]
    },
    {
     "name": "stderr",
     "output_type": "stream",
     "text": [
      "Iteration 2: Largest change in params was 0.0471 in probability_two_random_records_match\n"
     ]
    },
    {
     "name": "stderr",
     "output_type": "stream",
     "text": [
      "Iteration 3: Largest change in params was 0.0168 in probability_two_random_records_match\n"
     ]
    },
    {
     "name": "stderr",
     "output_type": "stream",
     "text": [
      "Iteration 4: Largest change in params was 0.0069 in probability_two_random_records_match\n"
     ]
    },
    {
     "name": "stderr",
     "output_type": "stream",
     "text": [
      "Iteration 5: Largest change in params was 0.00326 in probability_two_random_records_match\n"
     ]
    },
    {
     "name": "stderr",
     "output_type": "stream",
     "text": [
      "Iteration 6: Largest change in params was 0.00172 in probability_two_random_records_match\n"
     ]
    },
    {
     "name": "stderr",
     "output_type": "stream",
     "text": [
      "Iteration 7: Largest change in params was 0.000975 in probability_two_random_records_match\n"
     ]
    },
    {
     "name": "stderr",
     "output_type": "stream",
     "text": [
      "Iteration 8: Largest change in params was 0.000576 in probability_two_random_records_match\n"
     ]
    },
    {
     "name": "stderr",
     "output_type": "stream",
     "text": [
      "Iteration 9: Largest change in params was 0.000349 in probability_two_random_records_match\n"
     ]
    },
    {
     "name": "stderr",
     "output_type": "stream",
     "text": [
      "Iteration 10: Largest change in params was 0.000215 in probability_two_random_records_match\n"
     ]
    },
    {
     "name": "stderr",
     "output_type": "stream",
     "text": [
      "Iteration 11: Largest change in params was 0.000133 in probability_two_random_records_match\n"
     ]
    },
    {
     "name": "stderr",
     "output_type": "stream",
     "text": [
      "Iteration 12: Largest change in params was 8.31e-05 in probability_two_random_records_match\n"
     ]
    },
    {
     "name": "stderr",
     "output_type": "stream",
     "text": [
      "\n",
      "EM converged after 12 iterations\n"
     ]
    },
    {
     "name": "stderr",
     "output_type": "stream",
     "text": [
      "\n",
      "Your model is not yet fully trained. Missing estimates for:\n",
      "    - first_name (no m values are trained).\n",
      "    - surname (no m values are trained).\n"
     ]
    }
   ],
   "source": [
    "training_blocking_rule = block_on(\"first_name\", \"surname\")\n",
    "training_session_fname_sname = (\n",
    "    linker.estimate_parameters_using_expectation_maximisation(training_blocking_rule)\n",
    ")"
   ]
  },
  {
   "cell_type": "markdown",
   "id": "92bd4a31",
   "metadata": {},
   "source": [
    "In a second estimation pass, we block on dob. This allows us to estimate parameters for the `first_name` and `surname` comparisons.\n",
    "\n",
    "Between the two estimation passes, we now have parameter estimates for all comparisons.\n"
   ]
  },
  {
   "cell_type": "code",
   "execution_count": 9,
   "id": "ac8d3264",
   "metadata": {
    "execution": {
     "iopub.execute_input": "2024-03-13T11:57:18.076321Z",
     "iopub.status.busy": "2024-03-13T11:57:18.075868Z",
     "iopub.status.idle": "2024-03-13T11:57:19.651511Z",
     "shell.execute_reply": "2024-03-13T11:57:19.650629Z"
    }
   },
   "outputs": [
    {
     "name": "stderr",
     "output_type": "stream",
     "text": [
      "\n",
      "----- Starting EM training session -----\n",
      "\n"
     ]
    },
    {
     "name": "stderr",
     "output_type": "stream",
     "text": [
      "Estimating the m probabilities of the model by blocking on:\n",
      "l.\"dob\" = r.\"dob\"\n",
      "\n",
      "Parameter estimates will be made for the following comparison(s):\n",
      "    - first_name\n",
      "    - surname\n",
      "    - city\n",
      "    - email\n",
      "\n",
      "Parameter estimates cannot be made for the following comparison(s) since they are used in the blocking rules: \n",
      "    - dob\n"
     ]
    },
    {
     "name": "stderr",
     "output_type": "stream",
     "text": [
      "\n"
     ]
    },
    {
     "name": "stderr",
     "output_type": "stream",
     "text": [
      "Iteration 1: Largest change in params was -0.417 in the m_probability of surname, level `Exact match on surname`\n"
     ]
    },
    {
     "name": "stderr",
     "output_type": "stream",
     "text": [
      "Iteration 2: Largest change in params was 0.109 in probability_two_random_records_match\n"
     ]
    },
    {
     "name": "stderr",
     "output_type": "stream",
     "text": [
      "Iteration 3: Largest change in params was 0.0363 in probability_two_random_records_match\n"
     ]
    },
    {
     "name": "stderr",
     "output_type": "stream",
     "text": [
      "Iteration 4: Largest change in params was 0.0131 in probability_two_random_records_match\n"
     ]
    },
    {
     "name": "stderr",
     "output_type": "stream",
     "text": [
      "Iteration 5: Largest change in params was 0.00556 in probability_two_random_records_match\n"
     ]
    },
    {
     "name": "stderr",
     "output_type": "stream",
     "text": [
      "Iteration 6: Largest change in params was 0.00257 in probability_two_random_records_match\n"
     ]
    },
    {
     "name": "stderr",
     "output_type": "stream",
     "text": [
      "Iteration 7: Largest change in params was 0.00124 in probability_two_random_records_match\n"
     ]
    },
    {
     "name": "stderr",
     "output_type": "stream",
     "text": [
      "Iteration 8: Largest change in params was 0.000613 in probability_two_random_records_match\n"
     ]
    },
    {
     "name": "stderr",
     "output_type": "stream",
     "text": [
      "Iteration 9: Largest change in params was 0.000316 in probability_two_random_records_match\n"
     ]
    },
    {
     "name": "stderr",
     "output_type": "stream",
     "text": [
      "Iteration 10: Largest change in params was 0.000182 in probability_two_random_records_match\n"
     ]
    },
    {
     "name": "stderr",
     "output_type": "stream",
     "text": [
      "Iteration 11: Largest change in params was 0.000135 in the m_probability of first_name, level `All other comparisons`\n"
     ]
    },
    {
     "name": "stderr",
     "output_type": "stream",
     "text": [
      "Iteration 12: Largest change in params was 0.000142 in the m_probability of first_name, level `All other comparisons`\n"
     ]
    },
    {
     "name": "stderr",
     "output_type": "stream",
     "text": [
      "Iteration 13: Largest change in params was 0.00017 in the m_probability of first_name, level `All other comparisons`\n"
     ]
    },
    {
     "name": "stderr",
     "output_type": "stream",
     "text": [
      "Iteration 14: Largest change in params was 0.000191 in the m_probability of first_name, level `All other comparisons`\n"
     ]
    },
    {
     "name": "stderr",
     "output_type": "stream",
     "text": [
      "Iteration 15: Largest change in params was 0.000187 in the m_probability of first_name, level `All other comparisons`\n"
     ]
    },
    {
     "name": "stderr",
     "output_type": "stream",
     "text": [
      "Iteration 16: Largest change in params was 0.000158 in the m_probability of first_name, level `All other comparisons`\n"
     ]
    },
    {
     "name": "stderr",
     "output_type": "stream",
     "text": [
      "Iteration 17: Largest change in params was 0.000119 in the m_probability of first_name, level `All other comparisons`\n"
     ]
    },
    {
     "name": "stderr",
     "output_type": "stream",
     "text": [
      "Iteration 18: Largest change in params was 8.4e-05 in probability_two_random_records_match\n"
     ]
    },
    {
     "name": "stderr",
     "output_type": "stream",
     "text": [
      "\n",
      "EM converged after 18 iterations\n"
     ]
    },
    {
     "name": "stderr",
     "output_type": "stream",
     "text": [
      "\n",
      "Your model is fully trained. All comparisons have at least one estimate for their m and u values\n"
     ]
    }
   ],
   "source": [
    "training_blocking_rule = block_on(\"dob\")\n",
    "training_session_dob = linker.estimate_parameters_using_expectation_maximisation(\n",
    "    training_blocking_rule\n",
    ")"
   ]
  },
  {
   "cell_type": "markdown",
   "id": "efdb0c5f",
   "metadata": {},
   "source": [
    "Note that Splink includes other algorithms for estimating m and u values, which are documented [here](https://moj-analytical-services.github.io/splink/linkerest.html).\n"
   ]
  },
  {
   "cell_type": "markdown",
   "id": "38355535",
   "metadata": {},
   "source": [
    "## Visualising model parameters\n",
    "\n",
    "Splink can generate a number of charts to help you understand your model. For an introduction to these charts and how to interpret them, please see [this](https://www.youtube.com/watch?v=msz3T741KQI&t=507s) video.\n",
    "\n",
    "The final estimated match weights can be viewed in the match weights chart:\n"
   ]
  },
  {
   "cell_type": "code",
   "execution_count": 10,
   "id": "3a1e15cc",
   "metadata": {
    "execution": {
     "iopub.execute_input": "2024-03-13T11:57:19.655736Z",
     "iopub.status.busy": "2024-03-13T11:57:19.655426Z",
     "iopub.status.idle": "2024-03-13T11:57:21.258122Z",
     "shell.execute_reply": "2024-03-13T11:57:21.257374Z"
    }
   },
   "outputs": [
    {
     "data": {
      "text/html": [
       "\n",
       "<style>\n",
       "  #altair-viz-3372eaef93ac46fb9545c6ef12d1f069.vega-embed {\n",
       "    width: 100%;\n",
       "    display: flex;\n",
       "  }\n",
       "\n",
       "  #altair-viz-3372eaef93ac46fb9545c6ef12d1f069.vega-embed details,\n",
       "  #altair-viz-3372eaef93ac46fb9545c6ef12d1f069.vega-embed details summary {\n",
       "    position: relative;\n",
       "  }\n",
       "</style>\n",
       "<div id=\"altair-viz-3372eaef93ac46fb9545c6ef12d1f069\"></div>\n",
       "<script type=\"text/javascript\">\n",
       "  var VEGA_DEBUG = (typeof VEGA_DEBUG == \"undefined\") ? {} : VEGA_DEBUG;\n",
       "  (function(spec, embedOpt){\n",
       "    let outputDiv = document.currentScript.previousElementSibling;\n",
       "    if (outputDiv.id !== \"altair-viz-3372eaef93ac46fb9545c6ef12d1f069\") {\n",
       "      outputDiv = document.getElementById(\"altair-viz-3372eaef93ac46fb9545c6ef12d1f069\");\n",
       "    }\n",
       "    const paths = {\n",
       "      \"vega\": \"https://cdn.jsdelivr.net/npm/vega@5?noext\",\n",
       "      \"vega-lib\": \"https://cdn.jsdelivr.net/npm/vega-lib?noext\",\n",
       "      \"vega-lite\": \"https://cdn.jsdelivr.net/npm/vega-lite@5.16.3?noext\",\n",
       "      \"vega-embed\": \"https://cdn.jsdelivr.net/npm/vega-embed@6?noext\",\n",
       "    };\n",
       "\n",
       "    function maybeLoadScript(lib, version) {\n",
       "      var key = `${lib.replace(\"-\", \"\")}_version`;\n",
       "      return (VEGA_DEBUG[key] == version) ?\n",
       "        Promise.resolve(paths[lib]) :\n",
       "        new Promise(function(resolve, reject) {\n",
       "          var s = document.createElement('script');\n",
       "          document.getElementsByTagName(\"head\")[0].appendChild(s);\n",
       "          s.async = true;\n",
       "          s.onload = () => {\n",
       "            VEGA_DEBUG[key] = version;\n",
       "            return resolve(paths[lib]);\n",
       "          };\n",
       "          s.onerror = () => reject(`Error loading script: ${paths[lib]}`);\n",
       "          s.src = paths[lib];\n",
       "        });\n",
       "    }\n",
       "\n",
       "    function showError(err) {\n",
       "      outputDiv.innerHTML = `<div class=\"error\" style=\"color:red;\">${err}</div>`;\n",
       "      throw err;\n",
       "    }\n",
       "\n",
       "    function displayChart(vegaEmbed) {\n",
       "      vegaEmbed(outputDiv, spec, embedOpt)\n",
       "        .catch(err => showError(`Javascript Error: ${err.message}<br>This usually means there's a typo in your chart specification. See the javascript console for the full traceback.`));\n",
       "    }\n",
       "\n",
       "    if(typeof define === \"function\" && define.amd) {\n",
       "      requirejs.config({paths});\n",
       "      require([\"vega-embed\"], displayChart, err => showError(`Error loading script: ${err.message}`));\n",
       "    } else {\n",
       "      maybeLoadScript(\"vega\", \"5\")\n",
       "        .then(() => maybeLoadScript(\"vega-lite\", \"5.16.3\"))\n",
       "        .then(() => maybeLoadScript(\"vega-embed\", \"6\"))\n",
       "        .catch(showError)\n",
       "        .then(() => displayChart(vegaEmbed));\n",
       "    }\n",
       "  })({\"config\": {\"view\": {\"continuousWidth\": 300, \"continuousHeight\": 300, \"discreteHeight\": 60, \"discreteWidth\": 400}, \"header\": {\"title\": null}, \"mark\": {\"tooltip\": null}, \"title\": {\"anchor\": \"middle\"}}, \"vconcat\": [{\"mark\": {\"type\": \"bar\", \"clip\": true, \"height\": 15}, \"encoding\": {\"color\": {\"field\": \"log2_bayes_factor\", \"scale\": {\"domain\": [-10, 0, 10], \"interpolate\": \"lab\", \"range\": [\"red\", \"#bbbbbb\", \"green\"]}, \"title\": \"Match weight\", \"type\": \"quantitative\"}, \"tooltip\": [{\"field\": \"comparison_name\", \"title\": \"Comparison name\", \"type\": \"nominal\"}, {\"field\": \"probability_two_random_records_match\", \"format\": \".4f\", \"title\": \"Probability two random records match\", \"type\": \"nominal\"}, {\"field\": \"log2_bayes_factor\", \"format\": \",.4f\", \"title\": \"Equivalent match weight\", \"type\": \"quantitative\"}, {\"field\": \"bayes_factor_description\", \"title\": \"Match weight description\", \"type\": \"nominal\"}], \"x\": {\"axis\": {\"domain\": false, \"gridColor\": {\"condition\": {\"test\": \"abs(datum.value / 10)  <= 1 & datum.value % 10 === 0\", \"value\": \"#aaa\"}, \"value\": \"#ddd\"}, \"gridDash\": {\"condition\": {\"test\": \"abs(datum.value / 10) == 1\", \"value\": [3]}, \"value\": null}, \"gridWidth\": {\"condition\": {\"test\": \"abs(datum.value / 10)  <= 1 & datum.value % 10 === 0\", \"value\": 2}, \"value\": 1}, \"labels\": false, \"ticks\": false, \"title\": \"\"}, \"field\": \"log2_bayes_factor\", \"scale\": {\"domain\": [-9, 9]}, \"type\": \"quantitative\"}, \"y\": {\"axis\": {\"title\": \"Prior (starting) match weight\", \"titleAlign\": \"right\", \"titleAngle\": 0, \"titleFontWeight\": \"normal\"}, \"field\": \"label_for_charts\", \"sort\": {\"field\": \"comparison_vector_value\", \"order\": \"descending\"}, \"type\": \"nominal\"}}, \"height\": 20, \"transform\": [{\"filter\": \"(datum.comparison_name == 'probability_two_random_records_match')\"}]}, {\"mark\": {\"type\": \"bar\", \"clip\": true}, \"encoding\": {\"color\": {\"field\": \"log2_bayes_factor\", \"scale\": {\"domain\": [-10, 0, 10], \"interpolate\": \"lab\", \"range\": [\"red\", \"#bbbbbb\", \"green\"]}, \"title\": \"Match weight\", \"type\": \"quantitative\"}, \"row\": {\"field\": \"comparison_name\", \"header\": {\"labelAlign\": \"left\", \"labelAnchor\": \"middle\", \"labelAngle\": 0}, \"sort\": {\"field\": \"comparison_sort_order\"}, \"type\": \"nominal\"}, \"tooltip\": [{\"field\": \"comparison_name\", \"title\": \"Comparison name\", \"type\": \"nominal\"}, {\"field\": \"label_for_charts\", \"title\": \"Label\", \"type\": \"ordinal\"}, {\"field\": \"sql_condition\", \"title\": \"SQL condition\", \"type\": \"nominal\"}, {\"field\": \"m_probability\", \"format\": \".4f\", \"title\": \"M probability\", \"type\": \"quantitative\"}, {\"field\": \"u_probability\", \"format\": \".4f\", \"title\": \"U probability\", \"type\": \"quantitative\"}, {\"field\": \"bayes_factor\", \"format\": \",.4f\", \"title\": \"Bayes factor = m/u\", \"type\": \"quantitative\"}, {\"field\": \"log2_bayes_factor\", \"format\": \",.4f\", \"title\": \"Match weight = log2(m/u)\", \"type\": \"quantitative\"}, {\"field\": \"bayes_factor_description\", \"title\": \"Match weight description\", \"type\": \"nominal\"}], \"x\": {\"axis\": {\"gridColor\": {\"condition\": {\"test\": \"abs(datum.value / 10)  <= 1 & datum.value % 10 === 0\", \"value\": \"#aaa\"}, \"value\": \"#ddd\"}, \"gridDash\": {\"condition\": {\"test\": \"abs(datum.value / 10) == 1\", \"value\": [3]}, \"value\": null}, \"gridWidth\": {\"condition\": {\"test\": \"abs(datum.value / 10)  <= 1 & datum.value % 10 === 0\", \"value\": 2}, \"value\": 1}, \"title\": \"Comparison level match weight = log2(m/u)\"}, \"field\": \"log2_bayes_factor\", \"scale\": {\"domain\": [-9, 9]}, \"type\": \"quantitative\"}, \"y\": {\"axis\": {\"title\": null}, \"field\": \"label_for_charts\", \"sort\": {\"field\": \"comparison_vector_value\", \"order\": \"descending\"}, \"type\": \"nominal\"}}, \"height\": {\"step\": 12}, \"resolve\": {\"axis\": {\"y\": \"independent\"}, \"scale\": {\"y\": \"independent\"}}, \"transform\": [{\"filter\": \"(datum.comparison_name != 'probability_two_random_records_match')\"}]}], \"data\": {\"name\": \"data-a8e38ffd1ccc1be0da1def1b257eda94\"}, \"params\": [{\"name\": \"mouse_zoom\", \"select\": {\"type\": \"interval\", \"encodings\": [\"x\"]}, \"bind\": \"scales\", \"views\": []}], \"resolve\": {\"axis\": {\"y\": \"independent\"}, \"scale\": {\"y\": \"independent\"}}, \"title\": {\"text\": \"Model parameters (components of final match weight)\", \"subtitle\": \"Use mousewheel to zoom\"}, \"$schema\": \"https://vega.github.io/schema/vega-lite/v5.9.3.json\", \"datasets\": {\"data-a8e38ffd1ccc1be0da1def1b257eda94\": [{\"comparison_name\": \"probability_two_random_records_match\", \"sql_condition\": null, \"label_for_charts\": \"\", \"m_probability\": null, \"u_probability\": null, \"m_probability_description\": null, \"u_probability_description\": null, \"has_tf_adjustments\": false, \"tf_adjustment_column\": null, \"tf_adjustment_weight\": null, \"is_null_level\": false, \"bayes_factor\": 0.0033430420247643373, \"log2_bayes_factor\": -8.224622793739668, \"comparison_vector_value\": 0, \"max_comparison_vector_value\": 0, \"bayes_factor_description\": \"The probability that two random records drawn at random match is 0.003 or one in  300.1 records.This is equivalent to a starting match weight of -8.225.\", \"probability_two_random_records_match\": 0.0033319033319033323, \"comparison_sort_order\": -1}, {\"comparison_name\": \"first_name\", \"sql_condition\": \"\\\"first_name_l\\\" = \\\"first_name_r\\\"\", \"label_for_charts\": \"Exact match on first_name\", \"m_probability\": 0.48862811465183914, \"u_probability\": 0.0057935713975033705, \"m_probability_description\": \"Amongst matching record comparisons, 48.86% of records are in the exact match on first_name comparison level\", \"u_probability_description\": \"Amongst non-matching record comparisons, 0.58% of records are in the exact match on first_name comparison level\", \"has_tf_adjustments\": false, \"tf_adjustment_column\": null, \"tf_adjustment_weight\": 1.0, \"is_null_level\": false, \"bayes_factor\": 84.33970708679004, \"log2_bayes_factor\": 6.39814010600916, \"comparison_vector_value\": 3, \"max_comparison_vector_value\": 3, \"bayes_factor_description\": \"If comparison level is `exact match on first_name` then comparison is 84.34 times more likely to be a match\", \"probability_two_random_records_match\": 0.0033319033319033323, \"comparison_sort_order\": 0}, {\"comparison_name\": \"first_name\", \"sql_condition\": \"jaro_winkler_similarity(\\\"first_name_l\\\", \\\"first_name_r\\\") >= 0.9\", \"label_for_charts\": \"Jaro-Winkler distance of first_name >= 0.9\", \"m_probability\": 0.19040810772389757, \"u_probability\": 0.003386832528670639, \"m_probability_description\": \"Amongst matching record comparisons, 19.04% of records are in the jaro-winkler distance of first_name >= 0.9 comparison level\", \"u_probability_description\": \"Amongst non-matching record comparisons, 0.34% of records are in the jaro-winkler distance of first_name >= 0.9 comparison level\", \"has_tf_adjustments\": false, \"tf_adjustment_column\": null, \"tf_adjustment_weight\": 1.0, \"is_null_level\": false, \"bayes_factor\": 56.22011307380303, \"log2_bayes_factor\": 5.813014450257181, \"comparison_vector_value\": 2, \"max_comparison_vector_value\": 3, \"bayes_factor_description\": \"If comparison level is `jaro-winkler distance of first_name >= 0.9` then comparison is 56.22 times more likely to be a match\", \"probability_two_random_records_match\": 0.0033319033319033323, \"comparison_sort_order\": 0}, {\"comparison_name\": \"first_name\", \"sql_condition\": \"jaro_winkler_similarity(\\\"first_name_l\\\", \\\"first_name_r\\\") >= 0.8\", \"label_for_charts\": \"Jaro-Winkler distance of first_name >= 0.8\", \"m_probability\": 0.08612375135042663, \"u_probability\": 0.005935655981326026, \"m_probability_description\": \"Amongst matching record comparisons, 8.61% of records are in the jaro-winkler distance of first_name >= 0.8 comparison level\", \"u_probability_description\": \"Amongst non-matching record comparisons, 0.59% of records are in the jaro-winkler distance of first_name >= 0.8 comparison level\", \"has_tf_adjustments\": false, \"tf_adjustment_column\": null, \"tf_adjustment_weight\": 1.0, \"is_null_level\": false, \"bayes_factor\": 14.509559115517773, \"log2_bayes_factor\": 3.85893177752292, \"comparison_vector_value\": 1, \"max_comparison_vector_value\": 3, \"bayes_factor_description\": \"If comparison level is `jaro-winkler distance of first_name >= 0.8` then comparison is 14.51 times more likely to be a match\", \"probability_two_random_records_match\": 0.0033319033319033323, \"comparison_sort_order\": 0}, {\"comparison_name\": \"first_name\", \"sql_condition\": \"ELSE\", \"label_for_charts\": \"All other comparisons\", \"m_probability\": 0.23484002627383654, \"u_probability\": 0.9848839400924999, \"m_probability_description\": \"Amongst matching record comparisons, 23.48% of records are in the all other comparisons comparison level\", \"u_probability_description\": \"Amongst non-matching record comparisons, 98.49% of records are in the all other comparisons comparison level\", \"has_tf_adjustments\": false, \"tf_adjustment_column\": null, \"tf_adjustment_weight\": 1.0, \"is_null_level\": false, \"bayes_factor\": 0.2384443655886809, \"log2_bayes_factor\": -2.068275402460431, \"comparison_vector_value\": 0, \"max_comparison_vector_value\": 3, \"bayes_factor_description\": \"If comparison level is `all other comparisons` then comparison is  4.19 times less likely to be a match\", \"probability_two_random_records_match\": 0.0033319033319033323, \"comparison_sort_order\": 0}, {\"comparison_name\": \"surname\", \"sql_condition\": \"\\\"surname_l\\\" = \\\"surname_r\\\"\", \"label_for_charts\": \"Exact match on surname\", \"m_probability\": 0.4321761147566043, \"u_probability\": 0.004889975550122249, \"m_probability_description\": \"Amongst matching record comparisons, 43.22% of records are in the exact match on surname comparison level\", \"u_probability_description\": \"Amongst non-matching record comparisons, 0.49% of records are in the exact match on surname comparison level\", \"has_tf_adjustments\": false, \"tf_adjustment_column\": null, \"tf_adjustment_weight\": 1.0, \"is_null_level\": false, \"bayes_factor\": 88.38001546772557, \"log2_bayes_factor\": 6.465648278473897, \"comparison_vector_value\": 3, \"max_comparison_vector_value\": 3, \"bayes_factor_description\": \"If comparison level is `exact match on surname` then comparison is 88.38 times more likely to be a match\", \"probability_two_random_records_match\": 0.0033319033319033323, \"comparison_sort_order\": 1}, {\"comparison_name\": \"surname\", \"sql_condition\": \"jaro_winkler_similarity(\\\"surname_l\\\", \\\"surname_r\\\") >= 0.9\", \"label_for_charts\": \"Jaro-Winkler distance of surname >= 0.9\", \"m_probability\": 0.25136142523303007, \"u_probability\": 0.0034032796868982687, \"m_probability_description\": \"Amongst matching record comparisons, 25.14% of records are in the jaro-winkler distance of surname >= 0.9 comparison level\", \"u_probability_description\": \"Amongst non-matching record comparisons, 0.34% of records are in the jaro-winkler distance of surname >= 0.9 comparison level\", \"has_tf_adjustments\": false, \"tf_adjustment_column\": null, \"tf_adjustment_weight\": 1.0, \"is_null_level\": false, \"bayes_factor\": 73.85858594011694, \"log2_bayes_factor\": 6.206693736571023, \"comparison_vector_value\": 2, \"max_comparison_vector_value\": 3, \"bayes_factor_description\": \"If comparison level is `jaro-winkler distance of surname >= 0.9` then comparison is 73.86 times more likely to be a match\", \"probability_two_random_records_match\": 0.0033319033319033323, \"comparison_sort_order\": 1}, {\"comparison_name\": \"surname\", \"sql_condition\": \"jaro_winkler_similarity(\\\"surname_l\\\", \\\"surname_r\\\") >= 0.8\", \"label_for_charts\": \"Jaro-Winkler distance of surname >= 0.8\", \"m_probability\": 0.07577664023008487, \"u_probability\": 0.0039048156407569612, \"m_probability_description\": \"Amongst matching record comparisons, 7.58% of records are in the jaro-winkler distance of surname >= 0.8 comparison level\", \"u_probability_description\": \"Amongst non-matching record comparisons, 0.39% of records are in the jaro-winkler distance of surname >= 0.8 comparison level\", \"has_tf_adjustments\": false, \"tf_adjustment_column\": null, \"tf_adjustment_weight\": 1.0, \"is_null_level\": false, \"bayes_factor\": 19.40594568387749, \"log2_bayes_factor\": 4.278426834642862, \"comparison_vector_value\": 1, \"max_comparison_vector_value\": 3, \"bayes_factor_description\": \"If comparison level is `jaro-winkler distance of surname >= 0.8` then comparison is 19.41 times more likely to be a match\", \"probability_two_random_records_match\": 0.0033319033319033323, \"comparison_sort_order\": 1}, {\"comparison_name\": \"surname\", \"sql_condition\": \"ELSE\", \"label_for_charts\": \"All other comparisons\", \"m_probability\": 0.24068581978028078, \"u_probability\": 0.9878019291222225, \"m_probability_description\": \"Amongst matching record comparisons, 24.07% of records are in the all other comparisons comparison level\", \"u_probability_description\": \"Amongst non-matching record comparisons, 98.78% of records are in the all other comparisons comparison level\", \"has_tf_adjustments\": false, \"tf_adjustment_column\": null, \"tf_adjustment_weight\": 1.0, \"is_null_level\": false, \"bayes_factor\": 0.24365797705432532, \"log2_bayes_factor\": -2.037070639571056, \"comparison_vector_value\": 0, \"max_comparison_vector_value\": 3, \"bayes_factor_description\": \"If comparison level is `all other comparisons` then comparison is  4.10 times less likely to be a match\", \"probability_two_random_records_match\": 0.0033319033319033323, \"comparison_sort_order\": 1}, {\"comparison_name\": \"dob\", \"sql_condition\": \"\\\"dob_l\\\" = \\\"dob_r\\\"\", \"label_for_charts\": \"Exact match on dob\", \"m_probability\": 0.3913915959617411, \"u_probability\": 0.0017477477477477479, \"m_probability_description\": \"Amongst matching record comparisons, 39.14% of records are in the exact match on dob comparison level\", \"u_probability_description\": \"Amongst non-matching record comparisons, 0.17% of records are in the exact match on dob comparison level\", \"has_tf_adjustments\": false, \"tf_adjustment_column\": null, \"tf_adjustment_weight\": 1.0, \"is_null_level\": false, \"bayes_factor\": 223.94055232862505, \"log2_bayes_factor\": 7.8069719923998955, \"comparison_vector_value\": 2, \"max_comparison_vector_value\": 2, \"bayes_factor_description\": \"If comparison level is `exact match on dob` then comparison is 223.94 times more likely to be a match\", \"probability_two_random_records_match\": 0.0033319033319033323, \"comparison_sort_order\": 2}, {\"comparison_name\": \"dob\", \"sql_condition\": \"levenshtein(\\\"dob_l\\\", \\\"dob_r\\\") <= 1\", \"label_for_charts\": \"Levenshtein distance of dob <= 1\", \"m_probability\": 0.14936704671768858, \"u_probability\": 0.0016016016016016017, \"m_probability_description\": \"Amongst matching record comparisons, 14.94% of records are in the levenshtein distance of dob <= 1 comparison level\", \"u_probability_description\": \"Amongst non-matching record comparisons, 0.16% of records are in the levenshtein distance of dob <= 1 comparison level\", \"has_tf_adjustments\": false, \"tf_adjustment_column\": null, \"tf_adjustment_weight\": 1.0, \"is_null_level\": false, \"bayes_factor\": 93.26104979435681, \"log2_bayes_factor\": 6.54320276437418, \"comparison_vector_value\": 1, \"max_comparison_vector_value\": 2, \"bayes_factor_description\": \"If comparison level is `levenshtein distance of dob <= 1` then comparison is 93.26 times more likely to be a match\", \"probability_two_random_records_match\": 0.0033319033319033323, \"comparison_sort_order\": 2}, {\"comparison_name\": \"dob\", \"sql_condition\": \"ELSE\", \"label_for_charts\": \"All other comparisons\", \"m_probability\": 0.4592413573205703, \"u_probability\": 0.9966506506506506, \"m_probability_description\": \"Amongst matching record comparisons, 45.92% of records are in the all other comparisons comparison level\", \"u_probability_description\": \"Amongst non-matching record comparisons, 99.67% of records are in the all other comparisons comparison level\", \"has_tf_adjustments\": false, \"tf_adjustment_column\": null, \"tf_adjustment_weight\": 1.0, \"is_null_level\": false, \"bayes_factor\": 0.4607846862095163, \"log2_bayes_factor\": -1.117835324063533, \"comparison_vector_value\": 0, \"max_comparison_vector_value\": 2, \"bayes_factor_description\": \"If comparison level is `all other comparisons` then comparison is  2.17 times less likely to be a match\", \"probability_two_random_records_match\": 0.0033319033319033323, \"comparison_sort_order\": 2}, {\"comparison_name\": \"city\", \"sql_condition\": \"\\\"city_l\\\" = \\\"city_r\\\"\", \"label_for_charts\": \"Exact match on city\", \"m_probability\": 0.5622587541522951, \"u_probability\": 0.0551475711801453, \"m_probability_description\": \"Amongst matching record comparisons, 56.23% of records are in the exact match on city comparison level\", \"u_probability_description\": \"Amongst non-matching record comparisons, 5.51% of records are in the exact match on city comparison level\", \"has_tf_adjustments\": true, \"tf_adjustment_column\": \"city\", \"tf_adjustment_weight\": 1.0, \"is_null_level\": false, \"bayes_factor\": 10.195530684671827, \"log2_bayes_factor\": 3.349864965506074, \"comparison_vector_value\": 1, \"max_comparison_vector_value\": 1, \"bayes_factor_description\": \"If comparison level is `exact match on city` then comparison is 10.20 times more likely to be a match\", \"probability_two_random_records_match\": 0.0033319033319033323, \"comparison_sort_order\": 3}, {\"comparison_name\": \"city\", \"sql_condition\": \"ELSE\", \"label_for_charts\": \"All other comparisons\", \"m_probability\": 0.4377412458477049, \"u_probability\": 0.9448524288198547, \"m_probability_description\": \"Amongst matching record comparisons, 43.77% of records are in the all other comparisons comparison level\", \"u_probability_description\": \"Amongst non-matching record comparisons, 94.49% of records are in the all other comparisons comparison level\", \"has_tf_adjustments\": false, \"tf_adjustment_column\": null, \"tf_adjustment_weight\": 1.0, \"is_null_level\": false, \"bayes_factor\": 0.46329059702418834, \"log2_bayes_factor\": -1.1100106932505542, \"comparison_vector_value\": 0, \"max_comparison_vector_value\": 1, \"bayes_factor_description\": \"If comparison level is `all other comparisons` then comparison is  2.16 times less likely to be a match\", \"probability_two_random_records_match\": 0.0033319033319033323, \"comparison_sort_order\": 3}, {\"comparison_name\": \"email\", \"sql_condition\": \"\\\"email_l\\\" = \\\"email_r\\\"\", \"label_for_charts\": \"Exact match on email\", \"m_probability\": 0.5528017447770468, \"u_probability\": 0.0021938713143283602, \"m_probability_description\": \"Amongst matching record comparisons, 55.28% of records are in the exact match on email comparison level\", \"u_probability_description\": \"Amongst non-matching record comparisons, 0.22% of records are in the exact match on email comparison level\", \"has_tf_adjustments\": false, \"tf_adjustment_column\": null, \"tf_adjustment_weight\": 1.0, \"is_null_level\": false, \"bayes_factor\": 251.9754650907059, \"log2_bayes_factor\": 7.97713945478885, \"comparison_vector_value\": 3, \"max_comparison_vector_value\": 3, \"bayes_factor_description\": \"If comparison level is `exact match on email` then comparison is 251.98 times more likely to be a match\", \"probability_two_random_records_match\": 0.0033319033319033323, \"comparison_sort_order\": 4}, {\"comparison_name\": \"email\", \"sql_condition\": \"NULLIF(regexp_extract(\\\"email_l\\\", '^[^@]+', 0), '') = NULLIF(regexp_extract(\\\"email_r\\\", '^[^@]+', 0), '')\", \"label_for_charts\": \"Exact match on transformed email\", \"m_probability\": 0.22070514410539996, \"u_probability\": 0.0010390328952024346, \"m_probability_description\": \"Amongst matching record comparisons, 22.07% of records are in the exact match on transformed email comparison level\", \"u_probability_description\": \"Amongst non-matching record comparisons, 0.10% of records are in the exact match on transformed email comparison level\", \"has_tf_adjustments\": false, \"tf_adjustment_column\": null, \"tf_adjustment_weight\": 1.0, \"is_null_level\": false, \"bayes_factor\": 212.4140103017624, \"log2_bayes_factor\": 7.7307351156450075, \"comparison_vector_value\": 2, \"max_comparison_vector_value\": 3, \"bayes_factor_description\": \"If comparison level is `exact match on transformed email` then comparison is 212.41 times more likely to be a match\", \"probability_two_random_records_match\": 0.0033319033319033323, \"comparison_sort_order\": 4}, {\"comparison_name\": \"email\", \"sql_condition\": \"jaro_winkler_similarity(\\\"email_l\\\", \\\"email_r\\\") >= 0.88\", \"label_for_charts\": \"Jaro-Winkler distance of email >= 0.88\", \"m_probability\": 0.2139554254205837, \"u_probability\": 0.0009135769109519858, \"m_probability_description\": \"Amongst matching record comparisons, 21.40% of records are in the jaro-winkler distance of email >= 0.88 comparison level\", \"u_probability_description\": \"Amongst non-matching record comparisons, 0.09% of records are in the jaro-winkler distance of email >= 0.88 comparison level\", \"has_tf_adjustments\": false, \"tf_adjustment_column\": null, \"tf_adjustment_weight\": 1.0, \"is_null_level\": false, \"bayes_factor\": 234.19530731970133, \"log2_bayes_factor\": 7.8715683579519276, \"comparison_vector_value\": 1, \"max_comparison_vector_value\": 3, \"bayes_factor_description\": \"If comparison level is `jaro-winkler distance of email >= 0.88` then comparison is 234.20 times more likely to be a match\", \"probability_two_random_records_match\": 0.0033319033319033323, \"comparison_sort_order\": 4}, {\"comparison_name\": \"email\", \"sql_condition\": \"ELSE\", \"label_for_charts\": \"All other comparisons\", \"m_probability\": 0.012537685696969529, \"u_probability\": 0.9958535188795172, \"m_probability_description\": \"Amongst matching record comparisons, 1.25% of records are in the all other comparisons comparison level\", \"u_probability_description\": \"Amongst non-matching record comparisons, 99.59% of records are in the all other comparisons comparison level\", \"has_tf_adjustments\": false, \"tf_adjustment_column\": null, \"tf_adjustment_weight\": 1.0, \"is_null_level\": false, \"bayes_factor\": 0.012589889435824139, \"log2_bayes_factor\": -6.311590576383293, \"comparison_vector_value\": 0, \"max_comparison_vector_value\": 3, \"bayes_factor_description\": \"If comparison level is `all other comparisons` then comparison is  79.43 times less likely to be a match\", \"probability_two_random_records_match\": 0.0033319033319033323, \"comparison_sort_order\": 4}]}}, {\"mode\": \"vega-lite\"});\n",
       "</script>"
      ],
      "text/plain": [
       "alt.VConcatChart(...)"
      ]
     },
     "execution_count": 10,
     "metadata": {},
     "output_type": "execute_result"
    }
   ],
   "source": [
    "linker.match_weights_chart()"
   ]
  },
  {
   "cell_type": "code",
   "execution_count": 11,
   "id": "8576c042",
   "metadata": {
    "execution": {
     "iopub.execute_input": "2024-03-13T11:57:21.262008Z",
     "iopub.status.busy": "2024-03-13T11:57:21.261498Z",
     "iopub.status.idle": "2024-03-13T11:57:22.042731Z",
     "shell.execute_reply": "2024-03-13T11:57:22.040743Z"
    }
   },
   "outputs": [
    {
     "data": {
      "text/html": [
       "\n",
       "<style>\n",
       "  #altair-viz-626190e0ef0b4837883fd4b0d823e186.vega-embed {\n",
       "    width: 100%;\n",
       "    display: flex;\n",
       "  }\n",
       "\n",
       "  #altair-viz-626190e0ef0b4837883fd4b0d823e186.vega-embed details,\n",
       "  #altair-viz-626190e0ef0b4837883fd4b0d823e186.vega-embed details summary {\n",
       "    position: relative;\n",
       "  }\n",
       "</style>\n",
       "<div id=\"altair-viz-626190e0ef0b4837883fd4b0d823e186\"></div>\n",
       "<script type=\"text/javascript\">\n",
       "  var VEGA_DEBUG = (typeof VEGA_DEBUG == \"undefined\") ? {} : VEGA_DEBUG;\n",
       "  (function(spec, embedOpt){\n",
       "    let outputDiv = document.currentScript.previousElementSibling;\n",
       "    if (outputDiv.id !== \"altair-viz-626190e0ef0b4837883fd4b0d823e186\") {\n",
       "      outputDiv = document.getElementById(\"altair-viz-626190e0ef0b4837883fd4b0d823e186\");\n",
       "    }\n",
       "    const paths = {\n",
       "      \"vega\": \"https://cdn.jsdelivr.net/npm/vega@5?noext\",\n",
       "      \"vega-lib\": \"https://cdn.jsdelivr.net/npm/vega-lib?noext\",\n",
       "      \"vega-lite\": \"https://cdn.jsdelivr.net/npm/vega-lite@5.16.3?noext\",\n",
       "      \"vega-embed\": \"https://cdn.jsdelivr.net/npm/vega-embed@6?noext\",\n",
       "    };\n",
       "\n",
       "    function maybeLoadScript(lib, version) {\n",
       "      var key = `${lib.replace(\"-\", \"\")}_version`;\n",
       "      return (VEGA_DEBUG[key] == version) ?\n",
       "        Promise.resolve(paths[lib]) :\n",
       "        new Promise(function(resolve, reject) {\n",
       "          var s = document.createElement('script');\n",
       "          document.getElementsByTagName(\"head\")[0].appendChild(s);\n",
       "          s.async = true;\n",
       "          s.onload = () => {\n",
       "            VEGA_DEBUG[key] = version;\n",
       "            return resolve(paths[lib]);\n",
       "          };\n",
       "          s.onerror = () => reject(`Error loading script: ${paths[lib]}`);\n",
       "          s.src = paths[lib];\n",
       "        });\n",
       "    }\n",
       "\n",
       "    function showError(err) {\n",
       "      outputDiv.innerHTML = `<div class=\"error\" style=\"color:red;\">${err}</div>`;\n",
       "      throw err;\n",
       "    }\n",
       "\n",
       "    function displayChart(vegaEmbed) {\n",
       "      vegaEmbed(outputDiv, spec, embedOpt)\n",
       "        .catch(err => showError(`Javascript Error: ${err.message}<br>This usually means there's a typo in your chart specification. See the javascript console for the full traceback.`));\n",
       "    }\n",
       "\n",
       "    if(typeof define === \"function\" && define.amd) {\n",
       "      requirejs.config({paths});\n",
       "      require([\"vega-embed\"], displayChart, err => showError(`Error loading script: ${err.message}`));\n",
       "    } else {\n",
       "      maybeLoadScript(\"vega\", \"5\")\n",
       "        .then(() => maybeLoadScript(\"vega-lite\", \"5.16.3\"))\n",
       "        .then(() => maybeLoadScript(\"vega-embed\", \"6\"))\n",
       "        .catch(showError)\n",
       "        .then(() => displayChart(vegaEmbed));\n",
       "    }\n",
       "  })({\"config\": {\"view\": {\"continuousWidth\": 300, \"continuousHeight\": 300, \"discreteHeight\": 300, \"discreteWidth\": 400}, \"header\": {\"title\": null}, \"title\": {\"anchor\": \"middle\", \"offset\": 10}}, \"hconcat\": [{\"mark\": \"bar\", \"encoding\": {\"color\": {\"value\": \"green\"}, \"row\": {\"field\": \"comparison_name\", \"header\": {\"labelAlign\": \"left\", \"labelAnchor\": \"middle\", \"labelAngle\": 0}, \"sort\": {\"field\": \"comparison_sort_order\"}, \"type\": \"nominal\"}, \"tooltip\": [{\"field\": \"m_probability_description\", \"title\": \"m probability description\", \"type\": \"nominal\"}, {\"field\": \"comparison_name\", \"title\": \"Comparison column name\", \"type\": \"nominal\"}, {\"field\": \"label_for_charts\", \"title\": \"Label\", \"type\": \"ordinal\"}, {\"field\": \"sql_condition\", \"title\": \"SQL condition\", \"type\": \"nominal\"}, {\"field\": \"m_probability\", \"format\": \".4p\", \"title\": \"m probability\", \"type\": \"quantitative\"}, {\"field\": \"u_probability\", \"format\": \".4p\", \"title\": \"u probability\", \"type\": \"quantitative\"}, {\"field\": \"bayes_factor\", \"format\": \",.4f\", \"title\": \"Bayes factor = m/u\", \"type\": \"quantitative\"}, {\"field\": \"log2_bayes_factor\", \"format\": \",.4f\", \"title\": \"Match weight = log2(m/u)\", \"type\": \"quantitative\"}], \"x\": {\"axis\": {\"title\": \"Proportion of record comparisons\"}, \"field\": \"m_probability\", \"type\": \"quantitative\"}, \"y\": {\"axis\": {\"title\": null}, \"field\": \"label_for_charts\", \"sort\": {\"field\": \"comparison_vector_value\", \"order\": \"descending\"}, \"type\": \"nominal\"}}, \"height\": {\"step\": 12}, \"resolve\": {\"scale\": {\"y\": \"independent\"}}, \"title\": {\"text\": \"Amongst matching record comparisons:\", \"fontSize\": 12, \"fontWeight\": \"bold\"}, \"transform\": [{\"filter\": \"(datum.bayes_factor != 'no-op filter due to vega lite issue 4680')\"}], \"width\": 150}, {\"mark\": \"bar\", \"encoding\": {\"color\": {\"value\": \"red\"}, \"row\": {\"field\": \"comparison_name\", \"header\": {\"labels\": false}, \"sort\": {\"field\": \"comparison_sort_order\"}, \"type\": \"nominal\"}, \"tooltip\": [{\"field\": \"u_probability_description\", \"title\": \"u probability description\", \"type\": \"nominal\"}, {\"field\": \"comparison_name\", \"title\": \"Comparison column name\", \"type\": \"nominal\"}, {\"field\": \"label_for_charts\", \"title\": \"Label\", \"type\": \"ordinal\"}, {\"field\": \"sql_condition\", \"title\": \"SQL condition\", \"type\": \"nominal\"}, {\"field\": \"m_probability\", \"format\": \".4p\", \"title\": \"m probability\", \"type\": \"quantitative\"}, {\"field\": \"u_probability\", \"format\": \".4p\", \"title\": \"u probability\", \"type\": \"quantitative\"}, {\"field\": \"bayes_factor\", \"format\": \",.4f\", \"title\": \"Bayes factor = m/u\", \"type\": \"quantitative\"}, {\"field\": \"log2_bayes_factor\", \"format\": \",.4f\", \"title\": \"Match weight = log2(m/u)\", \"type\": \"quantitative\"}], \"x\": {\"axis\": {\"title\": \"Proportion of record comparisons\"}, \"field\": \"u_probability\", \"type\": \"quantitative\"}, \"y\": {\"axis\": {\"title\": null}, \"field\": \"label_for_charts\", \"sort\": {\"field\": \"comparison_vector_value\", \"order\": \"descending\"}, \"type\": \"nominal\"}}, \"height\": {\"step\": 12}, \"resolve\": {\"scale\": {\"y\": \"independent\"}}, \"title\": {\"text\": \"Amongst non-matching record comparisons:\", \"fontSize\": 12, \"fontWeight\": \"bold\"}, \"transform\": [{\"filter\": \"(datum.bayes_factor != 'no-op filter2 due to vega lite issue 4680')\"}], \"width\": 150}], \"data\": {\"name\": \"data-8d17c09146a816a539d649cdab069146\"}, \"title\": {\"text\": \"Proportion of record comparisons in each comparison level by match status\", \"subtitle\": \"(m and u probabilities)\"}, \"$schema\": \"https://vega.github.io/schema/vega-lite/v5.9.3.json\", \"datasets\": {\"data-8d17c09146a816a539d649cdab069146\": [{\"comparison_name\": \"first_name\", \"sql_condition\": \"\\\"first_name_l\\\" = \\\"first_name_r\\\"\", \"label_for_charts\": \"Exact match on first_name\", \"m_probability\": 0.48862811465183914, \"u_probability\": 0.0057935713975033705, \"m_probability_description\": \"Amongst matching record comparisons, 48.86% of records are in the exact match on first_name comparison level\", \"u_probability_description\": \"Amongst non-matching record comparisons, 0.58% of records are in the exact match on first_name comparison level\", \"has_tf_adjustments\": false, \"tf_adjustment_column\": null, \"tf_adjustment_weight\": 1.0, \"is_null_level\": false, \"bayes_factor\": 84.33970708679004, \"log2_bayes_factor\": 6.39814010600916, \"comparison_vector_value\": 3, \"max_comparison_vector_value\": 3, \"bayes_factor_description\": \"If comparison level is `exact match on first_name` then comparison is 84.34 times more likely to be a match\", \"probability_two_random_records_match\": 0.0033319033319033323, \"comparison_sort_order\": 0}, {\"comparison_name\": \"first_name\", \"sql_condition\": \"jaro_winkler_similarity(\\\"first_name_l\\\", \\\"first_name_r\\\") >= 0.9\", \"label_for_charts\": \"Jaro-Winkler distance of first_name >= 0.9\", \"m_probability\": 0.19040810772389757, \"u_probability\": 0.003386832528670639, \"m_probability_description\": \"Amongst matching record comparisons, 19.04% of records are in the jaro-winkler distance of first_name >= 0.9 comparison level\", \"u_probability_description\": \"Amongst non-matching record comparisons, 0.34% of records are in the jaro-winkler distance of first_name >= 0.9 comparison level\", \"has_tf_adjustments\": false, \"tf_adjustment_column\": null, \"tf_adjustment_weight\": 1.0, \"is_null_level\": false, \"bayes_factor\": 56.22011307380303, \"log2_bayes_factor\": 5.813014450257181, \"comparison_vector_value\": 2, \"max_comparison_vector_value\": 3, \"bayes_factor_description\": \"If comparison level is `jaro-winkler distance of first_name >= 0.9` then comparison is 56.22 times more likely to be a match\", \"probability_two_random_records_match\": 0.0033319033319033323, \"comparison_sort_order\": 0}, {\"comparison_name\": \"first_name\", \"sql_condition\": \"jaro_winkler_similarity(\\\"first_name_l\\\", \\\"first_name_r\\\") >= 0.8\", \"label_for_charts\": \"Jaro-Winkler distance of first_name >= 0.8\", \"m_probability\": 0.08612375135042663, \"u_probability\": 0.005935655981326026, \"m_probability_description\": \"Amongst matching record comparisons, 8.61% of records are in the jaro-winkler distance of first_name >= 0.8 comparison level\", \"u_probability_description\": \"Amongst non-matching record comparisons, 0.59% of records are in the jaro-winkler distance of first_name >= 0.8 comparison level\", \"has_tf_adjustments\": false, \"tf_adjustment_column\": null, \"tf_adjustment_weight\": 1.0, \"is_null_level\": false, \"bayes_factor\": 14.509559115517773, \"log2_bayes_factor\": 3.85893177752292, \"comparison_vector_value\": 1, \"max_comparison_vector_value\": 3, \"bayes_factor_description\": \"If comparison level is `jaro-winkler distance of first_name >= 0.8` then comparison is 14.51 times more likely to be a match\", \"probability_two_random_records_match\": 0.0033319033319033323, \"comparison_sort_order\": 0}, {\"comparison_name\": \"first_name\", \"sql_condition\": \"ELSE\", \"label_for_charts\": \"All other comparisons\", \"m_probability\": 0.23484002627383654, \"u_probability\": 0.9848839400924999, \"m_probability_description\": \"Amongst matching record comparisons, 23.48% of records are in the all other comparisons comparison level\", \"u_probability_description\": \"Amongst non-matching record comparisons, 98.49% of records are in the all other comparisons comparison level\", \"has_tf_adjustments\": false, \"tf_adjustment_column\": null, \"tf_adjustment_weight\": 1.0, \"is_null_level\": false, \"bayes_factor\": 0.2384443655886809, \"log2_bayes_factor\": -2.068275402460431, \"comparison_vector_value\": 0, \"max_comparison_vector_value\": 3, \"bayes_factor_description\": \"If comparison level is `all other comparisons` then comparison is  4.19 times less likely to be a match\", \"probability_two_random_records_match\": 0.0033319033319033323, \"comparison_sort_order\": 0}, {\"comparison_name\": \"surname\", \"sql_condition\": \"\\\"surname_l\\\" = \\\"surname_r\\\"\", \"label_for_charts\": \"Exact match on surname\", \"m_probability\": 0.4321761147566043, \"u_probability\": 0.004889975550122249, \"m_probability_description\": \"Amongst matching record comparisons, 43.22% of records are in the exact match on surname comparison level\", \"u_probability_description\": \"Amongst non-matching record comparisons, 0.49% of records are in the exact match on surname comparison level\", \"has_tf_adjustments\": false, \"tf_adjustment_column\": null, \"tf_adjustment_weight\": 1.0, \"is_null_level\": false, \"bayes_factor\": 88.38001546772557, \"log2_bayes_factor\": 6.465648278473897, \"comparison_vector_value\": 3, \"max_comparison_vector_value\": 3, \"bayes_factor_description\": \"If comparison level is `exact match on surname` then comparison is 88.38 times more likely to be a match\", \"probability_two_random_records_match\": 0.0033319033319033323, \"comparison_sort_order\": 1}, {\"comparison_name\": \"surname\", \"sql_condition\": \"jaro_winkler_similarity(\\\"surname_l\\\", \\\"surname_r\\\") >= 0.9\", \"label_for_charts\": \"Jaro-Winkler distance of surname >= 0.9\", \"m_probability\": 0.25136142523303007, \"u_probability\": 0.0034032796868982687, \"m_probability_description\": \"Amongst matching record comparisons, 25.14% of records are in the jaro-winkler distance of surname >= 0.9 comparison level\", \"u_probability_description\": \"Amongst non-matching record comparisons, 0.34% of records are in the jaro-winkler distance of surname >= 0.9 comparison level\", \"has_tf_adjustments\": false, \"tf_adjustment_column\": null, \"tf_adjustment_weight\": 1.0, \"is_null_level\": false, \"bayes_factor\": 73.85858594011694, \"log2_bayes_factor\": 6.206693736571023, \"comparison_vector_value\": 2, \"max_comparison_vector_value\": 3, \"bayes_factor_description\": \"If comparison level is `jaro-winkler distance of surname >= 0.9` then comparison is 73.86 times more likely to be a match\", \"probability_two_random_records_match\": 0.0033319033319033323, \"comparison_sort_order\": 1}, {\"comparison_name\": \"surname\", \"sql_condition\": \"jaro_winkler_similarity(\\\"surname_l\\\", \\\"surname_r\\\") >= 0.8\", \"label_for_charts\": \"Jaro-Winkler distance of surname >= 0.8\", \"m_probability\": 0.07577664023008487, \"u_probability\": 0.0039048156407569612, \"m_probability_description\": \"Amongst matching record comparisons, 7.58% of records are in the jaro-winkler distance of surname >= 0.8 comparison level\", \"u_probability_description\": \"Amongst non-matching record comparisons, 0.39% of records are in the jaro-winkler distance of surname >= 0.8 comparison level\", \"has_tf_adjustments\": false, \"tf_adjustment_column\": null, \"tf_adjustment_weight\": 1.0, \"is_null_level\": false, \"bayes_factor\": 19.40594568387749, \"log2_bayes_factor\": 4.278426834642862, \"comparison_vector_value\": 1, \"max_comparison_vector_value\": 3, \"bayes_factor_description\": \"If comparison level is `jaro-winkler distance of surname >= 0.8` then comparison is 19.41 times more likely to be a match\", \"probability_two_random_records_match\": 0.0033319033319033323, \"comparison_sort_order\": 1}, {\"comparison_name\": \"surname\", \"sql_condition\": \"ELSE\", \"label_for_charts\": \"All other comparisons\", \"m_probability\": 0.24068581978028078, \"u_probability\": 0.9878019291222225, \"m_probability_description\": \"Amongst matching record comparisons, 24.07% of records are in the all other comparisons comparison level\", \"u_probability_description\": \"Amongst non-matching record comparisons, 98.78% of records are in the all other comparisons comparison level\", \"has_tf_adjustments\": false, \"tf_adjustment_column\": null, \"tf_adjustment_weight\": 1.0, \"is_null_level\": false, \"bayes_factor\": 0.24365797705432532, \"log2_bayes_factor\": -2.037070639571056, \"comparison_vector_value\": 0, \"max_comparison_vector_value\": 3, \"bayes_factor_description\": \"If comparison level is `all other comparisons` then comparison is  4.10 times less likely to be a match\", \"probability_two_random_records_match\": 0.0033319033319033323, \"comparison_sort_order\": 1}, {\"comparison_name\": \"dob\", \"sql_condition\": \"\\\"dob_l\\\" = \\\"dob_r\\\"\", \"label_for_charts\": \"Exact match on dob\", \"m_probability\": 0.3913915959617411, \"u_probability\": 0.0017477477477477479, \"m_probability_description\": \"Amongst matching record comparisons, 39.14% of records are in the exact match on dob comparison level\", \"u_probability_description\": \"Amongst non-matching record comparisons, 0.17% of records are in the exact match on dob comparison level\", \"has_tf_adjustments\": false, \"tf_adjustment_column\": null, \"tf_adjustment_weight\": 1.0, \"is_null_level\": false, \"bayes_factor\": 223.94055232862505, \"log2_bayes_factor\": 7.8069719923998955, \"comparison_vector_value\": 2, \"max_comparison_vector_value\": 2, \"bayes_factor_description\": \"If comparison level is `exact match on dob` then comparison is 223.94 times more likely to be a match\", \"probability_two_random_records_match\": 0.0033319033319033323, \"comparison_sort_order\": 2}, {\"comparison_name\": \"dob\", \"sql_condition\": \"levenshtein(\\\"dob_l\\\", \\\"dob_r\\\") <= 1\", \"label_for_charts\": \"Levenshtein distance of dob <= 1\", \"m_probability\": 0.14936704671768858, \"u_probability\": 0.0016016016016016017, \"m_probability_description\": \"Amongst matching record comparisons, 14.94% of records are in the levenshtein distance of dob <= 1 comparison level\", \"u_probability_description\": \"Amongst non-matching record comparisons, 0.16% of records are in the levenshtein distance of dob <= 1 comparison level\", \"has_tf_adjustments\": false, \"tf_adjustment_column\": null, \"tf_adjustment_weight\": 1.0, \"is_null_level\": false, \"bayes_factor\": 93.26104979435681, \"log2_bayes_factor\": 6.54320276437418, \"comparison_vector_value\": 1, \"max_comparison_vector_value\": 2, \"bayes_factor_description\": \"If comparison level is `levenshtein distance of dob <= 1` then comparison is 93.26 times more likely to be a match\", \"probability_two_random_records_match\": 0.0033319033319033323, \"comparison_sort_order\": 2}, {\"comparison_name\": \"dob\", \"sql_condition\": \"ELSE\", \"label_for_charts\": \"All other comparisons\", \"m_probability\": 0.4592413573205703, \"u_probability\": 0.9966506506506506, \"m_probability_description\": \"Amongst matching record comparisons, 45.92% of records are in the all other comparisons comparison level\", \"u_probability_description\": \"Amongst non-matching record comparisons, 99.67% of records are in the all other comparisons comparison level\", \"has_tf_adjustments\": false, \"tf_adjustment_column\": null, \"tf_adjustment_weight\": 1.0, \"is_null_level\": false, \"bayes_factor\": 0.4607846862095163, \"log2_bayes_factor\": -1.117835324063533, \"comparison_vector_value\": 0, \"max_comparison_vector_value\": 2, \"bayes_factor_description\": \"If comparison level is `all other comparisons` then comparison is  2.17 times less likely to be a match\", \"probability_two_random_records_match\": 0.0033319033319033323, \"comparison_sort_order\": 2}, {\"comparison_name\": \"city\", \"sql_condition\": \"\\\"city_l\\\" = \\\"city_r\\\"\", \"label_for_charts\": \"Exact match on city\", \"m_probability\": 0.5622587541522951, \"u_probability\": 0.0551475711801453, \"m_probability_description\": \"Amongst matching record comparisons, 56.23% of records are in the exact match on city comparison level\", \"u_probability_description\": \"Amongst non-matching record comparisons, 5.51% of records are in the exact match on city comparison level\", \"has_tf_adjustments\": true, \"tf_adjustment_column\": \"city\", \"tf_adjustment_weight\": 1.0, \"is_null_level\": false, \"bayes_factor\": 10.195530684671827, \"log2_bayes_factor\": 3.349864965506074, \"comparison_vector_value\": 1, \"max_comparison_vector_value\": 1, \"bayes_factor_description\": \"If comparison level is `exact match on city` then comparison is 10.20 times more likely to be a match\", \"probability_two_random_records_match\": 0.0033319033319033323, \"comparison_sort_order\": 3}, {\"comparison_name\": \"city\", \"sql_condition\": \"ELSE\", \"label_for_charts\": \"All other comparisons\", \"m_probability\": 0.4377412458477049, \"u_probability\": 0.9448524288198547, \"m_probability_description\": \"Amongst matching record comparisons, 43.77% of records are in the all other comparisons comparison level\", \"u_probability_description\": \"Amongst non-matching record comparisons, 94.49% of records are in the all other comparisons comparison level\", \"has_tf_adjustments\": false, \"tf_adjustment_column\": null, \"tf_adjustment_weight\": 1.0, \"is_null_level\": false, \"bayes_factor\": 0.46329059702418834, \"log2_bayes_factor\": -1.1100106932505542, \"comparison_vector_value\": 0, \"max_comparison_vector_value\": 1, \"bayes_factor_description\": \"If comparison level is `all other comparisons` then comparison is  2.16 times less likely to be a match\", \"probability_two_random_records_match\": 0.0033319033319033323, \"comparison_sort_order\": 3}, {\"comparison_name\": \"email\", \"sql_condition\": \"\\\"email_l\\\" = \\\"email_r\\\"\", \"label_for_charts\": \"Exact match on email\", \"m_probability\": 0.5528017447770468, \"u_probability\": 0.0021938713143283602, \"m_probability_description\": \"Amongst matching record comparisons, 55.28% of records are in the exact match on email comparison level\", \"u_probability_description\": \"Amongst non-matching record comparisons, 0.22% of records are in the exact match on email comparison level\", \"has_tf_adjustments\": false, \"tf_adjustment_column\": null, \"tf_adjustment_weight\": 1.0, \"is_null_level\": false, \"bayes_factor\": 251.9754650907059, \"log2_bayes_factor\": 7.97713945478885, \"comparison_vector_value\": 3, \"max_comparison_vector_value\": 3, \"bayes_factor_description\": \"If comparison level is `exact match on email` then comparison is 251.98 times more likely to be a match\", \"probability_two_random_records_match\": 0.0033319033319033323, \"comparison_sort_order\": 4}, {\"comparison_name\": \"email\", \"sql_condition\": \"NULLIF(regexp_extract(\\\"email_l\\\", '^[^@]+', 0), '') = NULLIF(regexp_extract(\\\"email_r\\\", '^[^@]+', 0), '')\", \"label_for_charts\": \"Exact match on transformed email\", \"m_probability\": 0.22070514410539996, \"u_probability\": 0.0010390328952024346, \"m_probability_description\": \"Amongst matching record comparisons, 22.07% of records are in the exact match on transformed email comparison level\", \"u_probability_description\": \"Amongst non-matching record comparisons, 0.10% of records are in the exact match on transformed email comparison level\", \"has_tf_adjustments\": false, \"tf_adjustment_column\": null, \"tf_adjustment_weight\": 1.0, \"is_null_level\": false, \"bayes_factor\": 212.4140103017624, \"log2_bayes_factor\": 7.7307351156450075, \"comparison_vector_value\": 2, \"max_comparison_vector_value\": 3, \"bayes_factor_description\": \"If comparison level is `exact match on transformed email` then comparison is 212.41 times more likely to be a match\", \"probability_two_random_records_match\": 0.0033319033319033323, \"comparison_sort_order\": 4}, {\"comparison_name\": \"email\", \"sql_condition\": \"jaro_winkler_similarity(\\\"email_l\\\", \\\"email_r\\\") >= 0.88\", \"label_for_charts\": \"Jaro-Winkler distance of email >= 0.88\", \"m_probability\": 0.2139554254205837, \"u_probability\": 0.0009135769109519858, \"m_probability_description\": \"Amongst matching record comparisons, 21.40% of records are in the jaro-winkler distance of email >= 0.88 comparison level\", \"u_probability_description\": \"Amongst non-matching record comparisons, 0.09% of records are in the jaro-winkler distance of email >= 0.88 comparison level\", \"has_tf_adjustments\": false, \"tf_adjustment_column\": null, \"tf_adjustment_weight\": 1.0, \"is_null_level\": false, \"bayes_factor\": 234.19530731970133, \"log2_bayes_factor\": 7.8715683579519276, \"comparison_vector_value\": 1, \"max_comparison_vector_value\": 3, \"bayes_factor_description\": \"If comparison level is `jaro-winkler distance of email >= 0.88` then comparison is 234.20 times more likely to be a match\", \"probability_two_random_records_match\": 0.0033319033319033323, \"comparison_sort_order\": 4}, {\"comparison_name\": \"email\", \"sql_condition\": \"ELSE\", \"label_for_charts\": \"All other comparisons\", \"m_probability\": 0.012537685696969529, \"u_probability\": 0.9958535188795172, \"m_probability_description\": \"Amongst matching record comparisons, 1.25% of records are in the all other comparisons comparison level\", \"u_probability_description\": \"Amongst non-matching record comparisons, 99.59% of records are in the all other comparisons comparison level\", \"has_tf_adjustments\": false, \"tf_adjustment_column\": null, \"tf_adjustment_weight\": 1.0, \"is_null_level\": false, \"bayes_factor\": 0.012589889435824139, \"log2_bayes_factor\": -6.311590576383293, \"comparison_vector_value\": 0, \"max_comparison_vector_value\": 3, \"bayes_factor_description\": \"If comparison level is `all other comparisons` then comparison is  79.43 times less likely to be a match\", \"probability_two_random_records_match\": 0.0033319033319033323, \"comparison_sort_order\": 4}]}}, {\"mode\": \"vega-lite\"});\n",
       "</script>"
      ],
      "text/plain": [
       "alt.HConcatChart(...)"
      ]
     },
     "execution_count": 11,
     "metadata": {},
     "output_type": "execute_result"
    }
   ],
   "source": [
    "linker.m_u_parameters_chart()"
   ]
  },
  {
   "cell_type": "markdown",
   "id": "c44fcc26",
   "metadata": {},
   "source": [
    "### Saving the model\n",
    "\n",
    "We can save the model, including our estimated parameters, to a `.json` file, so we can use it in the next tutorial.\n"
   ]
  },
  {
   "cell_type": "code",
   "execution_count": 12,
   "id": "992703a7",
   "metadata": {
    "execution": {
     "iopub.execute_input": "2024-03-13T11:57:22.048443Z",
     "iopub.status.busy": "2024-03-13T11:57:22.047973Z",
     "iopub.status.idle": "2024-03-13T11:57:22.056731Z",
     "shell.execute_reply": "2024-03-13T11:57:22.055604Z"
    }
   },
   "outputs": [],
   "source": [
    "settings = linker.save_model_to_json(\n",
    "    \"../demo_settings/saved_model_from_demo.json\", overwrite=True\n",
    ")"
   ]
  },
  {
   "cell_type": "markdown",
   "id": "d07e6901-110f-449e-9534-8e24bbf1d5fb",
   "metadata": {},
   "source": [
    "## Detecting unlinkable records\n",
    "\n",
    "An interesting application of our trained model that is useful to explore before making any predictions is to detect 'unlinkable' records.\n",
    "\n",
    "Unlinkable records are those which do not contain enough information to be linked. A simple example would be a record containing only 'John Smith', and null in all other fields. This record may link to other records, but we'll never know because there's not enough information to disambiguate any potential links. Unlinkable records can be found by linking records to themselves - if, even when matched to themselves, they don't meet the match threshold score, we can be sure they will never link to anything.\n"
   ]
  },
  {
   "cell_type": "code",
   "execution_count": 13,
   "id": "b0f17f7c-fa83-41b5-b2da-25ae18e11d81",
   "metadata": {
    "execution": {
     "iopub.execute_input": "2024-03-13T11:57:22.061215Z",
     "iopub.status.busy": "2024-03-13T11:57:22.060863Z",
     "iopub.status.idle": "2024-03-13T11:57:22.902763Z",
     "shell.execute_reply": "2024-03-13T11:57:22.902083Z"
    }
   },
   "outputs": [
    {
     "data": {
      "text/html": [
       "\n",
       "<style>\n",
       "  #altair-viz-5d621a8d308c40bba012864dc7214b3c.vega-embed {\n",
       "    width: 100%;\n",
       "    display: flex;\n",
       "  }\n",
       "\n",
       "  #altair-viz-5d621a8d308c40bba012864dc7214b3c.vega-embed details,\n",
       "  #altair-viz-5d621a8d308c40bba012864dc7214b3c.vega-embed details summary {\n",
       "    position: relative;\n",
       "  }\n",
       "</style>\n",
       "<div id=\"altair-viz-5d621a8d308c40bba012864dc7214b3c\"></div>\n",
       "<script type=\"text/javascript\">\n",
       "  var VEGA_DEBUG = (typeof VEGA_DEBUG == \"undefined\") ? {} : VEGA_DEBUG;\n",
       "  (function(spec, embedOpt){\n",
       "    let outputDiv = document.currentScript.previousElementSibling;\n",
       "    if (outputDiv.id !== \"altair-viz-5d621a8d308c40bba012864dc7214b3c\") {\n",
       "      outputDiv = document.getElementById(\"altair-viz-5d621a8d308c40bba012864dc7214b3c\");\n",
       "    }\n",
       "    const paths = {\n",
       "      \"vega\": \"https://cdn.jsdelivr.net/npm/vega@5?noext\",\n",
       "      \"vega-lib\": \"https://cdn.jsdelivr.net/npm/vega-lib?noext\",\n",
       "      \"vega-lite\": \"https://cdn.jsdelivr.net/npm/vega-lite@5.16.3?noext\",\n",
       "      \"vega-embed\": \"https://cdn.jsdelivr.net/npm/vega-embed@6?noext\",\n",
       "    };\n",
       "\n",
       "    function maybeLoadScript(lib, version) {\n",
       "      var key = `${lib.replace(\"-\", \"\")}_version`;\n",
       "      return (VEGA_DEBUG[key] == version) ?\n",
       "        Promise.resolve(paths[lib]) :\n",
       "        new Promise(function(resolve, reject) {\n",
       "          var s = document.createElement('script');\n",
       "          document.getElementsByTagName(\"head\")[0].appendChild(s);\n",
       "          s.async = true;\n",
       "          s.onload = () => {\n",
       "            VEGA_DEBUG[key] = version;\n",
       "            return resolve(paths[lib]);\n",
       "          };\n",
       "          s.onerror = () => reject(`Error loading script: ${paths[lib]}`);\n",
       "          s.src = paths[lib];\n",
       "        });\n",
       "    }\n",
       "\n",
       "    function showError(err) {\n",
       "      outputDiv.innerHTML = `<div class=\"error\" style=\"color:red;\">${err}</div>`;\n",
       "      throw err;\n",
       "    }\n",
       "\n",
       "    function displayChart(vegaEmbed) {\n",
       "      vegaEmbed(outputDiv, spec, embedOpt)\n",
       "        .catch(err => showError(`Javascript Error: ${err.message}<br>This usually means there's a typo in your chart specification. See the javascript console for the full traceback.`));\n",
       "    }\n",
       "\n",
       "    if(typeof define === \"function\" && define.amd) {\n",
       "      requirejs.config({paths});\n",
       "      require([\"vega-embed\"], displayChart, err => showError(`Error loading script: ${err.message}`));\n",
       "    } else {\n",
       "      maybeLoadScript(\"vega\", \"5\")\n",
       "        .then(() => maybeLoadScript(\"vega-lite\", \"5.16.3\"))\n",
       "        .then(() => maybeLoadScript(\"vega-embed\", \"6\"))\n",
       "        .catch(showError)\n",
       "        .then(() => displayChart(vegaEmbed));\n",
       "    }\n",
       "  })({\"config\": {\"view\": {\"continuousWidth\": 400, \"continuousHeight\": 300}}, \"layer\": [{\"mark\": {\"type\": \"line\"}, \"encoding\": {\"x\": {\"axis\": {\"format\": \"+\", \"title\": \"Threshold match weight\"}, \"field\": \"match_weight\", \"type\": \"quantitative\"}, \"y\": {\"axis\": {\"format\": \"%\", \"title\": \"Percentage of unlinkable records\"}, \"field\": \"cum_prop\", \"type\": \"quantitative\"}}}, {\"mark\": {\"type\": \"point\"}, \"encoding\": {\"opacity\": {\"condition\": {\"param\": \"x_match_weight_y_cum_prop_coords_of_mouse\", \"value\": 1, \"empty\": false}, \"value\": 0}, \"tooltip\": [{\"field\": \"match_weight\", \"format\": \"+.5\", \"title\": \"Match weight\", \"type\": \"quantitative\"}, {\"field\": \"match_probability\", \"format\": \".5\", \"title\": \"Match probability\", \"type\": \"quantitative\"}, {\"field\": \"cum_prop\", \"format\": \".3%\", \"title\": \"Proportion of unlinkable records\", \"type\": \"quantitative\"}], \"x\": {\"axis\": {\"title\": \"Threshold match weight\"}, \"field\": \"match_weight\", \"type\": \"quantitative\"}, \"y\": {\"axis\": {\"format\": \"%\", \"title\": \"Percentage of unlinkable records\"}, \"field\": \"cum_prop\", \"type\": \"quantitative\"}}, \"name\": \"mouse_coords\"}, {\"mark\": {\"type\": \"rule\", \"color\": \"gray\"}, \"encoding\": {\"x\": {\"field\": \"match_weight\", \"type\": \"quantitative\"}}, \"transform\": [{\"filter\": {\"param\": \"x_match_weight_y_cum_prop_coords_of_mouse\", \"empty\": false}}]}, {\"mark\": {\"type\": \"rule\", \"color\": \"gray\"}, \"encoding\": {\"y\": {\"field\": \"cum_prop\", \"type\": \"quantitative\"}}, \"transform\": [{\"filter\": {\"param\": \"x_match_weight_y_cum_prop_coords_of_mouse\", \"empty\": false}}]}], \"data\": {\"name\": \"data-1699667b92bd2086d5613405c008a955\"}, \"height\": 400, \"params\": [{\"name\": \"x_match_weight_y_cum_prop_coords_of_mouse\", \"select\": {\"type\": \"point\", \"fields\": [\"match_weight\", \"cum_prop\"], \"nearest\": true, \"on\": \"mouseover\"}, \"views\": [\"mouse_coords\"]}], \"title\": {\"text\": \"Unlinkable records\", \"subtitle\": \"Records with insufficient information to exceed a given match threshold\"}, \"width\": 400, \"$schema\": \"https://vega.github.io/schema/vega-lite/v5.9.3.json\", \"datasets\": {\"data-1699667b92bd2086d5613405c008a955\": [{\"match_weight\": -0.42, \"match_probability\": 0.42813, \"prop\": 0.0020000000949949026, \"cum_prop\": 0.0020000000949949026}, {\"match_weight\": 4.61, \"match_probability\": 0.9607, \"prop\": 0.0010000000474974513, \"cum_prop\": 0.003000000142492354}, {\"match_weight\": 5.98, \"match_probability\": 0.98441, \"prop\": 0.003000000026077032, \"cum_prop\": 0.006000000168569386}, {\"match_weight\": 6.05, \"match_probability\": 0.98511, \"prop\": 0.007000000216066837, \"cum_prop\": 0.013000000384636223}, {\"match_weight\": 6.1, \"match_probability\": 0.9856, \"prop\": 0.0010000000474974513, \"cum_prop\": 0.014000000432133675}, {\"match_weight\": 7.38, \"match_probability\": 0.99404, \"prop\": 0.004999999888241291, \"cum_prop\": 0.019000000320374966}, {\"match_weight\": 7.45, \"match_probability\": 0.99431, \"prop\": 0.0020000000949949026, \"cum_prop\": 0.02100000041536987}, {\"match_weight\": 7.56, \"match_probability\": 0.99473, \"prop\": 0.006000000052154064, \"cum_prop\": 0.027000000467523932}, {\"match_weight\": 8.42, \"match_probability\": 0.99709, \"prop\": 0.003000000026077032, \"cum_prop\": 0.030000000493600965}, {\"match_weight\": 8.96, \"match_probability\": 0.998, \"prop\": 0.00800000037997961, \"cum_prop\": 0.038000000873580575}, {\"match_weight\": 9.56, \"match_probability\": 0.99868, \"prop\": 0.003000000026077032, \"cum_prop\": 0.04100000089965761}, {\"match_weight\": 9.77, \"match_probability\": 0.99886, \"prop\": 0.0010000000474974513, \"cum_prop\": 0.04200000094715506}, {\"match_weight\": 10.49, \"match_probability\": 0.99931, \"prop\": 0.0010000000474974513, \"cum_prop\": 0.04300000099465251}, {\"match_weight\": 10.65, \"match_probability\": 0.99938, \"prop\": 0.0010000000474974513, \"cum_prop\": 0.04400000104214996}, {\"match_weight\": 10.73, \"match_probability\": 0.99941, \"prop\": 0.0010000000474974513, \"cum_prop\": 0.04500000108964741}, {\"match_weight\": 10.8, \"match_probability\": 0.99944, \"prop\": 0.0020000000949949026, \"cum_prop\": 0.047000001184642315}, {\"match_weight\": 10.82, \"match_probability\": 0.99945, \"prop\": 0.0020000000949949026, \"cum_prop\": 0.04900000127963722}, {\"match_weight\": 10.88, \"match_probability\": 0.99947, \"prop\": 0.0010000000474974513, \"cum_prop\": 0.05000000132713467}, {\"match_weight\": 11.01, \"match_probability\": 0.99952, \"prop\": 0.0010000000474974513, \"cum_prop\": 0.05100000137463212}, {\"match_weight\": 11.07, \"match_probability\": 0.99954, \"prop\": 0.0010000000474974513, \"cum_prop\": 0.05200000142212957}, {\"match_weight\": 11.18, \"match_probability\": 0.99957, \"prop\": 0.0010000000474974513, \"cum_prop\": 0.05300000146962702}, {\"match_weight\": 11.23, \"match_probability\": 0.99958, \"prop\": 0.0010000000474974513, \"cum_prop\": 0.054000001517124474}, {\"match_weight\": 11.65, \"match_probability\": 0.99969, \"prop\": 0.0010000000474974513, \"cum_prop\": 0.055000001564621925}, {\"match_weight\": 11.71, \"match_probability\": 0.9997, \"prop\": 0.003000000026077032, \"cum_prop\": 0.05800000159069896}, {\"match_weight\": 11.88, \"match_probability\": 0.99974, \"prop\": 0.0010000000474974513, \"cum_prop\": 0.05900000163819641}, {\"match_weight\": 12.01, \"match_probability\": 0.99976, \"prop\": 0.004000000189989805, \"cum_prop\": 0.06300000182818621}, {\"match_weight\": 12.08, \"match_probability\": 0.99977, \"prop\": 0.0010000000474974513, \"cum_prop\": 0.06400000187568367}, {\"match_weight\": 12.23, \"match_probability\": 0.99979, \"prop\": 0.0010000000474974513, \"cum_prop\": 0.06500000192318112}, {\"match_weight\": 12.31, \"match_probability\": 0.9998, \"prop\": 0.003000000026077032, \"cum_prop\": 0.06800000194925815}, {\"match_weight\": 12.4, \"match_probability\": 0.99981, \"prop\": 0.0010000000474974513, \"cum_prop\": 0.0690000019967556}, {\"match_weight\": 12.45, \"match_probability\": 0.99982, \"prop\": 0.023000000044703484, \"cum_prop\": 0.09200000204145908}, {\"match_weight\": 12.56, \"match_probability\": 0.99983, \"prop\": 0.0010000000474974513, \"cum_prop\": 0.09300000208895653}, {\"match_weight\": 12.59, \"match_probability\": 0.99984, \"prop\": 0.0020000000949949026, \"cum_prop\": 0.09500000218395144}, {\"match_weight\": 12.7, \"match_probability\": 0.99985, \"prop\": 0.0010000000474974513, \"cum_prop\": 0.09600000223144889}, {\"match_weight\": 12.88, \"match_probability\": 0.99987, \"prop\": 0.0010000000474974513, \"cum_prop\": 0.09700000227894634}, {\"match_weight\": 13.4, \"match_probability\": 0.99991, \"prop\": 0.0010000000474974513, \"cum_prop\": 0.09800000232644379}, {\"match_weight\": 13.88, \"match_probability\": 0.99993, \"prop\": 0.023000000044703484, \"cum_prop\": 0.12100000237114727}, {\"match_weight\": 14.03, \"match_probability\": 0.99994, \"prop\": 0.03400000184774399, \"cum_prop\": 0.15500000421889126}, {\"match_weight\": 14.4, \"match_probability\": 0.99995, \"prop\": 0.0010000000474974513, \"cum_prop\": 0.15600000426638871}, {\"match_weight\": 14.88, \"match_probability\": 0.99997, \"prop\": 0.012000000104308128, \"cum_prop\": 0.16800000437069684}, {\"match_weight\": 15.96, \"match_probability\": 0.99998, \"prop\": 0.04800000041723251, \"cum_prop\": 0.21600000478792936}, {\"match_weight\": 17.58, \"match_probability\": 0.99999, \"prop\": 0.035999998450279236, \"cum_prop\": 0.2520000032382086}]}}, {\"mode\": \"vega-lite\"});\n",
       "</script>"
      ],
      "text/plain": [
       "alt.LayerChart(...)"
      ]
     },
     "execution_count": 13,
     "metadata": {},
     "output_type": "execute_result"
    }
   ],
   "source": [
    "linker.unlinkables_chart()"
   ]
  },
  {
   "cell_type": "markdown",
   "id": "ca2570b7-9f68-4fb2-b7a9-527233a8fcd4",
   "metadata": {},
   "source": [
    "In the above chart, we can see that about 1.3% of records in the input dataset are unlinkable at a threshold match weight of 6.11 (correponding to a match probability of around 98.6%)\n"
   ]
  },
  {
   "cell_type": "markdown",
   "id": "83fd8e7f",
   "metadata": {},
   "source": [
    "!!! note \"Further Reading\"\n",
    "\n",
    "    :material-tools: For more on the model estimation tools in Splink, please refer to the [Model Training API documentation](../../linkerest.md).\n",
    "\n",
    "    :simple-readme: For a deeper dive on:\n",
    "\n",
    "    * choosing comparisons, please refer to the [Comparisons Topic Guides](../../topic_guides/comparisons/customising_comparisons.ipynb)\n",
    "    * the underlying model theory, please refer to the [Fellegi Sunter Topic Guide](../../topic_guides/theory/fellegi_sunter.md)\n",
    "    * model training, please refer to the Model Training Topic Guides (Coming Soon).\n",
    "\n",
    "    :bar_chart: For more on the charts used in this tutorial, please refer to the [Charts Gallery](../../charts/index.md#model-training).\n"
   ]
  },
  {
   "cell_type": "markdown",
   "id": "fd531cd2",
   "metadata": {},
   "source": [
    "## Next steps\n",
    "\n",
    "Now we have trained a model, we can move on to using it predict matching records.\n"
   ]
  }
 ],
 "metadata": {
  "kernelspec": {
   "display_name": ".venv",
   "language": "python",
   "name": "python3"
  },
  "language_info": {
   "codemirror_mode": {
    "name": "ipython",
    "version": 3
   },
   "file_extension": ".py",
   "mimetype": "text/x-python",
   "name": "python",
   "nbconvert_exporter": "python",
   "pygments_lexer": "ipython3",
   "version": "3.10.8"
  }
 },
 "nbformat": 4,
 "nbformat_minor": 5
}
