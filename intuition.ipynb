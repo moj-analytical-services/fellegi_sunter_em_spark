{
 "cells": [
  {
   "cell_type": "code",
   "execution_count": 1,
   "metadata": {},
   "outputs": [],
   "source": [
    "%autoreload 2"
   ]
  },
  {
   "cell_type": "code",
   "execution_count": 2,
   "metadata": {},
   "outputs": [],
   "source": [
    "import logging \n",
    "logging.basicConfig()\n",
    "logging.getLogger(\"sparklink\").setLevel(logging.WARNING)"
   ]
  },
  {
   "cell_type": "code",
   "execution_count": 3,
   "metadata": {},
   "outputs": [],
   "source": [
    "from pyspark.context import SparkContext, SparkConf\n",
    "from pyspark.sql import SparkSession, Window\n",
    "from pyspark.sql.types import StructType\n",
    "import pyspark.sql.functions as f\n",
    "\n",
    "# WARNING:\n",
    "# These config options are appropriate only if you're running Spark locally!!!\n",
    "conf=SparkConf()\n",
    "conf.set('spark.driver.memory', '8g')\n",
    "conf.set(\"spark.sql.shuffle.partitions\", \"8\") \n",
    "\n",
    "sc = SparkContext.getOrCreate(conf=conf)\n",
    "\n",
    "sc = SparkContext.getOrCreate()\n",
    "spark = SparkSession(sc)"
   ]
  },
  {
   "cell_type": "code",
   "execution_count": 4,
   "metadata": {},
   "outputs": [
    {
     "name": "stdout",
     "output_type": "stream",
     "text": [
      "+---------+----------+-------+----------+------+--------------------+-----+\n",
      "|unique_id|first_name|surname|       dob|  city|               email|group|\n",
      "+---------+----------+-------+----------+------+--------------------+-----+\n",
      "|        0|    Julia |   null|2015-10-29|London| hannah88@powers.com|    0|\n",
      "|        1|    Julia | Taylor|2015-07-31|London| hannah88@powers.com|    0|\n",
      "|        2|    Julia | Taylor|2016-01-27|London| hannah88@powers.com|    0|\n",
      "|        3|    Julia | Taylor|2015-10-29|  null|  hannah88opowersc@m|    0|\n",
      "|        4|      oNah| Watson|2008-03-23|Bolton|matthew78@ballard...|    1|\n",
      "+---------+----------+-------+----------+------+--------------------+-----+\n",
      "only showing top 5 rows\n",
      "\n"
     ]
    }
   ],
   "source": [
    "df = spark.read.parquet(\"data/fake_1000.parquet\")\n",
    "df.show(5)"
   ]
  },
  {
   "cell_type": "code",
   "execution_count": null,
   "metadata": {},
   "outputs": [],
   "source": []
  },
  {
   "cell_type": "code",
   "execution_count": 5,
   "metadata": {},
   "outputs": [],
   "source": [
    "blocking_rules = [\n",
    "    'l.first_name = r.first_name  and  l.surname = r.surname',\n",
    "    'l.first_name = r.first_name  and  l.surname = r.surname',\n",
    "    \n",
    "    'l.first_name = r.first_name  and  l.dob = r.dob',\n",
    "    'l.first_name = r.first_name  and  l.city = r.city',\n",
    "    'l.dob = r.dob  and  l.city = r.city'\n",
    "]"
   ]
  },
  {
   "cell_type": "code",
   "execution_count": 6,
   "metadata": {},
   "outputs": [
    {
     "name": "stdout",
     "output_type": "stream",
     "text": [
      "+-----------+-----------+------------+------------+---------+---------+----------+----------+------+------+--------------------+--------------------+-------+-------+\n",
      "|unique_id_l|unique_id_r|first_name_l|first_name_r|surname_l|surname_r|     dob_l|     dob_r|city_l|city_r|             email_l|             email_r|group_l|group_r|\n",
      "+-----------+-----------+------------+------------+---------+---------+----------+----------+------+------+--------------------+--------------------+-------+-------+\n",
      "|          6|         11|      Watson|      Watson|    Noah |    Noah |2008-03-23|2008-01-21|  null| Bolno|matthew78@ballard...|matthea78@bwllar-...|      1|      1|\n",
      "|         38|         41|     Olivia |     Olivia |  Andrews|  Andrews|2009-01-23|2009-01-23|  null|London|hesterkurt@taylor...|hesterkurt@taylor...|      9|      9|\n",
      "|         40|         42|     Olivia |     Olivia |  Andrews|  Andrews|2009-03-24|2009-01-23|London|London|hesterkurt@taylor...|hesterkuot@taylrr...|      9|      9|\n",
      "|         40|         41|     Olivia |     Olivia |  Andrews|  Andrews|2009-03-24|2009-01-23|London|London|hesterkurt@taylor...|hesterkurt@taylor...|      9|      9|\n",
      "|         51|         52|   Theodore |   Theodore |  Maxwell|  Maxwell|1982-10-19|1982-10-19| Leeds|  null|markstewart@gross...|                null|     12|     12|\n",
      "+-----------+-----------+------------+------------+---------+---------+----------+----------+------+------+--------------------+--------------------+-------+-------+\n",
      "only showing top 5 rows\n",
      "\n"
     ]
    }
   ],
   "source": [
    "from sparklink.blocking import block_using_rules\n",
    "df_comparison = block_using_rules(df, blocking_rules, spark=spark)\n",
    "df_comparison.show(5)\n",
    "# df_comparison = cartestian_block(df, df.columns, spark=spark)"
   ]
  },
  {
   "cell_type": "code",
   "execution_count": 7,
   "metadata": {},
   "outputs": [
    {
     "name": "stdout",
     "output_type": "stream",
     "text": [
      "+-----------+-----------+------------+------------+---------+---------+----------+----------+------+------+--------------------+--------------------+-------+-------+-------+-------+-------+\n",
      "|unique_id_l|unique_id_r|first_name_l|first_name_r|surname_l|surname_r|     dob_l|     dob_r|city_l|city_r|             email_l|             email_r|gamma_0|gamma_1|gamma_2|gamma_3|gamma_4|\n",
      "+-----------+-----------+------------+------------+---------+---------+----------+----------+------+------+--------------------+--------------------+-------+-------+-------+-------+-------+\n",
      "|          6|         11|      Watson|      Watson|    Noah |    Noah |2008-03-23|2008-01-21|  null| Bolno|matthew78@ballard...|matthea78@bwllar-...|      2|      2|      0|     -1|      0|\n",
      "|         38|         41|     Olivia |     Olivia |  Andrews|  Andrews|2009-01-23|2009-01-23|  null|London|hesterkurt@taylor...|hesterkurt@taylor...|      2|      2|      1|     -1|      1|\n",
      "|         40|         42|     Olivia |     Olivia |  Andrews|  Andrews|2009-03-24|2009-01-23|London|London|hesterkurt@taylor...|hesterkuot@taylrr...|      2|      2|      0|      1|      0|\n",
      "|         40|         41|     Olivia |     Olivia |  Andrews|  Andrews|2009-03-24|2009-01-23|London|London|hesterkurt@taylor...|hesterkurt@taylor...|      2|      2|      0|      1|      1|\n",
      "|         51|         52|   Theodore |   Theodore |  Maxwell|  Maxwell|1982-10-19|1982-10-19| Leeds|  null|markstewart@gross...|                null|      2|      2|      1|     -1|     -1|\n",
      "+-----------+-----------+------------+------------+---------+---------+----------+----------+------+------+--------------------+--------------------+-------+-------+-------+-------+-------+\n",
      "only showing top 5 rows\n",
      "\n"
     ]
    }
   ],
   "source": [
    "from sparklink.gammas import add_gammas\n",
    "\n",
    "gamma_settings = {\n",
    "    \"first_name\": {\n",
    "        \"levels\": 3,\n",
    "    },\n",
    "    \"surname\": {\n",
    "        \"levels\": 3\n",
    "    },\n",
    "    \"dob\": {\n",
    "        \"levels\": 2\n",
    "    },\n",
    "    \"city\": {\n",
    "        \"levels\": 2\n",
    "    },\n",
    "    \"email\": {\n",
    "        \"levels\": 2\n",
    "    }\n",
    "}\n",
    "\n",
    "\n",
    "\n",
    "df_gammas = add_gammas(df_comparison, gamma_settings, spark, include_orig_cols = True)\n",
    "df_gammas.show(5)"
   ]
  },
  {
   "cell_type": "code",
   "execution_count": 8,
   "metadata": {},
   "outputs": [],
   "source": [
    "from sparklink.params import Params \n",
    "params = Params(gamma_settings, starting_lambda=0.5)"
   ]
  },
  {
   "cell_type": "code",
   "execution_count": 9,
   "metadata": {},
   "outputs": [],
   "source": [
    "from sparklink.expectation_step import run_expectation_step\n",
    "df_e= run_expectation_step(df_gammas, spark, params, compute_ll=True)"
   ]
  },
  {
   "cell_type": "code",
   "execution_count": 10,
   "metadata": {},
   "outputs": [],
   "source": [
    "from sparklink.iterate import iterate\n",
    "df_e = iterate(df_gammas, spark, params, num_iterations=2, compute_ll=True)"
   ]
  },
  {
   "cell_type": "code",
   "execution_count": 11,
   "metadata": {},
   "outputs": [
    {
     "data": {
      "text/plain": [
       "{'unique_id_l': 6,\n",
       " 'unique_id_r': 11,\n",
       " 'first_name_l': 'Watson',\n",
       " 'first_name_r': 'Watson',\n",
       " 'surname_l': 'Noah ',\n",
       " 'surname_r': 'Noah ',\n",
       " 'dob_l': '2008-03-23',\n",
       " 'dob_r': '2008-01-21',\n",
       " 'city_l': None,\n",
       " 'city_r': 'Bolno',\n",
       " 'email_l': 'matthew78@ballard-mcdonald.net',\n",
       " 'email_r': 'matthea78@bwllar-mcdonald.net',\n",
       " 'gamma_0': 2,\n",
       " 'gamma_1': 2,\n",
       " 'gamma_2': 0,\n",
       " 'gamma_3': -1,\n",
       " 'gamma_4': 0,\n",
       " 'prob_gamma_0_non_match': Decimal('0.747147023677825900'),\n",
       " 'prob_gamma_0_match': Decimal('0.66516697406768800'),\n",
       " 'prob_gamma_1_non_match': Decimal('0.2743709981441498'),\n",
       " 'prob_gamma_1_match': Decimal('0.59921497106552120'),\n",
       " 'prob_gamma_2_non_match': Decimal('0.5074800252914429'),\n",
       " 'prob_gamma_2_match': Decimal('0.20798799395561218'),\n",
       " 'prob_gamma_3_non_match': Decimal('1.00000000000000000'),\n",
       " 'prob_gamma_3_match': Decimal('1.0000000000000000'),\n",
       " 'prob_gamma_4_non_match': Decimal('0.93505102396011350'),\n",
       " 'prob_gamma_4_match': Decimal('0.25905999541282654'),\n",
       " 'match_probability': Decimal('0.485043')}"
      ]
     },
     "execution_count": 11,
     "metadata": {},
     "output_type": "execute_result"
    }
   ],
   "source": [
    "rdd  = df_e.limit(1).collect()\n",
    "row_dict = rdd[0].asDict()\n",
    "row_dict"
   ]
  },
  {
   "cell_type": "code",
   "execution_count": 12,
   "metadata": {},
   "outputs": [
    {
     "name": "stdout",
     "output_type": "stream",
     "text": [
      "\n",
      "Initial probability of match (prior) = λ = 0.8101189732551575\n",
      "\n",
      "Comparison of first_name.  Values are:\n",
      "first_name_l: Watson\n",
      "first_name_r: Watson\n",
      "Comparison has 3 levels\n",
      "𝛾 for this comparison = gamma_0 = 2\n",
      "Amongst matches, P(𝛾 = 0.665166974067688):\n",
      "Amongst non matches, P(𝛾 = 0.7471470236778259):\n",
      "Adjustment factor = p1/(p1 + p2) = 0.470976691535663\n",
      "New probability of match (updated belief): 0.7915938343548936\n",
      "\n",
      "Comparison of surname.  Values are:\n",
      "surname_l: Noah \n",
      "surname_r: Noah \n",
      "Comparison has 3 levels\n",
      "𝛾 for this comparison = gamma_1 = 2\n",
      "Amongst matches, P(𝛾 = 0.5992149710655212):\n",
      "Amongst non matches, P(𝛾 = 0.2743709981441498):\n",
      "Adjustment factor = p1/(p1 + p2) = 0.685925589679088\n",
      "New probability of match (updated belief): 0.8924196765977039\n",
      "\n",
      "Comparison of dob.  Values are:\n",
      "dob_l: 2008-03-23\n",
      "dob_r: 2008-01-21\n",
      "Comparison has 2 levels\n",
      "𝛾 for this comparison = gamma_2 = 0\n",
      "Amongst matches, P(𝛾 = 0.20798799395561218):\n",
      "Amongst non matches, P(𝛾 = 0.5074800252914429):\n",
      "Adjustment factor = p1/(p1 + p2) = 0.29070201373150795\n",
      "New probability of match (updated belief): 0.7727178457263094\n",
      "\n",
      "Comparison of city.  Values are:\n",
      "city_l: None\n",
      "city_r: Bolno\n",
      "Comparison has 2 levels\n",
      "𝛾 for this comparison = gamma_3 = -1\n",
      "Amongst matches, P(𝛾 = 1.0):\n",
      "Amongst non matches, P(𝛾 = 1.0):\n",
      "Adjustment factor = p1/(p1 + p2) = 0.5\n",
      "New probability of match (updated belief): 0.7727178457263094\n",
      "\n",
      "Comparison of email.  Values are:\n",
      "email_l: matthew78@ballard-mcdonald.net\n",
      "email_r: matthea78@bwllar-mcdonald.net\n",
      "Comparison has 2 levels\n",
      "𝛾 for this comparison = gamma_4 = 0\n",
      "Amongst matches, P(𝛾 = 0.25905999541282654):\n",
      "Amongst non matches, P(𝛾 = 0.9350510239601135):\n",
      "Adjustment factor = p1/(p1 + p2) = 0.21694799830996112\n",
      "New probability of match (updated belief): 0.4850495410694027\n",
      "\n",
      "Final probability of match = 0.4850495410694027\n",
      "\n"
     ]
    }
   ],
   "source": [
    "from sparklink.intuition import intuition_report\n",
    "\n",
    "r = intuition_report(row_dict, params)\n",
    "print(r)"
   ]
  },
  {
   "cell_type": "code",
   "execution_count": 13,
   "metadata": {},
   "outputs": [
    {
     "data": {
      "text/plain": [
       "[{'gamma': 'gamma_0',\n",
       "  'col_name': 'first_name',\n",
       "  'value': 0.470976691535663,\n",
       "  'normalised': -0.029023308464336983},\n",
       " {'gamma': 'gamma_1',\n",
       "  'col_name': 'surname',\n",
       "  'value': 0.685925589679088,\n",
       "  'normalised': 0.185925589679088},\n",
       " {'gamma': 'gamma_2',\n",
       "  'col_name': 'dob',\n",
       "  'value': 0.29070201373150795,\n",
       "  'normalised': -0.20929798626849205},\n",
       " {'gamma': 'gamma_3', 'col_name': 'city', 'value': 0.5, 'normalised': 0.0},\n",
       " {'gamma': 'gamma_4',\n",
       "  'col_name': 'email',\n",
       "  'value': 0.21694799830996112,\n",
       "  'normalised': -0.28305200169003886}]"
      ]
     },
     "execution_count": 13,
     "metadata": {},
     "output_type": "execute_result"
    }
   ],
   "source": [
    "from sparklink.intuition import get_adjustment_factors\n",
    "adjustment_factors = get_adjustment_factors(row_dict, params)\n",
    "adjustment_factors"
   ]
  },
  {
   "cell_type": "code",
   "execution_count": 14,
   "metadata": {},
   "outputs": [
    {
     "data": {
      "application/vnd.vegalite.v3+json": {
       "$schema": "https://vega.github.io/schema/vega-lite/v3.4.0.json",
       "config": {
        "mark": {
         "tooltip": null
        },
        "view": {
         "height": 300,
         "width": 400
        }
       },
       "data": {
        "name": "data-1c3ec933d222467219a16a993e9458a2"
       },
       "datasets": {
        "data-1c3ec933d222467219a16a993e9458a2": [
         {
          "col_name": "first_name",
          "gamma": "gamma_0",
          "normalised": -0.029023308464336983,
          "value": 0.470976691535663
         },
         {
          "col_name": "surname",
          "gamma": "gamma_1",
          "normalised": 0.185925589679088,
          "value": 0.685925589679088
         },
         {
          "col_name": "dob",
          "gamma": "gamma_2",
          "normalised": -0.20929798626849205,
          "value": 0.29070201373150795
         },
         {
          "col_name": "city",
          "gamma": "gamma_3",
          "normalised": 0,
          "value": 0.5
         },
         {
          "col_name": "email",
          "gamma": "gamma_4",
          "normalised": -0.28305200169003886,
          "value": 0.21694799830996112
         }
        ]
       },
       "encoding": {
        "color": {
         "field": "normalised",
         "scale": {
          "domain": [
           -0.5,
           -0.4,
           0,
           0.4,
           0.5
          ],
          "range": [
           "red",
           "orange",
           "green",
           "orange",
           "red"
          ]
         },
         "type": "quantitative"
        },
        "tooltip": [
         {
          "field": "field",
          "type": "nominal"
         },
         {
          "field": "normalised",
          "type": "quantitative"
         }
        ],
        "x": {
         "field": "normalised",
         "scale": {
          "domain": [
           -0.5,
           0.5
          ]
         },
         "type": "quantitative"
        },
        "y": {
         "field": "col_name",
         "sort": {
          "field": "gamma"
         },
         "type": "nominal"
        }
       },
       "mark": "bar"
      },
      "image/png": "[encoded data removed]",
      "text/plain": [
       "<VegaLite 3 object>\n",
       "\n",
       "If you see this message, it means the renderer has not been properly enabled\n",
       "for the frontend that you are using. For more information, see\n",
       "https://altair-viz.github.io/user_guide/troubleshooting.html\n"
      ]
     },
     "execution_count": 14,
     "metadata": {},
     "output_type": "execute_result"
    }
   ],
   "source": [
    "from sparklink.intuition import adjustment_factor_chart\n",
    "\n",
    "adjustment_factor_chart(row_dict, params)"
   ]
  },
  {
   "cell_type": "code",
   "execution_count": null,
   "metadata": {},
   "outputs": [],
   "source": []
  },
  {
   "cell_type": "code",
   "execution_count": 17,
   "metadata": {},
   "outputs": [
    {
     "data": {
      "application/vnd.vegalite.v3+json": {
       "$schema": "https://vega.github.io/schema/vega-lite/v3.4.0.json",
       "config": {
        "mark": {
         "tooltip": null
        },
        "title": {
         "anchor": "middle"
        },
        "view": {
         "height": 300,
         "width": 400
        }
       },
       "data": {
        "name": "data-95bd6ada87fb400d9b8fea2b30ca6716"
       },
       "datasets": {
        "data-95bd6ada87fb400d9b8fea2b30ca6716": [
         {
          "adjustment": 0.5215206940305049,
          "col_name": "first_name",
          "level": "level_0",
          "m": 0.2703000009059906,
          "normalised_adjustment": 0.02152069403050494,
          "u": 0.24799199402332306
         },
         {
          "adjustment": 0.9299373211675683,
          "col_name": "first_name",
          "level": "level_1",
          "m": 0.06453300267457962,
          "normalised_adjustment": 0.42993732116756833,
          "u": 0.004861999768763781
         },
         {
          "adjustment": 0.470976691535663,
          "col_name": "first_name",
          "level": "level_2",
          "m": 0.665166974067688,
          "normalised_adjustment": -0.029023308464336983,
          "u": 0.7471470236778259
         },
         {
          "adjustment": 0.31268305182192885,
          "col_name": "surname",
          "level": "level_0",
          "m": 0.32221800088882446,
          "normalised_adjustment": -0.18731694817807115,
          "u": 0.7082759737968445
         },
         {
          "adjustment": 0.8190888196878489,
          "col_name": "surname",
          "level": "level_1",
          "m": 0.07856699824333191,
          "normalised_adjustment": 0.31908881968784886,
          "u": 0.0173530001193285
         },
         {
          "adjustment": 0.685925589679088,
          "col_name": "surname",
          "level": "level_2",
          "m": 0.5992149710655212,
          "normalised_adjustment": 0.185925589679088,
          "u": 0.2743709981441498
         },
         {
          "adjustment": 0.29070201373150795,
          "col_name": "dob",
          "level": "level_0",
          "m": 0.20798799395561218,
          "normalised_adjustment": -0.20929798626849205,
          "u": 0.5074800252914429
         },
         {
          "adjustment": 0.6165763002473612,
          "col_name": "dob",
          "level": "level_1",
          "m": 0.7920119762420654,
          "normalised_adjustment": 0.11657630024736121,
          "u": 0.4925200045108795
         },
         {
          "adjustment": 0.5600050072273205,
          "col_name": "city",
          "level": "level_0",
          "m": 0.1701200008392334,
          "normalised_adjustment": 0.060005007227320495,
          "u": 0.13366299867630005
         },
         {
          "adjustment": 0.4892534380469832,
          "col_name": "city",
          "level": "level_1",
          "m": 0.8298799991607666,
          "normalised_adjustment": -0.01074656195301682,
          "u": 0.8663370013237
         },
         {
          "adjustment": 0.21694799830996112,
          "col_name": "email",
          "level": "level_0",
          "m": 0.25905999541282654,
          "normalised_adjustment": -0.28305200169003886,
          "u": 0.9350510239601135
         },
         {
          "adjustment": 0.9194070144233066,
          "col_name": "email",
          "level": "level_1",
          "m": 0.7409399747848511,
          "normalised_adjustment": 0.41940701442330663,
          "u": 0.06494899839162827
         }
        ]
       },
       "encoding": {
        "color": {
         "field": "normalised_adjustment",
         "scale": {
          "domain": [
           -0.5,
           -0.4,
           0,
           0.4,
           0.5
          ],
          "range": [
           "red",
           "orange",
           "green",
           "orange",
           "red"
          ]
         },
         "type": "quantitative"
        },
        "row": {
         "field": "col_name",
         "sort": {
          "field": "gamma"
         },
         "type": "nominal"
        },
        "tooltip": [
         {
          "field": "col_name",
          "type": "nominal"
         },
         {
          "field": "normalised_adjustment",
          "type": "quantitative"
         }
        ],
        "x": {
         "axis": {
          "title": "Influence on match probabiity."
         },
         "field": "normalised_adjustment",
         "scale": {
          "domain": [
           -0.5,
           0.5
          ]
         },
         "type": "quantitative"
        },
        "y": {
         "field": "level",
         "type": "nominal"
        }
       },
       "height": 50,
       "mark": "bar",
       "resolve": {
        "scale": {
         "y": "independent"
        }
       },
       "title": "Influence of comparison vector values on match probability"
      },
      "image/png": "[encoded data removed]",
      "text/plain": [
       "<VegaLite 3 object>\n",
       "\n",
       "If you see this message, it means the renderer has not been properly enabled\n",
       "for the frontend that you are using. For more information, see\n",
       "https://altair-viz.github.io/user_guide/troubleshooting.html\n"
      ]
     },
     "execution_count": 17,
     "metadata": {},
     "output_type": "execute_result"
    }
   ],
   "source": [
    "params.adjustment_factor_chart()"
   ]
  },
  {
   "cell_type": "code",
   "execution_count": 16,
   "metadata": {},
   "outputs": [
    {
     "data": {
      "application/vnd.vegalite.v3+json": {
       "$schema": "https://vega.github.io/schema/vega-lite/v3.4.0.json",
       "config": {
        "mark": {
         "tooltip": null
        },
        "title": {
         "anchor": "middle"
        },
        "view": {
         "height": 300,
         "width": 400
        }
       },
       "data": {
        "name": "data-ce1ba7334a37ea52aa27bd03022e0e9b"
       },
       "datasets": {
        "data-ce1ba7334a37ea52aa27bd03022e0e9b": [
         {
          "column": "first_name",
          "gamma": "gamma_0",
          "match": 1,
          "probability": 0.2703000009059906,
          "value": 0,
          "value_of_gamma": "level_0"
         },
         {
          "column": "first_name",
          "gamma": "gamma_0",
          "match": 1,
          "probability": 0.06453300267457962,
          "value": 1,
          "value_of_gamma": "level_1"
         },
         {
          "column": "first_name",
          "gamma": "gamma_0",
          "match": 1,
          "probability": 0.665166974067688,
          "value": 2,
          "value_of_gamma": "level_2"
         },
         {
          "column": "first_name",
          "gamma": "gamma_0",
          "match": 0,
          "probability": 0.24799199402332306,
          "value": 0,
          "value_of_gamma": "level_0"
         },
         {
          "column": "first_name",
          "gamma": "gamma_0",
          "match": 0,
          "probability": 0.004861999768763781,
          "value": 1,
          "value_of_gamma": "level_1"
         },
         {
          "column": "first_name",
          "gamma": "gamma_0",
          "match": 0,
          "probability": 0.7471470236778259,
          "value": 2,
          "value_of_gamma": "level_2"
         },
         {
          "column": "surname",
          "gamma": "gamma_1",
          "match": 1,
          "probability": 0.32221800088882446,
          "value": 0,
          "value_of_gamma": "level_0"
         },
         {
          "column": "surname",
          "gamma": "gamma_1",
          "match": 1,
          "probability": 0.07856699824333191,
          "value": 1,
          "value_of_gamma": "level_1"
         },
         {
          "column": "surname",
          "gamma": "gamma_1",
          "match": 1,
          "probability": 0.5992149710655212,
          "value": 2,
          "value_of_gamma": "level_2"
         },
         {
          "column": "surname",
          "gamma": "gamma_1",
          "match": 0,
          "probability": 0.7082759737968445,
          "value": 0,
          "value_of_gamma": "level_0"
         },
         {
          "column": "surname",
          "gamma": "gamma_1",
          "match": 0,
          "probability": 0.0173530001193285,
          "value": 1,
          "value_of_gamma": "level_1"
         },
         {
          "column": "surname",
          "gamma": "gamma_1",
          "match": 0,
          "probability": 0.2743709981441498,
          "value": 2,
          "value_of_gamma": "level_2"
         },
         {
          "column": "dob",
          "gamma": "gamma_2",
          "match": 1,
          "probability": 0.20798799395561218,
          "value": 0,
          "value_of_gamma": "level_0"
         },
         {
          "column": "dob",
          "gamma": "gamma_2",
          "match": 1,
          "probability": 0.7920119762420654,
          "value": 1,
          "value_of_gamma": "level_1"
         },
         {
          "column": "dob",
          "gamma": "gamma_2",
          "match": 0,
          "probability": 0.5074800252914429,
          "value": 0,
          "value_of_gamma": "level_0"
         },
         {
          "column": "dob",
          "gamma": "gamma_2",
          "match": 0,
          "probability": 0.4925200045108795,
          "value": 1,
          "value_of_gamma": "level_1"
         },
         {
          "column": "city",
          "gamma": "gamma_3",
          "match": 1,
          "probability": 0.1701200008392334,
          "value": 0,
          "value_of_gamma": "level_0"
         },
         {
          "column": "city",
          "gamma": "gamma_3",
          "match": 1,
          "probability": 0.8298799991607666,
          "value": 1,
          "value_of_gamma": "level_1"
         },
         {
          "column": "city",
          "gamma": "gamma_3",
          "match": 0,
          "probability": 0.13366299867630005,
          "value": 0,
          "value_of_gamma": "level_0"
         },
         {
          "column": "city",
          "gamma": "gamma_3",
          "match": 0,
          "probability": 0.8663370013237,
          "value": 1,
          "value_of_gamma": "level_1"
         },
         {
          "column": "email",
          "gamma": "gamma_4",
          "match": 1,
          "probability": 0.25905999541282654,
          "value": 0,
          "value_of_gamma": "level_0"
         },
         {
          "column": "email",
          "gamma": "gamma_4",
          "match": 1,
          "probability": 0.7409399747848511,
          "value": 1,
          "value_of_gamma": "level_1"
         },
         {
          "column": "email",
          "gamma": "gamma_4",
          "match": 0,
          "probability": 0.9350510239601135,
          "value": 0,
          "value_of_gamma": "level_0"
         },
         {
          "column": "email",
          "gamma": "gamma_4",
          "match": 0,
          "probability": 0.06494899839162827,
          "value": 1,
          "value_of_gamma": "level_1"
         }
        ]
       },
       "hconcat": [
        {
         "encoding": {
          "color": {
           "field": "match",
           "type": "nominal"
          },
          "row": {
           "field": "column",
           "sort": {
            "field": "gamma"
           },
           "type": "nominal"
          },
          "tooltip": [
           {
            "field": "column",
            "type": "nominal"
           },
           {
            "field": "probability",
            "format": ".4f",
            "type": "quantitative"
           },
           {
            "field": "value",
            "type": "ordinal"
           }
          ],
          "x": {
           "field": "probability",
           "type": "quantitative"
          },
          "y": {
           "axis": {
            "title": "𝛾 value"
           },
           "field": "value",
           "type": "nominal"
          }
         },
         "mark": "bar",
         "resolve": {
          "scale": {
           "y": "independent"
          }
         },
         "transform": [
          {
           "filter": "(datum.match === 0)"
          }
         ],
         "width": 150
        },
        {
         "encoding": {
          "color": {
           "field": "match",
           "type": "nominal"
          },
          "row": {
           "field": "column",
           "sort": {
            "field": "gamma"
           },
           "type": "nominal"
          },
          "tooltip": [
           {
            "field": "column",
            "type": "nominal"
           },
           {
            "field": "probability",
            "format": ".4f",
            "type": "quantitative"
           },
           {
            "field": "value",
            "type": "ordinal"
           }
          ],
          "x": {
           "field": "probability",
           "type": "quantitative"
          },
          "y": {
           "axis": {
            "title": "𝛾 value"
           },
           "field": "value",
           "type": "nominal"
          }
         },
         "mark": "bar",
         "resolve": {
          "scale": {
           "y": "independent"
          }
         },
         "transform": [
          {
           "filter": "(datum.match === 1)"
          }
         ],
         "width": 150
        }
       ],
       "title": "Probability distribution of comparison vector values, m=0 and m=1"
      },
      "image/png": "[encoded data removed]",
      "text/plain": [
       "<VegaLite 3 object>\n",
       "\n",
       "If you see this message, it means the renderer has not been properly enabled\n",
       "for the frontend that you are using. For more information, see\n",
       "https://altair-viz.github.io/user_guide/troubleshooting.html\n"
      ]
     },
     "execution_count": 16,
     "metadata": {},
     "output_type": "execute_result"
    }
   ],
   "source": [
    "params.probability_distribution_chart()"
   ]
  },
  {
   "cell_type": "raw",
   "metadata": {},
   "source": []
  },
  {
   "cell_type": "markdown",
   "metadata": {},
   "source": [
    "data = []\n",
    "# Want to compare the u and m probabilities\n",
    "pi = gk = params.params[\"π\"]\n",
    "gk = list(pi.keys())\n",
    "\n",
    "for g in gk:\n",
    "    this_gamma = pi[g]\n",
    "    for l in range(this_gamma[\"num_levels\"]):\n",
    "        row = {}\n",
    "        level = f\"level_{l}\"\n",
    "        row[\"level\"] = level\n",
    "        row[\"col_name\"] = this_gamma[\"column_name\"]\n",
    "        row[\"m\"] = this_gamma[\"prob_dist_match\"][level][\"probability\"]\n",
    "        row[\"u\"] = this_gamma[\"prob_dist_non_match\"][level][\"probability\"]\n",
    "        row[\"adjustment\"] = row[\"m\"]/(row[\"m\"] + row[\"u\"])\n",
    "        row[\"normalised_adjustment\"] = row[\"adjustment\"] - 0.5\n",
    "        data.append(row)\n",
    "data"
   ]
  },
  {
   "cell_type": "code",
   "execution_count": 90,
   "metadata": {},
   "outputs": [
    {
     "data": {
      "application/vnd.vegalite.v3+json": {
       "$schema": "https://vega.github.io/schema/vega-lite/v3.4.0.json",
       "config": {
        "mark": {
         "tooltip": null
        },
        "title": {
         "anchor": "middle"
        },
        "view": {
         "height": 300,
         "width": 400
        }
       },
       "data": {
        "values": [
         {
          "adjustment": 0.5215206940305049,
          "col_name": "first_name",
          "level": "level_0",
          "m": 0.2703000009059906,
          "normalised_adjustment": 0.02152069403050494,
          "u": 0.24799199402332306
         },
         {
          "adjustment": 0.9299373211675683,
          "col_name": "first_name",
          "level": "level_1",
          "m": 0.06453300267457962,
          "normalised_adjustment": 0.42993732116756833,
          "u": 0.004861999768763781
         },
         {
          "adjustment": 0.470976691535663,
          "col_name": "first_name",
          "level": "level_2",
          "m": 0.665166974067688,
          "normalised_adjustment": -0.029023308464336983,
          "u": 0.7471470236778259
         },
         {
          "adjustment": 0.31268305182192885,
          "col_name": "surname",
          "level": "level_0",
          "m": 0.32221800088882446,
          "normalised_adjustment": -0.18731694817807115,
          "u": 0.7082759737968445
         },
         {
          "adjustment": 0.8190888196878489,
          "col_name": "surname",
          "level": "level_1",
          "m": 0.07856699824333191,
          "normalised_adjustment": 0.31908881968784886,
          "u": 0.0173530001193285
         },
         {
          "adjustment": 0.685925589679088,
          "col_name": "surname",
          "level": "level_2",
          "m": 0.5992149710655212,
          "normalised_adjustment": 0.185925589679088,
          "u": 0.2743709981441498
         },
         {
          "adjustment": 0.29070201373150795,
          "col_name": "dob",
          "level": "level_0",
          "m": 0.20798799395561218,
          "normalised_adjustment": -0.20929798626849205,
          "u": 0.5074800252914429
         },
         {
          "adjustment": 0.6165763002473612,
          "col_name": "dob",
          "level": "level_1",
          "m": 0.7920119762420654,
          "normalised_adjustment": 0.11657630024736121,
          "u": 0.4925200045108795
         },
         {
          "adjustment": 0.5600050072273205,
          "col_name": "city",
          "level": "level_0",
          "m": 0.1701200008392334,
          "normalised_adjustment": 0.060005007227320495,
          "u": 0.13366299867630005
         },
         {
          "adjustment": 0.4892534380469832,
          "col_name": "city",
          "level": "level_1",
          "m": 0.8298799991607666,
          "normalised_adjustment": -0.01074656195301682,
          "u": 0.8663370013237
         },
         {
          "adjustment": 0.21694799830996112,
          "col_name": "email",
          "level": "level_0",
          "m": 0.25905999541282654,
          "normalised_adjustment": -0.28305200169003886,
          "u": 0.9350510239601135
         },
         {
          "adjustment": 0.9194070144233066,
          "col_name": "email",
          "level": "level_1",
          "m": 0.7409399747848511,
          "normalised_adjustment": 0.41940701442330663,
          "u": 0.06494899839162827
         }
        ]
       },
       "encoding": {
        "color": {
         "field": "normalised_adjustment",
         "scale": {
          "domain": [
           -0.5,
           -0.4,
           0,
           0.4,
           0.5
          ],
          "range": [
           "red",
           "orange",
           "green",
           "orange",
           "red"
          ]
         },
         "type": "quantitative"
        },
        "row": {
         "field": "col_name",
         "sort": {
          "field": "gamma"
         },
         "type": "nominal"
        },
        "tooltip": [
         {
          "field": "col_name",
          "type": "nominal"
         },
         {
          "field": "normalised_adjustment",
          "type": "quantitative"
         }
        ],
        "x": {
         "axis": {
          "title": "Influence on match probabiity."
         },
         "field": "normalised_adjustment",
         "scale": {
          "domain": [
           -0.5,
           0.5
          ]
         },
         "type": "quantitative"
        },
        "y": {
         "field": "level",
         "type": "nominal"
        }
       },
       "mark": "bar",
       "resolve": {
        "scale": {
         "y": "independent"
        }
       },
       "title": "Influence of comparison vector values on match probability"
      },
      "image/png": "[encoded data removed]",
      "text/plain": [
       "<VegaLite 3 object>\n",
       "\n",
       "If you see this message, it means the renderer has not been properly enabled\n",
       "for the frontend that you are using. For more information, see\n",
       "https://altair-viz.github.io/user_guide/troubleshooting.html\n"
      ]
     },
     "execution_count": 90,
     "metadata": {},
     "output_type": "execute_result"
    }
   ],
   "source": [
    "chart_data = alt.Data(values=data)\n",
    "chart = alt.Chart(chart_data).mark_bar().encode(\n",
    "        x=alt.X('normalised_adjustment:Q', scale=alt.Scale(domain=[-0.5,0.5]), axis=alt.Axis(title='Influence on match probabiity.')),\n",
    "        y=alt.Y('level:N'),\n",
    "        row=alt.Row('col_name:N',  sort=alt.SortField(\"gamma\")),\n",
    "        color = alt.Color('normalised_adjustment:Q', scale=alt.Scale(domain=[-0.5, -0.4, 0, 0.4, 0.5], range=['red', 'orange', 'green', 'orange', 'red'])),\n",
    "        tooltip = ['col_name:N', 'normalised_adjustment:Q']\n",
    "        ).resolve_scale(\n",
    "            y='independent'\n",
    "        ).properties(title=\"Influence of comparison vector values on match probability\"\n",
    ").configure_title(\n",
    "            anchor='middle'\n",
    "        )\n",
    "chart"
   ]
  },
  {
   "cell_type": "code",
   "execution_count": 85,
   "metadata": {},
   "outputs": [
    {
     "data": {
      "text/plain": [
       "{'config': {'view': {'width': 400, 'height': 300},\n",
       "  'mark': {'tooltip': None},\n",
       "  'title': {'anchor': 'middle'}},\n",
       " 'data': {'values': None},\n",
       " 'mark': 'bar',\n",
       " 'encoding': {'color': {'type': 'quantitative',\n",
       "   'field': 'normalised_adjustment',\n",
       "   'scale': {'domain': [-0.5, -0.4, 0, 0.4, 0.5],\n",
       "    'range': ['red', 'orange', 'green', 'orange', 'red']}},\n",
       "  'row': {'type': 'nominal', 'field': 'col_name', 'sort': {'field': 'gamma'}},\n",
       "  'tooltip': [{'type': 'nominal', 'field': 'col_name'},\n",
       "   {'type': 'quantitative', 'field': 'normalised_adjustment'}],\n",
       "  'x': {'type': 'quantitative',\n",
       "   'axis': {'title': 'Influence on match probabiity.'},\n",
       "   'field': 'normalised_adjustment',\n",
       "   'scale': {'domain': [-0.5, 0.5]}},\n",
       "  'y': {'type': 'nominal', 'field': 'level'}},\n",
       " 'height': 50,\n",
       " 'resolve': {'scale': {'y': 'independent'}},\n",
       " 'title': 'Influence of comparison vector values on match probability',\n",
       " '$schema': 'https://vega.github.io/schema/vega-lite/v3.4.0.json'}"
      ]
     },
     "execution_count": 85,
     "metadata": {},
     "output_type": "execute_result"
    }
   ],
   "source": [
    "d = chart.to_dict()\n",
    "d[\"data\"][\"values\"] = None\n",
    "d"
   ]
  },
  {
   "cell_type": "code",
   "execution_count": null,
   "metadata": {},
   "outputs": [],
   "source": []
  },
  {
   "cell_type": "code",
   "execution_count": null,
   "metadata": {},
   "outputs": [],
   "source": []
  },
  {
   "cell_type": "code",
   "execution_count": 29,
   "metadata": {},
   "outputs": [
    {
     "data": {
      "application/vnd.vegalite.v3+json": {
       "$schema": "https://vega.github.io/schema/vega-lite/v3.4.0.json",
       "config": {
        "mark": {
         "tooltip": null
        },
        "view": {
         "height": 300,
         "width": 400
        }
       },
       "data": {
        "name": "data-6a00628fd83d3b08838e3845f9097cc1"
       },
       "datasets": {
        "data-6a00628fd83d3b08838e3845f9097cc1": [
         {
          "iteration": 0,
          "λ": 0.5
         },
         {
          "iteration": 1,
          "λ": 0.8102899789810181
         },
         {
          "iteration": 2,
          "λ": 0.8101189732551575
         },
         {
          "iteration": 3,
          "λ": 0.808264970779419
         }
        ]
       },
       "encoding": {
        "tooltip": [
         {
          "field": "λ",
          "type": "quantitative"
         },
         {
          "field": "iteration",
          "type": "ordinal"
         }
        ],
        "x": {
         "field": "iteration",
         "type": "ordinal"
        },
        "y": {
         "axis": {
          "title": "λ (estimated proportion of matches)"
         },
         "field": "λ",
         "type": "quantitative"
        }
       },
       "mark": "bar",
       "title": "Lambda value by iteration"
      },
      "image/png": "[encoded data removed]",
      "text/plain": [
       "<VegaLite 3 object>\n",
       "\n",
       "If you see this message, it means the renderer has not been properly enabled\n",
       "for the frontend that you are using. For more information, see\n",
       "https://altair-viz.github.io/user_guide/troubleshooting.html\n"
      ]
     },
     "execution_count": 29,
     "metadata": {},
     "output_type": "execute_result"
    }
   ],
   "source": [
    "params.lambda_iteration_chart()"
   ]
  },
  {
   "cell_type": "code",
   "execution_count": 30,
   "metadata": {},
   "outputs": [
    {
     "data": {
      "application/vnd.vegalite.v3+json": {
       "$schema": "https://vega.github.io/schema/vega-lite/v3.4.0.json",
       "config": {
        "mark": {
         "tooltip": null
        },
        "title": {
         "anchor": "middle"
        },
        "view": {
         "height": 300,
         "width": 400
        }
       },
       "data": {
        "name": "data-b583de63e87a32c20de31be3c34c1c72"
       },
       "datasets": {
        "data-b583de63e87a32c20de31be3c34c1c72": [
         {
          "column": "first_name",
          "gamma": "gamma_0",
          "iteration": 0,
          "match": 1,
          "probability": 0.1,
          "value": 0,
          "value_of_gamma": "level_0"
         },
         {
          "column": "first_name",
          "gamma": "gamma_0",
          "iteration": 0,
          "match": 1,
          "probability": 0.2,
          "value": 1,
          "value_of_gamma": "level_1"
         },
         {
          "column": "first_name",
          "gamma": "gamma_0",
          "iteration": 0,
          "match": 1,
          "probability": 0.7,
          "value": 2,
          "value_of_gamma": "level_2"
         },
         {
          "column": "first_name",
          "gamma": "gamma_0",
          "iteration": 0,
          "match": 0,
          "probability": 0.7,
          "value": 0,
          "value_of_gamma": "level_0"
         },
         {
          "column": "first_name",
          "gamma": "gamma_0",
          "iteration": 0,
          "match": 0,
          "probability": 0.2,
          "value": 1,
          "value_of_gamma": "level_1"
         },
         {
          "column": "first_name",
          "gamma": "gamma_0",
          "iteration": 0,
          "match": 0,
          "probability": 0.1,
          "value": 2,
          "value_of_gamma": "level_2"
         },
         {
          "column": "surname",
          "gamma": "gamma_1",
          "iteration": 0,
          "match": 1,
          "probability": 0.1,
          "value": 0,
          "value_of_gamma": "level_0"
         },
         {
          "column": "surname",
          "gamma": "gamma_1",
          "iteration": 0,
          "match": 1,
          "probability": 0.2,
          "value": 1,
          "value_of_gamma": "level_1"
         },
         {
          "column": "surname",
          "gamma": "gamma_1",
          "iteration": 0,
          "match": 1,
          "probability": 0.7,
          "value": 2,
          "value_of_gamma": "level_2"
         },
         {
          "column": "surname",
          "gamma": "gamma_1",
          "iteration": 0,
          "match": 0,
          "probability": 0.7,
          "value": 0,
          "value_of_gamma": "level_0"
         },
         {
          "column": "surname",
          "gamma": "gamma_1",
          "iteration": 0,
          "match": 0,
          "probability": 0.2,
          "value": 1,
          "value_of_gamma": "level_1"
         },
         {
          "column": "surname",
          "gamma": "gamma_1",
          "iteration": 0,
          "match": 0,
          "probability": 0.1,
          "value": 2,
          "value_of_gamma": "level_2"
         },
         {
          "column": "dob",
          "gamma": "gamma_2",
          "iteration": 0,
          "match": 1,
          "probability": 0.1,
          "value": 0,
          "value_of_gamma": "level_0"
         },
         {
          "column": "dob",
          "gamma": "gamma_2",
          "iteration": 0,
          "match": 1,
          "probability": 0.9,
          "value": 1,
          "value_of_gamma": "level_1"
         },
         {
          "column": "dob",
          "gamma": "gamma_2",
          "iteration": 0,
          "match": 0,
          "probability": 0.9,
          "value": 0,
          "value_of_gamma": "level_0"
         },
         {
          "column": "dob",
          "gamma": "gamma_2",
          "iteration": 0,
          "match": 0,
          "probability": 0.1,
          "value": 1,
          "value_of_gamma": "level_1"
         },
         {
          "column": "city",
          "gamma": "gamma_3",
          "iteration": 0,
          "match": 1,
          "probability": 0.1,
          "value": 0,
          "value_of_gamma": "level_0"
         },
         {
          "column": "city",
          "gamma": "gamma_3",
          "iteration": 0,
          "match": 1,
          "probability": 0.9,
          "value": 1,
          "value_of_gamma": "level_1"
         },
         {
          "column": "city",
          "gamma": "gamma_3",
          "iteration": 0,
          "match": 0,
          "probability": 0.9,
          "value": 0,
          "value_of_gamma": "level_0"
         },
         {
          "column": "city",
          "gamma": "gamma_3",
          "iteration": 0,
          "match": 0,
          "probability": 0.1,
          "value": 1,
          "value_of_gamma": "level_1"
         },
         {
          "column": "email",
          "gamma": "gamma_4",
          "iteration": 0,
          "match": 1,
          "probability": 0.1,
          "value": 0,
          "value_of_gamma": "level_0"
         },
         {
          "column": "email",
          "gamma": "gamma_4",
          "iteration": 0,
          "match": 1,
          "probability": 0.9,
          "value": 1,
          "value_of_gamma": "level_1"
         },
         {
          "column": "email",
          "gamma": "gamma_4",
          "iteration": 0,
          "match": 0,
          "probability": 0.9,
          "value": 0,
          "value_of_gamma": "level_0"
         },
         {
          "column": "email",
          "gamma": "gamma_4",
          "iteration": 0,
          "match": 0,
          "probability": 0.1,
          "value": 1,
          "value_of_gamma": "level_1"
         },
         {
          "column": "first_name",
          "gamma": "gamma_0",
          "iteration": 1,
          "match": 1,
          "probability": 0.25182801485061646,
          "value": 0,
          "value_of_gamma": "level_0"
         },
         {
          "column": "first_name",
          "gamma": "gamma_0",
          "iteration": 1,
          "match": 1,
          "probability": 0.06369700282812119,
          "value": 1,
          "value_of_gamma": "level_1"
         },
         {
          "column": "first_name",
          "gamma": "gamma_0",
          "iteration": 1,
          "match": 1,
          "probability": 0.6844760179519653,
          "value": 2,
          "value_of_gamma": "level_2"
         },
         {
          "column": "first_name",
          "gamma": "gamma_0",
          "iteration": 1,
          "match": 0,
          "probability": 0.32048898935317993,
          "value": 0,
          "value_of_gamma": "level_0"
         },
         {
          "column": "first_name",
          "gamma": "gamma_0",
          "iteration": 1,
          "match": 0,
          "probability": 0.009728999808430672,
          "value": 1,
          "value_of_gamma": "level_1"
         },
         {
          "column": "first_name",
          "gamma": "gamma_0",
          "iteration": 1,
          "match": 0,
          "probability": 0.6697819828987122,
          "value": 2,
          "value_of_gamma": "level_2"
         },
         {
          "column": "surname",
          "gamma": "gamma_1",
          "iteration": 1,
          "match": 1,
          "probability": 0.30819401144981384,
          "value": 0,
          "value_of_gamma": "level_0"
         },
         {
          "column": "surname",
          "gamma": "gamma_1",
          "iteration": 1,
          "match": 1,
          "probability": 0.07781700044870377,
          "value": 1,
          "value_of_gamma": "level_1"
         },
         {
          "column": "surname",
          "gamma": "gamma_1",
          "iteration": 1,
          "match": 1,
          "probability": 0.613988995552063,
          "value": 2,
          "value_of_gamma": "level_2"
         },
         {
          "column": "surname",
          "gamma": "gamma_1",
          "iteration": 1,
          "match": 0,
          "probability": 0.7461190223693848,
          "value": 0,
          "value_of_gamma": "level_0"
         },
         {
          "column": "surname",
          "gamma": "gamma_1",
          "iteration": 1,
          "match": 0,
          "probability": 0.023282000795006752,
          "value": 1,
          "value_of_gamma": "level_1"
         },
         {
          "column": "surname",
          "gamma": "gamma_1",
          "iteration": 1,
          "match": 0,
          "probability": 0.23059900104999542,
          "value": 2,
          "value_of_gamma": "level_2"
         },
         {
          "column": "dob",
          "gamma": "gamma_2",
          "iteration": 1,
          "match": 1,
          "probability": 0.20239700376987457,
          "value": 0,
          "value_of_gamma": "level_0"
         },
         {
          "column": "dob",
          "gamma": "gamma_2",
          "iteration": 1,
          "match": 1,
          "probability": 0.7976030111312866,
          "value": 1,
          "value_of_gamma": "level_1"
         },
         {
          "column": "dob",
          "gamma": "gamma_2",
          "iteration": 1,
          "match": 0,
          "probability": 0.5316290259361267,
          "value": 0,
          "value_of_gamma": "level_0"
         },
         {
          "column": "dob",
          "gamma": "gamma_2",
          "iteration": 1,
          "match": 0,
          "probability": 0.4683710038661957,
          "value": 1,
          "value_of_gamma": "level_1"
         },
         {
          "column": "city",
          "gamma": "gamma_3",
          "iteration": 1,
          "match": 1,
          "probability": 0.15062600374221802,
          "value": 0,
          "value_of_gamma": "level_0"
         },
         {
          "column": "city",
          "gamma": "gamma_3",
          "iteration": 1,
          "match": 1,
          "probability": 0.849373996257782,
          "value": 1,
          "value_of_gamma": "level_1"
         },
         {
          "column": "city",
          "gamma": "gamma_3",
          "iteration": 1,
          "match": 0,
          "probability": 0.2128719985485077,
          "value": 0,
          "value_of_gamma": "level_0"
         },
         {
          "column": "city",
          "gamma": "gamma_3",
          "iteration": 1,
          "match": 0,
          "probability": 0.7871279716491699,
          "value": 1,
          "value_of_gamma": "level_1"
         },
         {
          "column": "email",
          "gamma": "gamma_4",
          "iteration": 1,
          "match": 1,
          "probability": 0.25667300820350647,
          "value": 0,
          "value_of_gamma": "level_0"
         },
         {
          "column": "email",
          "gamma": "gamma_4",
          "iteration": 1,
          "match": 1,
          "probability": 0.7433270215988159,
          "value": 1,
          "value_of_gamma": "level_1"
         },
         {
          "column": "email",
          "gamma": "gamma_4",
          "iteration": 1,
          "match": 0,
          "probability": 0.9275490045547485,
          "value": 0,
          "value_of_gamma": "level_0"
         },
         {
          "column": "email",
          "gamma": "gamma_4",
          "iteration": 1,
          "match": 0,
          "probability": 0.07245100289583206,
          "value": 1,
          "value_of_gamma": "level_1"
         },
         {
          "column": "first_name",
          "gamma": "gamma_0",
          "iteration": 2,
          "match": 1,
          "probability": 0.2703000009059906,
          "value": 0,
          "value_of_gamma": "level_0"
         },
         {
          "column": "first_name",
          "gamma": "gamma_0",
          "iteration": 2,
          "match": 1,
          "probability": 0.06453300267457962,
          "value": 1,
          "value_of_gamma": "level_1"
         },
         {
          "column": "first_name",
          "gamma": "gamma_0",
          "iteration": 2,
          "match": 1,
          "probability": 0.665166974067688,
          "value": 2,
          "value_of_gamma": "level_2"
         },
         {
          "column": "first_name",
          "gamma": "gamma_0",
          "iteration": 2,
          "match": 0,
          "probability": 0.24799199402332306,
          "value": 0,
          "value_of_gamma": "level_0"
         },
         {
          "column": "first_name",
          "gamma": "gamma_0",
          "iteration": 2,
          "match": 0,
          "probability": 0.004861999768763781,
          "value": 1,
          "value_of_gamma": "level_1"
         },
         {
          "column": "first_name",
          "gamma": "gamma_0",
          "iteration": 2,
          "match": 0,
          "probability": 0.7471470236778259,
          "value": 2,
          "value_of_gamma": "level_2"
         },
         {
          "column": "surname",
          "gamma": "gamma_1",
          "iteration": 2,
          "match": 1,
          "probability": 0.32221800088882446,
          "value": 0,
          "value_of_gamma": "level_0"
         },
         {
          "column": "surname",
          "gamma": "gamma_1",
          "iteration": 2,
          "match": 1,
          "probability": 0.07856699824333191,
          "value": 1,
          "value_of_gamma": "level_1"
         },
         {
          "column": "surname",
          "gamma": "gamma_1",
          "iteration": 2,
          "match": 1,
          "probability": 0.5992149710655212,
          "value": 2,
          "value_of_gamma": "level_2"
         },
         {
          "column": "surname",
          "gamma": "gamma_1",
          "iteration": 2,
          "match": 0,
          "probability": 0.7082759737968445,
          "value": 0,
          "value_of_gamma": "level_0"
         },
         {
          "column": "surname",
          "gamma": "gamma_1",
          "iteration": 2,
          "match": 0,
          "probability": 0.0173530001193285,
          "value": 1,
          "value_of_gamma": "level_1"
         },
         {
          "column": "surname",
          "gamma": "gamma_1",
          "iteration": 2,
          "match": 0,
          "probability": 0.2743709981441498,
          "value": 2,
          "value_of_gamma": "level_2"
         },
         {
          "column": "dob",
          "gamma": "gamma_2",
          "iteration": 2,
          "match": 1,
          "probability": 0.20798799395561218,
          "value": 0,
          "value_of_gamma": "level_0"
         },
         {
          "column": "dob",
          "gamma": "gamma_2",
          "iteration": 2,
          "match": 1,
          "probability": 0.7920119762420654,
          "value": 1,
          "value_of_gamma": "level_1"
         },
         {
          "column": "dob",
          "gamma": "gamma_2",
          "iteration": 2,
          "match": 0,
          "probability": 0.5074800252914429,
          "value": 0,
          "value_of_gamma": "level_0"
         },
         {
          "column": "dob",
          "gamma": "gamma_2",
          "iteration": 2,
          "match": 0,
          "probability": 0.4925200045108795,
          "value": 1,
          "value_of_gamma": "level_1"
         },
         {
          "column": "city",
          "gamma": "gamma_3",
          "iteration": 2,
          "match": 1,
          "probability": 0.1701200008392334,
          "value": 0,
          "value_of_gamma": "level_0"
         },
         {
          "column": "city",
          "gamma": "gamma_3",
          "iteration": 2,
          "match": 1,
          "probability": 0.8298799991607666,
          "value": 1,
          "value_of_gamma": "level_1"
         },
         {
          "column": "city",
          "gamma": "gamma_3",
          "iteration": 2,
          "match": 0,
          "probability": 0.13366299867630005,
          "value": 0,
          "value_of_gamma": "level_0"
         },
         {
          "column": "city",
          "gamma": "gamma_3",
          "iteration": 2,
          "match": 0,
          "probability": 0.8663370013237,
          "value": 1,
          "value_of_gamma": "level_1"
         },
         {
          "column": "email",
          "gamma": "gamma_4",
          "iteration": 2,
          "match": 1,
          "probability": 0.25905999541282654,
          "value": 0,
          "value_of_gamma": "level_0"
         },
         {
          "column": "email",
          "gamma": "gamma_4",
          "iteration": 2,
          "match": 1,
          "probability": 0.7409399747848511,
          "value": 1,
          "value_of_gamma": "level_1"
         },
         {
          "column": "email",
          "gamma": "gamma_4",
          "iteration": 2,
          "match": 0,
          "probability": 0.9350510239601135,
          "value": 0,
          "value_of_gamma": "level_0"
         },
         {
          "column": "email",
          "gamma": "gamma_4",
          "iteration": 2,
          "match": 0,
          "probability": 0.06494899839162827,
          "value": 1,
          "value_of_gamma": "level_1"
         },
         {
          "column": "first_name",
          "gamma": "gamma_0",
          "iteration": 3,
          "match": 1,
          "probability": 0.2779090106487274,
          "value": 0,
          "value_of_gamma": "level_0"
         },
         {
          "column": "first_name",
          "gamma": "gamma_0",
          "iteration": 3,
          "match": 1,
          "probability": 0.06509900093078613,
          "value": 1,
          "value_of_gamma": "level_1"
         },
         {
          "column": "first_name",
          "gamma": "gamma_0",
          "iteration": 3,
          "match": 1,
          "probability": 0.6569920182228088,
          "value": 2,
          "value_of_gamma": "level_2"
         },
         {
          "column": "first_name",
          "gamma": "gamma_0",
          "iteration": 3,
          "match": 0,
          "probability": 0.21759599447250366,
          "value": 0,
          "value_of_gamma": "level_0"
         },
         {
          "column": "first_name",
          "gamma": "gamma_0",
          "iteration": 3,
          "match": 0,
          "probability": 0.0028460000175982714,
          "value": 1,
          "value_of_gamma": "level_1"
         },
         {
          "column": "first_name",
          "gamma": "gamma_0",
          "iteration": 3,
          "match": 0,
          "probability": 0.779558002948761,
          "value": 2,
          "value_of_gamma": "level_2"
         },
         {
          "column": "surname",
          "gamma": "gamma_1",
          "iteration": 3,
          "match": 1,
          "probability": 0.3287909924983978,
          "value": 0,
          "value_of_gamma": "level_0"
         },
         {
          "column": "surname",
          "gamma": "gamma_1",
          "iteration": 3,
          "match": 1,
          "probability": 0.07927200198173523,
          "value": 1,
          "value_of_gamma": "level_1"
         },
         {
          "column": "surname",
          "gamma": "gamma_1",
          "iteration": 3,
          "match": 1,
          "probability": 0.5919370055198669,
          "value": 2,
          "value_of_gamma": "level_2"
         },
         {
          "column": "surname",
          "gamma": "gamma_1",
          "iteration": 3,
          "match": 0,
          "probability": 0.6784499883651733,
          "value": 0,
          "value_of_gamma": "level_0"
         },
         {
          "column": "surname",
          "gamma": "gamma_1",
          "iteration": 3,
          "match": 0,
          "probability": 0.014685000292956829,
          "value": 1,
          "value_of_gamma": "level_1"
         },
         {
          "column": "surname",
          "gamma": "gamma_1",
          "iteration": 3,
          "match": 0,
          "probability": 0.30686500668525696,
          "value": 2,
          "value_of_gamma": "level_2"
         },
         {
          "column": "dob",
          "gamma": "gamma_2",
          "iteration": 3,
          "match": 1,
          "probability": 0.20381799340248108,
          "value": 0,
          "value_of_gamma": "level_0"
         },
         {
          "column": "dob",
          "gamma": "gamma_2",
          "iteration": 3,
          "match": 1,
          "probability": 0.7961819767951965,
          "value": 1,
          "value_of_gamma": "level_1"
         },
         {
          "column": "dob",
          "gamma": "gamma_2",
          "iteration": 3,
          "match": 0,
          "probability": 0.522163987159729,
          "value": 0,
          "value_of_gamma": "level_0"
         },
         {
          "column": "dob",
          "gamma": "gamma_2",
          "iteration": 3,
          "match": 0,
          "probability": 0.477836012840271,
          "value": 1,
          "value_of_gamma": "level_1"
         },
         {
          "column": "city",
          "gamma": "gamma_3",
          "iteration": 3,
          "match": 1,
          "probability": 0.1765879988670349,
          "value": 0,
          "value_of_gamma": "level_0"
         },
         {
          "column": "city",
          "gamma": "gamma_3",
          "iteration": 3,
          "match": 1,
          "probability": 0.8234120011329651,
          "value": 1,
          "value_of_gamma": "level_1"
         },
         {
          "column": "city",
          "gamma": "gamma_3",
          "iteration": 3,
          "match": 0,
          "probability": 0.1070220023393631,
          "value": 0,
          "value_of_gamma": "level_0"
         },
         {
          "column": "city",
          "gamma": "gamma_3",
          "iteration": 3,
          "match": 0,
          "probability": 0.8929780125617981,
          "value": 1,
          "value_of_gamma": "level_1"
         },
         {
          "column": "email",
          "gamma": "gamma_4",
          "iteration": 3,
          "match": 1,
          "probability": 0.2555069923400879,
          "value": 0,
          "value_of_gamma": "level_0"
         },
         {
          "column": "email",
          "gamma": "gamma_4",
          "iteration": 3,
          "match": 1,
          "probability": 0.7444930076599121,
          "value": 1,
          "value_of_gamma": "level_1"
         },
         {
          "column": "email",
          "gamma": "gamma_4",
          "iteration": 3,
          "match": 0,
          "probability": 0.9412369728088379,
          "value": 0,
          "value_of_gamma": "level_0"
         },
         {
          "column": "email",
          "gamma": "gamma_4",
          "iteration": 3,
          "match": 0,
          "probability": 0.05876300111413002,
          "value": 1,
          "value_of_gamma": "level_1"
         }
        ]
       },
       "hconcat": [
        {
         "encoding": {
          "color": {
           "field": "value",
           "type": "nominal"
          },
          "row": {
           "field": "column",
           "sort": {
            "field": "gamma"
           },
           "type": "nominal"
          },
          "tooltip": [
           {
            "field": "probability",
            "type": "quantitative"
           },
           {
            "field": "iteration",
            "type": "ordinal"
           },
           {
            "field": "column",
            "type": "nominal"
           },
           {
            "field": "value",
            "type": "nominal"
           }
          ],
          "x": {
           "field": "iteration",
           "type": "ordinal"
          },
          "y": {
           "aggregate": "sum",
           "axis": {
            "title": "𝛾 value"
           },
           "field": "probability",
           "type": "quantitative"
          }
         },
         "height": 100,
         "mark": "bar",
         "resolve": {
          "scale": {
           "y": "independent"
          }
         },
         "title": "Non Match",
         "transform": [
          {
           "filter": "(datum.match === 0)"
          }
         ]
        },
        {
         "encoding": {
          "color": {
           "field": "value",
           "type": "nominal"
          },
          "row": {
           "field": "column",
           "sort": {
            "field": "gamma"
           },
           "type": "nominal"
          },
          "tooltip": [
           {
            "field": "probability",
            "type": "quantitative"
           },
           {
            "field": "iteration",
            "type": "ordinal"
           },
           {
            "field": "column",
            "type": "nominal"
           },
           {
            "field": "value",
            "type": "nominal"
           }
          ],
          "x": {
           "field": "iteration",
           "type": "ordinal"
          },
          "y": {
           "aggregate": "sum",
           "axis": {
            "title": "𝛾 value"
           },
           "field": "probability",
           "type": "quantitative"
          }
         },
         "height": 100,
         "mark": "bar",
         "resolve": {
          "scale": {
           "y": "independent"
          }
         },
         "title": "Match",
         "transform": [
          {
           "filter": "(datum.match === 1)"
          }
         ]
        }
       ],
       "title": "Probability distribution of comparison vector values by iteration number"
      },
      "image/png": "[encoded data removed]",
      "text/plain": [
       "<VegaLite 3 object>\n",
       "\n",
       "If you see this message, it means the renderer has not been properly enabled\n",
       "for the frontend that you are using. For more information, see\n",
       "https://altair-viz.github.io/user_guide/troubleshooting.html\n"
      ]
     },
     "execution_count": 30,
     "metadata": {},
     "output_type": "execute_result"
    }
   ],
   "source": [
    "params.pi_iteration_chart()"
   ]
  }
 ],
 "metadata": {
  "kernelspec": {
   "display_name": "Python 3",
   "language": "python",
   "name": "python3"
  },
  "language_info": {
   "codemirror_mode": {
    "name": "ipython",
    "version": 3
   },
   "file_extension": ".py",
   "mimetype": "text/x-python",
   "name": "python",
   "nbconvert_exporter": "python",
   "pygments_lexer": "ipython3",
   "version": "3.6.9"
  }
 },
 "nbformat": 4,
 "nbformat_minor": 4
}
