{
 "cells": [
  {
   "cell_type": "code",
   "execution_count": 2,
   "metadata": {},
   "outputs": [],
   "source": [
    "from splink.duckdb.linker import DuckDBLinker\n",
    "import pandas as pd\n",
    "from splink.splink_dataframe import SplinkDataFrame\n",
    "from typing import TYPE_CHECKING\n",
    "\n",
    "# https://stackoverflow.com/questions/39740632/python-type-hinting-without-cyclic-imports\n",
    "if TYPE_CHECKING:\n",
    "    from .linker import Linker"
   ]
  },
  {
   "cell_type": "code",
   "execution_count": 3,
   "metadata": {},
   "outputs": [
    {
     "name": "stderr",
     "output_type": "stream",
     "text": [
      "/var/folders/nd/c3xr518x3txg5kcqp1h7zwc80000gp/T/ipykernel_9019/4096503936.py:20: DeprecationWarning: `exact_match_rule` is deprecated; use `block_on`\n",
      "  exact_match_rule(\"surname\"),\n",
      "/var/folders/nd/c3xr518x3txg5kcqp1h7zwc80000gp/T/ipykernel_9019/4096503936.py:38: SplinkDeprecated: target_rows is deprecated; use max_pairs\n",
      "  linker.estimate_u_using_random_sampling(target_rows=1e6)\n",
      "----- Estimating u probabilities using random sampling -----\n",
      "\n",
      "Estimated u probabilities using random sampling\n",
      "\n",
      "Your model is not yet fully trained. Missing estimates for:\n",
      "    - first_name (no m values are trained).\n",
      "    - surname (no m values are trained).\n",
      "    - dob (no m values are trained).\n",
      "    - city (no m values are trained).\n",
      "    - email (no m values are trained).\n",
      "\n",
      "----- Starting EM training session -----\n",
      "\n",
      "Estimating the m probabilities of the model by blocking on:\n",
      "l.first_name = r.first_name and l.surname = r.surname\n",
      "\n",
      "Parameter estimates will be made for the following comparison(s):\n",
      "    - dob\n",
      "    - city\n",
      "    - email\n",
      "\n",
      "Parameter estimates cannot be made for the following comparison(s) since they are used in the blocking rules: \n",
      "    - first_name\n",
      "    - surname\n",
      "\n",
      "Iteration 1: Largest change in params was -0.501 in the m_probability of dob, level `Exact match`\n",
      "Iteration 2: Largest change in params was 0.0264 in the m_probability of city, level `All other comparisons`\n",
      "Iteration 3: Largest change in params was 0.0148 in probability_two_random_records_match\n",
      "Iteration 4: Largest change in params was 0.0109 in probability_two_random_records_match\n",
      "Iteration 5: Largest change in params was 0.00823 in probability_two_random_records_match\n",
      "\n",
      "EM converged after 5 iterations\n",
      "\n",
      "Your model is not yet fully trained. Missing estimates for:\n",
      "    - first_name (no m values are trained).\n",
      "    - surname (no m values are trained).\n",
      "\n",
      "----- Starting EM training session -----\n",
      "\n",
      "Estimating the m probabilities of the model by blocking on:\n",
      "l.dob = r.dob\n",
      "\n",
      "Parameter estimates will be made for the following comparison(s):\n",
      "    - first_name\n",
      "    - surname\n",
      "    - city\n",
      "    - email\n",
      "\n",
      "Parameter estimates cannot be made for the following comparison(s) since they are used in the blocking rules: \n",
      "    - dob\n",
      "\n",
      "Iteration 1: Largest change in params was -0.366 in the m_probability of surname, level `Exact match`\n",
      "Iteration 2: Largest change in params was 0.101 in probability_two_random_records_match\n",
      "Iteration 3: Largest change in params was 0.0421 in probability_two_random_records_match\n",
      "Iteration 4: Largest change in params was 0.0215 in probability_two_random_records_match\n",
      "Iteration 5: Largest change in params was 0.0127 in probability_two_random_records_match\n",
      "Iteration 6: Largest change in params was 0.0081 in probability_two_random_records_match\n",
      "\n",
      "EM converged after 6 iterations\n",
      "\n",
      "Your model is fully trained. All comparisons have at least one estimate for their m and u values\n",
      "Completed iteration 1, root rows count 0\n"
     ]
    }
   ],
   "source": [
    "from splink.datasets import splink_datasets\n",
    "from splink.duckdb.blocking_rule_library import block_on, exact_match_rule\n",
    "from splink.duckdb.comparison_library import (\n",
    "    exact_match,\n",
    "    levenshtein_at_thresholds,\n",
    ")\n",
    "from splink.duckdb.linker import DuckDBLinker\n",
    "\n",
    "import ssl\n",
    "\n",
    "ssl._create_default_https_context = ssl._create_unverified_context\n",
    "\n",
    "df = splink_datasets.fake_1000\n",
    "\n",
    "settings = {\n",
    "    \"probability_two_random_records_match\": 0.01,\n",
    "    \"link_type\": \"dedupe_only\",\n",
    "    \"blocking_rules_to_generate_predictions\": [\n",
    "        block_on([\"first_name\"]),\n",
    "        exact_match_rule(\"surname\"),\n",
    "    ],\n",
    "    \"comparisons\": [\n",
    "        levenshtein_at_thresholds(\"first_name\", 2),\n",
    "        exact_match(\"surname\"),\n",
    "        exact_match(\"dob\"),\n",
    "        exact_match(\"city\", term_frequency_adjustments=True),\n",
    "        exact_match(\"email\"),\n",
    "    ],\n",
    "    \"retain_intermediate_calculation_columns\": True,\n",
    "    \"additional_columns_to_retain\": [\"cluster\"],\n",
    "    \"max_iterations\": 10,\n",
    "    \"em_convergence\": 0.01,\n",
    "}\n",
    "\n",
    "\n",
    "linker = DuckDBLinker(df, settings)\n",
    "\n",
    "linker.estimate_u_using_random_sampling(target_rows=1e6)\n",
    "\n",
    "\n",
    "blocking_rule = \"l.first_name = r.first_name and l.surname = r.surname\"\n",
    "linker.estimate_parameters_using_expectation_maximisation(blocking_rule)\n",
    "\n",
    "\n",
    "blocking_rule = \"l.dob = r.dob\"\n",
    "linker.estimate_parameters_using_expectation_maximisation(blocking_rule)\n",
    "\n",
    "\n",
    "df_predict = linker.predict()\n",
    "df_clustered = linker.cluster_pairwise_predictions_at_threshold(df_predict, 0.9)"
   ]
  },
  {
   "cell_type": "code",
   "execution_count": 14,
   "metadata": {},
   "outputs": [
    {
     "data": {
      "text/plain": [
       "GraphMetricsResults(nodes=<splink.duckdb.linker.DuckDBDataFrame object at 0x7fc99705d400>, edges=None, clusters=<splink.duckdb.linker.DuckDBDataFrame object at 0x7fc9970511f0>)"
      ]
     },
     "execution_count": 14,
     "metadata": {},
     "output_type": "execute_result"
    }
   ],
   "source": [
    "df_graph_metrics"
   ]
  },
  {
   "cell_type": "code",
   "execution_count": 11,
   "metadata": {},
   "outputs": [
    {
     "data": {
      "text/plain": [
       "Table name in database: `__splink__graph_metrics_clusters_d32d3c41d`\n",
       "\n",
       "To retrieve records, you can call the following methods on this object:\n",
       "`.as_record_dict(limit=5)` or `.as_pandas_dataframe(limit=5)`.\n",
       "\n",
       "You may omit the `limit` argument to return all records.\n",
       "\n",
       "This table represents the following splink entity: __splink__graph_metrics_clusters"
      ]
     },
     "execution_count": 11,
     "metadata": {},
     "output_type": "execute_result"
    }
   ],
   "source": [
    "node_metrics = df_graph_metrics.nodes\n",
    "edge_metrics = df_graph_metrics.edges\n",
    "cluster_metrics = df_graph_metrics.clusters\n",
    "cluster_metrics"
   ]
  },
  {
   "cell_type": "code",
   "execution_count": null,
   "metadata": {},
   "outputs": [],
   "source": [
    "import matplotlib.pyplot as plt\n",
    "\n",
    "metric = \"node_degree\"\n",
    "metric_type = node_metrics_pd\n",
    "\n",
    "plt.hist(node_metrics_pd[metric], bins=10)\n",
    "plt.ylabel(metric)\n",
    "plt.xlabel(\"count of clusters\")\n",
    "\n",
    "\n",
    "plt.show()"
   ]
  },
  {
   "cell_type": "code",
   "execution_count": null,
   "metadata": {},
   "outputs": [],
   "source": []
  }
 ],
 "metadata": {
  "kernelspec": {
   "display_name": "splink-bxsLLt4m",
   "language": "python",
   "name": "python3"
  },
  "language_info": {
   "codemirror_mode": {
    "name": "ipython",
    "version": 3
   },
   "file_extension": ".py",
   "mimetype": "text/x-python",
   "name": "python",
   "nbconvert_exporter": "python",
   "pygments_lexer": "ipython3",
   "version": "3.9.6"
  }
 },
 "nbformat": 4,
 "nbformat_minor": 2
}
