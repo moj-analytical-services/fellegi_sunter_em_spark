{
 "cells": [
  {
   "cell_type": "code",
   "execution_count": null,
   "metadata": {},
   "outputs": [],
   "source": [
    "%autoreload 2"
   ]
  },
  {
   "cell_type": "code",
   "execution_count": null,
   "metadata": {},
   "outputs": [],
   "source": [
    "import logging \n",
    "logging.basicConfig()\n",
    "log = logging.getLogger(\"blocking\").setLevel(\"DEBUG\")\n",
    "log = logging.getLogger(\"sql\").setLevel(\"DEBUG\")\n",
    "log = logging.getLogger(\"gammas\").setLevel(\"DEBUG\")\n",
    "log = logging.getLogger(\"expectation_step\").setLevel(\"DEBUG\")\n",
    "log = logging.getLogger(\"maximisation_step\").setLevel(\"DEBUG\")\n",
    "log = logging.getLogger(\"comparison_evaluation\").setLevel(\"DEBUG\")"
   ]
  },
  {
   "cell_type": "code",
   "execution_count": null,
   "metadata": {},
   "outputs": [],
   "source": [
    "from pyspark.context import SparkContext, SparkConf\n",
    "from pyspark.sql import SparkSession, Window\n",
    "from pyspark.sql.types import StructType\n",
    "import pyspark.sql.functions as f\n",
    "\n",
    "# WARNING:\n",
    "# These config options are appropriate only if you're running Spark locally!!!\n",
    "conf=SparkConf()\n",
    "conf.set('spark.driver.memory', '8g')\n",
    "conf.set(\"spark.sql.shuffle.partitions\", \"8\") \n",
    "\n",
    "sc = SparkContext.getOrCreate(conf=conf)\n",
    "\n",
    "sc = SparkContext.getOrCreate()\n",
    "spark = SparkSession(sc)"
   ]
  },
  {
   "cell_type": "code",
   "execution_count": null,
   "metadata": {},
   "outputs": [],
   "source": [
    "import sys \n",
    "sys.path.append(\"sparklink\")\n",
    "from sql import *\n",
    "from blocking import *\n",
    "from gammas import *\n",
    "from params import *\n",
    "from expectation_step import *\n",
    "from maximisation_step import *\n",
    "from iterate import *\n",
    "from comparison_evaluation import *\n"
   ]
  },
  {
   "cell_type": "code",
   "execution_count": null,
   "metadata": {},
   "outputs": [],
   "source": [
    "df = spark.read.parquet(\"data/fake_1000.parquet\")\n",
    "df = df.dropDuplicates()"
   ]
  },
  {
   "cell_type": "code",
   "execution_count": null,
   "metadata": {},
   "outputs": [],
   "source": [
    "blocking_rules = []\n",
    "\n",
    "blocking_rules.append('l.first_name = r.first_name  and  l.dob = r.dob')\n",
    "blocking_rules.append('l.first_name = r.first_name  and  l.city = r.city')\n",
    "blocking_rules.append('l.first_name = r.first_name  and  l.email = r.email')\n",
    "\n",
    "blocking_rules.append('l.surname = r.surname  and  l.dob = r.dob')\n",
    "blocking_rules.append('l.surname = r.surname  and  l.city = r.city')\n",
    "blocking_rules.append('l.surname = r.surname  and  l.email = r.email')\n",
    "\n",
    "blocking_rules.append('l.dob = r.dob  and  l.city = r.city')\n",
    "blocking_rules.append('l.dob = r.dob  and  l.email = r.email')\n",
    "\n",
    "blocking_rules.append('l.city = r.city  and  l.email = r.email')"
   ]
  },
  {
   "cell_type": "code",
   "execution_count": null,
   "metadata": {},
   "outputs": [],
   "source": [
    "# df_comparison = cartestian_block(df, spark=spark)\n",
    "df_comparison = block_using_rules(df, blocking_rules, spark=spark)\n",
    "df_comparison = df_comparison.withColumn(\"label\", (df_comparison[\"group_l\"]==df_comparison[\"group_r\"]).cast(\"int\"))"
   ]
  },
  {
   "cell_type": "code",
   "execution_count": null,
   "metadata": {},
   "outputs": [],
   "source": [
    "import copy\n",
    "from gammas import *\n",
    "\n",
    "gamma_settings = {\n",
    "    \"first_name\": {\n",
    "        \"levels\": 3,\n",
    "    },\n",
    "    \"surname\": {\n",
    "        \"levels\": 3\n",
    "    },\n",
    "    \"dob\": {\n",
    "        \"levels\": 3\n",
    "    },\n",
    "    \"city\": {\n",
    "        \"levels\": 3\n",
    "    },\n",
    "    \"email\": {\n",
    "        \"levels\": 3\n",
    "    }\n",
    "}\n",
    "\n",
    "df_gammas = add_gammas(df_comparison, gamma_settings, spark, include_orig_cols = False)\n",
    "params = Params(gamma_settings, starting_lambda=0.5)\n",
    "\n",
    "real_params = get_real_params(df_comparison, df_gammas, spark, params)\n",
    "params.real_params = real_params\n",
    "# params.params = copy.deepcopy(real_params)\n",
    "\n",
    "df_gammas = add_gammas(df_comparison, gamma_settings, spark, include_orig_cols = True)\n",
    "df_gammas.show()\n",
    "df_gammas.persist()"
   ]
  },
  {
   "cell_type": "code",
   "execution_count": null,
   "metadata": {},
   "outputs": [],
   "source": [
    "import copy \n",
    "\n",
    "params = Params(gamma_settings, starting_lambda=0.8)\n",
    "\n",
    "params.set_pi_value(\"gamma_0\", 0, \"match\", 0.2)\n",
    "params.set_pi_value(\"gamma_0\", 1, \"match\", 0.8)\n",
    "\n",
    "params.set_pi_value(\"gamma_0\", 0, \"non_match\", 0.8)\n",
    "params.set_pi_value(\"gamma_0\", 1, \"non_match\", 0.2)\n",
    "\n",
    "params.set_pi_value(\"gamma_1\", 0, \"match\", 0.2)\n",
    "params.set_pi_value(\"gamma_1\", 1, \"match\", 0.4)\n",
    "params.set_pi_value(\"gamma_1\", 2, \"match\", 0.4)\n",
    "\n",
    "params.set_pi_value(\"gamma_1\", 0, \"non_match\", 0.8)\n",
    "params.set_pi_value(\"gamma_1\", 1, \"non_match\", 0.15)\n",
    "params.set_pi_value(\"gamma_1\", 2, \"non_match\", 0.05)\n",
    "\n",
    "# real_params = get_real_params(df_comparison, df_gammas, spark, params)\n",
    "# params.real_params = real_params\n",
    "# params.params = copy.deepcopy(real_params)\n",
    "params.probability_distribution_chart()\n",
    "\n",
    "\n",
    "\n"
   ]
  },
  {
   "cell_type": "code",
   "execution_count": null,
   "metadata": {},
   "outputs": [],
   "source": []
  },
  {
   "cell_type": "code",
   "execution_count": null,
   "metadata": {},
   "outputs": [],
   "source": [
    "df_e = iterate(df_gammas, spark, params, num_iterations=5, print_ll=True)"
   ]
  },
  {
   "cell_type": "code",
   "execution_count": null,
   "metadata": {},
   "outputs": [],
   "source": [
    "params.lambda_iteration_chart()"
   ]
  },
  {
   "cell_type": "code",
   "execution_count": null,
   "metadata": {},
   "outputs": [],
   "source": [
    "params.pi_iteration_chart()"
   ]
  },
  {
   "cell_type": "code",
   "execution_count": null,
   "metadata": {},
   "outputs": [],
   "source": [
    "sql = sql_gen_gamma_prob_columns(df_gammas, params)\n",
    "df_gammas.registerTempTable(\"df_with_gamma\")\n",
    "df_with_gamma_probs = spark.sql(sql)\n",
    "calculate_log_likelihood_df(df_with_gamma_probs, params, spark).show(30)\n",
    "get_overall_log_likelihood(df_with_gamma_probs, params, spark)"
   ]
  },
  {
   "cell_type": "code",
   "execution_count": null,
   "metadata": {},
   "outputs": [],
   "source": [
    "# Compute real params\n",
    "real_params = get_real_params(df_comparison, df_gammas, spark, params)\n",
    "params.real_params = real_params\n",
    "params.params = copy.deepcopy(real_params)\n",
    "\n",
    "sql = sql_gen_gamma_prob_columns(df_gammas, params)\n",
    "df_gammas.registerTempTable(\"df_with_gamma\")\n",
    "df_with_gamma_probs = spark.sql(sql)\n",
    "calculate_log_likelihood_df(df_with_gamma_probs, params, spark).show(30)\n",
    "get_overall_log_likelihood(df_with_gamma_probs, params, spark)\n",
    "\n",
    "# df_e = run_expectation_step(df_gammas, spark, params, print_ll=True)"
   ]
  },
  {
   "cell_type": "code",
   "execution_count": null,
   "metadata": {},
   "outputs": [],
   "source": [
    "params.lambda_iteration_chart()"
   ]
  },
  {
   "cell_type": "code",
   "execution_count": null,
   "metadata": {},
   "outputs": [],
   "source": [
    "params.pi_iteration_chart()"
   ]
  },
  {
   "cell_type": "code",
   "execution_count": null,
   "metadata": {},
   "outputs": [],
   "source": [
    "params.probability_distribution_chart()"
   ]
  },
  {
   "cell_type": "code",
   "execution_count": null,
   "metadata": {},
   "outputs": [],
   "source": [
    "## Get selection of false positive true negative etc"
   ]
  },
  {
   "cell_type": "code",
   "execution_count": null,
   "metadata": {},
   "outputs": [],
   "source": [
    "1+1"
   ]
  },
  {
   "cell_type": "code",
   "execution_count": null,
   "metadata": {},
   "outputs": [],
   "source": []
  },
  {
   "cell_type": "code",
   "execution_count": null,
   "metadata": {},
   "outputs": [],
   "source": []
  },
  {
   "cell_type": "code",
   "execution_count": null,
   "metadata": {},
   "outputs": [],
   "source": []
  },
  {
   "cell_type": "code",
   "execution_count": null,
   "metadata": {},
   "outputs": [],
   "source": []
  },
  {
   "cell_type": "code",
   "execution_count": null,
   "metadata": {},
   "outputs": [],
   "source": []
  },
  {
   "cell_type": "code",
   "execution_count": null,
   "metadata": {},
   "outputs": [],
   "source": []
  },
  {
   "cell_type": "code",
   "execution_count": null,
   "metadata": {},
   "outputs": [],
   "source": []
  },
  {
   "cell_type": "code",
   "execution_count": null,
   "metadata": {},
   "outputs": [],
   "source": []
  },
  {
   "cell_type": "code",
   "execution_count": null,
   "metadata": {},
   "outputs": [],
   "source": []
  },
  {
   "cell_type": "code",
   "execution_count": null,
   "metadata": {},
   "outputs": [],
   "source": []
  },
  {
   "cell_type": "code",
   "execution_count": null,
   "metadata": {},
   "outputs": [],
   "source": []
  },
  {
   "cell_type": "code",
   "execution_count": null,
   "metadata": {},
   "outputs": [],
   "source": []
  },
  {
   "cell_type": "code",
   "execution_count": null,
   "metadata": {},
   "outputs": [],
   "source": []
  }
 ],
 "metadata": {
  "kernelspec": {
   "display_name": "Python 3",
   "language": "python",
   "name": "python3"
  },
  "language_info": {
   "codemirror_mode": {
    "name": "ipython",
    "version": 3
   },
   "file_extension": ".py",
   "mimetype": "text/x-python",
   "name": "python",
   "nbconvert_exporter": "python",
   "pygments_lexer": "ipython3",
   "version": "3.6.9"
  }
 },
 "nbformat": 4,
 "nbformat_minor": 4
}
