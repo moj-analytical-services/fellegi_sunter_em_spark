{
 "cells": [
  {
   "cell_type": "markdown",
   "metadata": {},
   "source": [
    "## Sparklink demo \n",
    "\n",
    "In this demo we de-duplicate a small dataset.\n",
    "\n",
    "The purpose is to provide an end-to-end example of how to use the package\n",
    "\n",
    "I print the output at each stage using `spark_dataframe.show()`.  This massively degrades performance and shouldn't be used in a production setting."
   ]
  },
  {
   "cell_type": "markdown",
   "metadata": {},
   "source": [
    "## Step 1:  Imports and setup\n",
    "\n",
    "The following is just boilerplate code that sets up the Spark session and sets some other non-essential configuration options"
   ]
  },
  {
   "cell_type": "code",
   "execution_count": 1,
   "metadata": {},
   "outputs": [],
   "source": [
    "import pandas as pd \n",
    "pd.options.display.max_columns = 500\n",
    "pd.options.display.max_rows = 500"
   ]
  },
  {
   "cell_type": "code",
   "execution_count": 2,
   "metadata": {},
   "outputs": [],
   "source": [
    "import logging \n",
    "logging.basicConfig()\n",
    "\n",
    "# Set to DEBUG if you want sparklink to log the SQL statements it's executing under the hood\n",
    "logging.getLogger(\"sparklink\").setLevel(logging.INFO)"
   ]
  },
  {
   "cell_type": "code",
   "execution_count": 3,
   "metadata": {},
   "outputs": [],
   "source": [
    "from pyspark.context import SparkContext, SparkConf\n",
    "from pyspark.sql import SparkSession, Window\n",
    "from pyspark.sql.types import StructType\n",
    "import pyspark.sql.functions as f\n",
    "\n",
    "conf=SparkConf()\n",
    "\n",
    "# Load in a jar that provides extended string comparison functions such as Jaro Winkler.\n",
    "# Sparklink \n",
    "conf.set('spark.driver.extraClassPath', 'jars/scala-udf-similarity-0.0.6.jar')\n",
    "conf.set('spark.jars', 'jars/scala-udf-similarity-0.0.6.jar')   \n",
    "\n",
    "\n",
    "# WARNING:\n",
    "# These config options are appropriate only if you're running Spark locally!!!\n",
    "\n",
    "conf.set('spark.driver.memory', '4g')\n",
    "conf.set(\"spark.sql.shuffle.partitions\", \"8\") \n",
    "\n",
    "sc = SparkContext.getOrCreate(conf=conf)\n",
    "\n",
    "sc = SparkContext.getOrCreate()\n",
    "spark = SparkSession(sc)\n",
    "\n",
    " # Register UDFs\n",
    "from pyspark.sql import types\n",
    "spark.udf.registerJavaFunction('jaro_winkler_sim', 'uk.gov.moj.dash.linkage.JaroWinklerSimilarity', types.DoubleType())\n",
    "spark.udf.registerJavaFunction('Dmetaphone', 'uk.gov.moj.dash.linkage.DoubleMetaphone', types.StringType())"
   ]
  },
  {
   "cell_type": "markdown",
   "metadata": {},
   "source": [
    "## Step 2:  Read in data and create comparisons using blocking rules"
   ]
  },
  {
   "cell_type": "code",
   "execution_count": 4,
   "metadata": {},
   "outputs": [
    {
     "name": "stdout",
     "output_type": "stream",
     "text": [
      "+---------+----------+-------+----------+------+--------------------+-----+\n",
      "|unique_id|first_name|surname|       dob|  city|               email|group|\n",
      "+---------+----------+-------+----------+------+--------------------+-----+\n",
      "|        0|    Julia |   null|2015-10-29|London| hannah88@powers.com|    0|\n",
      "|        1|    Julia | Taylor|2015-07-31|London| hannah88@powers.com|    0|\n",
      "|        2|    Julia | Taylor|2016-01-27|London| hannah88@powers.com|    0|\n",
      "|        3|    Julia | Taylor|2015-10-29|  null|  hannah88opowersc@m|    0|\n",
      "|        4|      oNah| Watson|2008-03-23|Bolton|matthew78@ballard...|    1|\n",
      "+---------+----------+-------+----------+------+--------------------+-----+\n",
      "only showing top 5 rows\n",
      "\n"
     ]
    }
   ],
   "source": [
    "df = spark.read.parquet(\"data/fake_1000.parquet\")\n",
    "df.show(5)"
   ]
  },
  {
   "cell_type": "code",
   "execution_count": 5,
   "metadata": {},
   "outputs": [],
   "source": [
    "blocking_rules = [\n",
    "    'l.first_name = r.first_name',\n",
    "    'l.surname = r.surname',\n",
    "    'l.dob = r.dob'\n",
    "]"
   ]
  },
  {
   "cell_type": "code",
   "execution_count": 6,
   "metadata": {},
   "outputs": [
    {
     "name": "stdout",
     "output_type": "stream",
     "text": [
      "+-----------+-----------+------------+------------+---------+---------+----------+----------+------+------+-------------------+-------------------+-------+-------+\n",
      "|unique_id_l|unique_id_r|first_name_l|first_name_r|surname_l|surname_r|     dob_l|     dob_r|city_l|city_r|            email_l|            email_r|group_l|group_r|\n",
      "+-----------+-----------+------------+------------+---------+---------+----------+----------+------+------+-------------------+-------------------+-------+-------+\n",
      "|          0|          3|      Julia |      Julia |     null|   Taylor|2015-10-29|2015-10-29|London|  null|hannah88@powers.com| hannah88opowersc@m|      0|      0|\n",
      "|          0|          2|      Julia |      Julia |     null|   Taylor|2015-10-29|2016-01-27|London|London|hannah88@powers.com|hannah88@powers.com|      0|      0|\n",
      "|          0|          1|      Julia |      Julia |     null|   Taylor|2015-10-29|2015-07-31|London|London|hannah88@powers.com|hannah88@powers.com|      0|      0|\n",
      "|          1|          3|      Julia |      Julia |   Taylor|   Taylor|2015-07-31|2015-10-29|London|  null|hannah88@powers.com| hannah88opowersc@m|      0|      0|\n",
      "|          1|          2|      Julia |      Julia |   Taylor|   Taylor|2015-07-31|2016-01-27|London|London|hannah88@powers.com|hannah88@powers.com|      0|      0|\n",
      "+-----------+-----------+------------+------------+---------+---------+----------+----------+------+------+-------------------+-------------------+-------+-------+\n",
      "only showing top 5 rows\n",
      "\n"
     ]
    }
   ],
   "source": [
    "from sparklink.blocking import block_using_rules\n",
    "df_comparison = block_using_rules(df, blocking_rules, spark=spark)\n",
    "df_comparison.show(5)\n",
    "\n",
    "# For small datasets, you can use a cartesian join - df_comparison = cartestian_block(df, df.columns, spark=spark)"
   ]
  },
  {
   "cell_type": "markdown",
   "metadata": {},
   "source": [
    "## Step 3:  Compute Fellegi Sunter comparison vectors from the table of comparisons\n",
    "\n",
    "Columns are assumed to be strings by default.  See the 'comparison vector settings' notebook for details of configuration options."
   ]
  },
  {
   "cell_type": "code",
   "execution_count": 7,
   "metadata": {},
   "outputs": [
    {
     "name": "stdout",
     "output_type": "stream",
     "text": [
      "+-----------+-----------+------------+------------+---------+---------+----------+----------+------+------+-------------------+-------------------+-------+-------+-------+-------+-------+\n",
      "|unique_id_l|unique_id_r|first_name_l|first_name_r|surname_l|surname_r|     dob_l|     dob_r|city_l|city_r|            email_l|            email_r|gamma_0|gamma_1|gamma_2|gamma_3|gamma_4|\n",
      "+-----------+-----------+------------+------------+---------+---------+----------+----------+------+------+-------------------+-------------------+-------+-------+-------+-------+-------+\n",
      "|          0|          3|      Julia |      Julia |     null|   Taylor|2015-10-29|2015-10-29|London|  null|hannah88@powers.com| hannah88opowersc@m|      2|     -1|      1|     -1|      1|\n",
      "|          0|          2|      Julia |      Julia |     null|   Taylor|2015-10-29|2016-01-27|London|London|hannah88@powers.com|hannah88@powers.com|      2|     -1|      0|      1|      1|\n",
      "|          0|          1|      Julia |      Julia |     null|   Taylor|2015-10-29|2015-07-31|London|London|hannah88@powers.com|hannah88@powers.com|      2|     -1|      0|      1|      1|\n",
      "|          1|          3|      Julia |      Julia |   Taylor|   Taylor|2015-07-31|2015-10-29|London|  null|hannah88@powers.com| hannah88opowersc@m|      2|      2|      0|     -1|      1|\n",
      "|          1|          2|      Julia |      Julia |   Taylor|   Taylor|2015-07-31|2016-01-27|London|London|hannah88@powers.com|hannah88@powers.com|      2|      2|      0|      1|      1|\n",
      "+-----------+-----------+------------+------------+---------+---------+----------+----------+------+------+-------------------+-------------------+-------+-------+-------+-------+-------+\n",
      "only showing top 5 rows\n",
      "\n"
     ]
    }
   ],
   "source": [
    "from sparklink.gammas import add_gammas\n",
    "\n",
    "settings = {\n",
    "    \"proportion_of_matches\": 0.5,\n",
    "    \"comparison_columns\": [\n",
    "        {\n",
    "            \"col_name\": \"first_name\",\n",
    "            \"num_levels\": 3\n",
    "        },\n",
    "        {\n",
    "            \"col_name\": \"surname\",\n",
    "            \"num_levels\": 3\n",
    "        },\n",
    "        {\n",
    "            \"col_name\": \"dob\"\n",
    "        },\n",
    "        {\n",
    "            \"col_name\": \"city\"\n",
    "        },\n",
    "        {\n",
    "            \"col_name\": \"email\"\n",
    "        }\n",
    "    ]\n",
    "}\n",
    "\n",
    "\n",
    "df_gammas = add_gammas(df_comparison, settings, spark, include_orig_cols = True)\n",
    "df_gammas.persist()\n",
    "df_gammas.show(5)"
   ]
  },
  {
   "cell_type": "markdown",
   "metadata": {},
   "source": [
    "## Step 4:  Initialise parameters (m and u probabilities)"
   ]
  },
  {
   "cell_type": "code",
   "execution_count": 8,
   "metadata": {},
   "outputs": [],
   "source": [
    "from sparklink.params import Params \n",
    "params = Params(settings)\n",
    "\n",
    "# Note all initial parameters are customisable - see the  'comparison vector settings' notebook for details of configuration options."
   ]
  },
  {
   "cell_type": "code",
   "execution_count": 9,
   "metadata": {},
   "outputs": [
    {
     "data": {
      "text/plain": [
       "λ (proportion of matches) = 0.5\n",
       "------------------------------------\n",
       "gamma_0: Comparison of first_name\n",
       "\n",
       "Probability distribution of gamma values amongst matches:\n",
       "    value 0: 0.100000 (level represents lowest category of string similarity)\n",
       "    value 1: 0.200000 \n",
       "    value 2: 0.700000 (level represents highest category of string similarity)\n",
       "\n",
       "Probability distribution of gamma values amongst non-matches:\n",
       "    value 0: 0.700000 (level represents lowest category of string similarity)\n",
       "    value 1: 0.200000 \n",
       "    value 2: 0.100000 (level represents highest category of string similarity)\n",
       "------------------------------------\n",
       "gamma_1: Comparison of surname\n",
       "\n",
       "Probability distribution of gamma values amongst matches:\n",
       "    value 0: 0.100000 (level represents lowest category of string similarity)\n",
       "    value 1: 0.200000 \n",
       "    value 2: 0.700000 (level represents highest category of string similarity)\n",
       "\n",
       "Probability distribution of gamma values amongst non-matches:\n",
       "    value 0: 0.700000 (level represents lowest category of string similarity)\n",
       "    value 1: 0.200000 \n",
       "    value 2: 0.100000 (level represents highest category of string similarity)\n",
       "------------------------------------\n",
       "gamma_2: Comparison of dob\n",
       "\n",
       "Probability distribution of gamma values amongst matches:\n",
       "    value 0: 0.100000 (level represents lowest category of string similarity)\n",
       "    value 1: 0.900000 (level represents highest category of string similarity)\n",
       "\n",
       "Probability distribution of gamma values amongst non-matches:\n",
       "    value 0: 0.900000 (level represents lowest category of string similarity)\n",
       "    value 1: 0.100000 (level represents highest category of string similarity)\n",
       "------------------------------------\n",
       "gamma_3: Comparison of city\n",
       "\n",
       "Probability distribution of gamma values amongst matches:\n",
       "    value 0: 0.100000 (level represents lowest category of string similarity)\n",
       "    value 1: 0.900000 (level represents highest category of string similarity)\n",
       "\n",
       "Probability distribution of gamma values amongst non-matches:\n",
       "    value 0: 0.900000 (level represents lowest category of string similarity)\n",
       "    value 1: 0.100000 (level represents highest category of string similarity)\n",
       "------------------------------------\n",
       "gamma_4: Comparison of email\n",
       "\n",
       "Probability distribution of gamma values amongst matches:\n",
       "    value 0: 0.100000 (level represents lowest category of string similarity)\n",
       "    value 1: 0.900000 (level represents highest category of string similarity)\n",
       "\n",
       "Probability distribution of gamma values amongst non-matches:\n",
       "    value 0: 0.900000 (level represents lowest category of string similarity)\n",
       "    value 1: 0.100000 (level represents highest category of string similarity)"
      ]
     },
     "execution_count": 9,
     "metadata": {},
     "output_type": "execute_result"
    }
   ],
   "source": [
    "#  Note that the params object has a formatted, human-readable __repr__ representation when you print it\n",
    "params"
   ]
  },
  {
   "cell_type": "code",
   "execution_count": 10,
   "metadata": {},
   "outputs": [
    {
     "data": {
      "application/vnd.vegalite.v3+json": {
       "$schema": "https://vega.github.io/schema/vega-lite/v3.4.0.json",
       "config": {
        "mark": {
         "tooltip": null
        },
        "title": {
         "anchor": "middle"
        },
        "view": {
         "height": 300,
         "width": 400
        }
       },
       "data": {
        "name": "data-6bc7a3b8915d505b3ccaf7e81db33c9d"
       },
       "datasets": {
        "data-6bc7a3b8915d505b3ccaf7e81db33c9d": [
         {
          "column": "first_name",
          "gamma": "gamma_0",
          "match": 1,
          "probability": 0.1,
          "value": 0,
          "value_of_gamma": "level_0"
         },
         {
          "column": "first_name",
          "gamma": "gamma_0",
          "match": 1,
          "probability": 0.2,
          "value": 1,
          "value_of_gamma": "level_1"
         },
         {
          "column": "first_name",
          "gamma": "gamma_0",
          "match": 1,
          "probability": 0.7,
          "value": 2,
          "value_of_gamma": "level_2"
         },
         {
          "column": "first_name",
          "gamma": "gamma_0",
          "match": 0,
          "probability": 0.7000000000000001,
          "value": 0,
          "value_of_gamma": "level_0"
         },
         {
          "column": "first_name",
          "gamma": "gamma_0",
          "match": 0,
          "probability": 0.2,
          "value": 1,
          "value_of_gamma": "level_1"
         },
         {
          "column": "first_name",
          "gamma": "gamma_0",
          "match": 0,
          "probability": 0.1,
          "value": 2,
          "value_of_gamma": "level_2"
         },
         {
          "column": "surname",
          "gamma": "gamma_1",
          "match": 1,
          "probability": 0.1,
          "value": 0,
          "value_of_gamma": "level_0"
         },
         {
          "column": "surname",
          "gamma": "gamma_1",
          "match": 1,
          "probability": 0.2,
          "value": 1,
          "value_of_gamma": "level_1"
         },
         {
          "column": "surname",
          "gamma": "gamma_1",
          "match": 1,
          "probability": 0.7,
          "value": 2,
          "value_of_gamma": "level_2"
         },
         {
          "column": "surname",
          "gamma": "gamma_1",
          "match": 0,
          "probability": 0.7000000000000001,
          "value": 0,
          "value_of_gamma": "level_0"
         },
         {
          "column": "surname",
          "gamma": "gamma_1",
          "match": 0,
          "probability": 0.2,
          "value": 1,
          "value_of_gamma": "level_1"
         },
         {
          "column": "surname",
          "gamma": "gamma_1",
          "match": 0,
          "probability": 0.1,
          "value": 2,
          "value_of_gamma": "level_2"
         },
         {
          "column": "dob",
          "gamma": "gamma_2",
          "match": 1,
          "probability": 0.1,
          "value": 0,
          "value_of_gamma": "level_0"
         },
         {
          "column": "dob",
          "gamma": "gamma_2",
          "match": 1,
          "probability": 0.9,
          "value": 1,
          "value_of_gamma": "level_1"
         },
         {
          "column": "dob",
          "gamma": "gamma_2",
          "match": 0,
          "probability": 0.9,
          "value": 0,
          "value_of_gamma": "level_0"
         },
         {
          "column": "dob",
          "gamma": "gamma_2",
          "match": 0,
          "probability": 0.1,
          "value": 1,
          "value_of_gamma": "level_1"
         },
         {
          "column": "city",
          "gamma": "gamma_3",
          "match": 1,
          "probability": 0.1,
          "value": 0,
          "value_of_gamma": "level_0"
         },
         {
          "column": "city",
          "gamma": "gamma_3",
          "match": 1,
          "probability": 0.9,
          "value": 1,
          "value_of_gamma": "level_1"
         },
         {
          "column": "city",
          "gamma": "gamma_3",
          "match": 0,
          "probability": 0.9,
          "value": 0,
          "value_of_gamma": "level_0"
         },
         {
          "column": "city",
          "gamma": "gamma_3",
          "match": 0,
          "probability": 0.1,
          "value": 1,
          "value_of_gamma": "level_1"
         },
         {
          "column": "email",
          "gamma": "gamma_4",
          "match": 1,
          "probability": 0.1,
          "value": 0,
          "value_of_gamma": "level_0"
         },
         {
          "column": "email",
          "gamma": "gamma_4",
          "match": 1,
          "probability": 0.9,
          "value": 1,
          "value_of_gamma": "level_1"
         },
         {
          "column": "email",
          "gamma": "gamma_4",
          "match": 0,
          "probability": 0.9,
          "value": 0,
          "value_of_gamma": "level_0"
         },
         {
          "column": "email",
          "gamma": "gamma_4",
          "match": 0,
          "probability": 0.1,
          "value": 1,
          "value_of_gamma": "level_1"
         }
        ]
       },
       "hconcat": [
        {
         "encoding": {
          "color": {
           "field": "match",
           "type": "nominal"
          },
          "row": {
           "field": "column",
           "sort": {
            "field": "gamma"
           },
           "type": "nominal"
          },
          "tooltip": [
           {
            "field": "column",
            "type": "nominal"
           },
           {
            "field": "probability",
            "format": ".4f",
            "type": "quantitative"
           },
           {
            "field": "value",
            "type": "ordinal"
           }
          ],
          "x": {
           "field": "probability",
           "type": "quantitative"
          },
          "y": {
           "axis": {
            "title": "𝛾 value"
           },
           "field": "value",
           "type": "nominal"
          }
         },
         "mark": "bar",
         "resolve": {
          "scale": {
           "y": "independent"
          }
         },
         "transform": [
          {
           "filter": "(datum.match === 0)"
          }
         ],
         "width": 150
        },
        {
         "encoding": {
          "color": {
           "field": "match",
           "type": "nominal"
          },
          "row": {
           "field": "column",
           "sort": {
            "field": "gamma"
           },
           "type": "nominal"
          },
          "tooltip": [
           {
            "field": "column",
            "type": "nominal"
           },
           {
            "field": "probability",
            "format": ".4f",
            "type": "quantitative"
           },
           {
            "field": "value",
            "type": "ordinal"
           }
          ],
          "x": {
           "field": "probability",
           "type": "quantitative"
          },
          "y": {
           "axis": {
            "title": "𝛾 value"
           },
           "field": "value",
           "type": "nominal"
          }
         },
         "mark": "bar",
         "resolve": {
          "scale": {
           "y": "independent"
          }
         },
         "transform": [
          {
           "filter": "(datum.match === 1)"
          }
         ],
         "width": 150
        }
       ],
       "title": "Probability distribution of comparison vector values, m=0 and m=1"
      },
      "image/png": "[encoded data removed]",
      "text/plain": [
       "<VegaLite 3 object>\n",
       "\n",
       "If you see this message, it means the renderer has not been properly enabled\n",
       "for the frontend that you are using. For more information, see\n",
       "https://altair-viz.github.io/user_guide/troubleshooting.html\n"
      ]
     },
     "execution_count": 10,
     "metadata": {},
     "output_type": "execute_result"
    }
   ],
   "source": [
    "# Note there are various graphical representations of the information contained in parameters, such as:\n",
    "params.probability_distribution_chart()"
   ]
  },
  {
   "cell_type": "markdown",
   "metadata": {},
   "source": [
    "## Step 5:  Repeatedly apply expectation and maximisation step to improve parameter estimates"
   ]
  },
  {
   "cell_type": "code",
   "execution_count": 11,
   "metadata": {},
   "outputs": [
    {
     "name": "stderr",
     "output_type": "stream",
     "text": [
      "INFO:sparklink.expectation_step:\n",
      "Log likelihood for iteration 0:  -20843.84363503703\n",
      "\n",
      "INFO:sparklink.expectation_step:\n",
      "Log likelihood for iteration 1:  -15082.669796397964\n",
      "\n",
      "INFO:sparklink.expectation_step:\n",
      "Log likelihood for iteration 2:  -14873.744238786378\n",
      "\n",
      "INFO:sparklink.expectation_step:\n",
      "Log likelihood for iteration 3:  -14844.01762792252\n",
      "\n",
      "INFO:sparklink.expectation_step:\n",
      "Log likelihood for iteration 4:  -14834.844563328736\n",
      "\n",
      "INFO:sparklink.expectation_step:\n",
      "Log likelihood for iteration 5:  -14830.10346002543\n",
      "\n",
      "INFO:sparklink.expectation_step:\n",
      "Log likelihood for iteration 6:  -14827.276937750017\n",
      "\n",
      "INFO:sparklink.expectation_step:\n",
      "Log likelihood for iteration 7:  -14825.502832387934\n",
      "\n",
      "INFO:sparklink.expectation_step:\n",
      "Log likelihood for iteration 8:  -14824.351508743566\n",
      "\n",
      "INFO:sparklink.expectation_step:\n",
      "Log likelihood for iteration 9:  -14823.585865253537\n",
      "\n",
      "INFO:sparklink.expectation_step:\n",
      "Log likelihood for iteration 10:  -14823.066024661575\n",
      "\n",
      "INFO:sparklink.expectation_step:\n",
      "Log likelihood for iteration 11:  -14822.707540049665\n",
      "\n",
      "INFO:sparklink.expectation_step:\n",
      "Log likelihood for iteration 12:  -14822.45680244472\n",
      "\n",
      "INFO:sparklink.expectation_step:\n",
      "Log likelihood for iteration 13:  -14822.2798708116\n",
      "\n",
      "INFO:sparklink.expectation_step:\n",
      "Log likelihood for iteration 14:  -14822.154240143067\n",
      "\n",
      "INFO:sparklink.expectation_step:\n",
      "Log likelihood for iteration 15:  -14822.064276781868\n",
      "\n",
      "INFO:sparklink.expectation_step:\n",
      "Log likelihood for iteration 16:  -14821.999693554\n",
      "\n",
      "INFO:sparklink.expectation_step:\n",
      "Log likelihood for iteration 17:  -14821.952854724266\n",
      "\n",
      "INFO:sparklink.expectation_step:\n",
      "Log likelihood for iteration 18:  -14821.919012995124\n",
      "\n",
      "INFO:sparklink.expectation_step:\n",
      "Log likelihood for iteration 19:  -14821.894341211242\n",
      "\n",
      "INFO:sparklink.expectation_step:\n",
      "Log likelihood for iteration 20:  -14821.876612706244\n",
      "\n"
     ]
    }
   ],
   "source": [
    "from sparklink.iterate import iterate\n",
    "logging.getLogger(\"sparklink\").setLevel(logging.INFO)\n",
    "df_e = iterate(df_gammas, spark, params, num_iterations=20, compute_ll=True)"
   ]
  },
  {
   "cell_type": "markdown",
   "metadata": {},
   "source": [
    "## Step 6: Inspect results \n",
    "\n"
   ]
  },
  {
   "cell_type": "code",
   "execution_count": 12,
   "metadata": {},
   "outputs": [
    {
     "data": {
      "text/html": [
       "<div>\n",
       "<style scoped>\n",
       "    .dataframe tbody tr th:only-of-type {\n",
       "        vertical-align: middle;\n",
       "    }\n",
       "\n",
       "    .dataframe tbody tr th {\n",
       "        vertical-align: top;\n",
       "    }\n",
       "\n",
       "    .dataframe thead th {\n",
       "        text-align: right;\n",
       "    }\n",
       "</style>\n",
       "<table border=\"1\" class=\"dataframe\">\n",
       "  <thead>\n",
       "    <tr style=\"text-align: right;\">\n",
       "      <th></th>\n",
       "      <th>unique_id_l</th>\n",
       "      <th>unique_id_r</th>\n",
       "      <th>first_name_l</th>\n",
       "      <th>first_name_r</th>\n",
       "      <th>surname_l</th>\n",
       "      <th>surname_r</th>\n",
       "      <th>dob_l</th>\n",
       "      <th>dob_r</th>\n",
       "      <th>city_l</th>\n",
       "      <th>city_r</th>\n",
       "      <th>email_l</th>\n",
       "      <th>email_r</th>\n",
       "      <th>gamma_0</th>\n",
       "      <th>gamma_1</th>\n",
       "      <th>gamma_2</th>\n",
       "      <th>gamma_3</th>\n",
       "      <th>gamma_4</th>\n",
       "      <th>prob_gamma_0_non_match</th>\n",
       "      <th>prob_gamma_0_match</th>\n",
       "      <th>prob_gamma_1_non_match</th>\n",
       "      <th>prob_gamma_1_match</th>\n",
       "      <th>prob_gamma_2_non_match</th>\n",
       "      <th>prob_gamma_2_match</th>\n",
       "      <th>prob_gamma_3_non_match</th>\n",
       "      <th>prob_gamma_3_match</th>\n",
       "      <th>prob_gamma_4_non_match</th>\n",
       "      <th>prob_gamma_4_match</th>\n",
       "      <th>match_probability</th>\n",
       "    </tr>\n",
       "  </thead>\n",
       "  <tbody>\n",
       "    <tr>\n",
       "      <td>1129</td>\n",
       "      <td>422</td>\n",
       "      <td>517</td>\n",
       "      <td>Brown</td>\n",
       "      <td>Brown</td>\n",
       "      <td>Emily</td>\n",
       "      <td>Martha</td>\n",
       "      <td>2005-07-15</td>\n",
       "      <td>2002-09-01</td>\n",
       "      <td>London</td>\n",
       "      <td>Southend-on-Sea</td>\n",
       "      <td>sarahnron@mckinbey.com</td>\n",
       "      <td>watsonthomas@jones-stuart.biz</td>\n",
       "      <td>2</td>\n",
       "      <td>0</td>\n",
       "      <td>0</td>\n",
       "      <td>0</td>\n",
       "      <td>0</td>\n",
       "      <td>0.468350</td>\n",
       "      <td>0.56797</td>\n",
       "      <td>0.323075</td>\n",
       "      <td>0.378831</td>\n",
       "      <td>0.987258</td>\n",
       "      <td>0.137293</td>\n",
       "      <td>0.860542</td>\n",
       "      <td>0.235885</td>\n",
       "      <td>0.999965</td>\n",
       "      <td>0.132571</td>\n",
       "      <td>0.005175</td>\n",
       "    </tr>\n",
       "    <tr>\n",
       "      <td>4761</td>\n",
       "      <td>864</td>\n",
       "      <td>986</td>\n",
       "      <td>Leo</td>\n",
       "      <td>Ellis</td>\n",
       "      <td>Jones</td>\n",
       "      <td>Jones</td>\n",
       "      <td>1983-07-01</td>\n",
       "      <td>1997-11-18</td>\n",
       "      <td>Manchester</td>\n",
       "      <td>London</td>\n",
       "      <td>None</td>\n",
       "      <td>tammy46@bailey-lee.net</td>\n",
       "      <td>0</td>\n",
       "      <td>2</td>\n",
       "      <td>0</td>\n",
       "      <td>0</td>\n",
       "      <td>-1</td>\n",
       "      <td>0.530554</td>\n",
       "      <td>0.36519</td>\n",
       "      <td>0.676925</td>\n",
       "      <td>0.564735</td>\n",
       "      <td>0.987258</td>\n",
       "      <td>0.137293</td>\n",
       "      <td>0.860542</td>\n",
       "      <td>0.235885</td>\n",
       "      <td>1.000000</td>\n",
       "      <td>1.000000</td>\n",
       "      <td>0.015597</td>\n",
       "    </tr>\n",
       "    <tr>\n",
       "      <td>490</td>\n",
       "      <td>152</td>\n",
       "      <td>852</td>\n",
       "      <td>Harry</td>\n",
       "      <td>Harry</td>\n",
       "      <td>Hill</td>\n",
       "      <td>Bond</td>\n",
       "      <td>2017-10-23</td>\n",
       "      <td>1979-12-08</td>\n",
       "      <td>Sheffield</td>\n",
       "      <td>nonoL</td>\n",
       "      <td>zporter@robinson.com</td>\n",
       "      <td>alexanderthomas@reyes.com</td>\n",
       "      <td>2</td>\n",
       "      <td>0</td>\n",
       "      <td>0</td>\n",
       "      <td>0</td>\n",
       "      <td>0</td>\n",
       "      <td>0.468350</td>\n",
       "      <td>0.56797</td>\n",
       "      <td>0.323075</td>\n",
       "      <td>0.378831</td>\n",
       "      <td>0.987258</td>\n",
       "      <td>0.137293</td>\n",
       "      <td>0.860542</td>\n",
       "      <td>0.235885</td>\n",
       "      <td>0.999965</td>\n",
       "      <td>0.132571</td>\n",
       "      <td>0.005175</td>\n",
       "    </tr>\n",
       "    <tr>\n",
       "      <td>582</td>\n",
       "      <td>203</td>\n",
       "      <td>393</td>\n",
       "      <td>Jacob</td>\n",
       "      <td>Jacob</td>\n",
       "      <td>Evans</td>\n",
       "      <td>Roberts</td>\n",
       "      <td>1987-02-06</td>\n",
       "      <td>2004-01-27</td>\n",
       "      <td>Southend-on-Sea</td>\n",
       "      <td>London</td>\n",
       "      <td>barrygary@flores.com</td>\n",
       "      <td>ryannnble@bryat.info</td>\n",
       "      <td>2</td>\n",
       "      <td>0</td>\n",
       "      <td>0</td>\n",
       "      <td>0</td>\n",
       "      <td>0</td>\n",
       "      <td>0.468350</td>\n",
       "      <td>0.56797</td>\n",
       "      <td>0.323075</td>\n",
       "      <td>0.378831</td>\n",
       "      <td>0.987258</td>\n",
       "      <td>0.137293</td>\n",
       "      <td>0.860542</td>\n",
       "      <td>0.235885</td>\n",
       "      <td>0.999965</td>\n",
       "      <td>0.132571</td>\n",
       "      <td>0.005175</td>\n",
       "    </tr>\n",
       "    <tr>\n",
       "      <td>1929</td>\n",
       "      <td>765</td>\n",
       "      <td>849</td>\n",
       "      <td>Mason</td>\n",
       "      <td>Mason</td>\n",
       "      <td>Coilns</td>\n",
       "      <td>Francis</td>\n",
       "      <td>1975-05-21</td>\n",
       "      <td>1975-08-30</td>\n",
       "      <td>Birmingham</td>\n",
       "      <td>Mlton</td>\n",
       "      <td>christina86@cummings.com</td>\n",
       "      <td>mccormickjeremy@ramirez.net</td>\n",
       "      <td>2</td>\n",
       "      <td>0</td>\n",
       "      <td>0</td>\n",
       "      <td>0</td>\n",
       "      <td>0</td>\n",
       "      <td>0.468350</td>\n",
       "      <td>0.56797</td>\n",
       "      <td>0.323075</td>\n",
       "      <td>0.378831</td>\n",
       "      <td>0.987258</td>\n",
       "      <td>0.137293</td>\n",
       "      <td>0.860542</td>\n",
       "      <td>0.235885</td>\n",
       "      <td>0.999965</td>\n",
       "      <td>0.132571</td>\n",
       "      <td>0.005175</td>\n",
       "    </tr>\n",
       "  </tbody>\n",
       "</table>\n",
       "</div>"
      ],
      "text/plain": [
       "      unique_id_l  unique_id_r first_name_l first_name_r surname_l surname_r  \\\n",
       "1129          422          517        Brown        Brown    Emily    Martha    \n",
       "4761          864          986         Leo        Ellis      Jones     Jones   \n",
       "490           152          852       Harry        Harry       Hill      Bond   \n",
       "582           203          393       Jacob        Jacob      Evans   Roberts   \n",
       "1929          765          849       Mason        Mason     Coilns   Francis   \n",
       "\n",
       "           dob_l       dob_r           city_l           city_r  \\\n",
       "1129  2005-07-15  2002-09-01           London  Southend-on-Sea   \n",
       "4761  1983-07-01  1997-11-18       Manchester           London   \n",
       "490   2017-10-23  1979-12-08        Sheffield            nonoL   \n",
       "582   1987-02-06  2004-01-27  Southend-on-Sea           London   \n",
       "1929  1975-05-21  1975-08-30       Birmingham            Mlton   \n",
       "\n",
       "                       email_l                        email_r  gamma_0  \\\n",
       "1129    sarahnron@mckinbey.com  watsonthomas@jones-stuart.biz        2   \n",
       "4761                      None         tammy46@bailey-lee.net        0   \n",
       "490       zporter@robinson.com      alexanderthomas@reyes.com        2   \n",
       "582       barrygary@flores.com           ryannnble@bryat.info        2   \n",
       "1929  christina86@cummings.com    mccormickjeremy@ramirez.net        2   \n",
       "\n",
       "      gamma_1  gamma_2  gamma_3  gamma_4  prob_gamma_0_non_match  \\\n",
       "1129        0        0        0        0                0.468350   \n",
       "4761        2        0        0       -1                0.530554   \n",
       "490         0        0        0        0                0.468350   \n",
       "582         0        0        0        0                0.468350   \n",
       "1929        0        0        0        0                0.468350   \n",
       "\n",
       "      prob_gamma_0_match  prob_gamma_1_non_match  prob_gamma_1_match  \\\n",
       "1129             0.56797                0.323075            0.378831   \n",
       "4761             0.36519                0.676925            0.564735   \n",
       "490              0.56797                0.323075            0.378831   \n",
       "582              0.56797                0.323075            0.378831   \n",
       "1929             0.56797                0.323075            0.378831   \n",
       "\n",
       "      prob_gamma_2_non_match  prob_gamma_2_match  prob_gamma_3_non_match  \\\n",
       "1129                0.987258            0.137293                0.860542   \n",
       "4761                0.987258            0.137293                0.860542   \n",
       "490                 0.987258            0.137293                0.860542   \n",
       "582                 0.987258            0.137293                0.860542   \n",
       "1929                0.987258            0.137293                0.860542   \n",
       "\n",
       "      prob_gamma_3_match  prob_gamma_4_non_match  prob_gamma_4_match  \\\n",
       "1129            0.235885                0.999965            0.132571   \n",
       "4761            0.235885                1.000000            1.000000   \n",
       "490             0.235885                0.999965            0.132571   \n",
       "582             0.235885                0.999965            0.132571   \n",
       "1929            0.235885                0.999965            0.132571   \n",
       "\n",
       "      match_probability  \n",
       "1129           0.005175  \n",
       "4761           0.015597  \n",
       "490            0.005175  \n",
       "582            0.005175  \n",
       "1929           0.005175  "
      ]
     },
     "execution_count": 12,
     "metadata": {},
     "output_type": "execute_result"
    }
   ],
   "source": [
    "# Inspect main dataframe that contains the match scores\n",
    "df_e.toPandas().sample(5)"
   ]
  },
  {
   "cell_type": "markdown",
   "metadata": {},
   "source": [
    "Note that the `params` object is updated during the process of iteration.\n",
    "\n",
    "This means that if we inspect it again, we will see a new set of parameters - those that result from the application of the expectation maximiastion algorithm"
   ]
  },
  {
   "cell_type": "code",
   "execution_count": 13,
   "metadata": {},
   "outputs": [
    {
     "data": {
      "application/vnd.vegalite.v3+json": {
       "$schema": "https://vega.github.io/schema/vega-lite/v3.4.0.json",
       "config": {
        "mark": {
         "tooltip": null
        },
        "title": {
         "anchor": "middle"
        },
        "view": {
         "height": 300,
         "width": 400
        }
       },
       "data": {
        "name": "data-8b91f0dd44cbad3eeb87dea4ede8de5a"
       },
       "datasets": {
        "data-8b91f0dd44cbad3eeb87dea4ede8de5a": [
         {
          "column": "first_name",
          "gamma": "gamma_0",
          "match": 1,
          "probability": 0.3651900589466095,
          "value": 0,
          "value_of_gamma": "level_0"
         },
         {
          "column": "first_name",
          "gamma": "gamma_0",
          "match": 1,
          "probability": 0.06683956831693649,
          "value": 1,
          "value_of_gamma": "level_1"
         },
         {
          "column": "first_name",
          "gamma": "gamma_0",
          "match": 1,
          "probability": 0.5679703950881958,
          "value": 2,
          "value_of_gamma": "level_2"
         },
         {
          "column": "first_name",
          "gamma": "gamma_0",
          "match": 0,
          "probability": 0.5305541753768921,
          "value": 0,
          "value_of_gamma": "level_0"
         },
         {
          "column": "first_name",
          "gamma": "gamma_0",
          "match": 0,
          "probability": 0.0010962485102936625,
          "value": 1,
          "value_of_gamma": "level_1"
         },
         {
          "column": "first_name",
          "gamma": "gamma_0",
          "match": 0,
          "probability": 0.46834954619407654,
          "value": 2,
          "value_of_gamma": "level_2"
         },
         {
          "column": "surname",
          "gamma": "gamma_1",
          "match": 1,
          "probability": 0.3788314163684845,
          "value": 0,
          "value_of_gamma": "level_0"
         },
         {
          "column": "surname",
          "gamma": "gamma_1",
          "match": 1,
          "probability": 0.056433193385601044,
          "value": 1,
          "value_of_gamma": "level_1"
         },
         {
          "column": "surname",
          "gamma": "gamma_1",
          "match": 1,
          "probability": 0.5647353529930115,
          "value": 2,
          "value_of_gamma": "level_2"
         },
         {
          "column": "surname",
          "gamma": "gamma_1",
          "match": 0,
          "probability": 0.3230753540992737,
          "value": 0,
          "value_of_gamma": "level_0"
         },
         {
          "column": "surname",
          "gamma": "gamma_1",
          "match": 0,
          "probability": 2.0874498574130484e-08,
          "value": 1,
          "value_of_gamma": "level_1"
         },
         {
          "column": "surname",
          "gamma": "gamma_1",
          "match": 0,
          "probability": 0.6769246459007263,
          "value": 2,
          "value_of_gamma": "level_2"
         },
         {
          "column": "dob",
          "gamma": "gamma_2",
          "match": 1,
          "probability": 0.1372930258512497,
          "value": 0,
          "value_of_gamma": "level_0"
         },
         {
          "column": "dob",
          "gamma": "gamma_2",
          "match": 1,
          "probability": 0.8627069592475891,
          "value": 1,
          "value_of_gamma": "level_1"
         },
         {
          "column": "dob",
          "gamma": "gamma_2",
          "match": 0,
          "probability": 0.9872581362724304,
          "value": 0,
          "value_of_gamma": "level_0"
         },
         {
          "column": "dob",
          "gamma": "gamma_2",
          "match": 0,
          "probability": 0.012741874903440475,
          "value": 1,
          "value_of_gamma": "level_1"
         },
         {
          "column": "city",
          "gamma": "gamma_3",
          "match": 1,
          "probability": 0.2358851432800293,
          "value": 0,
          "value_of_gamma": "level_0"
         },
         {
          "column": "city",
          "gamma": "gamma_3",
          "match": 1,
          "probability": 0.7641148567199707,
          "value": 1,
          "value_of_gamma": "level_1"
         },
         {
          "column": "city",
          "gamma": "gamma_3",
          "match": 0,
          "probability": 0.860541820526123,
          "value": 0,
          "value_of_gamma": "level_0"
         },
         {
          "column": "city",
          "gamma": "gamma_3",
          "match": 0,
          "probability": 0.13945816457271576,
          "value": 1,
          "value_of_gamma": "level_1"
         },
         {
          "column": "email",
          "gamma": "gamma_4",
          "match": 1,
          "probability": 0.1325705498456955,
          "value": 0,
          "value_of_gamma": "level_0"
         },
         {
          "column": "email",
          "gamma": "gamma_4",
          "match": 1,
          "probability": 0.8674294352531433,
          "value": 1,
          "value_of_gamma": "level_1"
         },
         {
          "column": "email",
          "gamma": "gamma_4",
          "match": 0,
          "probability": 0.999964714050293,
          "value": 0,
          "value_of_gamma": "level_0"
         },
         {
          "column": "email",
          "gamma": "gamma_4",
          "match": 0,
          "probability": 3.5257835406810045e-05,
          "value": 1,
          "value_of_gamma": "level_1"
         }
        ]
       },
       "hconcat": [
        {
         "encoding": {
          "color": {
           "field": "match",
           "type": "nominal"
          },
          "row": {
           "field": "column",
           "sort": {
            "field": "gamma"
           },
           "type": "nominal"
          },
          "tooltip": [
           {
            "field": "column",
            "type": "nominal"
           },
           {
            "field": "probability",
            "format": ".4f",
            "type": "quantitative"
           },
           {
            "field": "value",
            "type": "ordinal"
           }
          ],
          "x": {
           "field": "probability",
           "type": "quantitative"
          },
          "y": {
           "axis": {
            "title": "𝛾 value"
           },
           "field": "value",
           "type": "nominal"
          }
         },
         "mark": "bar",
         "resolve": {
          "scale": {
           "y": "independent"
          }
         },
         "transform": [
          {
           "filter": "(datum.match === 0)"
          }
         ],
         "width": 150
        },
        {
         "encoding": {
          "color": {
           "field": "match",
           "type": "nominal"
          },
          "row": {
           "field": "column",
           "sort": {
            "field": "gamma"
           },
           "type": "nominal"
          },
          "tooltip": [
           {
            "field": "column",
            "type": "nominal"
           },
           {
            "field": "probability",
            "format": ".4f",
            "type": "quantitative"
           },
           {
            "field": "value",
            "type": "ordinal"
           }
          ],
          "x": {
           "field": "probability",
           "type": "quantitative"
          },
          "y": {
           "axis": {
            "title": "𝛾 value"
           },
           "field": "value",
           "type": "nominal"
          }
         },
         "mark": "bar",
         "resolve": {
          "scale": {
           "y": "independent"
          }
         },
         "transform": [
          {
           "filter": "(datum.match === 1)"
          }
         ],
         "width": 150
        }
       ],
       "title": "Probability distribution of comparison vector values, m=0 and m=1"
      },
      "image/png": "[encoded data removed]",
      "text/plain": [
       "<VegaLite 3 object>\n",
       "\n",
       "If you see this message, it means the renderer has not been properly enabled\n",
       "for the frontend that you are using. For more information, see\n",
       "https://altair-viz.github.io/user_guide/troubleshooting.html\n"
      ]
     },
     "execution_count": 13,
     "metadata": {},
     "output_type": "execute_result"
    }
   ],
   "source": [
    "params.probability_distribution_chart()"
   ]
  },
  {
   "cell_type": "markdown",
   "metadata": {},
   "source": [
    "An alternative representation of the parameters displays them in terms of the effect different values in the comparison vectors have on the match probability:"
   ]
  },
  {
   "cell_type": "code",
   "execution_count": 14,
   "metadata": {},
   "outputs": [
    {
     "data": {
      "application/vnd.vegalite.v3+json": {
       "$schema": "https://vega.github.io/schema/vega-lite/v3.4.0.json",
       "config": {
        "mark": {
         "tooltip": null
        },
        "title": {
         "anchor": "middle"
        },
        "view": {
         "height": 300,
         "width": 400
        }
       },
       "data": {
        "name": "data-1eac0d5a794081bf7ebb49e12204a884"
       },
       "datasets": {
        "data-1eac0d5a794081bf7ebb49e12204a884": [
         {
          "adjustment": 0.4076945683300035,
          "col_name": "first_name",
          "level": "level_0",
          "m": 0.3651900589466095,
          "normalised_adjustment": -0.0923054316699965,
          "u": 0.5305541753768921
         },
         {
          "adjustment": 0.9838634675861546,
          "col_name": "first_name",
          "level": "level_1",
          "m": 0.06683956831693649,
          "normalised_adjustment": 0.4838634675861546,
          "u": 0.0010962485102936625
         },
         {
          "adjustment": 0.548064716756707,
          "col_name": "first_name",
          "level": "level_2",
          "m": 0.5679703950881958,
          "normalised_adjustment": 0.04806471675670698,
          "u": 0.46834954619407654
         },
         {
          "adjustment": 0.5397175697792845,
          "col_name": "surname",
          "level": "level_0",
          "m": 0.3788314163684845,
          "normalised_adjustment": 0.039717569779284534,
          "u": 0.3230753540992737
         },
         {
          "adjustment": 0.9999996301026116,
          "col_name": "surname",
          "level": "level_1",
          "m": 0.056433193385601044,
          "normalised_adjustment": 0.4999996301026116,
          "u": 2.0874498574130484e-08
         },
         {
          "adjustment": 0.4548228609250236,
          "col_name": "surname",
          "level": "level_2",
          "m": 0.5647353529930115,
          "normalised_adjustment": -0.04517713907497639,
          "u": 0.6769246459007263
         },
         {
          "adjustment": 0.12208695386697752,
          "col_name": "dob",
          "level": "level_0",
          "m": 0.1372930258512497,
          "normalised_adjustment": -0.37791304613302246,
          "u": 0.9872581362724304
         },
         {
          "adjustment": 0.9854453231229704,
          "col_name": "dob",
          "level": "level_1",
          "m": 0.8627069592475891,
          "normalised_adjustment": 0.4854453231229704,
          "u": 0.012741874903440475
         },
         {
          "adjustment": 0.21513985980532094,
          "col_name": "city",
          "level": "level_0",
          "m": 0.2358851432800293,
          "normalised_adjustment": -0.2848601401946791,
          "u": 0.860541820526123
         },
         {
          "adjustment": 0.8456592203547628,
          "col_name": "city",
          "level": "level_1",
          "m": 0.7641148567199707,
          "normalised_adjustment": 0.3456592203547628,
          "u": 0.13945816457271576
         },
         {
          "adjustment": 0.11705644324896776,
          "col_name": "email",
          "level": "level_0",
          "m": 0.1325705498456955,
          "normalised_adjustment": -0.38294355675103225,
          "u": 0.999964714050293
         },
         {
          "adjustment": 0.999959355307844,
          "col_name": "email",
          "level": "level_1",
          "m": 0.8674294352531433,
          "normalised_adjustment": 0.49995935530784397,
          "u": 3.5257835406810045e-05
         }
        ]
       },
       "encoding": {
        "color": {
         "field": "normalised_adjustment",
         "scale": {
          "domain": [
           -0.5,
           -0.4,
           0,
           0.4,
           0.5
          ],
          "range": [
           "red",
           "orange",
           "green",
           "orange",
           "red"
          ]
         },
         "type": "quantitative"
        },
        "row": {
         "field": "col_name",
         "sort": {
          "field": "gamma"
         },
         "type": "nominal"
        },
        "tooltip": [
         {
          "field": "col_name",
          "type": "nominal"
         },
         {
          "field": "normalised_adjustment",
          "type": "quantitative"
         }
        ],
        "x": {
         "axis": {
          "title": "Influence on match probabiity."
         },
         "field": "normalised_adjustment",
         "scale": {
          "domain": [
           -0.5,
           0.5
          ]
         },
         "type": "quantitative"
        },
        "y": {
         "field": "level",
         "type": "nominal"
        }
       },
       "height": 50,
       "mark": "bar",
       "resolve": {
        "scale": {
         "y": "independent"
        }
       },
       "title": "Influence of comparison vector values on match probability"
      },
      "image/png": "[encoded data removed]",
      "text/plain": [
       "<VegaLite 3 object>\n",
       "\n",
       "If you see this message, it means the renderer has not been properly enabled\n",
       "for the frontend that you are using. For more information, see\n",
       "https://altair-viz.github.io/user_guide/troubleshooting.html\n"
      ]
     },
     "execution_count": 14,
     "metadata": {},
     "output_type": "execute_result"
    }
   ],
   "source": [
    "params.adjustment_factor_chart()"
   ]
  },
  {
   "cell_type": "code",
   "execution_count": 15,
   "metadata": {},
   "outputs": [],
   "source": [
    "# If charts aren't displaying correctly in your notebook, you can write them to a file (by default sparklink_charts.html)\n",
    "params.all_charts_write_html_file()"
   ]
  },
  {
   "cell_type": "markdown",
   "metadata": {},
   "source": [
    "You can also generate a report which explains how the match probability was computed for an individual comparison row.  \n",
    "\n",
    "Note that you need to convert the row to a dictionary for this to work"
   ]
  },
  {
   "cell_type": "code",
   "execution_count": 16,
   "metadata": {},
   "outputs": [
    {
     "name": "stdout",
     "output_type": "stream",
     "text": [
      "\n",
      "Initial probability of match (prior) = λ = 0.4198944866657257\n",
      "\n",
      "Comparison of first_name.  Values are:\n",
      "first_name_l: Henry \n",
      "first_name_r: Henry \n",
      "Comparison has 3 levels\n",
      "𝛾 for this comparison = gamma_0 = 2\n",
      "Amongst matches, P(𝛾 = 0.5679703950881958):\n",
      "Amongst non matches, P(𝛾 = 0.46834954619407654):\n",
      "Adjustment factor = p1/(p1 + p2) = 0.548064716756707\n",
      "New probability of match (updated belief): 0.46745802461454306\n",
      "\n",
      "Comparison of surname.  Values are:\n",
      "surname_l: Ali\n",
      "surname_r: Ali\n",
      "Comparison has 3 levels\n",
      "𝛾 for this comparison = gamma_1 = 2\n",
      "Amongst matches, P(𝛾 = 0.5647353529930115):\n",
      "Amongst non matches, P(𝛾 = 0.6769246459007263):\n",
      "Adjustment factor = p1/(p1 + p2) = 0.4548228609250236\n",
      "New probability of match (updated belief): 0.4227352496650428\n",
      "\n",
      "Comparison of dob.  Values are:\n",
      "dob_l: 2012-11-30\n",
      "dob_r: 2013-02-12\n",
      "Comparison has 2 levels\n",
      "𝛾 for this comparison = gamma_2 = 0\n",
      "Amongst matches, P(𝛾 = 0.1372930258512497):\n",
      "Amongst non matches, P(𝛾 = 0.9872581362724304):\n",
      "Adjustment factor = p1/(p1 + p2) = 0.12208695386697752\n",
      "New probability of match (updated belief): 0.09242581976045405\n",
      "\n",
      "Comparison of city.  Values are:\n",
      "city_l: Newcastle-upon-Tyne\n",
      "city_r: Newcaetle-upo-Tyns\n",
      "Comparison has 2 levels\n",
      "𝛾 for this comparison = gamma_3 = 0\n",
      "Amongst matches, P(𝛾 = 0.2358851432800293):\n",
      "Amongst non matches, P(𝛾 = 0.860541820526123):\n",
      "Adjustment factor = p1/(p1 + p2) = 0.21513985980532094\n",
      "New probability of match (updated belief): 0.027157045796921412\n",
      "\n",
      "Comparison of email.  Values are:\n",
      "email_l: None\n",
      "email_r: laura1o@nelon.c2m\n",
      "Comparison has 2 levels\n",
      "𝛾 for this comparison = gamma_4 = -1\n",
      "Amongst matches, P(𝛾 = 1.0):\n",
      "Amongst non matches, P(𝛾 = 1.0):\n",
      "Adjustment factor = p1/(p1 + p2) = 0.5\n",
      "New probability of match (updated belief): 0.027157045796921412\n",
      "\n",
      "Final probability of match = 0.027157045796921412\n",
      "\n"
     ]
    }
   ],
   "source": [
    "from sparklink.intuition import intuition_report\n",
    "row_dict = df_e.toPandas().sample(1).to_dict(orient=\"records\")[0]\n",
    "print(intuition_report(row_dict, params))"
   ]
  },
  {
   "cell_type": "markdown",
   "metadata": {},
   "source": [
    "## Step 7: Term frequency adjustments\n",
    "\n",
    "Sparklink enables you to make adjustments for term frequency on any number of columns\n",
    "\n",
    "This enables match probabilities to be adjusted for e.g. the fact John Smith is more prevalent than Robin Linacre"
   ]
  },
  {
   "cell_type": "code",
   "execution_count": 17,
   "metadata": {},
   "outputs": [],
   "source": [
    "from sparklink.term_frequencies import make_adjustment_for_term_frequencies\n",
    "df_e_adj = make_adjustment_for_term_frequencies(df_e, params, [\"first_name\", \"surname\"], retain_adjustment_columns=True, spark=spark)"
   ]
  },
  {
   "cell_type": "code",
   "execution_count": 18,
   "metadata": {},
   "outputs": [
    {
     "data": {
      "text/html": [
       "<div>\n",
       "<style scoped>\n",
       "    .dataframe tbody tr th:only-of-type {\n",
       "        vertical-align: middle;\n",
       "    }\n",
       "\n",
       "    .dataframe tbody tr th {\n",
       "        vertical-align: top;\n",
       "    }\n",
       "\n",
       "    .dataframe thead th {\n",
       "        text-align: right;\n",
       "    }\n",
       "</style>\n",
       "<table border=\"1\" class=\"dataframe\">\n",
       "  <thead>\n",
       "    <tr style=\"text-align: right;\">\n",
       "      <th></th>\n",
       "      <th>match_probability</th>\n",
       "      <th>tf_adjusted_match_prob</th>\n",
       "      <th>unique_id_l</th>\n",
       "      <th>unique_id_r</th>\n",
       "      <th>first_name_l</th>\n",
       "      <th>first_name_r</th>\n",
       "      <th>surname_l</th>\n",
       "      <th>surname_r</th>\n",
       "      <th>dob_l</th>\n",
       "      <th>dob_r</th>\n",
       "      <th>city_l</th>\n",
       "      <th>city_r</th>\n",
       "      <th>email_l</th>\n",
       "      <th>email_r</th>\n",
       "      <th>gamma_0</th>\n",
       "      <th>gamma_1</th>\n",
       "      <th>gamma_2</th>\n",
       "      <th>gamma_3</th>\n",
       "      <th>gamma_4</th>\n",
       "      <th>prob_gamma_0_non_match</th>\n",
       "      <th>prob_gamma_0_match</th>\n",
       "      <th>prob_gamma_1_non_match</th>\n",
       "      <th>prob_gamma_1_match</th>\n",
       "      <th>prob_gamma_2_non_match</th>\n",
       "      <th>prob_gamma_2_match</th>\n",
       "      <th>prob_gamma_3_non_match</th>\n",
       "      <th>prob_gamma_3_match</th>\n",
       "      <th>prob_gamma_4_non_match</th>\n",
       "      <th>prob_gamma_4_match</th>\n",
       "      <th>match_probability</th>\n",
       "      <th>first_name_adj</th>\n",
       "      <th>surname_adj</th>\n",
       "      <th>tf_adjusted_match_prob</th>\n",
       "    </tr>\n",
       "  </thead>\n",
       "  <tbody>\n",
       "    <tr>\n",
       "      <td>1541</td>\n",
       "      <td>0.018623</td>\n",
       "      <td>0.005522</td>\n",
       "      <td>574</td>\n",
       "      <td>819</td>\n",
       "      <td>George</td>\n",
       "      <td>George</td>\n",
       "      <td>Williams</td>\n",
       "      <td>Hill</td>\n",
       "      <td>1981-08-06</td>\n",
       "      <td>1984-03-16</td>\n",
       "      <td>London</td>\n",
       "      <td>None</td>\n",
       "      <td>desek58gibbr.biz</td>\n",
       "      <td>smithmelinda@christensen-harvey.com</td>\n",
       "      <td>2</td>\n",
       "      <td>0</td>\n",
       "      <td>0</td>\n",
       "      <td>-1</td>\n",
       "      <td>0</td>\n",
       "      <td>0.468350</td>\n",
       "      <td>0.56797</td>\n",
       "      <td>0.323075</td>\n",
       "      <td>0.378831</td>\n",
       "      <td>0.987258</td>\n",
       "      <td>0.137293</td>\n",
       "      <td>1.000000</td>\n",
       "      <td>1.000000</td>\n",
       "      <td>0.999965</td>\n",
       "      <td>0.132571</td>\n",
       "      <td>0.018623</td>\n",
       "      <td>0.226376</td>\n",
       "      <td>0.500000</td>\n",
       "      <td>0.005522</td>\n",
       "    </tr>\n",
       "    <tr>\n",
       "      <td>5535</td>\n",
       "      <td>1.000000</td>\n",
       "      <td>1.000000</td>\n",
       "      <td>805</td>\n",
       "      <td>811</td>\n",
       "      <td>Darcy</td>\n",
       "      <td>None</td>\n",
       "      <td>Webster</td>\n",
       "      <td>rebstW</td>\n",
       "      <td>1984-02-07</td>\n",
       "      <td>1984-02-07</td>\n",
       "      <td>Coschelte</td>\n",
       "      <td>Colchester</td>\n",
       "      <td>iatherine96@kkm-martinez.co</td>\n",
       "      <td>katherine96@kim-martinez.com</td>\n",
       "      <td>-1</td>\n",
       "      <td>0</td>\n",
       "      <td>1</td>\n",
       "      <td>1</td>\n",
       "      <td>1</td>\n",
       "      <td>1.000000</td>\n",
       "      <td>1.00000</td>\n",
       "      <td>0.323075</td>\n",
       "      <td>0.378831</td>\n",
       "      <td>0.012742</td>\n",
       "      <td>0.862707</td>\n",
       "      <td>0.139458</td>\n",
       "      <td>0.764115</td>\n",
       "      <td>0.000035</td>\n",
       "      <td>0.867429</td>\n",
       "      <td>1.000000</td>\n",
       "      <td>0.500000</td>\n",
       "      <td>0.500000</td>\n",
       "      <td>1.000000</td>\n",
       "    </tr>\n",
       "    <tr>\n",
       "      <td>1925</td>\n",
       "      <td>1.000000</td>\n",
       "      <td>1.000000</td>\n",
       "      <td>761</td>\n",
       "      <td>762</td>\n",
       "      <td>Collins</td>\n",
       "      <td>Collins</td>\n",
       "      <td>Mason</td>\n",
       "      <td>Mason</td>\n",
       "      <td>1975-05-21</td>\n",
       "      <td>1975-05-21</td>\n",
       "      <td>Birmingham</td>\n",
       "      <td>Birmingham</td>\n",
       "      <td>christina86@cummings.com</td>\n",
       "      <td>christina86@cummings.com</td>\n",
       "      <td>2</td>\n",
       "      <td>2</td>\n",
       "      <td>1</td>\n",
       "      <td>1</td>\n",
       "      <td>1</td>\n",
       "      <td>0.468350</td>\n",
       "      <td>0.56797</td>\n",
       "      <td>0.676925</td>\n",
       "      <td>0.564735</td>\n",
       "      <td>0.012742</td>\n",
       "      <td>0.862707</td>\n",
       "      <td>0.139458</td>\n",
       "      <td>0.764115</td>\n",
       "      <td>0.000035</td>\n",
       "      <td>0.867429</td>\n",
       "      <td>1.000000</td>\n",
       "      <td>0.582624</td>\n",
       "      <td>0.583806</td>\n",
       "      <td>1.000000</td>\n",
       "    </tr>\n",
       "    <tr>\n",
       "      <td>2507</td>\n",
       "      <td>0.003042</td>\n",
       "      <td>0.000619</td>\n",
       "      <td>63</td>\n",
       "      <td>93</td>\n",
       "      <td>Maya</td>\n",
       "      <td>None</td>\n",
       "      <td>Jones</td>\n",
       "      <td>Jones</td>\n",
       "      <td>2010-08-05</td>\n",
       "      <td>2003-11-25</td>\n",
       "      <td>Sunderland</td>\n",
       "      <td>Brighton</td>\n",
       "      <td>erin01@york.com</td>\n",
       "      <td>samuel91@curry.info</td>\n",
       "      <td>-1</td>\n",
       "      <td>2</td>\n",
       "      <td>0</td>\n",
       "      <td>0</td>\n",
       "      <td>0</td>\n",
       "      <td>1.000000</td>\n",
       "      <td>1.00000</td>\n",
       "      <td>0.676925</td>\n",
       "      <td>0.564735</td>\n",
       "      <td>0.987258</td>\n",
       "      <td>0.137293</td>\n",
       "      <td>0.860542</td>\n",
       "      <td>0.235885</td>\n",
       "      <td>0.999965</td>\n",
       "      <td>0.132571</td>\n",
       "      <td>0.003042</td>\n",
       "      <td>0.500000</td>\n",
       "      <td>0.168617</td>\n",
       "      <td>0.000619</td>\n",
       "    </tr>\n",
       "    <tr>\n",
       "      <td>5430</td>\n",
       "      <td>0.999996</td>\n",
       "      <td>0.999996</td>\n",
       "      <td>668</td>\n",
       "      <td>669</td>\n",
       "      <td>Taylor</td>\n",
       "      <td>Ivy</td>\n",
       "      <td>Ivy</td>\n",
       "      <td>Taylor</td>\n",
       "      <td>1980-01-13</td>\n",
       "      <td>1980-01-13</td>\n",
       "      <td>London</td>\n",
       "      <td>Lodno</td>\n",
       "      <td>jonesjennifer@pitts.com</td>\n",
       "      <td>jonesjennifer@pitts.com</td>\n",
       "      <td>0</td>\n",
       "      <td>0</td>\n",
       "      <td>1</td>\n",
       "      <td>0</td>\n",
       "      <td>1</td>\n",
       "      <td>0.530554</td>\n",
       "      <td>0.36519</td>\n",
       "      <td>0.323075</td>\n",
       "      <td>0.378831</td>\n",
       "      <td>0.012742</td>\n",
       "      <td>0.862707</td>\n",
       "      <td>0.860542</td>\n",
       "      <td>0.235885</td>\n",
       "      <td>0.000035</td>\n",
       "      <td>0.867429</td>\n",
       "      <td>0.999996</td>\n",
       "      <td>0.500000</td>\n",
       "      <td>0.500000</td>\n",
       "      <td>0.999996</td>\n",
       "    </tr>\n",
       "    <tr>\n",
       "      <td>86</td>\n",
       "      <td>0.125213</td>\n",
       "      <td>0.147436</td>\n",
       "      <td>21</td>\n",
       "      <td>529</td>\n",
       "      <td>Oliver</td>\n",
       "      <td>Oliver</td>\n",
       "      <td>Connolly</td>\n",
       "      <td>Cok</td>\n",
       "      <td>1972-03-08</td>\n",
       "      <td>2013-03-24</td>\n",
       "      <td>Plymouth</td>\n",
       "      <td>None</td>\n",
       "      <td>None</td>\n",
       "      <td>None</td>\n",
       "      <td>2</td>\n",
       "      <td>0</td>\n",
       "      <td>0</td>\n",
       "      <td>-1</td>\n",
       "      <td>-1</td>\n",
       "      <td>0.468350</td>\n",
       "      <td>0.56797</td>\n",
       "      <td>0.323075</td>\n",
       "      <td>0.378831</td>\n",
       "      <td>0.987258</td>\n",
       "      <td>0.137293</td>\n",
       "      <td>1.000000</td>\n",
       "      <td>1.000000</td>\n",
       "      <td>1.000000</td>\n",
       "      <td>1.000000</td>\n",
       "      <td>0.125213</td>\n",
       "      <td>0.547136</td>\n",
       "      <td>0.500000</td>\n",
       "      <td>0.147436</td>\n",
       "    </tr>\n",
       "    <tr>\n",
       "      <td>5163</td>\n",
       "      <td>0.999999</td>\n",
       "      <td>0.999999</td>\n",
       "      <td>374</td>\n",
       "      <td>381</td>\n",
       "      <td>Adam</td>\n",
       "      <td>Berry</td>\n",
       "      <td>Berry</td>\n",
       "      <td>Adam</td>\n",
       "      <td>1986-02-08</td>\n",
       "      <td>1986-02-08</td>\n",
       "      <td>None</td>\n",
       "      <td>nondo</td>\n",
       "      <td>walterdunn@pham-hill.com</td>\n",
       "      <td>walterdunn@pham-hill.com</td>\n",
       "      <td>0</td>\n",
       "      <td>0</td>\n",
       "      <td>1</td>\n",
       "      <td>-1</td>\n",
       "      <td>1</td>\n",
       "      <td>0.530554</td>\n",
       "      <td>0.36519</td>\n",
       "      <td>0.323075</td>\n",
       "      <td>0.378831</td>\n",
       "      <td>0.012742</td>\n",
       "      <td>0.862707</td>\n",
       "      <td>1.000000</td>\n",
       "      <td>1.000000</td>\n",
       "      <td>0.000035</td>\n",
       "      <td>0.867429</td>\n",
       "      <td>0.999999</td>\n",
       "      <td>0.500000</td>\n",
       "      <td>0.500000</td>\n",
       "      <td>0.999999</td>\n",
       "    </tr>\n",
       "    <tr>\n",
       "      <td>1055</td>\n",
       "      <td>0.999927</td>\n",
       "      <td>0.998643</td>\n",
       "      <td>368</td>\n",
       "      <td>369</td>\n",
       "      <td>Lewis</td>\n",
       "      <td>Lewis</td>\n",
       "      <td>Freddie</td>\n",
       "      <td>Freddie</td>\n",
       "      <td>1971-12-19</td>\n",
       "      <td>1971-09-14</td>\n",
       "      <td>Southend-on-Sea</td>\n",
       "      <td>Southend-on-Sea</td>\n",
       "      <td>tyler28@weaver-alvarez.com</td>\n",
       "      <td>tyler28@weaver-alvarez.com</td>\n",
       "      <td>2</td>\n",
       "      <td>2</td>\n",
       "      <td>0</td>\n",
       "      <td>1</td>\n",
       "      <td>1</td>\n",
       "      <td>0.468350</td>\n",
       "      <td>0.56797</td>\n",
       "      <td>0.676925</td>\n",
       "      <td>0.564735</td>\n",
       "      <td>0.987258</td>\n",
       "      <td>0.137293</td>\n",
       "      <td>0.139458</td>\n",
       "      <td>0.764115</td>\n",
       "      <td>0.000035</td>\n",
       "      <td>0.867429</td>\n",
       "      <td>0.999927</td>\n",
       "      <td>0.265110</td>\n",
       "      <td>0.129396</td>\n",
       "      <td>0.998643</td>\n",
       "    </tr>\n",
       "    <tr>\n",
       "      <td>1262</td>\n",
       "      <td>0.004416</td>\n",
       "      <td>0.001296</td>\n",
       "      <td>468</td>\n",
       "      <td>936</td>\n",
       "      <td>George</td>\n",
       "      <td>George</td>\n",
       "      <td>None</td>\n",
       "      <td>Hodgson</td>\n",
       "      <td>1984-07-05</td>\n",
       "      <td>1980-12-30</td>\n",
       "      <td>London</td>\n",
       "      <td>Sheffied</td>\n",
       "      <td>jonesjustin@myers.com</td>\n",
       "      <td>lori88@huynh.biz</td>\n",
       "      <td>2</td>\n",
       "      <td>-1</td>\n",
       "      <td>0</td>\n",
       "      <td>0</td>\n",
       "      <td>0</td>\n",
       "      <td>0.468350</td>\n",
       "      <td>0.56797</td>\n",
       "      <td>1.000000</td>\n",
       "      <td>1.000000</td>\n",
       "      <td>0.987258</td>\n",
       "      <td>0.137293</td>\n",
       "      <td>0.860542</td>\n",
       "      <td>0.235885</td>\n",
       "      <td>0.999965</td>\n",
       "      <td>0.132571</td>\n",
       "      <td>0.004416</td>\n",
       "      <td>0.226376</td>\n",
       "      <td>0.500000</td>\n",
       "      <td>0.001296</td>\n",
       "    </tr>\n",
       "    <tr>\n",
       "      <td>4741</td>\n",
       "      <td>0.022501</td>\n",
       "      <td>0.004647</td>\n",
       "      <td>858</td>\n",
       "      <td>880</td>\n",
       "      <td>Leo</td>\n",
       "      <td>None</td>\n",
       "      <td>Jones</td>\n",
       "      <td>Jones</td>\n",
       "      <td>1983-08-31</td>\n",
       "      <td>2019-06-15</td>\n",
       "      <td>Manchester</td>\n",
       "      <td>London</td>\n",
       "      <td>None</td>\n",
       "      <td>tcarr@lewis-kline.com</td>\n",
       "      <td>-1</td>\n",
       "      <td>2</td>\n",
       "      <td>0</td>\n",
       "      <td>0</td>\n",
       "      <td>-1</td>\n",
       "      <td>1.000000</td>\n",
       "      <td>1.00000</td>\n",
       "      <td>0.676925</td>\n",
       "      <td>0.564735</td>\n",
       "      <td>0.987258</td>\n",
       "      <td>0.137293</td>\n",
       "      <td>0.860542</td>\n",
       "      <td>0.235885</td>\n",
       "      <td>1.000000</td>\n",
       "      <td>1.000000</td>\n",
       "      <td>0.022501</td>\n",
       "      <td>0.500000</td>\n",
       "      <td>0.168617</td>\n",
       "      <td>0.004647</td>\n",
       "    </tr>\n",
       "  </tbody>\n",
       "</table>\n",
       "</div>"
      ],
      "text/plain": [
       "      match_probability  tf_adjusted_match_prob  unique_id_l  unique_id_r  \\\n",
       "1541           0.018623                0.005522          574          819   \n",
       "5535           1.000000                1.000000          805          811   \n",
       "1925           1.000000                1.000000          761          762   \n",
       "2507           0.003042                0.000619           63           93   \n",
       "5430           0.999996                0.999996          668          669   \n",
       "86             0.125213                0.147436           21          529   \n",
       "5163           0.999999                0.999999          374          381   \n",
       "1055           0.999927                0.998643          368          369   \n",
       "1262           0.004416                0.001296          468          936   \n",
       "4741           0.022501                0.004647          858          880   \n",
       "\n",
       "     first_name_l first_name_r surname_l surname_r       dob_l       dob_r  \\\n",
       "1541      George       George   Williams      Hill  1981-08-06  1984-03-16   \n",
       "5535       Darcy          None   Webster    rebstW  1984-02-07  1984-02-07   \n",
       "1925      Collins      Collins    Mason     Mason   1975-05-21  1975-05-21   \n",
       "2507        Maya          None     Jones     Jones  2010-08-05  2003-11-25   \n",
       "5430       Taylor         Ivy       Ivy     Taylor  1980-01-13  1980-01-13   \n",
       "86        Oliver       Oliver   Connolly       Cok  1972-03-08  2013-03-24   \n",
       "5163        Adam         Berry     Berry     Adam   1986-02-08  1986-02-08   \n",
       "1055        Lewis        Lewis  Freddie   Freddie   1971-12-19  1971-09-14   \n",
       "1262      George       George       None   Hodgson  1984-07-05  1980-12-30   \n",
       "4741         Leo          None     Jones     Jones  1983-08-31  2019-06-15   \n",
       "\n",
       "               city_l           city_r                      email_l  \\\n",
       "1541           London             None             desek58gibbr.biz   \n",
       "5535        Coschelte       Colchester  iatherine96@kkm-martinez.co   \n",
       "1925       Birmingham       Birmingham     christina86@cummings.com   \n",
       "2507       Sunderland         Brighton              erin01@york.com   \n",
       "5430           London            Lodno      jonesjennifer@pitts.com   \n",
       "86           Plymouth             None                         None   \n",
       "5163             None            nondo     walterdunn@pham-hill.com   \n",
       "1055  Southend-on-Sea  Southend-on-Sea   tyler28@weaver-alvarez.com   \n",
       "1262           London         Sheffied        jonesjustin@myers.com   \n",
       "4741       Manchester           London                         None   \n",
       "\n",
       "                                  email_r  gamma_0  gamma_1  gamma_2  gamma_3  \\\n",
       "1541  smithmelinda@christensen-harvey.com        2        0        0       -1   \n",
       "5535         katherine96@kim-martinez.com       -1        0        1        1   \n",
       "1925             christina86@cummings.com        2        2        1        1   \n",
       "2507                  samuel91@curry.info       -1        2        0        0   \n",
       "5430              jonesjennifer@pitts.com        0        0        1        0   \n",
       "86                                   None        2        0        0       -1   \n",
       "5163             walterdunn@pham-hill.com        0        0        1       -1   \n",
       "1055           tyler28@weaver-alvarez.com        2        2        0        1   \n",
       "1262                     lori88@huynh.biz        2       -1        0        0   \n",
       "4741                tcarr@lewis-kline.com       -1        2        0        0   \n",
       "\n",
       "      gamma_4  prob_gamma_0_non_match  prob_gamma_0_match  \\\n",
       "1541        0                0.468350             0.56797   \n",
       "5535        1                1.000000             1.00000   \n",
       "1925        1                0.468350             0.56797   \n",
       "2507        0                1.000000             1.00000   \n",
       "5430        1                0.530554             0.36519   \n",
       "86         -1                0.468350             0.56797   \n",
       "5163        1                0.530554             0.36519   \n",
       "1055        1                0.468350             0.56797   \n",
       "1262        0                0.468350             0.56797   \n",
       "4741       -1                1.000000             1.00000   \n",
       "\n",
       "      prob_gamma_1_non_match  prob_gamma_1_match  prob_gamma_2_non_match  \\\n",
       "1541                0.323075            0.378831                0.987258   \n",
       "5535                0.323075            0.378831                0.012742   \n",
       "1925                0.676925            0.564735                0.012742   \n",
       "2507                0.676925            0.564735                0.987258   \n",
       "5430                0.323075            0.378831                0.012742   \n",
       "86                  0.323075            0.378831                0.987258   \n",
       "5163                0.323075            0.378831                0.012742   \n",
       "1055                0.676925            0.564735                0.987258   \n",
       "1262                1.000000            1.000000                0.987258   \n",
       "4741                0.676925            0.564735                0.987258   \n",
       "\n",
       "      prob_gamma_2_match  prob_gamma_3_non_match  prob_gamma_3_match  \\\n",
       "1541            0.137293                1.000000            1.000000   \n",
       "5535            0.862707                0.139458            0.764115   \n",
       "1925            0.862707                0.139458            0.764115   \n",
       "2507            0.137293                0.860542            0.235885   \n",
       "5430            0.862707                0.860542            0.235885   \n",
       "86              0.137293                1.000000            1.000000   \n",
       "5163            0.862707                1.000000            1.000000   \n",
       "1055            0.137293                0.139458            0.764115   \n",
       "1262            0.137293                0.860542            0.235885   \n",
       "4741            0.137293                0.860542            0.235885   \n",
       "\n",
       "      prob_gamma_4_non_match  prob_gamma_4_match  match_probability  \\\n",
       "1541                0.999965            0.132571           0.018623   \n",
       "5535                0.000035            0.867429           1.000000   \n",
       "1925                0.000035            0.867429           1.000000   \n",
       "2507                0.999965            0.132571           0.003042   \n",
       "5430                0.000035            0.867429           0.999996   \n",
       "86                  1.000000            1.000000           0.125213   \n",
       "5163                0.000035            0.867429           0.999999   \n",
       "1055                0.000035            0.867429           0.999927   \n",
       "1262                0.999965            0.132571           0.004416   \n",
       "4741                1.000000            1.000000           0.022501   \n",
       "\n",
       "      first_name_adj  surname_adj  tf_adjusted_match_prob  \n",
       "1541        0.226376     0.500000                0.005522  \n",
       "5535        0.500000     0.500000                1.000000  \n",
       "1925        0.582624     0.583806                1.000000  \n",
       "2507        0.500000     0.168617                0.000619  \n",
       "5430        0.500000     0.500000                0.999996  \n",
       "86          0.547136     0.500000                0.147436  \n",
       "5163        0.500000     0.500000                0.999999  \n",
       "1055        0.265110     0.129396                0.998643  \n",
       "1262        0.226376     0.500000                0.001296  \n",
       "4741        0.500000     0.168617                0.004647  "
      ]
     },
     "execution_count": 18,
     "metadata": {},
     "output_type": "execute_result"
    }
   ],
   "source": [
    "pdtf = df_e_adj.toPandas()\n",
    "sam = pdtf.sample(10)\n",
    "sam[[\"match_probability\", \"tf_adjusted_match_prob\"] + list(pdtf.columns)]"
   ]
  }
 ],
 "metadata": {
  "kernelspec": {
   "display_name": "Python 3",
   "language": "python",
   "name": "python3"
  },
  "language_info": {
   "codemirror_mode": {
    "name": "ipython",
    "version": 3
   },
   "file_extension": ".py",
   "mimetype": "text/x-python",
   "name": "python",
   "nbconvert_exporter": "python",
   "pygments_lexer": "ipython3",
   "version": "3.6.9"
  }
 },
 "nbformat": 4,
 "nbformat_minor": 4
}
