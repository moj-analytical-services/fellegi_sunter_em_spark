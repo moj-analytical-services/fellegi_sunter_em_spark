{
 "cells": [
  {
   "cell_type": "markdown",
   "metadata": {},
   "source": [
    "## Sparklink demo \n",
    "\n",
    "In this demo we de-duplicate a small dataset.\n",
    "\n",
    "The purpose is to provide an end-to-end example of how to use the package\n",
    "\n",
    "I print the output at each stage using `spark_dataframe.show()`.  This is for instructional purposes only - it degrades performance and shouldn't be used in a production setting."
   ]
  },
  {
   "cell_type": "markdown",
   "metadata": {},
   "source": [
    "## Step 1:  Imports and setup\n",
    "\n",
    "The following is just boilerplate code that sets up the Spark session and sets some other non-essential configuration options"
   ]
  },
  {
   "cell_type": "code",
   "execution_count": 1,
   "metadata": {},
   "outputs": [],
   "source": [
    "import pandas as pd \n",
    "pd.options.display.max_columns = 500\n",
    "pd.options.display.max_rows = 100"
   ]
  },
  {
   "cell_type": "code",
   "execution_count": 2,
   "metadata": {},
   "outputs": [],
   "source": [
    "import logging \n",
    "logging.basicConfig()\n",
    "\n",
    "# Set to DEBUG if you want sparklink to log the SQL statements it's executing under the hood\n",
    "logging.getLogger(\"sparklink\").setLevel(logging.INFO)"
   ]
  },
  {
   "cell_type": "code",
   "execution_count": 3,
   "metadata": {},
   "outputs": [],
   "source": [
    "from pyspark.context import SparkContext, SparkConf\n",
    "from pyspark.sql import SparkSession, Window\n",
    "from pyspark.sql.types import StructType\n",
    "import pyspark.sql.functions as f\n",
    "\n",
    "conf=SparkConf()\n",
    "\n",
    "# Load in a jar that provides extended string comparison functions such as Jaro Winkler.\n",
    "# Sparklink \n",
    "conf.set('spark.driver.extraClassPath', 'jars/scala-udf-similarity-0.0.6.jar')\n",
    "conf.set('spark.jars', 'jars/scala-udf-similarity-0.0.6.jar')   \n",
    "\n",
    "\n",
    "# WARNING:\n",
    "# These config options are appropriate only if you're running Spark locally!!!\n",
    "conf.set('spark.driver.memory', '4g')\n",
    "conf.set(\"spark.sql.shuffle.partitions\", \"8\") \n",
    "\n",
    "sc = SparkContext.getOrCreate(conf=conf)\n",
    "\n",
    "spark = SparkSession(sc)\n",
    "\n",
    " # Register UDFs\n",
    "from pyspark.sql import types\n",
    "spark.udf.registerJavaFunction('jaro_winkler_sim', 'uk.gov.moj.dash.linkage.JaroWinklerSimilarity', types.DoubleType())\n",
    "spark.udf.registerJavaFunction('Dmetaphone', 'uk.gov.moj.dash.linkage.DoubleMetaphone', types.StringType())"
   ]
  },
  {
   "cell_type": "markdown",
   "metadata": {},
   "source": [
    "## Step 2:  Configure sparklink using the `settings` object\n",
    "\n",
    "Most of `sparklink` configuration options are stored in a settings dictionary.  This dictionary allows significant customisation, and can therefore get quite complex.  \n",
    "\n",
    "Customisation overrides default values built into sparklink.  For the purposes of this demo, we will specify a simple settings dictionary, which means we will be relying on these sensible defaults.\n",
    "\n",
    "To help with authoring and validation of the settings dictionary, we have written a [json schema](https://json-schema.org/), which can be found [here](https://github.com/moj-analytical-services/sparklink/blob/dev/sparklink/files/settings_jsonschema.json).  We also provide an tool for helping to author valid settings dictionaries, which includes tooltips and autocomplete, which you can find [here](https://robinlinacre.com/simple_sparklink_settings_editor/).\n",
    "\n"
   ]
  },
  {
   "cell_type": "code",
   "execution_count": 20,
   "metadata": {},
   "outputs": [],
   "source": [
    "settings = {\n",
    "    \"proportion_of_matches\": 0.5,\n",
    "    \"link_type\": \"dedupe_only\",\n",
    "    \"blocking_rules\": [\n",
    "        'l.first_name = r.first_name',\n",
    "        'l.surname = r.surname',\n",
    "        'l.dob = r.dob'\n",
    "    ],\n",
    "    \"comparison_columns\": [\n",
    "        {\n",
    "            \"col_name\": \"first_name\",\n",
    "            \"num_levels\": 3,\n",
    "            \"term_frequency_adjustments\": True\n",
    "        },\n",
    "        {\n",
    "            \"col_name\": \"surname\",\n",
    "            \"num_levels\": 3,\n",
    "            \"term_frequency_adjustments\": True\n",
    "        },\n",
    "        {\n",
    "            \"col_name\": \"dob\"\n",
    "        },\n",
    "        {\n",
    "            \"col_name\": \"city\"\n",
    "        },\n",
    "        {\n",
    "            \"col_name\": \"email\"\n",
    "        }\n",
    "    ]\n",
    "    \n",
    "}"
   ]
  },
  {
   "cell_type": "markdown",
   "metadata": {},
   "source": [
    "In words, this setting dictionary says:\n",
    "- We are performing a deduplication task (the other options are `link_only`, or `link_and_dedupe`)\n",
    "- The initial value (prior belief) for the proportion of matches amongst comparisons is 0.5 (50% of comparisons that result from the blocking rules are matches).\n",
    "- We are going generate comparisons subject to the blocking rules contained in the specified array\n",
    "- When comparing records, we will use information from the `first_name`, `surname`, `dob`, `city` and `email` columns to compute a match score.\n",
    "- For `first_name` and `surname`, string comparisons will have three levels:\n",
    "    - Level 2: Strings are (almost) exactly the same\n",
    "    - Level 1: Strings are similar \n",
    "    - Level 0: No match\n"
   ]
  },
  {
   "cell_type": "markdown",
   "metadata": {},
   "source": [
    "## Step 3:  Read in data and create comparisons using blocking rules"
   ]
  },
  {
   "cell_type": "code",
   "execution_count": 21,
   "metadata": {},
   "outputs": [
    {
     "name": "stdout",
     "output_type": "stream",
     "text": [
      "+---------+----------+-------+----------+------+--------------------+-----+\n",
      "|unique_id|first_name|surname|       dob|  city|               email|group|\n",
      "+---------+----------+-------+----------+------+--------------------+-----+\n",
      "|        0|    Julia |   null|2015-10-29|London| hannah88@powers.com|    0|\n",
      "|        1|    Julia | Taylor|2015-07-31|London| hannah88@powers.com|    0|\n",
      "|        2|    Julia | Taylor|2016-01-27|London| hannah88@powers.com|    0|\n",
      "|        3|    Julia | Taylor|2015-10-29|  null|  hannah88opowersc@m|    0|\n",
      "|        4|      oNah| Watson|2008-03-23|Bolton|matthew78@ballard...|    1|\n",
      "+---------+----------+-------+----------+------+--------------------+-----+\n",
      "only showing top 5 rows\n",
      "\n"
     ]
    }
   ],
   "source": [
    "df = spark.read.parquet(\"data/fake_1000.parquet\")\n",
    "df.show(5)"
   ]
  },
  {
   "cell_type": "code",
   "execution_count": 22,
   "metadata": {},
   "outputs": [
    {
     "name": "stdout",
     "output_type": "stream",
     "text": [
      "+-----------+-----------+------------+------------+---------+---------+----------+----------+------+------+-------------------+-------------------+\n",
      "|unique_id_l|unique_id_r|first_name_l|first_name_r|surname_l|surname_r|     dob_l|     dob_r|city_l|city_r|            email_l|            email_r|\n",
      "+-----------+-----------+------------+------------+---------+---------+----------+----------+------+------+-------------------+-------------------+\n",
      "|          0|          3|      Julia |      Julia |     null|   Taylor|2015-10-29|2015-10-29|London|  null|hannah88@powers.com| hannah88opowersc@m|\n",
      "|          0|          2|      Julia |      Julia |     null|   Taylor|2015-10-29|2016-01-27|London|London|hannah88@powers.com|hannah88@powers.com|\n",
      "|          0|          1|      Julia |      Julia |     null|   Taylor|2015-10-29|2015-07-31|London|London|hannah88@powers.com|hannah88@powers.com|\n",
      "|          1|          3|      Julia |      Julia |   Taylor|   Taylor|2015-07-31|2015-10-29|London|  null|hannah88@powers.com| hannah88opowersc@m|\n",
      "|          1|          2|      Julia |      Julia |   Taylor|   Taylor|2015-07-31|2016-01-27|London|London|hannah88@powers.com|hannah88@powers.com|\n",
      "+-----------+-----------+------------+------------+---------+---------+----------+----------+------+------+-------------------+-------------------+\n",
      "only showing top 5 rows\n",
      "\n"
     ]
    }
   ],
   "source": [
    "from sparklink.blocking import block_using_rules\n",
    "from sparklink.gammas import complete_settings_dict\n",
    "settings = complete_settings_dict(settings)\n",
    "df_comparison = block_using_rules(settings, df=df, spark=spark)\n",
    "df_comparison.show(5)"
   ]
  },
  {
   "cell_type": "markdown",
   "metadata": {},
   "source": [
    "## Step 3:  Compute Fellegi Sunter comparison vectors from the table of comparisons\n",
    "\n",
    "Columns are assumed to be strings by default.  See the 'comparison vector settings' notebook for details of configuration options."
   ]
  },
  {
   "cell_type": "code",
   "execution_count": 23,
   "metadata": {},
   "outputs": [
    {
     "name": "stdout",
     "output_type": "stream",
     "text": [
      "+-----------+-----------+------------+------------+---------+---------+----------+----------+------+------+-------------------+-------------------+-------+-------+-------+-------+-------+\n",
      "|unique_id_l|unique_id_r|first_name_l|first_name_r|surname_l|surname_r|     dob_l|     dob_r|city_l|city_r|            email_l|            email_r|gamma_0|gamma_1|gamma_2|gamma_3|gamma_4|\n",
      "+-----------+-----------+------------+------------+---------+---------+----------+----------+------+------+-------------------+-------------------+-------+-------+-------+-------+-------+\n",
      "|          0|          3|      Julia |      Julia |     null|   Taylor|2015-10-29|2015-10-29|London|  null|hannah88@powers.com| hannah88opowersc@m|      2|     -1|      1|     -1|      0|\n",
      "|          0|          2|      Julia |      Julia |     null|   Taylor|2015-10-29|2016-01-27|London|London|hannah88@powers.com|hannah88@powers.com|      2|     -1|      0|      1|      1|\n",
      "|          0|          1|      Julia |      Julia |     null|   Taylor|2015-10-29|2015-07-31|London|London|hannah88@powers.com|hannah88@powers.com|      2|     -1|      0|      1|      1|\n",
      "|          1|          3|      Julia |      Julia |   Taylor|   Taylor|2015-07-31|2015-10-29|London|  null|hannah88@powers.com| hannah88opowersc@m|      2|      2|      0|     -1|      0|\n",
      "|          1|          2|      Julia |      Julia |   Taylor|   Taylor|2015-07-31|2016-01-27|London|London|hannah88@powers.com|hannah88@powers.com|      2|      2|      0|      1|      1|\n",
      "+-----------+-----------+------------+------------+---------+---------+----------+----------+------+------+-------------------+-------------------+-------+-------+-------+-------+-------+\n",
      "only showing top 5 rows\n",
      "\n"
     ]
    }
   ],
   "source": [
    "from sparklink.gammas import add_gammas\n",
    "\n",
    "df_gammas = add_gammas(df_comparison, settings, spark, include_orig_cols = True)\n",
    "df_gammas.persist()\n",
    "df_gammas.show(5)"
   ]
  },
  {
   "cell_type": "markdown",
   "metadata": {},
   "source": [
    "## Step 4:  Initialise parameters (m and u probabilities)"
   ]
  },
  {
   "cell_type": "code",
   "execution_count": 24,
   "metadata": {},
   "outputs": [],
   "source": [
    "from sparklink.params import Params \n",
    "params = Params(settings)\n",
    "\n",
    "# Note all initial parameters are customisable - see the  'comparison vector settings' notebook for details of configuration options."
   ]
  },
  {
   "cell_type": "code",
   "execution_count": 25,
   "metadata": {},
   "outputs": [
    {
     "data": {
      "text/plain": [
       "λ (proportion of matches) = 0.5\n",
       "------------------------------------\n",
       "gamma_0: Comparison of first_name\n",
       "\n",
       "Probability distribution of gamma values amongst matches:\n",
       "    value 0: 0.100000 (level represents lowest category of string similarity)\n",
       "    value 1: 0.200000 \n",
       "    value 2: 0.700000 (level represents highest category of string similarity)\n",
       "\n",
       "Probability distribution of gamma values amongst non-matches:\n",
       "    value 0: 0.700000 (level represents lowest category of string similarity)\n",
       "    value 1: 0.200000 \n",
       "    value 2: 0.100000 (level represents highest category of string similarity)\n",
       "------------------------------------\n",
       "gamma_1: Comparison of surname\n",
       "\n",
       "Probability distribution of gamma values amongst matches:\n",
       "    value 0: 0.100000 (level represents lowest category of string similarity)\n",
       "    value 1: 0.200000 \n",
       "    value 2: 0.700000 (level represents highest category of string similarity)\n",
       "\n",
       "Probability distribution of gamma values amongst non-matches:\n",
       "    value 0: 0.700000 (level represents lowest category of string similarity)\n",
       "    value 1: 0.200000 \n",
       "    value 2: 0.100000 (level represents highest category of string similarity)\n",
       "------------------------------------\n",
       "gamma_2: Comparison of dob\n",
       "\n",
       "Probability distribution of gamma values amongst matches:\n",
       "    value 0: 0.100000 (level represents lowest category of string similarity)\n",
       "    value 1: 0.900000 (level represents highest category of string similarity)\n",
       "\n",
       "Probability distribution of gamma values amongst non-matches:\n",
       "    value 0: 0.900000 (level represents lowest category of string similarity)\n",
       "    value 1: 0.100000 (level represents highest category of string similarity)\n",
       "------------------------------------\n",
       "gamma_3: Comparison of city\n",
       "\n",
       "Probability distribution of gamma values amongst matches:\n",
       "    value 0: 0.100000 (level represents lowest category of string similarity)\n",
       "    value 1: 0.900000 (level represents highest category of string similarity)\n",
       "\n",
       "Probability distribution of gamma values amongst non-matches:\n",
       "    value 0: 0.900000 (level represents lowest category of string similarity)\n",
       "    value 1: 0.100000 (level represents highest category of string similarity)\n",
       "------------------------------------\n",
       "gamma_4: Comparison of email\n",
       "\n",
       "Probability distribution of gamma values amongst matches:\n",
       "    value 0: 0.100000 (level represents lowest category of string similarity)\n",
       "    value 1: 0.900000 (level represents highest category of string similarity)\n",
       "\n",
       "Probability distribution of gamma values amongst non-matches:\n",
       "    value 0: 0.900000 (level represents lowest category of string similarity)\n",
       "    value 1: 0.100000 (level represents highest category of string similarity)"
      ]
     },
     "execution_count": 25,
     "metadata": {},
     "output_type": "execute_result"
    }
   ],
   "source": [
    "#  Note that the params object has a formatted, human-readable __repr__ representation when you print it\n",
    "params"
   ]
  },
  {
   "cell_type": "code",
   "execution_count": 26,
   "metadata": {},
   "outputs": [
    {
     "data": {
      "application/vnd.vegalite.v3+json": {
       "$schema": "https://vega.github.io/schema/vega-lite/v3.4.0.json",
       "config": {
        "mark": {
         "tooltip": null
        },
        "title": {
         "anchor": "middle"
        },
        "view": {
         "height": 300,
         "width": 400
        }
       },
       "data": {
        "name": "data-c9aa9645ef114e554e60bb3f2182b1c1"
       },
       "datasets": {
        "data-c9aa9645ef114e554e60bb3f2182b1c1": [
         {
          "column": "first_name",
          "gamma": "gamma_0",
          "match": 1,
          "probability": 0.1,
          "value": 0,
          "value_of_gamma": "level_0"
         },
         {
          "column": "first_name",
          "gamma": "gamma_0",
          "match": 1,
          "probability": 0.2,
          "value": 1,
          "value_of_gamma": "level_1"
         },
         {
          "column": "first_name",
          "gamma": "gamma_0",
          "match": 1,
          "probability": 0.7,
          "value": 2,
          "value_of_gamma": "level_2"
         },
         {
          "column": "first_name",
          "gamma": "gamma_0",
          "match": 0,
          "probability": 0.7,
          "value": 0,
          "value_of_gamma": "level_0"
         },
         {
          "column": "first_name",
          "gamma": "gamma_0",
          "match": 0,
          "probability": 0.19999999999999996,
          "value": 1,
          "value_of_gamma": "level_1"
         },
         {
          "column": "first_name",
          "gamma": "gamma_0",
          "match": 0,
          "probability": 0.09999999999999998,
          "value": 2,
          "value_of_gamma": "level_2"
         },
         {
          "column": "surname",
          "gamma": "gamma_1",
          "match": 1,
          "probability": 0.1,
          "value": 0,
          "value_of_gamma": "level_0"
         },
         {
          "column": "surname",
          "gamma": "gamma_1",
          "match": 1,
          "probability": 0.2,
          "value": 1,
          "value_of_gamma": "level_1"
         },
         {
          "column": "surname",
          "gamma": "gamma_1",
          "match": 1,
          "probability": 0.7,
          "value": 2,
          "value_of_gamma": "level_2"
         },
         {
          "column": "surname",
          "gamma": "gamma_1",
          "match": 0,
          "probability": 0.7,
          "value": 0,
          "value_of_gamma": "level_0"
         },
         {
          "column": "surname",
          "gamma": "gamma_1",
          "match": 0,
          "probability": 0.19999999999999996,
          "value": 1,
          "value_of_gamma": "level_1"
         },
         {
          "column": "surname",
          "gamma": "gamma_1",
          "match": 0,
          "probability": 0.09999999999999998,
          "value": 2,
          "value_of_gamma": "level_2"
         },
         {
          "column": "dob",
          "gamma": "gamma_2",
          "match": 1,
          "probability": 0.1,
          "value": 0,
          "value_of_gamma": "level_0"
         },
         {
          "column": "dob",
          "gamma": "gamma_2",
          "match": 1,
          "probability": 0.9,
          "value": 1,
          "value_of_gamma": "level_1"
         },
         {
          "column": "dob",
          "gamma": "gamma_2",
          "match": 0,
          "probability": 0.9,
          "value": 0,
          "value_of_gamma": "level_0"
         },
         {
          "column": "dob",
          "gamma": "gamma_2",
          "match": 0,
          "probability": 0.1,
          "value": 1,
          "value_of_gamma": "level_1"
         },
         {
          "column": "city",
          "gamma": "gamma_3",
          "match": 1,
          "probability": 0.1,
          "value": 0,
          "value_of_gamma": "level_0"
         },
         {
          "column": "city",
          "gamma": "gamma_3",
          "match": 1,
          "probability": 0.9,
          "value": 1,
          "value_of_gamma": "level_1"
         },
         {
          "column": "city",
          "gamma": "gamma_3",
          "match": 0,
          "probability": 0.9,
          "value": 0,
          "value_of_gamma": "level_0"
         },
         {
          "column": "city",
          "gamma": "gamma_3",
          "match": 0,
          "probability": 0.1,
          "value": 1,
          "value_of_gamma": "level_1"
         },
         {
          "column": "email",
          "gamma": "gamma_4",
          "match": 1,
          "probability": 0.1,
          "value": 0,
          "value_of_gamma": "level_0"
         },
         {
          "column": "email",
          "gamma": "gamma_4",
          "match": 1,
          "probability": 0.9,
          "value": 1,
          "value_of_gamma": "level_1"
         },
         {
          "column": "email",
          "gamma": "gamma_4",
          "match": 0,
          "probability": 0.9,
          "value": 0,
          "value_of_gamma": "level_0"
         },
         {
          "column": "email",
          "gamma": "gamma_4",
          "match": 0,
          "probability": 0.1,
          "value": 1,
          "value_of_gamma": "level_1"
         }
        ]
       },
       "hconcat": [
        {
         "encoding": {
          "color": {
           "field": "match",
           "type": "nominal"
          },
          "row": {
           "field": "column",
           "sort": {
            "field": "gamma"
           },
           "type": "nominal"
          },
          "tooltip": [
           {
            "field": "column",
            "type": "nominal"
           },
           {
            "field": "probability",
            "format": ".4f",
            "type": "quantitative"
           },
           {
            "field": "value",
            "type": "ordinal"
           }
          ],
          "x": {
           "field": "probability",
           "type": "quantitative"
          },
          "y": {
           "axis": {
            "title": "𝛾 value"
           },
           "field": "value",
           "type": "nominal"
          }
         },
         "mark": "bar",
         "resolve": {
          "scale": {
           "y": "independent"
          }
         },
         "transform": [
          {
           "filter": "(datum.match === 0)"
          }
         ],
         "width": 150
        },
        {
         "encoding": {
          "color": {
           "field": "match",
           "type": "nominal"
          },
          "row": {
           "field": "column",
           "sort": {
            "field": "gamma"
           },
           "type": "nominal"
          },
          "tooltip": [
           {
            "field": "column",
            "type": "nominal"
           },
           {
            "field": "probability",
            "format": ".4f",
            "type": "quantitative"
           },
           {
            "field": "value",
            "type": "ordinal"
           }
          ],
          "x": {
           "field": "probability",
           "type": "quantitative"
          },
          "y": {
           "axis": {
            "title": "𝛾 value"
           },
           "field": "value",
           "type": "nominal"
          }
         },
         "mark": "bar",
         "resolve": {
          "scale": {
           "y": "independent"
          }
         },
         "transform": [
          {
           "filter": "(datum.match === 1)"
          }
         ],
         "width": 150
        }
       ],
       "title": "Probability distribution of comparison vector values, m=0 and m=1"
      },
      "image/png": "[encoded data removed]",
      "text/plain": [
       "<VegaLite 3 object>\n",
       "\n",
       "If you see this message, it means the renderer has not been properly enabled\n",
       "for the frontend that you are using. For more information, see\n",
       "https://altair-viz.github.io/user_guide/troubleshooting.html\n"
      ]
     },
     "execution_count": 26,
     "metadata": {},
     "output_type": "execute_result"
    }
   ],
   "source": [
    "# Note there are various graphical representations of the information contained in parameters, such as:\n",
    "params.probability_distribution_chart()"
   ]
  },
  {
   "cell_type": "markdown",
   "metadata": {},
   "source": [
    "## Step 5:  Repeatedly apply expectation and maximisation step to improve parameter estimates"
   ]
  },
  {
   "cell_type": "code",
   "execution_count": 27,
   "metadata": {},
   "outputs": [
    {
     "name": "stderr",
     "output_type": "stream",
     "text": [
      "INFO:sparklink.expectation_step:\n",
      "Log likelihood for iteration 0:  -22022.17073033113\n",
      "\n",
      "INFO:sparklink.expectation_step:\n",
      "Log likelihood for iteration 1:  -15746.226403305649\n",
      "\n",
      "INFO:sparklink.expectation_step:\n",
      "Log likelihood for iteration 2:  -15521.787360601704\n",
      "\n",
      "INFO:sparklink.expectation_step:\n",
      "Log likelihood for iteration 3:  -15474.51383191972\n",
      "\n",
      "INFO:sparklink.expectation_step:\n",
      "Log likelihood for iteration 4:  -15458.77874371436\n",
      "\n",
      "INFO:sparklink.expectation_step:\n",
      "Log likelihood for iteration 5:  -15450.728664992195\n",
      "\n",
      "INFO:sparklink.expectation_step:\n",
      "Log likelihood for iteration 6:  -15445.65232979209\n",
      "\n",
      "INFO:sparklink.expectation_step:\n",
      "Log likelihood for iteration 7:  -15442.149315795372\n",
      "\n",
      "INFO:sparklink.expectation_step:\n",
      "Log likelihood for iteration 8:  -15439.608912537664\n",
      "\n",
      "INFO:sparklink.expectation_step:\n",
      "Log likelihood for iteration 9:  -15437.702593455539\n",
      "\n",
      "INFO:sparklink.expectation_step:\n",
      "Log likelihood for iteration 10:  -15436.23335290754\n",
      "\n",
      "INFO:sparklink.expectation_step:\n",
      "Log likelihood for iteration 11:  -15435.075559608238\n",
      "\n",
      "INFO:sparklink.expectation_step:\n",
      "Log likelihood for iteration 12:  -15434.147123289633\n",
      "\n",
      "INFO:sparklink.expectation_step:\n",
      "Log likelihood for iteration 13:  -15433.391100943561\n",
      "\n",
      "INFO:sparklink.expectation_step:\n",
      "Log likelihood for iteration 14:  -15432.76727378671\n",
      "\n",
      "INFO:sparklink.expectation_step:\n",
      "Log likelihood for iteration 15:  -15432.247375429488\n",
      "\n",
      "INFO:sparklink.expectation_step:\n",
      "Log likelihood for iteration 16:  -15431.809153599244\n",
      "\n",
      "INFO:sparklink.expectation_step:\n",
      "Log likelihood for iteration 17:  -15431.43679702105\n",
      "\n",
      "INFO:sparklink.expectation_step:\n",
      "Log likelihood for iteration 18:  -15431.118235776165\n",
      "\n",
      "INFO:sparklink.expectation_step:\n",
      "Log likelihood for iteration 19:  -15430.843114087158\n",
      "\n",
      "INFO:sparklink.expectation_step:\n",
      "Log likelihood for iteration 20:  -15430.60472843599\n",
      "\n"
     ]
    }
   ],
   "source": [
    "from sparklink.iterate import iterate\n",
    "logging.getLogger(\"sparklink\").setLevel(logging.INFO)\n",
    "df_e = iterate(df_gammas, spark, params, num_iterations=20, compute_ll=True)"
   ]
  },
  {
   "cell_type": "markdown",
   "metadata": {},
   "source": [
    "## Step 6: Inspect results \n",
    "\n"
   ]
  },
  {
   "cell_type": "code",
   "execution_count": 28,
   "metadata": {},
   "outputs": [
    {
     "data": {
      "text/html": [
       "<div>\n",
       "<style scoped>\n",
       "    .dataframe tbody tr th:only-of-type {\n",
       "        vertical-align: middle;\n",
       "    }\n",
       "\n",
       "    .dataframe tbody tr th {\n",
       "        vertical-align: top;\n",
       "    }\n",
       "\n",
       "    .dataframe thead th {\n",
       "        text-align: right;\n",
       "    }\n",
       "</style>\n",
       "<table border=\"1\" class=\"dataframe\">\n",
       "  <thead>\n",
       "    <tr style=\"text-align: right;\">\n",
       "      <th></th>\n",
       "      <th>unique_id_l</th>\n",
       "      <th>unique_id_r</th>\n",
       "      <th>first_name_l</th>\n",
       "      <th>first_name_r</th>\n",
       "      <th>surname_l</th>\n",
       "      <th>surname_r</th>\n",
       "      <th>dob_l</th>\n",
       "      <th>dob_r</th>\n",
       "      <th>city_l</th>\n",
       "      <th>city_r</th>\n",
       "      <th>email_l</th>\n",
       "      <th>email_r</th>\n",
       "      <th>gamma_0</th>\n",
       "      <th>gamma_1</th>\n",
       "      <th>gamma_2</th>\n",
       "      <th>gamma_3</th>\n",
       "      <th>gamma_4</th>\n",
       "      <th>prob_gamma_0_non_match</th>\n",
       "      <th>prob_gamma_0_match</th>\n",
       "      <th>prob_gamma_1_non_match</th>\n",
       "      <th>prob_gamma_1_match</th>\n",
       "      <th>prob_gamma_2_non_match</th>\n",
       "      <th>prob_gamma_2_match</th>\n",
       "      <th>prob_gamma_3_non_match</th>\n",
       "      <th>prob_gamma_3_match</th>\n",
       "      <th>prob_gamma_4_non_match</th>\n",
       "      <th>prob_gamma_4_match</th>\n",
       "      <th>match_probability</th>\n",
       "    </tr>\n",
       "  </thead>\n",
       "  <tbody>\n",
       "    <tr>\n",
       "      <td>2944</td>\n",
       "      <td>137</td>\n",
       "      <td>863</td>\n",
       "      <td>None</td>\n",
       "      <td>None</td>\n",
       "      <td>Jones</td>\n",
       "      <td>Jones</td>\n",
       "      <td>1980-06-23</td>\n",
       "      <td>1983-06-19</td>\n",
       "      <td>London</td>\n",
       "      <td>None</td>\n",
       "      <td>trobinson@garza.com</td>\n",
       "      <td>smyers@andersen-lee.com</td>\n",
       "      <td>-1</td>\n",
       "      <td>2</td>\n",
       "      <td>0</td>\n",
       "      <td>-1</td>\n",
       "      <td>0</td>\n",
       "      <td>1.000000</td>\n",
       "      <td>1.000000</td>\n",
       "      <td>0.684782</td>\n",
       "      <td>0.495868</td>\n",
       "      <td>0.988103</td>\n",
       "      <td>0.204063</td>\n",
       "      <td>1.000000</td>\n",
       "      <td>1.000000</td>\n",
       "      <td>0.988285</td>\n",
       "      <td>0.314853</td>\n",
       "      <td>0.030535</td>\n",
       "    </tr>\n",
       "    <tr>\n",
       "      <td>3399</td>\n",
       "      <td>224</td>\n",
       "      <td>329</td>\n",
       "      <td>Amber</td>\n",
       "      <td>Eliza</td>\n",
       "      <td>Smith</td>\n",
       "      <td>Smith</td>\n",
       "      <td>2003-05-12</td>\n",
       "      <td>1991-02-26</td>\n",
       "      <td>Sunderland</td>\n",
       "      <td>Sumhatpton</td>\n",
       "      <td>barrerakevin@sherman.org</td>\n",
       "      <td>None</td>\n",
       "      <td>0</td>\n",
       "      <td>2</td>\n",
       "      <td>0</td>\n",
       "      <td>0</td>\n",
       "      <td>-1</td>\n",
       "      <td>0.512266</td>\n",
       "      <td>0.434922</td>\n",
       "      <td>0.684782</td>\n",
       "      <td>0.495868</td>\n",
       "      <td>0.988103</td>\n",
       "      <td>0.204063</td>\n",
       "      <td>0.857744</td>\n",
       "      <td>0.320819</td>\n",
       "      <td>1.000000</td>\n",
       "      <td>1.000000</td>\n",
       "      <td>0.030439</td>\n",
       "    </tr>\n",
       "    <tr>\n",
       "      <td>1479</td>\n",
       "      <td>545</td>\n",
       "      <td>546</td>\n",
       "      <td>Freddie</td>\n",
       "      <td>Freddie</td>\n",
       "      <td>Palmer</td>\n",
       "      <td>Palmer</td>\n",
       "      <td>2008-08-10</td>\n",
       "      <td>2008-08-10</td>\n",
       "      <td>Belfast</td>\n",
       "      <td>Belfast</td>\n",
       "      <td>ndavis@miller-mccoy.org</td>\n",
       "      <td>ndavis@miller-mccoy.org</td>\n",
       "      <td>2</td>\n",
       "      <td>2</td>\n",
       "      <td>1</td>\n",
       "      <td>1</td>\n",
       "      <td>1</td>\n",
       "      <td>0.487354</td>\n",
       "      <td>0.478992</td>\n",
       "      <td>0.684782</td>\n",
       "      <td>0.495868</td>\n",
       "      <td>0.011897</td>\n",
       "      <td>0.795937</td>\n",
       "      <td>0.142256</td>\n",
       "      <td>0.679181</td>\n",
       "      <td>0.011715</td>\n",
       "      <td>0.685147</td>\n",
       "      <td>0.999886</td>\n",
       "    </tr>\n",
       "    <tr>\n",
       "      <td>4280</td>\n",
       "      <td>516</td>\n",
       "      <td>724</td>\n",
       "      <td>Ali e</td>\n",
       "      <td>Sienna</td>\n",
       "      <td>Taylor</td>\n",
       "      <td>Taylor</td>\n",
       "      <td>2005-06-20</td>\n",
       "      <td>2005-06-04</td>\n",
       "      <td>London</td>\n",
       "      <td>None</td>\n",
       "      <td>michellejackson@smith-trujillo.com</td>\n",
       "      <td>javierfrederi@kkelly.org</td>\n",
       "      <td>0</td>\n",
       "      <td>2</td>\n",
       "      <td>0</td>\n",
       "      <td>-1</td>\n",
       "      <td>0</td>\n",
       "      <td>0.512266</td>\n",
       "      <td>0.434922</td>\n",
       "      <td>0.684782</td>\n",
       "      <td>0.495868</td>\n",
       "      <td>0.988103</td>\n",
       "      <td>0.204063</td>\n",
       "      <td>1.000000</td>\n",
       "      <td>1.000000</td>\n",
       "      <td>0.988285</td>\n",
       "      <td>0.314853</td>\n",
       "      <td>0.026045</td>\n",
       "    </tr>\n",
       "    <tr>\n",
       "      <td>4358</td>\n",
       "      <td>551</td>\n",
       "      <td>554</td>\n",
       "      <td>None</td>\n",
       "      <td>Henry</td>\n",
       "      <td>Owen</td>\n",
       "      <td>Owen</td>\n",
       "      <td>2016-05-16</td>\n",
       "      <td>2016-03-06</td>\n",
       "      <td>Kingston-upon-Hull</td>\n",
       "      <td>Kingston-upon-Hull</td>\n",
       "      <td>nicholasbutler@jackson.net</td>\n",
       "      <td>nicholasbutler@jackson.net</td>\n",
       "      <td>-1</td>\n",
       "      <td>2</td>\n",
       "      <td>0</td>\n",
       "      <td>1</td>\n",
       "      <td>1</td>\n",
       "      <td>1.000000</td>\n",
       "      <td>1.000000</td>\n",
       "      <td>0.684782</td>\n",
       "      <td>0.495868</td>\n",
       "      <td>0.988103</td>\n",
       "      <td>0.204063</td>\n",
       "      <td>0.142256</td>\n",
       "      <td>0.679181</td>\n",
       "      <td>0.011715</td>\n",
       "      <td>0.685147</td>\n",
       "      <td>0.965042</td>\n",
       "    </tr>\n",
       "  </tbody>\n",
       "</table>\n",
       "</div>"
      ],
      "text/plain": [
       "      unique_id_l  unique_id_r first_name_l first_name_r surname_l surname_r  \\\n",
       "2944          137          863         None         None     Jones     Jones   \n",
       "3399          224          329       Amber        Eliza      Smith     Smith   \n",
       "1479          545          546     Freddie      Freddie     Palmer    Palmer   \n",
       "4280          516          724        Ali e      Sienna     Taylor    Taylor   \n",
       "4358          551          554         None       Henry       Owen      Owen   \n",
       "\n",
       "           dob_l       dob_r              city_l              city_r  \\\n",
       "2944  1980-06-23  1983-06-19              London                None   \n",
       "3399  2003-05-12  1991-02-26          Sunderland          Sumhatpton   \n",
       "1479  2008-08-10  2008-08-10             Belfast             Belfast   \n",
       "4280  2005-06-20  2005-06-04              London                None   \n",
       "4358  2016-05-16  2016-03-06  Kingston-upon-Hull  Kingston-upon-Hull   \n",
       "\n",
       "                                 email_l                     email_r  gamma_0  \\\n",
       "2944                 trobinson@garza.com     smyers@andersen-lee.com       -1   \n",
       "3399            barrerakevin@sherman.org                        None        0   \n",
       "1479             ndavis@miller-mccoy.org     ndavis@miller-mccoy.org        2   \n",
       "4280  michellejackson@smith-trujillo.com    javierfrederi@kkelly.org        0   \n",
       "4358          nicholasbutler@jackson.net  nicholasbutler@jackson.net       -1   \n",
       "\n",
       "      gamma_1  gamma_2  gamma_3  gamma_4  prob_gamma_0_non_match  \\\n",
       "2944        2        0       -1        0                1.000000   \n",
       "3399        2        0        0       -1                0.512266   \n",
       "1479        2        1        1        1                0.487354   \n",
       "4280        2        0       -1        0                0.512266   \n",
       "4358        2        0        1        1                1.000000   \n",
       "\n",
       "      prob_gamma_0_match  prob_gamma_1_non_match  prob_gamma_1_match  \\\n",
       "2944            1.000000                0.684782            0.495868   \n",
       "3399            0.434922                0.684782            0.495868   \n",
       "1479            0.478992                0.684782            0.495868   \n",
       "4280            0.434922                0.684782            0.495868   \n",
       "4358            1.000000                0.684782            0.495868   \n",
       "\n",
       "      prob_gamma_2_non_match  prob_gamma_2_match  prob_gamma_3_non_match  \\\n",
       "2944                0.988103            0.204063                1.000000   \n",
       "3399                0.988103            0.204063                0.857744   \n",
       "1479                0.011897            0.795937                0.142256   \n",
       "4280                0.988103            0.204063                1.000000   \n",
       "4358                0.988103            0.204063                0.142256   \n",
       "\n",
       "      prob_gamma_3_match  prob_gamma_4_non_match  prob_gamma_4_match  \\\n",
       "2944            1.000000                0.988285            0.314853   \n",
       "3399            0.320819                1.000000            1.000000   \n",
       "1479            0.679181                0.011715            0.685147   \n",
       "4280            1.000000                0.988285            0.314853   \n",
       "4358            0.679181                0.011715            0.685147   \n",
       "\n",
       "      match_probability  \n",
       "2944           0.030535  \n",
       "3399           0.030439  \n",
       "1479           0.999886  \n",
       "4280           0.026045  \n",
       "4358           0.965042  "
      ]
     },
     "execution_count": 28,
     "metadata": {},
     "output_type": "execute_result"
    }
   ],
   "source": [
    "# Inspect main dataframe that contains the match scores\n",
    "df_e.toPandas().sample(5)"
   ]
  },
  {
   "cell_type": "markdown",
   "metadata": {},
   "source": [
    "Note that the `params` object is updated during the process of iteration.\n",
    "\n",
    "This means that if we inspect it again, we will see a new set of parameters - those that result from the application of the expectation maximiastion algorithm"
   ]
  },
  {
   "cell_type": "code",
   "execution_count": 29,
   "metadata": {},
   "outputs": [
    {
     "data": {
      "application/vnd.vegalite.v3+json": {
       "$schema": "https://vega.github.io/schema/vega-lite/v3.4.0.json",
       "config": {
        "mark": {
         "tooltip": null
        },
        "title": {
         "anchor": "middle"
        },
        "view": {
         "height": 300,
         "width": 400
        }
       },
       "data": {
        "name": "data-068330441d454d268697ea6a7a057497"
       },
       "datasets": {
        "data-068330441d454d268697ea6a7a057497": [
         {
          "column": "first_name",
          "gamma": "gamma_0",
          "match": 1,
          "probability": 0.4349217414855957,
          "value": 0,
          "value_of_gamma": "level_0"
         },
         {
          "column": "first_name",
          "gamma": "gamma_0",
          "match": 1,
          "probability": 0.08608599752187729,
          "value": 1,
          "value_of_gamma": "level_1"
         },
         {
          "column": "first_name",
          "gamma": "gamma_0",
          "match": 1,
          "probability": 0.4789922535419464,
          "value": 2,
          "value_of_gamma": "level_2"
         },
         {
          "column": "first_name",
          "gamma": "gamma_0",
          "match": 0,
          "probability": 0.5122657418251038,
          "value": 0,
          "value_of_gamma": "level_0"
         },
         {
          "column": "first_name",
          "gamma": "gamma_0",
          "match": 0,
          "probability": 0.00038036072510294616,
          "value": 1,
          "value_of_gamma": "level_1"
         },
         {
          "column": "first_name",
          "gamma": "gamma_0",
          "match": 0,
          "probability": 0.4873538911342621,
          "value": 2,
          "value_of_gamma": "level_2"
         },
         {
          "column": "surname",
          "gamma": "gamma_1",
          "match": 1,
          "probability": 0.43201279640197754,
          "value": 0,
          "value_of_gamma": "level_0"
         },
         {
          "column": "surname",
          "gamma": "gamma_1",
          "match": 1,
          "probability": 0.07211927324533463,
          "value": 1,
          "value_of_gamma": "level_1"
         },
         {
          "column": "surname",
          "gamma": "gamma_1",
          "match": 1,
          "probability": 0.49586790800094604,
          "value": 2,
          "value_of_gamma": "level_2"
         },
         {
          "column": "surname",
          "gamma": "gamma_1",
          "match": 0,
          "probability": 0.31371554732322693,
          "value": 0,
          "value_of_gamma": "level_0"
         },
         {
          "column": "surname",
          "gamma": "gamma_1",
          "match": 0,
          "probability": 0.0015024712774902582,
          "value": 1,
          "value_of_gamma": "level_1"
         },
         {
          "column": "surname",
          "gamma": "gamma_1",
          "match": 0,
          "probability": 0.6847819685935974,
          "value": 2,
          "value_of_gamma": "level_2"
         },
         {
          "column": "dob",
          "gamma": "gamma_2",
          "match": 1,
          "probability": 0.20406319200992584,
          "value": 0,
          "value_of_gamma": "level_0"
         },
         {
          "column": "dob",
          "gamma": "gamma_2",
          "match": 1,
          "probability": 0.7959368228912354,
          "value": 1,
          "value_of_gamma": "level_1"
         },
         {
          "column": "dob",
          "gamma": "gamma_2",
          "match": 0,
          "probability": 0.9881027340888977,
          "value": 0,
          "value_of_gamma": "level_0"
         },
         {
          "column": "dob",
          "gamma": "gamma_2",
          "match": 0,
          "probability": 0.011897263117134571,
          "value": 1,
          "value_of_gamma": "level_1"
         },
         {
          "column": "city",
          "gamma": "gamma_3",
          "match": 1,
          "probability": 0.32081934809684753,
          "value": 0,
          "value_of_gamma": "level_0"
         },
         {
          "column": "city",
          "gamma": "gamma_3",
          "match": 1,
          "probability": 0.6791806221008301,
          "value": 1,
          "value_of_gamma": "level_1"
         },
         {
          "column": "city",
          "gamma": "gamma_3",
          "match": 0,
          "probability": 0.8577435612678528,
          "value": 0,
          "value_of_gamma": "level_0"
         },
         {
          "column": "city",
          "gamma": "gamma_3",
          "match": 0,
          "probability": 0.14225642383098602,
          "value": 1,
          "value_of_gamma": "level_1"
         },
         {
          "column": "email",
          "gamma": "gamma_4",
          "match": 1,
          "probability": 0.31485286355018616,
          "value": 0,
          "value_of_gamma": "level_0"
         },
         {
          "column": "email",
          "gamma": "gamma_4",
          "match": 1,
          "probability": 0.6851471662521362,
          "value": 1,
          "value_of_gamma": "level_1"
         },
         {
          "column": "email",
          "gamma": "gamma_4",
          "match": 0,
          "probability": 0.9882849454879761,
          "value": 0,
          "value_of_gamma": "level_0"
         },
         {
          "column": "email",
          "gamma": "gamma_4",
          "match": 0,
          "probability": 0.011715040542185307,
          "value": 1,
          "value_of_gamma": "level_1"
         }
        ]
       },
       "hconcat": [
        {
         "encoding": {
          "color": {
           "field": "match",
           "type": "nominal"
          },
          "row": {
           "field": "column",
           "sort": {
            "field": "gamma"
           },
           "type": "nominal"
          },
          "tooltip": [
           {
            "field": "column",
            "type": "nominal"
           },
           {
            "field": "probability",
            "format": ".4f",
            "type": "quantitative"
           },
           {
            "field": "value",
            "type": "ordinal"
           }
          ],
          "x": {
           "field": "probability",
           "type": "quantitative"
          },
          "y": {
           "axis": {
            "title": "𝛾 value"
           },
           "field": "value",
           "type": "nominal"
          }
         },
         "mark": "bar",
         "resolve": {
          "scale": {
           "y": "independent"
          }
         },
         "transform": [
          {
           "filter": "(datum.match === 0)"
          }
         ],
         "width": 150
        },
        {
         "encoding": {
          "color": {
           "field": "match",
           "type": "nominal"
          },
          "row": {
           "field": "column",
           "sort": {
            "field": "gamma"
           },
           "type": "nominal"
          },
          "tooltip": [
           {
            "field": "column",
            "type": "nominal"
           },
           {
            "field": "probability",
            "format": ".4f",
            "type": "quantitative"
           },
           {
            "field": "value",
            "type": "ordinal"
           }
          ],
          "x": {
           "field": "probability",
           "type": "quantitative"
          },
          "y": {
           "axis": {
            "title": "𝛾 value"
           },
           "field": "value",
           "type": "nominal"
          }
         },
         "mark": "bar",
         "resolve": {
          "scale": {
           "y": "independent"
          }
         },
         "transform": [
          {
           "filter": "(datum.match === 1)"
          }
         ],
         "width": 150
        }
       ],
       "title": "Probability distribution of comparison vector values, m=0 and m=1"
      },
      "image/png": "[encoded data removed]",
      "text/plain": [
       "<VegaLite 3 object>\n",
       "\n",
       "If you see this message, it means the renderer has not been properly enabled\n",
       "for the frontend that you are using. For more information, see\n",
       "https://altair-viz.github.io/user_guide/troubleshooting.html\n"
      ]
     },
     "execution_count": 29,
     "metadata": {},
     "output_type": "execute_result"
    }
   ],
   "source": [
    "params.probability_distribution_chart()"
   ]
  },
  {
   "cell_type": "markdown",
   "metadata": {},
   "source": [
    "An alternative representation of the parameters displays them in terms of the effect different values in the comparison vectors have on the match probability:"
   ]
  },
  {
   "cell_type": "code",
   "execution_count": 30,
   "metadata": {},
   "outputs": [
    {
     "data": {
      "application/vnd.vegalite.v3+json": {
       "$schema": "https://vega.github.io/schema/vega-lite/v3.4.0.json",
       "config": {
        "mark": {
         "tooltip": null
        },
        "title": {
         "anchor": "middle"
        },
        "view": {
         "height": 300,
         "width": 400
        }
       },
       "data": {
        "name": "data-3e45287ba090f31cbd2bcdb37cff88d8"
       },
       "datasets": {
        "data-3e45287ba090f31cbd2bcdb37cff88d8": [
         {
          "adjustment": 0.4591717575969395,
          "col_name": "first_name",
          "level": "level_0",
          "m": 0.4349217414855957,
          "normalised_adjustment": -0.04082824240306049,
          "u": 0.5122657418251038
         },
         {
          "adjustment": 0.9956010553374239,
          "col_name": "first_name",
          "level": "level_1",
          "m": 0.08608599752187729,
          "normalised_adjustment": 0.49560105533742393,
          "u": 0.00038036072510294616
         },
         {
          "adjustment": 0.49567358050819493,
          "col_name": "first_name",
          "level": "level_2",
          "m": 0.4789922535419464,
          "normalised_adjustment": -0.004326419491805067,
          "u": 0.4873538911342621
         },
         {
          "adjustment": 0.5793165836287043,
          "col_name": "surname",
          "level": "level_0",
          "m": 0.43201279640197754,
          "normalised_adjustment": 0.0793165836287043,
          "u": 0.31371554732322693
         },
         {
          "adjustment": 0.9795920174504361,
          "col_name": "surname",
          "level": "level_1",
          "m": 0.07211927324533463,
          "normalised_adjustment": 0.4795920174504361,
          "u": 0.0015024712774902582
         },
         {
          "adjustment": 0.41999573102164994,
          "col_name": "surname",
          "level": "level_2",
          "m": 0.49586790800094604,
          "normalised_adjustment": -0.08000426897835006,
          "u": 0.6847819685935974
         },
         {
          "adjustment": 0.17117012619014427,
          "col_name": "dob",
          "level": "level_0",
          "m": 0.20406319200992584,
          "normalised_adjustment": -0.32882987380985573,
          "u": 0.9881027340888977
         },
         {
          "adjustment": 0.9852726403562385,
          "col_name": "dob",
          "level": "level_1",
          "m": 0.7959368228912354,
          "normalised_adjustment": 0.4852726403562385,
          "u": 0.011897263117134571
         },
         {
          "adjustment": 0.2722123236253752,
          "col_name": "city",
          "level": "level_0",
          "m": 0.32081934809684753,
          "normalised_adjustment": -0.22778767637462483,
          "u": 0.8577435612678528
         },
         {
          "adjustment": 0.8268200533010851,
          "col_name": "city",
          "level": "level_1",
          "m": 0.6791806221008301,
          "normalised_adjustment": 0.3268200533010851,
          "u": 0.14225642383098602
         },
         {
          "adjustment": 0.24161133332673163,
          "col_name": "email",
          "level": "level_0",
          "m": 0.31485286355018616,
          "normalised_adjustment": -0.2583886666732684,
          "u": 0.9882849454879761
         },
         {
          "adjustment": 0.9831888708729429,
          "col_name": "email",
          "level": "level_1",
          "m": 0.6851471662521362,
          "normalised_adjustment": 0.48318887087294293,
          "u": 0.011715040542185307
         }
        ]
       },
       "encoding": {
        "color": {
         "field": "normalised_adjustment",
         "scale": {
          "domain": [
           -0.5,
           -0.4,
           0,
           0.4,
           0.5
          ],
          "range": [
           "red",
           "orange",
           "green",
           "orange",
           "red"
          ]
         },
         "type": "quantitative"
        },
        "row": {
         "field": "col_name",
         "sort": {
          "field": "gamma"
         },
         "type": "nominal"
        },
        "tooltip": [
         {
          "field": "col_name",
          "type": "nominal"
         },
         {
          "field": "normalised_adjustment",
          "type": "quantitative"
         }
        ],
        "x": {
         "axis": {
          "title": "Influence on match probabiity."
         },
         "field": "normalised_adjustment",
         "scale": {
          "domain": [
           -0.5,
           0.5
          ]
         },
         "type": "quantitative"
        },
        "y": {
         "field": "level",
         "type": "nominal"
        }
       },
       "height": 50,
       "mark": "bar",
       "resolve": {
        "scale": {
         "y": "independent"
        }
       },
       "title": "Influence of comparison vector values on match probability"
      },
      "image/png": "[encoded data removed]",
      "text/plain": [
       "<VegaLite 3 object>\n",
       "\n",
       "If you see this message, it means the renderer has not been properly enabled\n",
       "for the frontend that you are using. For more information, see\n",
       "https://altair-viz.github.io/user_guide/troubleshooting.html\n"
      ]
     },
     "execution_count": 30,
     "metadata": {},
     "output_type": "execute_result"
    }
   ],
   "source": [
    "params.adjustment_factor_chart()"
   ]
  },
  {
   "cell_type": "code",
   "execution_count": 31,
   "metadata": {},
   "outputs": [],
   "source": [
    "# If charts aren't displaying correctly in your notebook, you can write them to a file (by default sparklink_charts.html)\n",
    "params.all_charts_write_html_file()"
   ]
  },
  {
   "cell_type": "markdown",
   "metadata": {},
   "source": [
    "You can also generate a report which explains how the match probability was computed for an individual comparison row.  \n",
    "\n",
    "Note that you need to convert the row to a dictionary for this to work"
   ]
  },
  {
   "cell_type": "code",
   "execution_count": 32,
   "metadata": {},
   "outputs": [
    {
     "name": "stdout",
     "output_type": "stream",
     "text": [
      "\n",
      "Initial probability of match (prior) = λ = 0.39798885583877563\n",
      "\n",
      "Comparison of first_name.  Values are:\n",
      "first_name_l: Alnxader \n",
      "first_name_r: Russell\n",
      "Comparison has 3 levels\n",
      "𝛾 for this comparison = gamma_0 = 0\n",
      "Amongst matches, P(𝛾 = 0.4349217414855957):\n",
      "Amongst non matches, P(𝛾 = 0.5122657418251038):\n",
      "Adjustment factor = p1/(p1 + p2) = 0.4591717575969395\n",
      "New probability of match (updated belief): 0.35950128588869507\n",
      "\n",
      "Comparison of surname.  Values are:\n",
      "surname_l: Russell\n",
      "surname_r: Alexander \n",
      "Comparison has 3 levels\n",
      "𝛾 for this comparison = gamma_1 = 0\n",
      "Amongst matches, P(𝛾 = 0.43201279640197754):\n",
      "Amongst non matches, P(𝛾 = 0.31371554732322693):\n",
      "Adjustment factor = p1/(p1 + p2) = 0.5793165836287043\n",
      "New probability of match (updated belief): 0.4359634055302436\n",
      "\n",
      "Comparison of dob.  Values are:\n",
      "dob_l: 1982-03-24\n",
      "dob_r: 1982-03-24\n",
      "Comparison has 2 levels\n",
      "𝛾 for this comparison = gamma_2 = 1\n",
      "Amongst matches, P(𝛾 = 0.7959368228912354):\n",
      "Amongst non matches, P(𝛾 = 0.011897263117134571):\n",
      "Adjustment factor = p1/(p1 + p2) = 0.9852726403562385\n",
      "New probability of match (updated belief): 0.9810282570655718\n",
      "\n",
      "Comparison of city.  Values are:\n",
      "city_l: London\n",
      "city_r: Lndon\n",
      "Comparison has 2 levels\n",
      "𝛾 for this comparison = gamma_3 = 0\n",
      "Amongst matches, P(𝛾 = 0.32081934809684753):\n",
      "Amongst non matches, P(𝛾 = 0.8577435612678528):\n",
      "Adjustment factor = p1/(p1 + p2) = 0.2722123236253752\n",
      "New probability of match (updated belief): 0.9508380412597456\n",
      "\n",
      "Comparison of email.  Values are:\n",
      "email_l: virginiarodriguez@holmes.org\n",
      "email_r: virginiarodriguez@holmes.org\n",
      "Comparison has 2 levels\n",
      "𝛾 for this comparison = gamma_4 = 1\n",
      "Amongst matches, P(𝛾 = 0.6851471662521362):\n",
      "Amongst non matches, P(𝛾 = 0.011715040542185307):\n",
      "Adjustment factor = p1/(p1 + p2) = 0.9831888708729429\n",
      "New probability of match (updated belief): 0.9991167192089193\n",
      "\n",
      "Final probability of match = 0.9991167192089193\n",
      "\n"
     ]
    }
   ],
   "source": [
    "from sparklink.intuition import intuition_report\n",
    "row_dict = df_e.toPandas().sample(1).to_dict(orient=\"records\")[0]\n",
    "print(intuition_report(row_dict, params))"
   ]
  },
  {
   "cell_type": "markdown",
   "metadata": {},
   "source": [
    "## Step 7: Term frequency adjustments\n",
    "\n",
    "Sparklink enables you to make adjustments for term frequency on any number of columns\n",
    "\n",
    "This enables match probabilities to be adjusted for e.g. the fact John Smith is more prevalent than Robin Linacre"
   ]
  },
  {
   "cell_type": "code",
   "execution_count": 33,
   "metadata": {},
   "outputs": [],
   "source": [
    "from sparklink.term_frequencies import make_adjustment_for_term_frequencies\n",
    "df_e_adj = make_adjustment_for_term_frequencies(df_e, params, settings, retain_adjustment_columns=True, spark=spark)"
   ]
  },
  {
   "cell_type": "code",
   "execution_count": 34,
   "metadata": {},
   "outputs": [
    {
     "data": {
      "text/html": [
       "<div>\n",
       "<style scoped>\n",
       "    .dataframe tbody tr th:only-of-type {\n",
       "        vertical-align: middle;\n",
       "    }\n",
       "\n",
       "    .dataframe tbody tr th {\n",
       "        vertical-align: top;\n",
       "    }\n",
       "\n",
       "    .dataframe thead th {\n",
       "        text-align: right;\n",
       "    }\n",
       "</style>\n",
       "<table border=\"1\" class=\"dataframe\">\n",
       "  <thead>\n",
       "    <tr style=\"text-align: right;\">\n",
       "      <th></th>\n",
       "      <th>match_probability</th>\n",
       "      <th>tf_adjusted_match_prob</th>\n",
       "      <th>unique_id_l</th>\n",
       "      <th>unique_id_r</th>\n",
       "      <th>first_name_l</th>\n",
       "      <th>first_name_r</th>\n",
       "      <th>surname_l</th>\n",
       "      <th>surname_r</th>\n",
       "      <th>dob_l</th>\n",
       "      <th>dob_r</th>\n",
       "      <th>city_l</th>\n",
       "      <th>city_r</th>\n",
       "      <th>email_l</th>\n",
       "      <th>email_r</th>\n",
       "      <th>gamma_0</th>\n",
       "      <th>gamma_1</th>\n",
       "      <th>gamma_2</th>\n",
       "      <th>gamma_3</th>\n",
       "      <th>gamma_4</th>\n",
       "      <th>prob_gamma_0_non_match</th>\n",
       "      <th>prob_gamma_0_match</th>\n",
       "      <th>prob_gamma_1_non_match</th>\n",
       "      <th>prob_gamma_1_match</th>\n",
       "      <th>prob_gamma_2_non_match</th>\n",
       "      <th>prob_gamma_2_match</th>\n",
       "      <th>prob_gamma_3_non_match</th>\n",
       "      <th>prob_gamma_3_match</th>\n",
       "      <th>prob_gamma_4_non_match</th>\n",
       "      <th>prob_gamma_4_match</th>\n",
       "      <th>match_probability</th>\n",
       "      <th>first_name_adj</th>\n",
       "      <th>surname_adj</th>\n",
       "      <th>tf_adjusted_match_prob</th>\n",
       "    </tr>\n",
       "  </thead>\n",
       "  <tbody>\n",
       "    <tr>\n",
       "      <td>4939</td>\n",
       "      <td>0.999931</td>\n",
       "      <td>0.999931</td>\n",
       "      <td>131</td>\n",
       "      <td>132</td>\n",
       "      <td>Edward</td>\n",
       "      <td>Lewis</td>\n",
       "      <td>Lewis</td>\n",
       "      <td>Edward</td>\n",
       "      <td>2005-05-26</td>\n",
       "      <td>2005-05-26</td>\n",
       "      <td>London</td>\n",
       "      <td>London</td>\n",
       "      <td>whitakernichole@booth.com</td>\n",
       "      <td>whitakernichole@booth.com</td>\n",
       "      <td>0</td>\n",
       "      <td>0</td>\n",
       "      <td>1</td>\n",
       "      <td>1</td>\n",
       "      <td>1</td>\n",
       "      <td>0.512266</td>\n",
       "      <td>0.434922</td>\n",
       "      <td>0.313716</td>\n",
       "      <td>0.432013</td>\n",
       "      <td>0.011897</td>\n",
       "      <td>0.795937</td>\n",
       "      <td>0.142256</td>\n",
       "      <td>0.679181</td>\n",
       "      <td>0.011715</td>\n",
       "      <td>0.685147</td>\n",
       "      <td>0.999931</td>\n",
       "      <td>0.500000</td>\n",
       "      <td>0.500000</td>\n",
       "      <td>0.999931</td>\n",
       "    </tr>\n",
       "    <tr>\n",
       "      <td>2619</td>\n",
       "      <td>0.009903</td>\n",
       "      <td>0.007586</td>\n",
       "      <td>75</td>\n",
       "      <td>235</td>\n",
       "      <td>Isabella</td>\n",
       "      <td>Chaloett</td>\n",
       "      <td>Cooper</td>\n",
       "      <td>Cooper</td>\n",
       "      <td>1987-11-18</td>\n",
       "      <td>1995-07-11</td>\n",
       "      <td>Stockton-on-Tees</td>\n",
       "      <td>Sunderland</td>\n",
       "      <td>imoore@turner-gnzalze.info</td>\n",
       "      <td>toddsean@wilkins-burton.biz</td>\n",
       "      <td>0</td>\n",
       "      <td>2</td>\n",
       "      <td>0</td>\n",
       "      <td>0</td>\n",
       "      <td>0</td>\n",
       "      <td>0.512266</td>\n",
       "      <td>0.434922</td>\n",
       "      <td>0.684782</td>\n",
       "      <td>0.495868</td>\n",
       "      <td>0.988103</td>\n",
       "      <td>0.204063</td>\n",
       "      <td>0.857744</td>\n",
       "      <td>0.320819</td>\n",
       "      <td>0.988285</td>\n",
       "      <td>0.314853</td>\n",
       "      <td>0.009903</td>\n",
       "      <td>0.500000</td>\n",
       "      <td>0.433184</td>\n",
       "      <td>0.007586</td>\n",
       "    </tr>\n",
       "    <tr>\n",
       "      <td>5253</td>\n",
       "      <td>0.957949</td>\n",
       "      <td>0.957949</td>\n",
       "      <td>454</td>\n",
       "      <td>455</td>\n",
       "      <td>Alfi</td>\n",
       "      <td>None</td>\n",
       "      <td>Carter</td>\n",
       "      <td>Crtre</td>\n",
       "      <td>1997-03-13</td>\n",
       "      <td>1997-03-13</td>\n",
       "      <td>London</td>\n",
       "      <td>doLon</td>\n",
       "      <td>jennifermarshall@browning.com</td>\n",
       "      <td>None</td>\n",
       "      <td>-1</td>\n",
       "      <td>0</td>\n",
       "      <td>1</td>\n",
       "      <td>0</td>\n",
       "      <td>-1</td>\n",
       "      <td>1.000000</td>\n",
       "      <td>1.000000</td>\n",
       "      <td>0.313716</td>\n",
       "      <td>0.432013</td>\n",
       "      <td>0.011897</td>\n",
       "      <td>0.795937</td>\n",
       "      <td>0.857744</td>\n",
       "      <td>0.320819</td>\n",
       "      <td>1.000000</td>\n",
       "      <td>1.000000</td>\n",
       "      <td>0.957949</td>\n",
       "      <td>0.500000</td>\n",
       "      <td>0.500000</td>\n",
       "      <td>0.957949</td>\n",
       "    </tr>\n",
       "    <tr>\n",
       "      <td>714</td>\n",
       "      <td>0.993390</td>\n",
       "      <td>0.996036</td>\n",
       "      <td>252</td>\n",
       "      <td>258</td>\n",
       "      <td>Mohammed</td>\n",
       "      <td>Mohammed</td>\n",
       "      <td>Owen</td>\n",
       "      <td>Owen</td>\n",
       "      <td>2018-01-14</td>\n",
       "      <td>2018-01-14</td>\n",
       "      <td>Cardiff</td>\n",
       "      <td>Cardiff</td>\n",
       "      <td>None</td>\n",
       "      <td>gkennedy@vincent.com</td>\n",
       "      <td>2</td>\n",
       "      <td>2</td>\n",
       "      <td>1</td>\n",
       "      <td>1</td>\n",
       "      <td>-1</td>\n",
       "      <td>0.487354</td>\n",
       "      <td>0.478992</td>\n",
       "      <td>0.684782</td>\n",
       "      <td>0.495868</td>\n",
       "      <td>0.011897</td>\n",
       "      <td>0.795937</td>\n",
       "      <td>0.142256</td>\n",
       "      <td>0.679181</td>\n",
       "      <td>1.000000</td>\n",
       "      <td>1.000000</td>\n",
       "      <td>0.993390</td>\n",
       "      <td>0.597390</td>\n",
       "      <td>0.529830</td>\n",
       "      <td>0.996036</td>\n",
       "    </tr>\n",
       "    <tr>\n",
       "      <td>5661</td>\n",
       "      <td>0.999669</td>\n",
       "      <td>0.999669</td>\n",
       "      <td>935</td>\n",
       "      <td>936</td>\n",
       "      <td>Hodgson</td>\n",
       "      <td>George</td>\n",
       "      <td>George</td>\n",
       "      <td>Hodgson</td>\n",
       "      <td>1980-12-30</td>\n",
       "      <td>1980-12-30</td>\n",
       "      <td>None</td>\n",
       "      <td>Sheffied</td>\n",
       "      <td>lori88@huynh.biz</td>\n",
       "      <td>lori88@huynh.biz</td>\n",
       "      <td>0</td>\n",
       "      <td>0</td>\n",
       "      <td>1</td>\n",
       "      <td>-1</td>\n",
       "      <td>1</td>\n",
       "      <td>0.512266</td>\n",
       "      <td>0.434922</td>\n",
       "      <td>0.313716</td>\n",
       "      <td>0.432013</td>\n",
       "      <td>0.011897</td>\n",
       "      <td>0.795937</td>\n",
       "      <td>1.000000</td>\n",
       "      <td>1.000000</td>\n",
       "      <td>0.011715</td>\n",
       "      <td>0.685147</td>\n",
       "      <td>0.999669</td>\n",
       "      <td>0.500000</td>\n",
       "      <td>0.500000</td>\n",
       "      <td>0.999669</td>\n",
       "    </tr>\n",
       "    <tr>\n",
       "      <td>5060</td>\n",
       "      <td>0.860369</td>\n",
       "      <td>0.860369</td>\n",
       "      <td>277</td>\n",
       "      <td>278</td>\n",
       "      <td>Jackson</td>\n",
       "      <td>Lily</td>\n",
       "      <td>Lily</td>\n",
       "      <td>Jackson</td>\n",
       "      <td>2000-07-30</td>\n",
       "      <td>2000-07-30</td>\n",
       "      <td>Mansfield</td>\n",
       "      <td>Mlnsfied</td>\n",
       "      <td>lewischristopher@black-thomas.net</td>\n",
       "      <td>lewischristophr@black-thomas.net</td>\n",
       "      <td>0</td>\n",
       "      <td>0</td>\n",
       "      <td>1</td>\n",
       "      <td>0</td>\n",
       "      <td>0</td>\n",
       "      <td>0.512266</td>\n",
       "      <td>0.434922</td>\n",
       "      <td>0.313716</td>\n",
       "      <td>0.432013</td>\n",
       "      <td>0.011897</td>\n",
       "      <td>0.795937</td>\n",
       "      <td>0.857744</td>\n",
       "      <td>0.320819</td>\n",
       "      <td>0.988285</td>\n",
       "      <td>0.314853</td>\n",
       "      <td>0.860369</td>\n",
       "      <td>0.500000</td>\n",
       "      <td>0.500000</td>\n",
       "      <td>0.860369</td>\n",
       "    </tr>\n",
       "    <tr>\n",
       "      <td>1538</td>\n",
       "      <td>0.219402</td>\n",
       "      <td>0.079611</td>\n",
       "      <td>574</td>\n",
       "      <td>899</td>\n",
       "      <td>George</td>\n",
       "      <td>George</td>\n",
       "      <td>Williams</td>\n",
       "      <td>Cook</td>\n",
       "      <td>1981-08-06</td>\n",
       "      <td>1973-03-29</td>\n",
       "      <td>London</td>\n",
       "      <td>London</td>\n",
       "      <td>desek58gibbr.biz</td>\n",
       "      <td>lgonzalez@hicks-lewis.com</td>\n",
       "      <td>2</td>\n",
       "      <td>0</td>\n",
       "      <td>0</td>\n",
       "      <td>1</td>\n",
       "      <td>0</td>\n",
       "      <td>0.487354</td>\n",
       "      <td>0.478992</td>\n",
       "      <td>0.313716</td>\n",
       "      <td>0.432013</td>\n",
       "      <td>0.988103</td>\n",
       "      <td>0.204063</td>\n",
       "      <td>0.142256</td>\n",
       "      <td>0.679181</td>\n",
       "      <td>0.988285</td>\n",
       "      <td>0.314853</td>\n",
       "      <td>0.219402</td>\n",
       "      <td>0.235325</td>\n",
       "      <td>0.500000</td>\n",
       "      <td>0.079611</td>\n",
       "    </tr>\n",
       "    <tr>\n",
       "      <td>608</td>\n",
       "      <td>0.055598</td>\n",
       "      <td>0.026228</td>\n",
       "      <td>211</td>\n",
       "      <td>540</td>\n",
       "      <td>Freddie</td>\n",
       "      <td>Freddie</td>\n",
       "      <td>Thompson</td>\n",
       "      <td>Roberts</td>\n",
       "      <td>1999-07-23</td>\n",
       "      <td>2004-11-15</td>\n",
       "      <td>None</td>\n",
       "      <td>Bolton</td>\n",
       "      <td>scottsalinas@hughes-lopez.com</td>\n",
       "      <td>browndonald@mccormick.info</td>\n",
       "      <td>2</td>\n",
       "      <td>0</td>\n",
       "      <td>0</td>\n",
       "      <td>-1</td>\n",
       "      <td>0</td>\n",
       "      <td>0.487354</td>\n",
       "      <td>0.478992</td>\n",
       "      <td>0.313716</td>\n",
       "      <td>0.432013</td>\n",
       "      <td>0.988103</td>\n",
       "      <td>0.204063</td>\n",
       "      <td>1.000000</td>\n",
       "      <td>1.000000</td>\n",
       "      <td>0.988285</td>\n",
       "      <td>0.314853</td>\n",
       "      <td>0.055598</td>\n",
       "      <td>0.313900</td>\n",
       "      <td>0.500000</td>\n",
       "      <td>0.026228</td>\n",
       "    </tr>\n",
       "    <tr>\n",
       "      <td>4237</td>\n",
       "      <td>0.030535</td>\n",
       "      <td>0.006657</td>\n",
       "      <td>514</td>\n",
       "      <td>724</td>\n",
       "      <td>None</td>\n",
       "      <td>Sienna</td>\n",
       "      <td>Taylor</td>\n",
       "      <td>Taylor</td>\n",
       "      <td>2005-06-20</td>\n",
       "      <td>2005-06-04</td>\n",
       "      <td>London</td>\n",
       "      <td>None</td>\n",
       "      <td>michellejackson@smith-trujillo.com</td>\n",
       "      <td>javierfrederi@kkelly.org</td>\n",
       "      <td>-1</td>\n",
       "      <td>2</td>\n",
       "      <td>0</td>\n",
       "      <td>-1</td>\n",
       "      <td>0</td>\n",
       "      <td>1.000000</td>\n",
       "      <td>1.000000</td>\n",
       "      <td>0.684782</td>\n",
       "      <td>0.495868</td>\n",
       "      <td>0.988103</td>\n",
       "      <td>0.204063</td>\n",
       "      <td>1.000000</td>\n",
       "      <td>1.000000</td>\n",
       "      <td>0.988285</td>\n",
       "      <td>0.314853</td>\n",
       "      <td>0.030535</td>\n",
       "      <td>0.500000</td>\n",
       "      <td>0.175441</td>\n",
       "      <td>0.006657</td>\n",
       "    </tr>\n",
       "    <tr>\n",
       "      <td>4468</td>\n",
       "      <td>0.009903</td>\n",
       "      <td>0.002124</td>\n",
       "      <td>664</td>\n",
       "      <td>750</td>\n",
       "      <td>Ivy</td>\n",
       "      <td>hicMae</td>\n",
       "      <td>Taylor</td>\n",
       "      <td>Taylor</td>\n",
       "      <td>1980-01-13</td>\n",
       "      <td>1993-06-23</td>\n",
       "      <td>Lonon</td>\n",
       "      <td>Brighton</td>\n",
       "      <td>jonesjennmfer@pitt.coi</td>\n",
       "      <td>rhondawilliams@gonzalez-scott.com</td>\n",
       "      <td>0</td>\n",
       "      <td>2</td>\n",
       "      <td>0</td>\n",
       "      <td>0</td>\n",
       "      <td>0</td>\n",
       "      <td>0.512266</td>\n",
       "      <td>0.434922</td>\n",
       "      <td>0.684782</td>\n",
       "      <td>0.495868</td>\n",
       "      <td>0.988103</td>\n",
       "      <td>0.204063</td>\n",
       "      <td>0.857744</td>\n",
       "      <td>0.320819</td>\n",
       "      <td>0.988285</td>\n",
       "      <td>0.314853</td>\n",
       "      <td>0.009903</td>\n",
       "      <td>0.500000</td>\n",
       "      <td>0.175441</td>\n",
       "      <td>0.002124</td>\n",
       "    </tr>\n",
       "  </tbody>\n",
       "</table>\n",
       "</div>"
      ],
      "text/plain": [
       "      match_probability  tf_adjusted_match_prob  unique_id_l  unique_id_r  \\\n",
       "4939           0.999931                0.999931          131          132   \n",
       "2619           0.009903                0.007586           75          235   \n",
       "5253           0.957949                0.957949          454          455   \n",
       "714            0.993390                0.996036          252          258   \n",
       "5661           0.999669                0.999669          935          936   \n",
       "5060           0.860369                0.860369          277          278   \n",
       "1538           0.219402                0.079611          574          899   \n",
       "608            0.055598                0.026228          211          540   \n",
       "4237           0.030535                0.006657          514          724   \n",
       "4468           0.009903                0.002124          664          750   \n",
       "\n",
       "     first_name_l first_name_r surname_l surname_r       dob_l       dob_r  \\\n",
       "4939      Edward         Lewis     Lewis   Edward   2005-05-26  2005-05-26   \n",
       "2619    Isabella     Chaloett     Cooper    Cooper  1987-11-18  1995-07-11   \n",
       "5253        Alfi          None    Carter     Crtre  1997-03-13  1997-03-13   \n",
       "714     Mohammed     Mohammed       Owen      Owen  2018-01-14  2018-01-14   \n",
       "5661      Hodgson      George    George    Hodgson  1980-12-30  1980-12-30   \n",
       "5060      Jackson        Lily      Lily    Jackson  2000-07-30  2000-07-30   \n",
       "1538      George       George   Williams      Cook  1981-08-06  1973-03-29   \n",
       "608      Freddie      Freddie   Thompson   Roberts  1999-07-23  2004-11-15   \n",
       "4237         None      Sienna     Taylor    Taylor  2005-06-20  2005-06-04   \n",
       "4468         Ivy       hicMae     Taylor    Taylor  1980-01-13  1993-06-23   \n",
       "\n",
       "                city_l      city_r                             email_l  \\\n",
       "4939            London      London           whitakernichole@booth.com   \n",
       "2619  Stockton-on-Tees  Sunderland          imoore@turner-gnzalze.info   \n",
       "5253            London       doLon       jennifermarshall@browning.com   \n",
       "714            Cardiff     Cardiff                                None   \n",
       "5661              None    Sheffied                    lori88@huynh.biz   \n",
       "5060         Mansfield    Mlnsfied   lewischristopher@black-thomas.net   \n",
       "1538            London      London                    desek58gibbr.biz   \n",
       "608               None      Bolton       scottsalinas@hughes-lopez.com   \n",
       "4237            London        None  michellejackson@smith-trujillo.com   \n",
       "4468             Lonon    Brighton              jonesjennmfer@pitt.coi   \n",
       "\n",
       "                                email_r  gamma_0  gamma_1  gamma_2  gamma_3  \\\n",
       "4939          whitakernichole@booth.com        0        0        1        1   \n",
       "2619        toddsean@wilkins-burton.biz        0        2        0        0   \n",
       "5253                               None       -1        0        1        0   \n",
       "714                gkennedy@vincent.com        2        2        1        1   \n",
       "5661                   lori88@huynh.biz        0        0        1       -1   \n",
       "5060   lewischristophr@black-thomas.net        0        0        1        0   \n",
       "1538          lgonzalez@hicks-lewis.com        2        0        0        1   \n",
       "608          browndonald@mccormick.info        2        0        0       -1   \n",
       "4237           javierfrederi@kkelly.org       -1        2        0       -1   \n",
       "4468  rhondawilliams@gonzalez-scott.com        0        2        0        0   \n",
       "\n",
       "      gamma_4  prob_gamma_0_non_match  prob_gamma_0_match  \\\n",
       "4939        1                0.512266            0.434922   \n",
       "2619        0                0.512266            0.434922   \n",
       "5253       -1                1.000000            1.000000   \n",
       "714        -1                0.487354            0.478992   \n",
       "5661        1                0.512266            0.434922   \n",
       "5060        0                0.512266            0.434922   \n",
       "1538        0                0.487354            0.478992   \n",
       "608         0                0.487354            0.478992   \n",
       "4237        0                1.000000            1.000000   \n",
       "4468        0                0.512266            0.434922   \n",
       "\n",
       "      prob_gamma_1_non_match  prob_gamma_1_match  prob_gamma_2_non_match  \\\n",
       "4939                0.313716            0.432013                0.011897   \n",
       "2619                0.684782            0.495868                0.988103   \n",
       "5253                0.313716            0.432013                0.011897   \n",
       "714                 0.684782            0.495868                0.011897   \n",
       "5661                0.313716            0.432013                0.011897   \n",
       "5060                0.313716            0.432013                0.011897   \n",
       "1538                0.313716            0.432013                0.988103   \n",
       "608                 0.313716            0.432013                0.988103   \n",
       "4237                0.684782            0.495868                0.988103   \n",
       "4468                0.684782            0.495868                0.988103   \n",
       "\n",
       "      prob_gamma_2_match  prob_gamma_3_non_match  prob_gamma_3_match  \\\n",
       "4939            0.795937                0.142256            0.679181   \n",
       "2619            0.204063                0.857744            0.320819   \n",
       "5253            0.795937                0.857744            0.320819   \n",
       "714             0.795937                0.142256            0.679181   \n",
       "5661            0.795937                1.000000            1.000000   \n",
       "5060            0.795937                0.857744            0.320819   \n",
       "1538            0.204063                0.142256            0.679181   \n",
       "608             0.204063                1.000000            1.000000   \n",
       "4237            0.204063                1.000000            1.000000   \n",
       "4468            0.204063                0.857744            0.320819   \n",
       "\n",
       "      prob_gamma_4_non_match  prob_gamma_4_match  match_probability  \\\n",
       "4939                0.011715            0.685147           0.999931   \n",
       "2619                0.988285            0.314853           0.009903   \n",
       "5253                1.000000            1.000000           0.957949   \n",
       "714                 1.000000            1.000000           0.993390   \n",
       "5661                0.011715            0.685147           0.999669   \n",
       "5060                0.988285            0.314853           0.860369   \n",
       "1538                0.988285            0.314853           0.219402   \n",
       "608                 0.988285            0.314853           0.055598   \n",
       "4237                0.988285            0.314853           0.030535   \n",
       "4468                0.988285            0.314853           0.009903   \n",
       "\n",
       "      first_name_adj  surname_adj  tf_adjusted_match_prob  \n",
       "4939        0.500000     0.500000                0.999931  \n",
       "2619        0.500000     0.433184                0.007586  \n",
       "5253        0.500000     0.500000                0.957949  \n",
       "714         0.597390     0.529830                0.996036  \n",
       "5661        0.500000     0.500000                0.999669  \n",
       "5060        0.500000     0.500000                0.860369  \n",
       "1538        0.235325     0.500000                0.079611  \n",
       "608         0.313900     0.500000                0.026228  \n",
       "4237        0.500000     0.175441                0.006657  \n",
       "4468        0.500000     0.175441                0.002124  "
      ]
     },
     "execution_count": 34,
     "metadata": {},
     "output_type": "execute_result"
    }
   ],
   "source": [
    "pdtf = df_e_adj.toPandas()\n",
    "sam = pdtf.sample(10)\n",
    "sam[[\"match_probability\", \"tf_adjusted_match_prob\"] + list(pdtf.columns)]"
   ]
  },
  {
   "cell_type": "code",
   "execution_count": null,
   "metadata": {},
   "outputs": [],
   "source": []
  },
  {
   "cell_type": "code",
   "execution_count": null,
   "metadata": {},
   "outputs": [],
   "source": []
  },
  {
   "cell_type": "code",
   "execution_count": null,
   "metadata": {},
   "outputs": [],
   "source": []
  }
 ],
 "metadata": {
  "kernelspec": {
   "display_name": "Python 3",
   "language": "python",
   "name": "python3"
  },
  "language_info": {
   "codemirror_mode": {
    "name": "ipython",
    "version": 3
   },
   "file_extension": ".py",
   "mimetype": "text/x-python",
   "name": "python",
   "nbconvert_exporter": "python",
   "pygments_lexer": "ipython3",
   "version": "3.6.9"
  }
 },
 "nbformat": 4,
 "nbformat_minor": 4
}
