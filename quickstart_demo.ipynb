{
 "cells": [
  {
   "cell_type": "markdown",
   "metadata": {},
   "source": [
    "## Sparklink demo \n",
    "\n",
    "In this demo we de-duplicate a small dataset.\n",
    "\n",
    "The purpose is to provide an end-to-end example of how to use the package\n",
    "\n",
    "I print the output at each stage using `spark_dataframe.show()`.  This is for instructional purposes only - it degrades performance and shouldn't be used in a production setting."
   ]
  },
  {
   "cell_type": "markdown",
   "metadata": {},
   "source": [
    "## Step 1:  Imports and setup\n",
    "\n",
    "The following is just boilerplate code that sets up the Spark session and sets some other non-essential configuration options"
   ]
  },
  {
   "cell_type": "code",
   "execution_count": 1,
   "metadata": {},
   "outputs": [],
   "source": [
    "import pandas as pd \n",
    "pd.options.display.max_columns = 500\n",
    "pd.options.display.max_rows = 100"
   ]
  },
  {
   "cell_type": "code",
   "execution_count": 2,
   "metadata": {},
   "outputs": [],
   "source": [
    "import logging \n",
    "logging.basicConfig()\n",
    "\n",
    "# Set to DEBUG if you want sparklink to log the SQL statements it's executing under the hood\n",
    "logging.getLogger(\"sparklink\").setLevel(logging.INFO)"
   ]
  },
  {
   "cell_type": "code",
   "execution_count": 3,
   "metadata": {},
   "outputs": [],
   "source": [
    "from pyspark.context import SparkContext, SparkConf\n",
    "from pyspark.sql import SparkSession, Window\n",
    "from pyspark.sql.types import StructType\n",
    "import pyspark.sql.functions as f\n",
    "\n",
    "conf=SparkConf()\n",
    "\n",
    "# Load in a jar that provides extended string comparison functions such as Jaro Winkler.\n",
    "# Sparklink \n",
    "conf.set('spark.driver.extraClassPath', 'jars/scala-udf-similarity-0.0.6.jar')\n",
    "conf.set('spark.jars', 'jars/scala-udf-similarity-0.0.6.jar')   \n",
    "\n",
    "\n",
    "# WARNING:\n",
    "# These config options are appropriate only if you're running Spark locally!!!\n",
    "conf.set('spark.driver.memory', '4g')\n",
    "conf.set(\"spark.sql.shuffle.partitions\", \"8\") \n",
    "\n",
    "sc = SparkContext.getOrCreate(conf=conf)\n",
    "\n",
    "spark = SparkSession(sc)\n",
    "\n",
    " # Register UDFs\n",
    "from pyspark.sql import types\n",
    "spark.udf.registerJavaFunction('jaro_winkler_sim', 'uk.gov.moj.dash.linkage.JaroWinklerSimilarity', types.DoubleType())\n",
    "spark.udf.registerJavaFunction('Dmetaphone', 'uk.gov.moj.dash.linkage.DoubleMetaphone', types.StringType())"
   ]
  },
  {
   "cell_type": "markdown",
   "metadata": {},
   "source": [
    "## Step 2:  Configure sparklink using the `settings` object\n",
    "\n",
    "Most of `sparklink` configuration options are stored in a settings dictionary.  This dictionary allows significant customisation, and can therefore get quite complex.  \n",
    "\n",
    "Customisation overrides default values built into sparklink.  For the purposes of this demo, we will specify a simple settings dictionary, which means we will be relying on these sensible defaults.\n",
    "\n",
    "To help with authoring and validation of the settings dictionary, we have written a [json schema](https://json-schema.org/), which can be found [here](https://github.com/moj-analytical-services/sparklink/blob/dev/sparklink/files/settings_jsonschema.json).  We also provide an tool for helping to author valid settings dictionaries, which includes tooltips and autocomplete, which you can find [here](https://robinlinacre.com/simple_sparklink_settings_editor/).\n",
    "\n"
   ]
  },
  {
   "cell_type": "code",
   "execution_count": 4,
   "metadata": {},
   "outputs": [],
   "source": [
    "settings = {\n",
    "    \"proportion_of_matches\": 0.5,\n",
    "    \"link_type\": \"dedupe_only\",\n",
    "    \"blocking_rules\": [\n",
    "        'l.first_name = r.first_name',\n",
    "        'l.surname = r.surname',\n",
    "        'l.dob = r.dob'\n",
    "    ],\n",
    "    \"comparison_columns\": [\n",
    "        {\n",
    "            \"col_name\": \"first_name\",\n",
    "            \"num_levels\": 3\n",
    "        },\n",
    "        {\n",
    "            \"col_name\": \"surname\",\n",
    "            \"num_levels\": 3\n",
    "        },\n",
    "        {\n",
    "            \"col_name\": \"dob\"\n",
    "        },\n",
    "        {\n",
    "            \"col_name\": \"city\"\n",
    "        },\n",
    "        {\n",
    "            \"col_name\": \"email\"\n",
    "        }\n",
    "    ]\n",
    "    \n",
    "}"
   ]
  },
  {
   "cell_type": "markdown",
   "metadata": {},
   "source": [
    "In words, this setting dictionary says:\n",
    "- We are performing a deduplication task (the other options are `link_only`, or `link_and_dedupe`)\n",
    "- The initial value (prior belief) for the proportion of matches amongst comparisons is 0.5 (50% of comparisons that result from the blocking rules are matches).\n",
    "- We are going generate comparisons subject to the blocking rules contained in the specified array\n",
    "- When comparing records, we will use information from the `first_name`, `surname`, `dob`, `city` and `email` columns to compute a match score.\n",
    "- For `first_name` and `surname`, string comparisons will have three levels:\n",
    "    - Level 2: Strings are (almost) exactly the same\n",
    "    - Level 1: Strings are similar \n",
    "    - Level 0: No match\n"
   ]
  },
  {
   "cell_type": "markdown",
   "metadata": {},
   "source": [
    "## Step 3:  Read in data and create comparisons using blocking rules"
   ]
  },
  {
   "cell_type": "code",
   "execution_count": 5,
   "metadata": {},
   "outputs": [
    {
     "name": "stdout",
     "output_type": "stream",
     "text": [
      "+---------+----------+-------+----------+------+--------------------+-----+\n",
      "|unique_id|first_name|surname|       dob|  city|               email|group|\n",
      "+---------+----------+-------+----------+------+--------------------+-----+\n",
      "|        0|    Julia |   null|2015-10-29|London| hannah88@powers.com|    0|\n",
      "|        1|    Julia | Taylor|2015-07-31|London| hannah88@powers.com|    0|\n",
      "|        2|    Julia | Taylor|2016-01-27|London| hannah88@powers.com|    0|\n",
      "|        3|    Julia | Taylor|2015-10-29|  null|  hannah88opowersc@m|    0|\n",
      "|        4|      oNah| Watson|2008-03-23|Bolton|matthew78@ballard...|    1|\n",
      "+---------+----------+-------+----------+------+--------------------+-----+\n",
      "only showing top 5 rows\n",
      "\n"
     ]
    }
   ],
   "source": [
    "df = spark.read.parquet(\"data/fake_1000.parquet\")\n",
    "df.show(5)"
   ]
  },
  {
   "cell_type": "code",
   "execution_count": 7,
   "metadata": {},
   "outputs": [
    {
     "name": "stdout",
     "output_type": "stream",
     "text": [
      "+-----------+-----------+------------+------------+---------+---------+----------+----------+------+------+-------------------+-------------------+\n",
      "|unique_id_l|unique_id_r|first_name_l|first_name_r|surname_l|surname_r|     dob_l|     dob_r|city_l|city_r|            email_l|            email_r|\n",
      "+-----------+-----------+------------+------------+---------+---------+----------+----------+------+------+-------------------+-------------------+\n",
      "|          0|          3|      Julia |      Julia |     null|   Taylor|2015-10-29|2015-10-29|London|  null|hannah88@powers.com| hannah88opowersc@m|\n",
      "|          0|          2|      Julia |      Julia |     null|   Taylor|2015-10-29|2016-01-27|London|London|hannah88@powers.com|hannah88@powers.com|\n",
      "|          0|          1|      Julia |      Julia |     null|   Taylor|2015-10-29|2015-07-31|London|London|hannah88@powers.com|hannah88@powers.com|\n",
      "|          1|          3|      Julia |      Julia |   Taylor|   Taylor|2015-07-31|2015-10-29|London|  null|hannah88@powers.com| hannah88opowersc@m|\n",
      "|          1|          2|      Julia |      Julia |   Taylor|   Taylor|2015-07-31|2016-01-27|London|London|hannah88@powers.com|hannah88@powers.com|\n",
      "+-----------+-----------+------------+------------+---------+---------+----------+----------+------+------+-------------------+-------------------+\n",
      "only showing top 5 rows\n",
      "\n"
     ]
    }
   ],
   "source": [
    "from sparklink.blocking import block_using_rules\n",
    "from sparklink.gammas import complete_settings_dict\n",
    "settings = complete_settings_dict(settings)\n",
    "df_comparison = block_using_rules(settings, df=df, spark=spark)\n",
    "df_comparison.show(5)"
   ]
  },
  {
   "cell_type": "markdown",
   "metadata": {},
   "source": [
    "## Step 3:  Compute Fellegi Sunter comparison vectors from the table of comparisons\n",
    "\n",
    "Columns are assumed to be strings by default.  See the 'comparison vector settings' notebook for details of configuration options."
   ]
  },
  {
   "cell_type": "code",
   "execution_count": 10,
   "metadata": {},
   "outputs": [
    {
     "name": "stdout",
     "output_type": "stream",
     "text": [
      "+-----------+-----------+------------+------------+---------+---------+----------+----------+------+------+-------------------+-------------------+-------+-------+-------+-------+-------+\n",
      "|unique_id_l|unique_id_r|first_name_l|first_name_r|surname_l|surname_r|     dob_l|     dob_r|city_l|city_r|            email_l|            email_r|gamma_0|gamma_1|gamma_2|gamma_3|gamma_4|\n",
      "+-----------+-----------+------------+------------+---------+---------+----------+----------+------+------+-------------------+-------------------+-------+-------+-------+-------+-------+\n",
      "|          0|          3|      Julia |      Julia |     null|   Taylor|2015-10-29|2015-10-29|London|  null|hannah88@powers.com| hannah88opowersc@m|      2|     -1|      1|     -1|      0|\n",
      "|          0|          2|      Julia |      Julia |     null|   Taylor|2015-10-29|2016-01-27|London|London|hannah88@powers.com|hannah88@powers.com|      2|     -1|      0|      1|      1|\n",
      "|          0|          1|      Julia |      Julia |     null|   Taylor|2015-10-29|2015-07-31|London|London|hannah88@powers.com|hannah88@powers.com|      2|     -1|      0|      1|      1|\n",
      "|          1|          3|      Julia |      Julia |   Taylor|   Taylor|2015-07-31|2015-10-29|London|  null|hannah88@powers.com| hannah88opowersc@m|      2|      2|      0|     -1|      0|\n",
      "|          1|          2|      Julia |      Julia |   Taylor|   Taylor|2015-07-31|2016-01-27|London|London|hannah88@powers.com|hannah88@powers.com|      2|      2|      0|      1|      1|\n",
      "+-----------+-----------+------------+------------+---------+---------+----------+----------+------+------+-------------------+-------------------+-------+-------+-------+-------+-------+\n",
      "only showing top 5 rows\n",
      "\n"
     ]
    }
   ],
   "source": [
    "from sparklink.gammas import add_gammas\n",
    "\n",
    "df_gammas = add_gammas(df_comparison, settings, spark, include_orig_cols = True)\n",
    "df_gammas.persist()\n",
    "df_gammas.show(5)"
   ]
  },
  {
   "cell_type": "markdown",
   "metadata": {},
   "source": [
    "## Step 4:  Initialise parameters (m and u probabilities)"
   ]
  },
  {
   "cell_type": "code",
   "execution_count": 11,
   "metadata": {},
   "outputs": [],
   "source": [
    "from sparklink.params import Params \n",
    "params = Params(settings)\n",
    "\n",
    "# Note all initial parameters are customisable - see the  'comparison vector settings' notebook for details of configuration options."
   ]
  },
  {
   "cell_type": "code",
   "execution_count": 12,
   "metadata": {},
   "outputs": [
    {
     "data": {
      "text/plain": [
       "λ (proportion of matches) = 0.5\n",
       "------------------------------------\n",
       "gamma_0: Comparison of first_name\n",
       "\n",
       "Probability distribution of gamma values amongst matches:\n",
       "    value 0: 0.100000 (level represents lowest category of string similarity)\n",
       "    value 1: 0.200000 \n",
       "    value 2: 0.700000 (level represents highest category of string similarity)\n",
       "\n",
       "Probability distribution of gamma values amongst non-matches:\n",
       "    value 0: 0.700000 (level represents lowest category of string similarity)\n",
       "    value 1: 0.200000 \n",
       "    value 2: 0.100000 (level represents highest category of string similarity)\n",
       "------------------------------------\n",
       "gamma_1: Comparison of surname\n",
       "\n",
       "Probability distribution of gamma values amongst matches:\n",
       "    value 0: 0.100000 (level represents lowest category of string similarity)\n",
       "    value 1: 0.200000 \n",
       "    value 2: 0.700000 (level represents highest category of string similarity)\n",
       "\n",
       "Probability distribution of gamma values amongst non-matches:\n",
       "    value 0: 0.700000 (level represents lowest category of string similarity)\n",
       "    value 1: 0.200000 \n",
       "    value 2: 0.100000 (level represents highest category of string similarity)\n",
       "------------------------------------\n",
       "gamma_2: Comparison of dob\n",
       "\n",
       "Probability distribution of gamma values amongst matches:\n",
       "    value 0: 0.100000 (level represents lowest category of string similarity)\n",
       "    value 1: 0.900000 (level represents highest category of string similarity)\n",
       "\n",
       "Probability distribution of gamma values amongst non-matches:\n",
       "    value 0: 0.900000 (level represents lowest category of string similarity)\n",
       "    value 1: 0.100000 (level represents highest category of string similarity)\n",
       "------------------------------------\n",
       "gamma_3: Comparison of city\n",
       "\n",
       "Probability distribution of gamma values amongst matches:\n",
       "    value 0: 0.100000 (level represents lowest category of string similarity)\n",
       "    value 1: 0.900000 (level represents highest category of string similarity)\n",
       "\n",
       "Probability distribution of gamma values amongst non-matches:\n",
       "    value 0: 0.900000 (level represents lowest category of string similarity)\n",
       "    value 1: 0.100000 (level represents highest category of string similarity)\n",
       "------------------------------------\n",
       "gamma_4: Comparison of email\n",
       "\n",
       "Probability distribution of gamma values amongst matches:\n",
       "    value 0: 0.100000 (level represents lowest category of string similarity)\n",
       "    value 1: 0.900000 (level represents highest category of string similarity)\n",
       "\n",
       "Probability distribution of gamma values amongst non-matches:\n",
       "    value 0: 0.900000 (level represents lowest category of string similarity)\n",
       "    value 1: 0.100000 (level represents highest category of string similarity)"
      ]
     },
     "execution_count": 12,
     "metadata": {},
     "output_type": "execute_result"
    }
   ],
   "source": [
    "#  Note that the params object has a formatted, human-readable __repr__ representation when you print it\n",
    "params"
   ]
  },
  {
   "cell_type": "code",
   "execution_count": 13,
   "metadata": {},
   "outputs": [
    {
     "data": {
      "application/vnd.vegalite.v3+json": {
       "$schema": "https://vega.github.io/schema/vega-lite/v3.4.0.json",
       "config": {
        "mark": {
         "tooltip": null
        },
        "title": {
         "anchor": "middle"
        },
        "view": {
         "height": 300,
         "width": 400
        }
       },
       "data": {
        "name": "data-c9aa9645ef114e554e60bb3f2182b1c1"
       },
       "datasets": {
        "data-c9aa9645ef114e554e60bb3f2182b1c1": [
         {
          "column": "first_name",
          "gamma": "gamma_0",
          "match": 1,
          "probability": 0.1,
          "value": 0,
          "value_of_gamma": "level_0"
         },
         {
          "column": "first_name",
          "gamma": "gamma_0",
          "match": 1,
          "probability": 0.2,
          "value": 1,
          "value_of_gamma": "level_1"
         },
         {
          "column": "first_name",
          "gamma": "gamma_0",
          "match": 1,
          "probability": 0.7,
          "value": 2,
          "value_of_gamma": "level_2"
         },
         {
          "column": "first_name",
          "gamma": "gamma_0",
          "match": 0,
          "probability": 0.7,
          "value": 0,
          "value_of_gamma": "level_0"
         },
         {
          "column": "first_name",
          "gamma": "gamma_0",
          "match": 0,
          "probability": 0.19999999999999996,
          "value": 1,
          "value_of_gamma": "level_1"
         },
         {
          "column": "first_name",
          "gamma": "gamma_0",
          "match": 0,
          "probability": 0.09999999999999998,
          "value": 2,
          "value_of_gamma": "level_2"
         },
         {
          "column": "surname",
          "gamma": "gamma_1",
          "match": 1,
          "probability": 0.1,
          "value": 0,
          "value_of_gamma": "level_0"
         },
         {
          "column": "surname",
          "gamma": "gamma_1",
          "match": 1,
          "probability": 0.2,
          "value": 1,
          "value_of_gamma": "level_1"
         },
         {
          "column": "surname",
          "gamma": "gamma_1",
          "match": 1,
          "probability": 0.7,
          "value": 2,
          "value_of_gamma": "level_2"
         },
         {
          "column": "surname",
          "gamma": "gamma_1",
          "match": 0,
          "probability": 0.7,
          "value": 0,
          "value_of_gamma": "level_0"
         },
         {
          "column": "surname",
          "gamma": "gamma_1",
          "match": 0,
          "probability": 0.19999999999999996,
          "value": 1,
          "value_of_gamma": "level_1"
         },
         {
          "column": "surname",
          "gamma": "gamma_1",
          "match": 0,
          "probability": 0.09999999999999998,
          "value": 2,
          "value_of_gamma": "level_2"
         },
         {
          "column": "dob",
          "gamma": "gamma_2",
          "match": 1,
          "probability": 0.1,
          "value": 0,
          "value_of_gamma": "level_0"
         },
         {
          "column": "dob",
          "gamma": "gamma_2",
          "match": 1,
          "probability": 0.9,
          "value": 1,
          "value_of_gamma": "level_1"
         },
         {
          "column": "dob",
          "gamma": "gamma_2",
          "match": 0,
          "probability": 0.9,
          "value": 0,
          "value_of_gamma": "level_0"
         },
         {
          "column": "dob",
          "gamma": "gamma_2",
          "match": 0,
          "probability": 0.1,
          "value": 1,
          "value_of_gamma": "level_1"
         },
         {
          "column": "city",
          "gamma": "gamma_3",
          "match": 1,
          "probability": 0.1,
          "value": 0,
          "value_of_gamma": "level_0"
         },
         {
          "column": "city",
          "gamma": "gamma_3",
          "match": 1,
          "probability": 0.9,
          "value": 1,
          "value_of_gamma": "level_1"
         },
         {
          "column": "city",
          "gamma": "gamma_3",
          "match": 0,
          "probability": 0.9,
          "value": 0,
          "value_of_gamma": "level_0"
         },
         {
          "column": "city",
          "gamma": "gamma_3",
          "match": 0,
          "probability": 0.1,
          "value": 1,
          "value_of_gamma": "level_1"
         },
         {
          "column": "email",
          "gamma": "gamma_4",
          "match": 1,
          "probability": 0.1,
          "value": 0,
          "value_of_gamma": "level_0"
         },
         {
          "column": "email",
          "gamma": "gamma_4",
          "match": 1,
          "probability": 0.9,
          "value": 1,
          "value_of_gamma": "level_1"
         },
         {
          "column": "email",
          "gamma": "gamma_4",
          "match": 0,
          "probability": 0.9,
          "value": 0,
          "value_of_gamma": "level_0"
         },
         {
          "column": "email",
          "gamma": "gamma_4",
          "match": 0,
          "probability": 0.1,
          "value": 1,
          "value_of_gamma": "level_1"
         }
        ]
       },
       "hconcat": [
        {
         "encoding": {
          "color": {
           "field": "match",
           "type": "nominal"
          },
          "row": {
           "field": "column",
           "sort": {
            "field": "gamma"
           },
           "type": "nominal"
          },
          "tooltip": [
           {
            "field": "column",
            "type": "nominal"
           },
           {
            "field": "probability",
            "format": ".4f",
            "type": "quantitative"
           },
           {
            "field": "value",
            "type": "ordinal"
           }
          ],
          "x": {
           "field": "probability",
           "type": "quantitative"
          },
          "y": {
           "axis": {
            "title": "𝛾 value"
           },
           "field": "value",
           "type": "nominal"
          }
         },
         "mark": "bar",
         "resolve": {
          "scale": {
           "y": "independent"
          }
         },
         "transform": [
          {
           "filter": "(datum.match === 0)"
          }
         ],
         "width": 150
        },
        {
         "encoding": {
          "color": {
           "field": "match",
           "type": "nominal"
          },
          "row": {
           "field": "column",
           "sort": {
            "field": "gamma"
           },
           "type": "nominal"
          },
          "tooltip": [
           {
            "field": "column",
            "type": "nominal"
           },
           {
            "field": "probability",
            "format": ".4f",
            "type": "quantitative"
           },
           {
            "field": "value",
            "type": "ordinal"
           }
          ],
          "x": {
           "field": "probability",
           "type": "quantitative"
          },
          "y": {
           "axis": {
            "title": "𝛾 value"
           },
           "field": "value",
           "type": "nominal"
          }
         },
         "mark": "bar",
         "resolve": {
          "scale": {
           "y": "independent"
          }
         },
         "transform": [
          {
           "filter": "(datum.match === 1)"
          }
         ],
         "width": 150
        }
       ],
       "title": "Probability distribution of comparison vector values, m=0 and m=1"
      },
      "image/png": "[encoded data removed]",
      "text/plain": [
       "<VegaLite 3 object>\n",
       "\n",
       "If you see this message, it means the renderer has not been properly enabled\n",
       "for the frontend that you are using. For more information, see\n",
       "https://altair-viz.github.io/user_guide/troubleshooting.html\n"
      ]
     },
     "execution_count": 13,
     "metadata": {},
     "output_type": "execute_result"
    }
   ],
   "source": [
    "# Note there are various graphical representations of the information contained in parameters, such as:\n",
    "params.probability_distribution_chart()"
   ]
  },
  {
   "cell_type": "markdown",
   "metadata": {},
   "source": [
    "## Step 5:  Repeatedly apply expectation and maximisation step to improve parameter estimates"
   ]
  },
  {
   "cell_type": "code",
   "execution_count": 14,
   "metadata": {},
   "outputs": [
    {
     "name": "stderr",
     "output_type": "stream",
     "text": [
      "INFO:sparklink.expectation_step:\n",
      "Log likelihood for iteration 0:  -22022.17073033113\n",
      "\n",
      "INFO:sparklink.expectation_step:\n",
      "Log likelihood for iteration 1:  -15746.226403305649\n",
      "\n",
      "INFO:sparklink.expectation_step:\n",
      "Log likelihood for iteration 2:  -15521.787360601704\n",
      "\n",
      "INFO:sparklink.expectation_step:\n",
      "Log likelihood for iteration 3:  -15474.51383191972\n",
      "\n",
      "INFO:sparklink.expectation_step:\n",
      "Log likelihood for iteration 4:  -15458.77874371436\n",
      "\n",
      "INFO:sparklink.expectation_step:\n",
      "Log likelihood for iteration 5:  -15450.728664992195\n",
      "\n",
      "INFO:sparklink.expectation_step:\n",
      "Log likelihood for iteration 6:  -15445.65232979209\n",
      "\n",
      "INFO:sparklink.expectation_step:\n",
      "Log likelihood for iteration 7:  -15442.149315795372\n",
      "\n",
      "INFO:sparklink.expectation_step:\n",
      "Log likelihood for iteration 8:  -15439.608912537664\n",
      "\n",
      "INFO:sparklink.expectation_step:\n",
      "Log likelihood for iteration 9:  -15437.702593455539\n",
      "\n",
      "INFO:sparklink.expectation_step:\n",
      "Log likelihood for iteration 10:  -15436.23335290754\n",
      "\n",
      "INFO:sparklink.expectation_step:\n",
      "Log likelihood for iteration 11:  -15435.075559608238\n",
      "\n",
      "INFO:sparklink.expectation_step:\n",
      "Log likelihood for iteration 12:  -15434.147123289633\n",
      "\n",
      "INFO:sparklink.expectation_step:\n",
      "Log likelihood for iteration 13:  -15433.391100943561\n",
      "\n",
      "INFO:sparklink.expectation_step:\n",
      "Log likelihood for iteration 14:  -15432.76727378671\n",
      "\n",
      "INFO:sparklink.expectation_step:\n",
      "Log likelihood for iteration 15:  -15432.247375429488\n",
      "\n",
      "INFO:sparklink.expectation_step:\n",
      "Log likelihood for iteration 16:  -15431.809153599244\n",
      "\n",
      "INFO:sparklink.expectation_step:\n",
      "Log likelihood for iteration 17:  -15431.43679702105\n",
      "\n",
      "INFO:sparklink.expectation_step:\n",
      "Log likelihood for iteration 18:  -15431.118235776165\n",
      "\n",
      "INFO:sparklink.expectation_step:\n",
      "Log likelihood for iteration 19:  -15430.843114087158\n",
      "\n",
      "INFO:sparklink.expectation_step:\n",
      "Log likelihood for iteration 20:  -15430.60472843599\n",
      "\n"
     ]
    }
   ],
   "source": [
    "from sparklink.iterate import iterate\n",
    "logging.getLogger(\"sparklink\").setLevel(logging.INFO)\n",
    "df_e = iterate(df_gammas, spark, params, num_iterations=20, compute_ll=True)"
   ]
  },
  {
   "cell_type": "markdown",
   "metadata": {},
   "source": [
    "## Step 6: Inspect results \n",
    "\n"
   ]
  },
  {
   "cell_type": "code",
   "execution_count": 15,
   "metadata": {},
   "outputs": [
    {
     "data": {
      "text/html": [
       "<div>\n",
       "<style scoped>\n",
       "    .dataframe tbody tr th:only-of-type {\n",
       "        vertical-align: middle;\n",
       "    }\n",
       "\n",
       "    .dataframe tbody tr th {\n",
       "        vertical-align: top;\n",
       "    }\n",
       "\n",
       "    .dataframe thead th {\n",
       "        text-align: right;\n",
       "    }\n",
       "</style>\n",
       "<table border=\"1\" class=\"dataframe\">\n",
       "  <thead>\n",
       "    <tr style=\"text-align: right;\">\n",
       "      <th></th>\n",
       "      <th>unique_id_l</th>\n",
       "      <th>unique_id_r</th>\n",
       "      <th>first_name_l</th>\n",
       "      <th>first_name_r</th>\n",
       "      <th>surname_l</th>\n",
       "      <th>surname_r</th>\n",
       "      <th>dob_l</th>\n",
       "      <th>dob_r</th>\n",
       "      <th>city_l</th>\n",
       "      <th>city_r</th>\n",
       "      <th>email_l</th>\n",
       "      <th>email_r</th>\n",
       "      <th>gamma_0</th>\n",
       "      <th>gamma_1</th>\n",
       "      <th>gamma_2</th>\n",
       "      <th>gamma_3</th>\n",
       "      <th>gamma_4</th>\n",
       "      <th>prob_gamma_0_non_match</th>\n",
       "      <th>prob_gamma_0_match</th>\n",
       "      <th>prob_gamma_1_non_match</th>\n",
       "      <th>prob_gamma_1_match</th>\n",
       "      <th>prob_gamma_2_non_match</th>\n",
       "      <th>prob_gamma_2_match</th>\n",
       "      <th>prob_gamma_3_non_match</th>\n",
       "      <th>prob_gamma_3_match</th>\n",
       "      <th>prob_gamma_4_non_match</th>\n",
       "      <th>prob_gamma_4_match</th>\n",
       "      <th>match_probability</th>\n",
       "    </tr>\n",
       "  </thead>\n",
       "  <tbody>\n",
       "    <tr>\n",
       "      <td>2250</td>\n",
       "      <td>987</td>\n",
       "      <td>988</td>\n",
       "      <td>Sophia</td>\n",
       "      <td>Sophia</td>\n",
       "      <td>Ellis</td>\n",
       "      <td>Ellis</td>\n",
       "      <td>1981-08-14</td>\n",
       "      <td>1981-08-14</td>\n",
       "      <td>Sheffield</td>\n",
       "      <td>Sheffield</td>\n",
       "      <td>danielle24@garcia-jones.net</td>\n",
       "      <td>danielle24@garcia-jones.net</td>\n",
       "      <td>2</td>\n",
       "      <td>2</td>\n",
       "      <td>1</td>\n",
       "      <td>1</td>\n",
       "      <td>1</td>\n",
       "      <td>0.487354</td>\n",
       "      <td>0.478992</td>\n",
       "      <td>0.684782</td>\n",
       "      <td>0.495868</td>\n",
       "      <td>0.011897</td>\n",
       "      <td>0.795937</td>\n",
       "      <td>0.142256</td>\n",
       "      <td>0.679181</td>\n",
       "      <td>0.011715</td>\n",
       "      <td>0.685147</td>\n",
       "      <td>0.999886</td>\n",
       "    </tr>\n",
       "    <tr>\n",
       "      <td>371</td>\n",
       "      <td>114</td>\n",
       "      <td>841</td>\n",
       "      <td>Thomas</td>\n",
       "      <td>Thomas</td>\n",
       "      <td>Harry</td>\n",
       "      <td>Thea</td>\n",
       "      <td>2011-09-18</td>\n",
       "      <td>1982-09-29</td>\n",
       "      <td>None</td>\n",
       "      <td>None</td>\n",
       "      <td>sandra26@and.rsondavisecom</td>\n",
       "      <td>jeffreyrogers@hernandez.info</td>\n",
       "      <td>2</td>\n",
       "      <td>0</td>\n",
       "      <td>0</td>\n",
       "      <td>-1</td>\n",
       "      <td>0</td>\n",
       "      <td>0.487354</td>\n",
       "      <td>0.478992</td>\n",
       "      <td>0.313716</td>\n",
       "      <td>0.432013</td>\n",
       "      <td>0.988103</td>\n",
       "      <td>0.204063</td>\n",
       "      <td>1.000000</td>\n",
       "      <td>1.000000</td>\n",
       "      <td>0.988285</td>\n",
       "      <td>0.314853</td>\n",
       "      <td>0.055598</td>\n",
       "    </tr>\n",
       "    <tr>\n",
       "      <td>2053</td>\n",
       "      <td>829</td>\n",
       "      <td>833</td>\n",
       "      <td>Alexander</td>\n",
       "      <td>Alexander</td>\n",
       "      <td>Russell</td>\n",
       "      <td>Rssell</td>\n",
       "      <td>1982-03-24</td>\n",
       "      <td>1982-03-24</td>\n",
       "      <td>London</td>\n",
       "      <td>None</td>\n",
       "      <td>virginiarodriguez@holmes.org</td>\n",
       "      <td>virginiarerigudz@holmes.org</td>\n",
       "      <td>2</td>\n",
       "      <td>1</td>\n",
       "      <td>1</td>\n",
       "      <td>-1</td>\n",
       "      <td>0</td>\n",
       "      <td>0.487354</td>\n",
       "      <td>0.478992</td>\n",
       "      <td>0.001502</td>\n",
       "      <td>0.072119</td>\n",
       "      <td>0.011897</td>\n",
       "      <td>0.795937</td>\n",
       "      <td>1.000000</td>\n",
       "      <td>1.000000</td>\n",
       "      <td>0.988285</td>\n",
       "      <td>0.314853</td>\n",
       "      <td>0.998498</td>\n",
       "    </tr>\n",
       "    <tr>\n",
       "      <td>4562</td>\n",
       "      <td>682</td>\n",
       "      <td>747</td>\n",
       "      <td>None</td>\n",
       "      <td>cMhael</td>\n",
       "      <td>Taylor</td>\n",
       "      <td>Taylor</td>\n",
       "      <td>2014-03-20</td>\n",
       "      <td>1993-06-23</td>\n",
       "      <td>London</td>\n",
       "      <td>Brighton</td>\n",
       "      <td>eaul44@bpntly.com</td>\n",
       "      <td>rhondawilliams@gonzalez-scott.com</td>\n",
       "      <td>-1</td>\n",
       "      <td>2</td>\n",
       "      <td>0</td>\n",
       "      <td>0</td>\n",
       "      <td>0</td>\n",
       "      <td>1.000000</td>\n",
       "      <td>1.000000</td>\n",
       "      <td>0.684782</td>\n",
       "      <td>0.495868</td>\n",
       "      <td>0.988103</td>\n",
       "      <td>0.204063</td>\n",
       "      <td>0.857744</td>\n",
       "      <td>0.320819</td>\n",
       "      <td>0.988285</td>\n",
       "      <td>0.314853</td>\n",
       "      <td>0.011644</td>\n",
       "    </tr>\n",
       "    <tr>\n",
       "      <td>470</td>\n",
       "      <td>150</td>\n",
       "      <td>853</td>\n",
       "      <td>Harry</td>\n",
       "      <td>Harry</td>\n",
       "      <td>Hill</td>\n",
       "      <td>Bond</td>\n",
       "      <td>2017-09-21</td>\n",
       "      <td>1979-12-08</td>\n",
       "      <td>Sheffield</td>\n",
       "      <td>None</td>\n",
       "      <td>zporter@robinson.com</td>\n",
       "      <td>alexanderthomas@reyes.com</td>\n",
       "      <td>2</td>\n",
       "      <td>0</td>\n",
       "      <td>0</td>\n",
       "      <td>-1</td>\n",
       "      <td>0</td>\n",
       "      <td>0.487354</td>\n",
       "      <td>0.478992</td>\n",
       "      <td>0.313716</td>\n",
       "      <td>0.432013</td>\n",
       "      <td>0.988103</td>\n",
       "      <td>0.204063</td>\n",
       "      <td>1.000000</td>\n",
       "      <td>1.000000</td>\n",
       "      <td>0.988285</td>\n",
       "      <td>0.314853</td>\n",
       "      <td>0.055598</td>\n",
       "    </tr>\n",
       "  </tbody>\n",
       "</table>\n",
       "</div>"
      ],
      "text/plain": [
       "      unique_id_l  unique_id_r first_name_l first_name_r surname_l surname_r  \\\n",
       "2250          987          988      Sophia       Sophia      Ellis     Ellis   \n",
       "371           114          841       Thomas       Thomas    Harry      Thea    \n",
       "2053          829          833   Alexander    Alexander    Russell    Rssell   \n",
       "4562          682          747         None      cMhael     Taylor    Taylor   \n",
       "470           150          853       Harry        Harry       Hill      Bond   \n",
       "\n",
       "           dob_l       dob_r     city_l     city_r  \\\n",
       "2250  1981-08-14  1981-08-14  Sheffield  Sheffield   \n",
       "371   2011-09-18  1982-09-29       None       None   \n",
       "2053  1982-03-24  1982-03-24     London       None   \n",
       "4562  2014-03-20  1993-06-23     London   Brighton   \n",
       "470   2017-09-21  1979-12-08  Sheffield       None   \n",
       "\n",
       "                           email_l                            email_r  \\\n",
       "2250   danielle24@garcia-jones.net        danielle24@garcia-jones.net   \n",
       "371     sandra26@and.rsondavisecom       jeffreyrogers@hernandez.info   \n",
       "2053  virginiarodriguez@holmes.org        virginiarerigudz@holmes.org   \n",
       "4562             eaul44@bpntly.com  rhondawilliams@gonzalez-scott.com   \n",
       "470           zporter@robinson.com          alexanderthomas@reyes.com   \n",
       "\n",
       "      gamma_0  gamma_1  gamma_2  gamma_3  gamma_4  prob_gamma_0_non_match  \\\n",
       "2250        2        2        1        1        1                0.487354   \n",
       "371         2        0        0       -1        0                0.487354   \n",
       "2053        2        1        1       -1        0                0.487354   \n",
       "4562       -1        2        0        0        0                1.000000   \n",
       "470         2        0        0       -1        0                0.487354   \n",
       "\n",
       "      prob_gamma_0_match  prob_gamma_1_non_match  prob_gamma_1_match  \\\n",
       "2250            0.478992                0.684782            0.495868   \n",
       "371             0.478992                0.313716            0.432013   \n",
       "2053            0.478992                0.001502            0.072119   \n",
       "4562            1.000000                0.684782            0.495868   \n",
       "470             0.478992                0.313716            0.432013   \n",
       "\n",
       "      prob_gamma_2_non_match  prob_gamma_2_match  prob_gamma_3_non_match  \\\n",
       "2250                0.011897            0.795937                0.142256   \n",
       "371                 0.988103            0.204063                1.000000   \n",
       "2053                0.011897            0.795937                1.000000   \n",
       "4562                0.988103            0.204063                0.857744   \n",
       "470                 0.988103            0.204063                1.000000   \n",
       "\n",
       "      prob_gamma_3_match  prob_gamma_4_non_match  prob_gamma_4_match  \\\n",
       "2250            0.679181                0.011715            0.685147   \n",
       "371             1.000000                0.988285            0.314853   \n",
       "2053            1.000000                0.988285            0.314853   \n",
       "4562            0.320819                0.988285            0.314853   \n",
       "470             1.000000                0.988285            0.314853   \n",
       "\n",
       "      match_probability  \n",
       "2250           0.999886  \n",
       "371            0.055598  \n",
       "2053           0.998498  \n",
       "4562           0.011644  \n",
       "470            0.055598  "
      ]
     },
     "execution_count": 15,
     "metadata": {},
     "output_type": "execute_result"
    }
   ],
   "source": [
    "# Inspect main dataframe that contains the match scores\n",
    "df_e.toPandas().sample(5)"
   ]
  },
  {
   "cell_type": "markdown",
   "metadata": {},
   "source": [
    "Note that the `params` object is updated during the process of iteration.\n",
    "\n",
    "This means that if we inspect it again, we will see a new set of parameters - those that result from the application of the expectation maximiastion algorithm"
   ]
  },
  {
   "cell_type": "code",
   "execution_count": 16,
   "metadata": {},
   "outputs": [
    {
     "data": {
      "application/vnd.vegalite.v3+json": {
       "$schema": "https://vega.github.io/schema/vega-lite/v3.4.0.json",
       "config": {
        "mark": {
         "tooltip": null
        },
        "title": {
         "anchor": "middle"
        },
        "view": {
         "height": 300,
         "width": 400
        }
       },
       "data": {
        "name": "data-068330441d454d268697ea6a7a057497"
       },
       "datasets": {
        "data-068330441d454d268697ea6a7a057497": [
         {
          "column": "first_name",
          "gamma": "gamma_0",
          "match": 1,
          "probability": 0.4349217414855957,
          "value": 0,
          "value_of_gamma": "level_0"
         },
         {
          "column": "first_name",
          "gamma": "gamma_0",
          "match": 1,
          "probability": 0.08608599752187729,
          "value": 1,
          "value_of_gamma": "level_1"
         },
         {
          "column": "first_name",
          "gamma": "gamma_0",
          "match": 1,
          "probability": 0.4789922535419464,
          "value": 2,
          "value_of_gamma": "level_2"
         },
         {
          "column": "first_name",
          "gamma": "gamma_0",
          "match": 0,
          "probability": 0.5122657418251038,
          "value": 0,
          "value_of_gamma": "level_0"
         },
         {
          "column": "first_name",
          "gamma": "gamma_0",
          "match": 0,
          "probability": 0.00038036072510294616,
          "value": 1,
          "value_of_gamma": "level_1"
         },
         {
          "column": "first_name",
          "gamma": "gamma_0",
          "match": 0,
          "probability": 0.4873538911342621,
          "value": 2,
          "value_of_gamma": "level_2"
         },
         {
          "column": "surname",
          "gamma": "gamma_1",
          "match": 1,
          "probability": 0.43201279640197754,
          "value": 0,
          "value_of_gamma": "level_0"
         },
         {
          "column": "surname",
          "gamma": "gamma_1",
          "match": 1,
          "probability": 0.07211927324533463,
          "value": 1,
          "value_of_gamma": "level_1"
         },
         {
          "column": "surname",
          "gamma": "gamma_1",
          "match": 1,
          "probability": 0.49586790800094604,
          "value": 2,
          "value_of_gamma": "level_2"
         },
         {
          "column": "surname",
          "gamma": "gamma_1",
          "match": 0,
          "probability": 0.31371554732322693,
          "value": 0,
          "value_of_gamma": "level_0"
         },
         {
          "column": "surname",
          "gamma": "gamma_1",
          "match": 0,
          "probability": 0.0015024712774902582,
          "value": 1,
          "value_of_gamma": "level_1"
         },
         {
          "column": "surname",
          "gamma": "gamma_1",
          "match": 0,
          "probability": 0.6847819685935974,
          "value": 2,
          "value_of_gamma": "level_2"
         },
         {
          "column": "dob",
          "gamma": "gamma_2",
          "match": 1,
          "probability": 0.20406319200992584,
          "value": 0,
          "value_of_gamma": "level_0"
         },
         {
          "column": "dob",
          "gamma": "gamma_2",
          "match": 1,
          "probability": 0.7959368228912354,
          "value": 1,
          "value_of_gamma": "level_1"
         },
         {
          "column": "dob",
          "gamma": "gamma_2",
          "match": 0,
          "probability": 0.9881027340888977,
          "value": 0,
          "value_of_gamma": "level_0"
         },
         {
          "column": "dob",
          "gamma": "gamma_2",
          "match": 0,
          "probability": 0.011897263117134571,
          "value": 1,
          "value_of_gamma": "level_1"
         },
         {
          "column": "city",
          "gamma": "gamma_3",
          "match": 1,
          "probability": 0.32081934809684753,
          "value": 0,
          "value_of_gamma": "level_0"
         },
         {
          "column": "city",
          "gamma": "gamma_3",
          "match": 1,
          "probability": 0.6791806221008301,
          "value": 1,
          "value_of_gamma": "level_1"
         },
         {
          "column": "city",
          "gamma": "gamma_3",
          "match": 0,
          "probability": 0.8577435612678528,
          "value": 0,
          "value_of_gamma": "level_0"
         },
         {
          "column": "city",
          "gamma": "gamma_3",
          "match": 0,
          "probability": 0.14225642383098602,
          "value": 1,
          "value_of_gamma": "level_1"
         },
         {
          "column": "email",
          "gamma": "gamma_4",
          "match": 1,
          "probability": 0.31485286355018616,
          "value": 0,
          "value_of_gamma": "level_0"
         },
         {
          "column": "email",
          "gamma": "gamma_4",
          "match": 1,
          "probability": 0.6851471662521362,
          "value": 1,
          "value_of_gamma": "level_1"
         },
         {
          "column": "email",
          "gamma": "gamma_4",
          "match": 0,
          "probability": 0.9882849454879761,
          "value": 0,
          "value_of_gamma": "level_0"
         },
         {
          "column": "email",
          "gamma": "gamma_4",
          "match": 0,
          "probability": 0.011715040542185307,
          "value": 1,
          "value_of_gamma": "level_1"
         }
        ]
       },
       "hconcat": [
        {
         "encoding": {
          "color": {
           "field": "match",
           "type": "nominal"
          },
          "row": {
           "field": "column",
           "sort": {
            "field": "gamma"
           },
           "type": "nominal"
          },
          "tooltip": [
           {
            "field": "column",
            "type": "nominal"
           },
           {
            "field": "probability",
            "format": ".4f",
            "type": "quantitative"
           },
           {
            "field": "value",
            "type": "ordinal"
           }
          ],
          "x": {
           "field": "probability",
           "type": "quantitative"
          },
          "y": {
           "axis": {
            "title": "𝛾 value"
           },
           "field": "value",
           "type": "nominal"
          }
         },
         "mark": "bar",
         "resolve": {
          "scale": {
           "y": "independent"
          }
         },
         "transform": [
          {
           "filter": "(datum.match === 0)"
          }
         ],
         "width": 150
        },
        {
         "encoding": {
          "color": {
           "field": "match",
           "type": "nominal"
          },
          "row": {
           "field": "column",
           "sort": {
            "field": "gamma"
           },
           "type": "nominal"
          },
          "tooltip": [
           {
            "field": "column",
            "type": "nominal"
           },
           {
            "field": "probability",
            "format": ".4f",
            "type": "quantitative"
           },
           {
            "field": "value",
            "type": "ordinal"
           }
          ],
          "x": {
           "field": "probability",
           "type": "quantitative"
          },
          "y": {
           "axis": {
            "title": "𝛾 value"
           },
           "field": "value",
           "type": "nominal"
          }
         },
         "mark": "bar",
         "resolve": {
          "scale": {
           "y": "independent"
          }
         },
         "transform": [
          {
           "filter": "(datum.match === 1)"
          }
         ],
         "width": 150
        }
       ],
       "title": "Probability distribution of comparison vector values, m=0 and m=1"
      },
      "image/png": "[encoded data removed]",
      "text/plain": [
       "<VegaLite 3 object>\n",
       "\n",
       "If you see this message, it means the renderer has not been properly enabled\n",
       "for the frontend that you are using. For more information, see\n",
       "https://altair-viz.github.io/user_guide/troubleshooting.html\n"
      ]
     },
     "execution_count": 16,
     "metadata": {},
     "output_type": "execute_result"
    }
   ],
   "source": [
    "params.probability_distribution_chart()"
   ]
  },
  {
   "cell_type": "markdown",
   "metadata": {},
   "source": [
    "An alternative representation of the parameters displays them in terms of the effect different values in the comparison vectors have on the match probability:"
   ]
  },
  {
   "cell_type": "code",
   "execution_count": 17,
   "metadata": {},
   "outputs": [
    {
     "data": {
      "application/vnd.vegalite.v3+json": {
       "$schema": "https://vega.github.io/schema/vega-lite/v3.4.0.json",
       "config": {
        "mark": {
         "tooltip": null
        },
        "title": {
         "anchor": "middle"
        },
        "view": {
         "height": 300,
         "width": 400
        }
       },
       "data": {
        "name": "data-3e45287ba090f31cbd2bcdb37cff88d8"
       },
       "datasets": {
        "data-3e45287ba090f31cbd2bcdb37cff88d8": [
         {
          "adjustment": 0.4591717575969395,
          "col_name": "first_name",
          "level": "level_0",
          "m": 0.4349217414855957,
          "normalised_adjustment": -0.04082824240306049,
          "u": 0.5122657418251038
         },
         {
          "adjustment": 0.9956010553374239,
          "col_name": "first_name",
          "level": "level_1",
          "m": 0.08608599752187729,
          "normalised_adjustment": 0.49560105533742393,
          "u": 0.00038036072510294616
         },
         {
          "adjustment": 0.49567358050819493,
          "col_name": "first_name",
          "level": "level_2",
          "m": 0.4789922535419464,
          "normalised_adjustment": -0.004326419491805067,
          "u": 0.4873538911342621
         },
         {
          "adjustment": 0.5793165836287043,
          "col_name": "surname",
          "level": "level_0",
          "m": 0.43201279640197754,
          "normalised_adjustment": 0.0793165836287043,
          "u": 0.31371554732322693
         },
         {
          "adjustment": 0.9795920174504361,
          "col_name": "surname",
          "level": "level_1",
          "m": 0.07211927324533463,
          "normalised_adjustment": 0.4795920174504361,
          "u": 0.0015024712774902582
         },
         {
          "adjustment": 0.41999573102164994,
          "col_name": "surname",
          "level": "level_2",
          "m": 0.49586790800094604,
          "normalised_adjustment": -0.08000426897835006,
          "u": 0.6847819685935974
         },
         {
          "adjustment": 0.17117012619014427,
          "col_name": "dob",
          "level": "level_0",
          "m": 0.20406319200992584,
          "normalised_adjustment": -0.32882987380985573,
          "u": 0.9881027340888977
         },
         {
          "adjustment": 0.9852726403562385,
          "col_name": "dob",
          "level": "level_1",
          "m": 0.7959368228912354,
          "normalised_adjustment": 0.4852726403562385,
          "u": 0.011897263117134571
         },
         {
          "adjustment": 0.2722123236253752,
          "col_name": "city",
          "level": "level_0",
          "m": 0.32081934809684753,
          "normalised_adjustment": -0.22778767637462483,
          "u": 0.8577435612678528
         },
         {
          "adjustment": 0.8268200533010851,
          "col_name": "city",
          "level": "level_1",
          "m": 0.6791806221008301,
          "normalised_adjustment": 0.3268200533010851,
          "u": 0.14225642383098602
         },
         {
          "adjustment": 0.24161133332673163,
          "col_name": "email",
          "level": "level_0",
          "m": 0.31485286355018616,
          "normalised_adjustment": -0.2583886666732684,
          "u": 0.9882849454879761
         },
         {
          "adjustment": 0.9831888708729429,
          "col_name": "email",
          "level": "level_1",
          "m": 0.6851471662521362,
          "normalised_adjustment": 0.48318887087294293,
          "u": 0.011715040542185307
         }
        ]
       },
       "encoding": {
        "color": {
         "field": "normalised_adjustment",
         "scale": {
          "domain": [
           -0.5,
           -0.4,
           0,
           0.4,
           0.5
          ],
          "range": [
           "red",
           "orange",
           "green",
           "orange",
           "red"
          ]
         },
         "type": "quantitative"
        },
        "row": {
         "field": "col_name",
         "sort": {
          "field": "gamma"
         },
         "type": "nominal"
        },
        "tooltip": [
         {
          "field": "col_name",
          "type": "nominal"
         },
         {
          "field": "normalised_adjustment",
          "type": "quantitative"
         }
        ],
        "x": {
         "axis": {
          "title": "Influence on match probabiity."
         },
         "field": "normalised_adjustment",
         "scale": {
          "domain": [
           -0.5,
           0.5
          ]
         },
         "type": "quantitative"
        },
        "y": {
         "field": "level",
         "type": "nominal"
        }
       },
       "height": 50,
       "mark": "bar",
       "resolve": {
        "scale": {
         "y": "independent"
        }
       },
       "title": "Influence of comparison vector values on match probability"
      },
      "image/png": "[encoded data removed]",
      "text/plain": [
       "<VegaLite 3 object>\n",
       "\n",
       "If you see this message, it means the renderer has not been properly enabled\n",
       "for the frontend that you are using. For more information, see\n",
       "https://altair-viz.github.io/user_guide/troubleshooting.html\n"
      ]
     },
     "execution_count": 17,
     "metadata": {},
     "output_type": "execute_result"
    }
   ],
   "source": [
    "params.adjustment_factor_chart()"
   ]
  },
  {
   "cell_type": "code",
   "execution_count": 18,
   "metadata": {},
   "outputs": [],
   "source": [
    "# If charts aren't displaying correctly in your notebook, you can write them to a file (by default sparklink_charts.html)\n",
    "params.all_charts_write_html_file()"
   ]
  },
  {
   "cell_type": "markdown",
   "metadata": {},
   "source": [
    "You can also generate a report which explains how the match probability was computed for an individual comparison row.  \n",
    "\n",
    "Note that you need to convert the row to a dictionary for this to work"
   ]
  },
  {
   "cell_type": "code",
   "execution_count": 19,
   "metadata": {},
   "outputs": [
    {
     "name": "stdout",
     "output_type": "stream",
     "text": [
      "\n",
      "Initial probability of match (prior) = λ = 0.39798885583877563\n",
      "\n",
      "Comparison of first_name.  Values are:\n",
      "first_name_l: Lottie \n",
      "first_name_r: Lottie \n",
      "Comparison has 3 levels\n",
      "𝛾 for this comparison = gamma_0 = 2\n",
      "Amongst matches, P(𝛾 = 0.4789922535419464):\n",
      "Amongst non matches, P(𝛾 = 0.4873538911342621):\n",
      "Adjustment factor = p1/(p1 + p2) = 0.49567358050819493\n",
      "New probability of match (updated belief): 0.3938498308843758\n",
      "\n",
      "Comparison of surname.  Values are:\n",
      "surname_l: Forrest\n",
      "surname_r: Forrest\n",
      "Comparison has 3 levels\n",
      "𝛾 for this comparison = gamma_1 = 2\n",
      "Amongst matches, P(𝛾 = 0.49586790800094604):\n",
      "Amongst non matches, P(𝛾 = 0.6847819685935974):\n",
      "Adjustment factor = p1/(p1 + p2) = 0.41999573102164994\n",
      "New probability of match (updated belief): 0.3199614475390436\n",
      "\n",
      "Comparison of dob.  Values are:\n",
      "dob_l: 1986-09-22\n",
      "dob_r: 1986-09-22\n",
      "Comparison has 2 levels\n",
      "𝛾 for this comparison = gamma_2 = 1\n",
      "Amongst matches, P(𝛾 = 0.7959368228912354):\n",
      "Amongst non matches, P(𝛾 = 0.011897263117134571):\n",
      "Adjustment factor = p1/(p1 + p2) = 0.9852726403562385\n",
      "New probability of match (updated belief): 0.969209137762751\n",
      "\n",
      "Comparison of city.  Values are:\n",
      "city_l: Bristol\n",
      "city_r: Bristol\n",
      "Comparison has 2 levels\n",
      "𝛾 for this comparison = gamma_3 = 1\n",
      "Amongst matches, P(𝛾 = 0.6791806221008301):\n",
      "Amongst non matches, P(𝛾 = 0.14225642383098602):\n",
      "Adjustment factor = p1/(p1 + p2) = 0.8268200533010851\n",
      "New probability of match (updated belief): 0.9933898597603139\n",
      "\n",
      "Comparison of email.  Values are:\n",
      "email_l: jesus40@allen-graves.com\n",
      "email_r: jesus40@allen-gcaves.om\n",
      "Comparison has 2 levels\n",
      "𝛾 for this comparison = gamma_4 = 0\n",
      "Amongst matches, P(𝛾 = 0.31485286355018616):\n",
      "Amongst non matches, P(𝛾 = 0.9882849454879761):\n",
      "Adjustment factor = p1/(p1 + p2) = 0.24161133332673163\n",
      "New probability of match (updated belief): 0.9795408292805832\n",
      "\n",
      "Final probability of match = 0.9795408292805832\n",
      "\n"
     ]
    }
   ],
   "source": [
    "from sparklink.intuition import intuition_report\n",
    "row_dict = df_e.toPandas().sample(1).to_dict(orient=\"records\")[0]\n",
    "print(intuition_report(row_dict, params))"
   ]
  },
  {
   "cell_type": "markdown",
   "metadata": {},
   "source": [
    "## Step 7: Term frequency adjustments\n",
    "\n",
    "Sparklink enables you to make adjustments for term frequency on any number of columns\n",
    "\n",
    "This enables match probabilities to be adjusted for e.g. the fact John Smith is more prevalent than Robin Linacre"
   ]
  },
  {
   "cell_type": "code",
   "execution_count": 20,
   "metadata": {},
   "outputs": [],
   "source": [
    "from sparklink.term_frequencies import make_adjustment_for_term_frequencies\n",
    "df_e_adj = make_adjustment_for_term_frequencies(df_e, params, [\"first_name\", \"surname\"], retain_adjustment_columns=True, spark=spark)"
   ]
  },
  {
   "cell_type": "code",
   "execution_count": 21,
   "metadata": {},
   "outputs": [
    {
     "data": {
      "text/html": [
       "<div>\n",
       "<style scoped>\n",
       "    .dataframe tbody tr th:only-of-type {\n",
       "        vertical-align: middle;\n",
       "    }\n",
       "\n",
       "    .dataframe tbody tr th {\n",
       "        vertical-align: top;\n",
       "    }\n",
       "\n",
       "    .dataframe thead th {\n",
       "        text-align: right;\n",
       "    }\n",
       "</style>\n",
       "<table border=\"1\" class=\"dataframe\">\n",
       "  <thead>\n",
       "    <tr style=\"text-align: right;\">\n",
       "      <th></th>\n",
       "      <th>match_probability</th>\n",
       "      <th>tf_adjusted_match_prob</th>\n",
       "      <th>unique_id_l</th>\n",
       "      <th>unique_id_r</th>\n",
       "      <th>first_name_l</th>\n",
       "      <th>first_name_r</th>\n",
       "      <th>surname_l</th>\n",
       "      <th>surname_r</th>\n",
       "      <th>dob_l</th>\n",
       "      <th>dob_r</th>\n",
       "      <th>city_l</th>\n",
       "      <th>city_r</th>\n",
       "      <th>email_l</th>\n",
       "      <th>email_r</th>\n",
       "      <th>gamma_0</th>\n",
       "      <th>gamma_1</th>\n",
       "      <th>gamma_2</th>\n",
       "      <th>gamma_3</th>\n",
       "      <th>gamma_4</th>\n",
       "      <th>prob_gamma_0_non_match</th>\n",
       "      <th>prob_gamma_0_match</th>\n",
       "      <th>prob_gamma_1_non_match</th>\n",
       "      <th>prob_gamma_1_match</th>\n",
       "      <th>prob_gamma_2_non_match</th>\n",
       "      <th>prob_gamma_2_match</th>\n",
       "      <th>prob_gamma_3_non_match</th>\n",
       "      <th>prob_gamma_3_match</th>\n",
       "      <th>prob_gamma_4_non_match</th>\n",
       "      <th>prob_gamma_4_match</th>\n",
       "      <th>match_probability</th>\n",
       "      <th>first_name_adj</th>\n",
       "      <th>surname_adj</th>\n",
       "      <th>tf_adjusted_match_prob</th>\n",
       "    </tr>\n",
       "  </thead>\n",
       "  <tbody>\n",
       "    <tr>\n",
       "      <td>1531</td>\n",
       "      <td>0.055598</td>\n",
       "      <td>0.017795</td>\n",
       "      <td>574</td>\n",
       "      <td>940</td>\n",
       "      <td>George</td>\n",
       "      <td>George</td>\n",
       "      <td>Williams</td>\n",
       "      <td>Hodson</td>\n",
       "      <td>1981-08-06</td>\n",
       "      <td>1980-12-30</td>\n",
       "      <td>London</td>\n",
       "      <td>None</td>\n",
       "      <td>desek58gibbr.biz</td>\n",
       "      <td>lori88@huynh.biz</td>\n",
       "      <td>2</td>\n",
       "      <td>0</td>\n",
       "      <td>0</td>\n",
       "      <td>-1</td>\n",
       "      <td>0</td>\n",
       "      <td>0.487354</td>\n",
       "      <td>0.478992</td>\n",
       "      <td>0.313716</td>\n",
       "      <td>0.432013</td>\n",
       "      <td>0.988103</td>\n",
       "      <td>0.204063</td>\n",
       "      <td>1.000000</td>\n",
       "      <td>1.000000</td>\n",
       "      <td>0.988285</td>\n",
       "      <td>0.314853</td>\n",
       "      <td>0.055598</td>\n",
       "      <td>0.235325</td>\n",
       "      <td>0.500000</td>\n",
       "      <td>0.017795</td>\n",
       "    </tr>\n",
       "    <tr>\n",
       "      <td>4612</td>\n",
       "      <td>0.009903</td>\n",
       "      <td>0.001022</td>\n",
       "      <td>727</td>\n",
       "      <td>855</td>\n",
       "      <td>Lawrence</td>\n",
       "      <td>Bond</td>\n",
       "      <td>Harry</td>\n",
       "      <td>Harry</td>\n",
       "      <td>2016-12-25</td>\n",
       "      <td>1980-02-28</td>\n",
       "      <td>Stoke-on-Trent</td>\n",
       "      <td>London</td>\n",
       "      <td>barbarapace@manning.org</td>\n",
       "      <td>alexanderthomas@reyes.com</td>\n",
       "      <td>0</td>\n",
       "      <td>2</td>\n",
       "      <td>0</td>\n",
       "      <td>0</td>\n",
       "      <td>0</td>\n",
       "      <td>0.512266</td>\n",
       "      <td>0.434922</td>\n",
       "      <td>0.684782</td>\n",
       "      <td>0.495868</td>\n",
       "      <td>0.988103</td>\n",
       "      <td>0.204063</td>\n",
       "      <td>0.857744</td>\n",
       "      <td>0.320819</td>\n",
       "      <td>0.988285</td>\n",
       "      <td>0.314853</td>\n",
       "      <td>0.009903</td>\n",
       "      <td>0.500000</td>\n",
       "      <td>0.092830</td>\n",
       "      <td>0.001022</td>\n",
       "    </tr>\n",
       "    <tr>\n",
       "      <td>4141</td>\n",
       "      <td>0.009903</td>\n",
       "      <td>0.002124</td>\n",
       "      <td>510</td>\n",
       "      <td>747</td>\n",
       "      <td>Alfie</td>\n",
       "      <td>cMhael</td>\n",
       "      <td>Taylor</td>\n",
       "      <td>Taylor</td>\n",
       "      <td>2005-06-20</td>\n",
       "      <td>1993-06-23</td>\n",
       "      <td>London</td>\n",
       "      <td>Brighton</td>\n",
       "      <td>michellejackson@smith-trujillo.com</td>\n",
       "      <td>rhondawilliams@gonzalez-scott.com</td>\n",
       "      <td>0</td>\n",
       "      <td>2</td>\n",
       "      <td>0</td>\n",
       "      <td>0</td>\n",
       "      <td>0</td>\n",
       "      <td>0.512266</td>\n",
       "      <td>0.434922</td>\n",
       "      <td>0.684782</td>\n",
       "      <td>0.495868</td>\n",
       "      <td>0.988103</td>\n",
       "      <td>0.204063</td>\n",
       "      <td>0.857744</td>\n",
       "      <td>0.320819</td>\n",
       "      <td>0.988285</td>\n",
       "      <td>0.314853</td>\n",
       "      <td>0.009903</td>\n",
       "      <td>0.500000</td>\n",
       "      <td>0.175441</td>\n",
       "      <td>0.002124</td>\n",
       "    </tr>\n",
       "    <tr>\n",
       "      <td>3836</td>\n",
       "      <td>0.009903</td>\n",
       "      <td>0.002124</td>\n",
       "      <td>367</td>\n",
       "      <td>463</td>\n",
       "      <td>Nacy</td>\n",
       "      <td>Isaac</td>\n",
       "      <td>Taylor</td>\n",
       "      <td>Taylor</td>\n",
       "      <td>1989-07-25</td>\n",
       "      <td>2008-09-09</td>\n",
       "      <td>London</td>\n",
       "      <td>Swndon</td>\n",
       "      <td>wagnershane@landry.com</td>\n",
       "      <td>xday@higgins-lewis.com</td>\n",
       "      <td>0</td>\n",
       "      <td>2</td>\n",
       "      <td>0</td>\n",
       "      <td>0</td>\n",
       "      <td>0</td>\n",
       "      <td>0.512266</td>\n",
       "      <td>0.434922</td>\n",
       "      <td>0.684782</td>\n",
       "      <td>0.495868</td>\n",
       "      <td>0.988103</td>\n",
       "      <td>0.204063</td>\n",
       "      <td>0.857744</td>\n",
       "      <td>0.320819</td>\n",
       "      <td>0.988285</td>\n",
       "      <td>0.314853</td>\n",
       "      <td>0.009903</td>\n",
       "      <td>0.500000</td>\n",
       "      <td>0.175441</td>\n",
       "      <td>0.002124</td>\n",
       "    </tr>\n",
       "    <tr>\n",
       "      <td>4117</td>\n",
       "      <td>0.922951</td>\n",
       "      <td>0.931382</td>\n",
       "      <td>498</td>\n",
       "      <td>499</td>\n",
       "      <td>None</td>\n",
       "      <td>Osc a</td>\n",
       "      <td>Grant</td>\n",
       "      <td>Grant</td>\n",
       "      <td>1991-04-11</td>\n",
       "      <td>1991-04-11</td>\n",
       "      <td>Iiwsch</td>\n",
       "      <td>Ipswich</td>\n",
       "      <td>None</td>\n",
       "      <td>margaret50@garrett.com</td>\n",
       "      <td>-1</td>\n",
       "      <td>2</td>\n",
       "      <td>1</td>\n",
       "      <td>0</td>\n",
       "      <td>-1</td>\n",
       "      <td>1.000000</td>\n",
       "      <td>1.000000</td>\n",
       "      <td>0.684782</td>\n",
       "      <td>0.495868</td>\n",
       "      <td>0.011897</td>\n",
       "      <td>0.795937</td>\n",
       "      <td>0.857744</td>\n",
       "      <td>0.320819</td>\n",
       "      <td>1.000000</td>\n",
       "      <td>1.000000</td>\n",
       "      <td>0.922951</td>\n",
       "      <td>0.500000</td>\n",
       "      <td>0.531203</td>\n",
       "      <td>0.931382</td>\n",
       "    </tr>\n",
       "    <tr>\n",
       "      <td>802</td>\n",
       "      <td>0.985101</td>\n",
       "      <td>0.999871</td>\n",
       "      <td>280</td>\n",
       "      <td>288</td>\n",
       "      <td>Sara</td>\n",
       "      <td>Sara</td>\n",
       "      <td>None</td>\n",
       "      <td>Joksan</td>\n",
       "      <td>1999-09-18</td>\n",
       "      <td>1999-09-18</td>\n",
       "      <td>Liverpool</td>\n",
       "      <td>Liverpool</td>\n",
       "      <td>kimashley@nguyen.info</td>\n",
       "      <td>kimaslen@yguyen.info</td>\n",
       "      <td>2</td>\n",
       "      <td>-1</td>\n",
       "      <td>1</td>\n",
       "      <td>1</td>\n",
       "      <td>0</td>\n",
       "      <td>0.487354</td>\n",
       "      <td>0.478992</td>\n",
       "      <td>1.000000</td>\n",
       "      <td>1.000000</td>\n",
       "      <td>0.011897</td>\n",
       "      <td>0.795937</td>\n",
       "      <td>0.142256</td>\n",
       "      <td>0.679181</td>\n",
       "      <td>0.988285</td>\n",
       "      <td>0.314853</td>\n",
       "      <td>0.985101</td>\n",
       "      <td>0.991551</td>\n",
       "      <td>0.500000</td>\n",
       "      <td>0.999871</td>\n",
       "    </tr>\n",
       "    <tr>\n",
       "      <td>803</td>\n",
       "      <td>0.999607</td>\n",
       "      <td>0.999997</td>\n",
       "      <td>280</td>\n",
       "      <td>286</td>\n",
       "      <td>Sara</td>\n",
       "      <td>Sara</td>\n",
       "      <td>None</td>\n",
       "      <td>nacsoJ</td>\n",
       "      <td>1999-09-18</td>\n",
       "      <td>1999-09-18</td>\n",
       "      <td>Liverpool</td>\n",
       "      <td>None</td>\n",
       "      <td>kimashley@nguyen.info</td>\n",
       "      <td>kimashley@nguyen.info</td>\n",
       "      <td>2</td>\n",
       "      <td>-1</td>\n",
       "      <td>1</td>\n",
       "      <td>-1</td>\n",
       "      <td>1</td>\n",
       "      <td>0.487354</td>\n",
       "      <td>0.478992</td>\n",
       "      <td>1.000000</td>\n",
       "      <td>1.000000</td>\n",
       "      <td>0.011897</td>\n",
       "      <td>0.795937</td>\n",
       "      <td>1.000000</td>\n",
       "      <td>1.000000</td>\n",
       "      <td>0.011715</td>\n",
       "      <td>0.685147</td>\n",
       "      <td>0.999607</td>\n",
       "      <td>0.991551</td>\n",
       "      <td>0.500000</td>\n",
       "      <td>0.999997</td>\n",
       "    </tr>\n",
       "    <tr>\n",
       "      <td>3119</td>\n",
       "      <td>0.009903</td>\n",
       "      <td>0.003646</td>\n",
       "      <td>158</td>\n",
       "      <td>308</td>\n",
       "      <td>Ethan</td>\n",
       "      <td>Isabelle</td>\n",
       "      <td>Brown</td>\n",
       "      <td>Brown</td>\n",
       "      <td>2010-12-22</td>\n",
       "      <td>1979-01-22</td>\n",
       "      <td>Manchester</td>\n",
       "      <td>Stoke-on-Trent</td>\n",
       "      <td>petersbrandon@cox.com</td>\n",
       "      <td>josephwatson@smith.com</td>\n",
       "      <td>0</td>\n",
       "      <td>2</td>\n",
       "      <td>0</td>\n",
       "      <td>0</td>\n",
       "      <td>0</td>\n",
       "      <td>0.512266</td>\n",
       "      <td>0.434922</td>\n",
       "      <td>0.684782</td>\n",
       "      <td>0.495868</td>\n",
       "      <td>0.988103</td>\n",
       "      <td>0.204063</td>\n",
       "      <td>0.857744</td>\n",
       "      <td>0.320819</td>\n",
       "      <td>0.988285</td>\n",
       "      <td>0.314853</td>\n",
       "      <td>0.009903</td>\n",
       "      <td>0.500000</td>\n",
       "      <td>0.267836</td>\n",
       "      <td>0.003646</td>\n",
       "    </tr>\n",
       "    <tr>\n",
       "      <td>3569</td>\n",
       "      <td>0.009903</td>\n",
       "      <td>0.003646</td>\n",
       "      <td>307</td>\n",
       "      <td>525</td>\n",
       "      <td>Ilabsle</td>\n",
       "      <td>Martha</td>\n",
       "      <td>Brown</td>\n",
       "      <td>Brown</td>\n",
       "      <td>1979-01-22</td>\n",
       "      <td>2002-09-01</td>\n",
       "      <td>Stoke-on-Trent</td>\n",
       "      <td>Southend-on-Sea</td>\n",
       "      <td>josephwatson@smith.com</td>\n",
       "      <td>watsonthomas@jones-stuart.biz</td>\n",
       "      <td>0</td>\n",
       "      <td>2</td>\n",
       "      <td>0</td>\n",
       "      <td>0</td>\n",
       "      <td>0</td>\n",
       "      <td>0.512266</td>\n",
       "      <td>0.434922</td>\n",
       "      <td>0.684782</td>\n",
       "      <td>0.495868</td>\n",
       "      <td>0.988103</td>\n",
       "      <td>0.204063</td>\n",
       "      <td>0.857744</td>\n",
       "      <td>0.320819</td>\n",
       "      <td>0.988285</td>\n",
       "      <td>0.314853</td>\n",
       "      <td>0.009903</td>\n",
       "      <td>0.500000</td>\n",
       "      <td>0.267836</td>\n",
       "      <td>0.003646</td>\n",
       "    </tr>\n",
       "    <tr>\n",
       "      <td>4335</td>\n",
       "      <td>0.999840</td>\n",
       "      <td>0.999803</td>\n",
       "      <td>543</td>\n",
       "      <td>545</td>\n",
       "      <td>Frddie</td>\n",
       "      <td>Freddie</td>\n",
       "      <td>Palmer</td>\n",
       "      <td>Palmer</td>\n",
       "      <td>2008-11-10</td>\n",
       "      <td>2008-08-10</td>\n",
       "      <td>Belfast</td>\n",
       "      <td>Belfast</td>\n",
       "      <td>ndavis@miller-mccoy.org</td>\n",
       "      <td>ndavis@miller-mccoy.org</td>\n",
       "      <td>1</td>\n",
       "      <td>2</td>\n",
       "      <td>0</td>\n",
       "      <td>1</td>\n",
       "      <td>1</td>\n",
       "      <td>0.000380</td>\n",
       "      <td>0.086086</td>\n",
       "      <td>0.684782</td>\n",
       "      <td>0.495868</td>\n",
       "      <td>0.988103</td>\n",
       "      <td>0.204063</td>\n",
       "      <td>0.142256</td>\n",
       "      <td>0.679181</td>\n",
       "      <td>0.011715</td>\n",
       "      <td>0.685147</td>\n",
       "      <td>0.999840</td>\n",
       "      <td>0.500000</td>\n",
       "      <td>0.447762</td>\n",
       "      <td>0.999803</td>\n",
       "    </tr>\n",
       "  </tbody>\n",
       "</table>\n",
       "</div>"
      ],
      "text/plain": [
       "      match_probability  tf_adjusted_match_prob  unique_id_l  unique_id_r  \\\n",
       "1531           0.055598                0.017795          574          940   \n",
       "4612           0.009903                0.001022          727          855   \n",
       "4141           0.009903                0.002124          510          747   \n",
       "3836           0.009903                0.002124          367          463   \n",
       "4117           0.922951                0.931382          498          499   \n",
       "802            0.985101                0.999871          280          288   \n",
       "803            0.999607                0.999997          280          286   \n",
       "3119           0.009903                0.003646          158          308   \n",
       "3569           0.009903                0.003646          307          525   \n",
       "4335           0.999840                0.999803          543          545   \n",
       "\n",
       "     first_name_l first_name_r surname_l surname_r       dob_l       dob_r  \\\n",
       "1531      George       George   Williams    Hodson  1981-08-06  1980-12-30   \n",
       "4612     Lawrence         Bond    Harry     Harry   2016-12-25  1980-02-28   \n",
       "4141       Alfie       cMhael     Taylor    Taylor  2005-06-20  1993-06-23   \n",
       "3836        Nacy        Isaac     Taylor    Taylor  1989-07-25  2008-09-09   \n",
       "4117         None        Osc a     Grant     Grant  1991-04-11  1991-04-11   \n",
       "802         Sara         Sara       None    Joksan  1999-09-18  1999-09-18   \n",
       "803         Sara         Sara       None    nacsoJ  1999-09-18  1999-09-18   \n",
       "3119       Ethan     Isabelle      Brown     Brown  2010-12-22  1979-01-22   \n",
       "3569     Ilabsle       Martha      Brown     Brown  1979-01-22  2002-09-01   \n",
       "4335      Frddie      Freddie     Palmer    Palmer  2008-11-10  2008-08-10   \n",
       "\n",
       "              city_l           city_r                             email_l  \\\n",
       "1531          London             None                    desek58gibbr.biz   \n",
       "4612  Stoke-on-Trent           London             barbarapace@manning.org   \n",
       "4141          London         Brighton  michellejackson@smith-trujillo.com   \n",
       "3836          London           Swndon              wagnershane@landry.com   \n",
       "4117          Iiwsch          Ipswich                                None   \n",
       "802        Liverpool        Liverpool               kimashley@nguyen.info   \n",
       "803        Liverpool             None               kimashley@nguyen.info   \n",
       "3119      Manchester   Stoke-on-Trent               petersbrandon@cox.com   \n",
       "3569  Stoke-on-Trent  Southend-on-Sea              josephwatson@smith.com   \n",
       "4335         Belfast          Belfast             ndavis@miller-mccoy.org   \n",
       "\n",
       "                                email_r  gamma_0  gamma_1  gamma_2  gamma_3  \\\n",
       "1531                   lori88@huynh.biz        2        0        0       -1   \n",
       "4612          alexanderthomas@reyes.com        0        2        0        0   \n",
       "4141  rhondawilliams@gonzalez-scott.com        0        2        0        0   \n",
       "3836             xday@higgins-lewis.com        0        2        0        0   \n",
       "4117             margaret50@garrett.com       -1        2        1        0   \n",
       "802                kimaslen@yguyen.info        2       -1        1        1   \n",
       "803               kimashley@nguyen.info        2       -1        1       -1   \n",
       "3119             josephwatson@smith.com        0        2        0        0   \n",
       "3569      watsonthomas@jones-stuart.biz        0        2        0        0   \n",
       "4335            ndavis@miller-mccoy.org        1        2        0        1   \n",
       "\n",
       "      gamma_4  prob_gamma_0_non_match  prob_gamma_0_match  \\\n",
       "1531        0                0.487354            0.478992   \n",
       "4612        0                0.512266            0.434922   \n",
       "4141        0                0.512266            0.434922   \n",
       "3836        0                0.512266            0.434922   \n",
       "4117       -1                1.000000            1.000000   \n",
       "802         0                0.487354            0.478992   \n",
       "803         1                0.487354            0.478992   \n",
       "3119        0                0.512266            0.434922   \n",
       "3569        0                0.512266            0.434922   \n",
       "4335        1                0.000380            0.086086   \n",
       "\n",
       "      prob_gamma_1_non_match  prob_gamma_1_match  prob_gamma_2_non_match  \\\n",
       "1531                0.313716            0.432013                0.988103   \n",
       "4612                0.684782            0.495868                0.988103   \n",
       "4141                0.684782            0.495868                0.988103   \n",
       "3836                0.684782            0.495868                0.988103   \n",
       "4117                0.684782            0.495868                0.011897   \n",
       "802                 1.000000            1.000000                0.011897   \n",
       "803                 1.000000            1.000000                0.011897   \n",
       "3119                0.684782            0.495868                0.988103   \n",
       "3569                0.684782            0.495868                0.988103   \n",
       "4335                0.684782            0.495868                0.988103   \n",
       "\n",
       "      prob_gamma_2_match  prob_gamma_3_non_match  prob_gamma_3_match  \\\n",
       "1531            0.204063                1.000000            1.000000   \n",
       "4612            0.204063                0.857744            0.320819   \n",
       "4141            0.204063                0.857744            0.320819   \n",
       "3836            0.204063                0.857744            0.320819   \n",
       "4117            0.795937                0.857744            0.320819   \n",
       "802             0.795937                0.142256            0.679181   \n",
       "803             0.795937                1.000000            1.000000   \n",
       "3119            0.204063                0.857744            0.320819   \n",
       "3569            0.204063                0.857744            0.320819   \n",
       "4335            0.204063                0.142256            0.679181   \n",
       "\n",
       "      prob_gamma_4_non_match  prob_gamma_4_match  match_probability  \\\n",
       "1531                0.988285            0.314853           0.055598   \n",
       "4612                0.988285            0.314853           0.009903   \n",
       "4141                0.988285            0.314853           0.009903   \n",
       "3836                0.988285            0.314853           0.009903   \n",
       "4117                1.000000            1.000000           0.922951   \n",
       "802                 0.988285            0.314853           0.985101   \n",
       "803                 0.011715            0.685147           0.999607   \n",
       "3119                0.988285            0.314853           0.009903   \n",
       "3569                0.988285            0.314853           0.009903   \n",
       "4335                0.011715            0.685147           0.999840   \n",
       "\n",
       "      first_name_adj  surname_adj  tf_adjusted_match_prob  \n",
       "1531        0.235325     0.500000                0.017795  \n",
       "4612        0.500000     0.092830                0.001022  \n",
       "4141        0.500000     0.175441                0.002124  \n",
       "3836        0.500000     0.175441                0.002124  \n",
       "4117        0.500000     0.531203                0.931382  \n",
       "802         0.991551     0.500000                0.999871  \n",
       "803         0.991551     0.500000                0.999997  \n",
       "3119        0.500000     0.267836                0.003646  \n",
       "3569        0.500000     0.267836                0.003646  \n",
       "4335        0.500000     0.447762                0.999803  "
      ]
     },
     "execution_count": 21,
     "metadata": {},
     "output_type": "execute_result"
    }
   ],
   "source": [
    "pdtf = df_e_adj.toPandas()\n",
    "sam = pdtf.sample(10)\n",
    "sam[[\"match_probability\", \"tf_adjusted_match_prob\"] + list(pdtf.columns)]"
   ]
  },
  {
   "cell_type": "code",
   "execution_count": null,
   "metadata": {},
   "outputs": [],
   "source": []
  }
 ],
 "metadata": {
  "kernelspec": {
   "display_name": "Python 3",
   "language": "python",
   "name": "python3"
  },
  "language_info": {
   "codemirror_mode": {
    "name": "ipython",
    "version": 3
   },
   "file_extension": ".py",
   "mimetype": "text/x-python",
   "name": "python",
   "nbconvert_exporter": "python",
   "pygments_lexer": "ipython3",
   "version": "3.6.9"
  }
 },
 "nbformat": 4,
 "nbformat_minor": 4
}
