{
 "cells": [
  {
   "cell_type": "markdown",
   "metadata": {},
   "source": [
    "## Sparklink demo \n",
    "\n",
    "In this demo we de-duplicate a small dataset.\n",
    "\n",
    "The purpose is to provide an end-to-end example of how to use the package\n",
    "\n",
    "I print the output at each stage using `spark_dataframe.show()`.  This massively degrades performance and shouldn't be used in a production setting."
   ]
  },
  {
   "cell_type": "markdown",
   "metadata": {},
   "source": [
    "## Step 1:  Imports and setup\n",
    "\n",
    "The following is just boilerplate code that sets up the Spark session and sets some other non-essential configuration options"
   ]
  },
  {
   "cell_type": "code",
   "execution_count": 1,
   "metadata": {},
   "outputs": [],
   "source": [
    "import pandas as pd \n",
    "pd.options.display.max_columns = 500\n",
    "pd.options.display.max_rows = 500"
   ]
  },
  {
   "cell_type": "code",
   "execution_count": 2,
   "metadata": {},
   "outputs": [],
   "source": [
    "import logging \n",
    "logging.basicConfig()\n",
    "\n",
    "# Set to DEBUG if you want sparklink to log the SQL statements it's executing under the hood\n",
    "logging.getLogger(\"sparklink\").setLevel(logging.INFO)"
   ]
  },
  {
   "cell_type": "code",
   "execution_count": 3,
   "metadata": {},
   "outputs": [],
   "source": [
    "from pyspark.context import SparkContext, SparkConf\n",
    "from pyspark.sql import SparkSession, Window\n",
    "from pyspark.sql.types import StructType\n",
    "import pyspark.sql.functions as f\n",
    "\n",
    "# WARNING:\n",
    "# These config options are appropriate only if you're running Spark locally!!!\n",
    "conf=SparkConf()\n",
    "conf.set('spark.driver.memory', '8g')\n",
    "conf.set(\"spark.sql.shuffle.partitions\", \"8\") \n",
    "\n",
    "sc = SparkContext.getOrCreate(conf=conf)\n",
    "\n",
    "sc = SparkContext.getOrCreate()\n",
    "spark = SparkSession(sc)"
   ]
  },
  {
   "cell_type": "markdown",
   "metadata": {},
   "source": [
    "## Step 2:  Read in data and create comparisons using blocking rules"
   ]
  },
  {
   "cell_type": "code",
   "execution_count": 4,
   "metadata": {},
   "outputs": [
    {
     "name": "stdout",
     "output_type": "stream",
     "text": [
      "+---------+----------+-------+----------+------+--------------------+-----+\n",
      "|unique_id|first_name|surname|       dob|  city|               email|group|\n",
      "+---------+----------+-------+----------+------+--------------------+-----+\n",
      "|        0|    Julia |   null|2015-10-29|London| hannah88@powers.com|    0|\n",
      "|        1|    Julia | Taylor|2015-07-31|London| hannah88@powers.com|    0|\n",
      "|        2|    Julia | Taylor|2016-01-27|London| hannah88@powers.com|    0|\n",
      "|        3|    Julia | Taylor|2015-10-29|  null|  hannah88opowersc@m|    0|\n",
      "|        4|      oNah| Watson|2008-03-23|Bolton|matthew78@ballard...|    1|\n",
      "+---------+----------+-------+----------+------+--------------------+-----+\n",
      "only showing top 5 rows\n",
      "\n"
     ]
    }
   ],
   "source": [
    "df = spark.read.parquet(\"data/fake_1000.parquet\")\n",
    "df.show(5)"
   ]
  },
  {
   "cell_type": "code",
   "execution_count": 5,
   "metadata": {},
   "outputs": [],
   "source": [
    "blocking_rules = [\n",
    "    'l.first_name = r.first_name',\n",
    "    'l.surname = r.surname',\n",
    "    'l.dob = r.dob'\n",
    "]"
   ]
  },
  {
   "cell_type": "code",
   "execution_count": 6,
   "metadata": {},
   "outputs": [
    {
     "name": "stdout",
     "output_type": "stream",
     "text": [
      "+-----------+-----------+------------+------------+---------+---------+----------+----------+------+---------+--------------------+-------------------+-------+-------+\n",
      "|unique_id_l|unique_id_r|first_name_l|first_name_r|surname_l|surname_r|     dob_l|     dob_r|city_l|   city_r|             email_l|            email_r|group_l|group_r|\n",
      "+-----------+-----------+------------+------------+---------+---------+----------+----------+------+---------+--------------------+-------------------+-------+-------+\n",
      "|          0|          3|      Julia |      Julia |     null|   Taylor|2015-10-29|2015-10-29|London|     null| hannah88@powers.com| hannah88opowersc@m|      0|      0|\n",
      "|          0|          1|      Julia |      Julia |     null|   Taylor|2015-10-29|2015-07-31|London|   London| hannah88@powers.com|hannah88@powers.com|      0|      0|\n",
      "|          5|        637|       Noah |       Noah |   Watson|   Gibson|2008-03-23|1987-07-20|Bolton|   London|matthew78@ballard...|  avazquec@bnks.zom|      1|    107|\n",
      "|          5|        634|       Noah |       Noah |   Watson|   Gibson|2008-03-23|1987-08-21|Bolton|   London|matthew78@ballard...| avazquez@banks.com|      1|    107|\n",
      "|          5|        100|       Noah |       Noah |   Watson|     null|2008-03-23|1983-07-20|Bolton|Birmingha|matthew78@ballard...|               null|      1|     20|\n",
      "+-----------+-----------+------------+------------+---------+---------+----------+----------+------+---------+--------------------+-------------------+-------+-------+\n",
      "only showing top 5 rows\n",
      "\n"
     ]
    }
   ],
   "source": [
    "from sparklink.blocking import block_using_rules\n",
    "df_comparison = block_using_rules(df, blocking_rules, spark=spark)\n",
    "df_comparison.show(5)\n",
    "\n",
    "# For small datasets, you can use a cartesian join - df_comparison = cartestian_block(df, df.columns, spark=spark)"
   ]
  },
  {
   "cell_type": "markdown",
   "metadata": {},
   "source": [
    "## Step 3:  Compute Fellegi Sunter comparison vectors from the table of comparisons"
   ]
  },
  {
   "cell_type": "code",
   "execution_count": 7,
   "metadata": {},
   "outputs": [
    {
     "name": "stdout",
     "output_type": "stream",
     "text": [
      "+-----------+-----------+------------+------------+---------+---------+----------+----------+------+---------+--------------------+-------------------+-------+-------+-------+-------+-------+\n",
      "|unique_id_l|unique_id_r|first_name_l|first_name_r|surname_l|surname_r|     dob_l|     dob_r|city_l|   city_r|             email_l|            email_r|gamma_0|gamma_1|gamma_2|gamma_3|gamma_4|\n",
      "+-----------+-----------+------------+------------+---------+---------+----------+----------+------+---------+--------------------+-------------------+-------+-------+-------+-------+-------+\n",
      "|          0|          3|      Julia |      Julia |     null|   Taylor|2015-10-29|2015-10-29|London|     null| hannah88@powers.com| hannah88opowersc@m|      2|     -1|      1|     -1|      0|\n",
      "|          0|          1|      Julia |      Julia |     null|   Taylor|2015-10-29|2015-07-31|London|   London| hannah88@powers.com|hannah88@powers.com|      2|     -1|      0|      1|      1|\n",
      "|          5|        637|       Noah |       Noah |   Watson|   Gibson|2008-03-23|1987-07-20|Bolton|   London|matthew78@ballard...|  avazquec@bnks.zom|      2|      0|      0|      0|      0|\n",
      "|          5|        634|       Noah |       Noah |   Watson|   Gibson|2008-03-23|1987-08-21|Bolton|   London|matthew78@ballard...| avazquez@banks.com|      2|      0|      0|      0|      0|\n",
      "|          5|        100|       Noah |       Noah |   Watson|     null|2008-03-23|1983-07-20|Bolton|Birmingha|matthew78@ballard...|               null|      2|     -1|      0|      0|     -1|\n",
      "+-----------+-----------+------------+------------+---------+---------+----------+----------+------+---------+--------------------+-------------------+-------+-------+-------+-------+-------+\n",
      "only showing top 5 rows\n",
      "\n"
     ]
    }
   ],
   "source": [
    "from sparklink.gammas import add_gammas\n",
    "\n",
    "gamma_settings = {\n",
    "    \"first_name\": {\n",
    "        \"levels\": 3\n",
    "    },\n",
    "    \"surname\": {\n",
    "        \"levels\": 3\n",
    "    },\n",
    "    \"dob\": {\n",
    "        \"levels\": 2\n",
    "    },\n",
    "    \"city\": {\n",
    "        \"levels\": 2\n",
    "    },\n",
    "    \"email\": {\n",
    "        \"levels\": 2\n",
    "    }\n",
    "}\n",
    "\n",
    "\n",
    "df_gammas = add_gammas(df_comparison, gamma_settings, spark, include_orig_cols = True)\n",
    "df_gammas.persist()\n",
    "df_gammas.show(5)"
   ]
  },
  {
   "cell_type": "markdown",
   "metadata": {},
   "source": [
    "## Step 4:  Set initial values for parameters of Fellegi Sunter model (the m and u probabilities)"
   ]
  },
  {
   "cell_type": "code",
   "execution_count": 8,
   "metadata": {},
   "outputs": [],
   "source": [
    "from sparklink.params import Params \n",
    "params = Params(gamma_settings, starting_lambda=0.5)"
   ]
  },
  {
   "cell_type": "code",
   "execution_count": 9,
   "metadata": {},
   "outputs": [
    {
     "data": {
      "text/plain": [
       "λ (proportion of matches) = 0.5\n",
       "------------------------------------\n",
       "gamma_0: Comparison of first_name\n",
       "\n",
       "Probability distribution of gamma values amongst matches:\n",
       "    value 0: 0.100000 (level represents lowest category of string similarity)\n",
       "    value 1: 0.200000 \n",
       "    value 2: 0.700000 (level represents highest category of string similarity)\n",
       "\n",
       "Probability distribution of gamma values amongst non-matches:\n",
       "    value 0: 0.700000 (level represents lowest category of string similarity)\n",
       "    value 1: 0.200000 \n",
       "    value 2: 0.100000 (level represents highest category of string similarity)\n",
       "------------------------------------\n",
       "gamma_1: Comparison of surname\n",
       "\n",
       "Probability distribution of gamma values amongst matches:\n",
       "    value 0: 0.100000 (level represents lowest category of string similarity)\n",
       "    value 1: 0.200000 \n",
       "    value 2: 0.700000 (level represents highest category of string similarity)\n",
       "\n",
       "Probability distribution of gamma values amongst non-matches:\n",
       "    value 0: 0.700000 (level represents lowest category of string similarity)\n",
       "    value 1: 0.200000 \n",
       "    value 2: 0.100000 (level represents highest category of string similarity)\n",
       "------------------------------------\n",
       "gamma_2: Comparison of dob\n",
       "\n",
       "Probability distribution of gamma values amongst matches:\n",
       "    value 0: 0.100000 (level represents lowest category of string similarity)\n",
       "    value 1: 0.900000 (level represents highest category of string similarity)\n",
       "\n",
       "Probability distribution of gamma values amongst non-matches:\n",
       "    value 0: 0.900000 (level represents lowest category of string similarity)\n",
       "    value 1: 0.100000 (level represents highest category of string similarity)\n",
       "------------------------------------\n",
       "gamma_3: Comparison of city\n",
       "\n",
       "Probability distribution of gamma values amongst matches:\n",
       "    value 0: 0.100000 (level represents lowest category of string similarity)\n",
       "    value 1: 0.900000 (level represents highest category of string similarity)\n",
       "\n",
       "Probability distribution of gamma values amongst non-matches:\n",
       "    value 0: 0.900000 (level represents lowest category of string similarity)\n",
       "    value 1: 0.100000 (level represents highest category of string similarity)\n",
       "------------------------------------\n",
       "gamma_4: Comparison of email\n",
       "\n",
       "Probability distribution of gamma values amongst matches:\n",
       "    value 0: 0.100000 (level represents lowest category of string similarity)\n",
       "    value 1: 0.900000 (level represents highest category of string similarity)\n",
       "\n",
       "Probability distribution of gamma values amongst non-matches:\n",
       "    value 0: 0.900000 (level represents lowest category of string similarity)\n",
       "    value 1: 0.100000 (level represents highest category of string similarity)"
      ]
     },
     "execution_count": 9,
     "metadata": {},
     "output_type": "execute_result"
    }
   ],
   "source": [
    "#  Note that the params object has a formatted, human-readable __repr__ representation when you print it\n",
    "params"
   ]
  },
  {
   "cell_type": "code",
   "execution_count": 10,
   "metadata": {},
   "outputs": [
    {
     "data": {
      "application/vnd.vegalite.v3+json": {
       "$schema": "https://vega.github.io/schema/vega-lite/v3.4.0.json",
       "config": {
        "mark": {
         "tooltip": null
        },
        "title": {
         "anchor": "middle"
        },
        "view": {
         "height": 300,
         "width": 400
        }
       },
       "data": {
        "name": "data-08b9f3f0183020dd4187444e9cdffe17"
       },
       "datasets": {
        "data-08b9f3f0183020dd4187444e9cdffe17": [
         {
          "column": "first_name",
          "gamma": "gamma_0",
          "match": 1,
          "probability": 0.1,
          "value": 0,
          "value_of_gamma": "level_0"
         },
         {
          "column": "first_name",
          "gamma": "gamma_0",
          "match": 1,
          "probability": 0.2,
          "value": 1,
          "value_of_gamma": "level_1"
         },
         {
          "column": "first_name",
          "gamma": "gamma_0",
          "match": 1,
          "probability": 0.7,
          "value": 2,
          "value_of_gamma": "level_2"
         },
         {
          "column": "first_name",
          "gamma": "gamma_0",
          "match": 0,
          "probability": 0.7,
          "value": 0,
          "value_of_gamma": "level_0"
         },
         {
          "column": "first_name",
          "gamma": "gamma_0",
          "match": 0,
          "probability": 0.2,
          "value": 1,
          "value_of_gamma": "level_1"
         },
         {
          "column": "first_name",
          "gamma": "gamma_0",
          "match": 0,
          "probability": 0.1,
          "value": 2,
          "value_of_gamma": "level_2"
         },
         {
          "column": "surname",
          "gamma": "gamma_1",
          "match": 1,
          "probability": 0.1,
          "value": 0,
          "value_of_gamma": "level_0"
         },
         {
          "column": "surname",
          "gamma": "gamma_1",
          "match": 1,
          "probability": 0.2,
          "value": 1,
          "value_of_gamma": "level_1"
         },
         {
          "column": "surname",
          "gamma": "gamma_1",
          "match": 1,
          "probability": 0.7,
          "value": 2,
          "value_of_gamma": "level_2"
         },
         {
          "column": "surname",
          "gamma": "gamma_1",
          "match": 0,
          "probability": 0.7,
          "value": 0,
          "value_of_gamma": "level_0"
         },
         {
          "column": "surname",
          "gamma": "gamma_1",
          "match": 0,
          "probability": 0.2,
          "value": 1,
          "value_of_gamma": "level_1"
         },
         {
          "column": "surname",
          "gamma": "gamma_1",
          "match": 0,
          "probability": 0.1,
          "value": 2,
          "value_of_gamma": "level_2"
         },
         {
          "column": "dob",
          "gamma": "gamma_2",
          "match": 1,
          "probability": 0.1,
          "value": 0,
          "value_of_gamma": "level_0"
         },
         {
          "column": "dob",
          "gamma": "gamma_2",
          "match": 1,
          "probability": 0.9,
          "value": 1,
          "value_of_gamma": "level_1"
         },
         {
          "column": "dob",
          "gamma": "gamma_2",
          "match": 0,
          "probability": 0.9,
          "value": 0,
          "value_of_gamma": "level_0"
         },
         {
          "column": "dob",
          "gamma": "gamma_2",
          "match": 0,
          "probability": 0.1,
          "value": 1,
          "value_of_gamma": "level_1"
         },
         {
          "column": "city",
          "gamma": "gamma_3",
          "match": 1,
          "probability": 0.1,
          "value": 0,
          "value_of_gamma": "level_0"
         },
         {
          "column": "city",
          "gamma": "gamma_3",
          "match": 1,
          "probability": 0.9,
          "value": 1,
          "value_of_gamma": "level_1"
         },
         {
          "column": "city",
          "gamma": "gamma_3",
          "match": 0,
          "probability": 0.9,
          "value": 0,
          "value_of_gamma": "level_0"
         },
         {
          "column": "city",
          "gamma": "gamma_3",
          "match": 0,
          "probability": 0.1,
          "value": 1,
          "value_of_gamma": "level_1"
         },
         {
          "column": "email",
          "gamma": "gamma_4",
          "match": 1,
          "probability": 0.1,
          "value": 0,
          "value_of_gamma": "level_0"
         },
         {
          "column": "email",
          "gamma": "gamma_4",
          "match": 1,
          "probability": 0.9,
          "value": 1,
          "value_of_gamma": "level_1"
         },
         {
          "column": "email",
          "gamma": "gamma_4",
          "match": 0,
          "probability": 0.9,
          "value": 0,
          "value_of_gamma": "level_0"
         },
         {
          "column": "email",
          "gamma": "gamma_4",
          "match": 0,
          "probability": 0.1,
          "value": 1,
          "value_of_gamma": "level_1"
         }
        ]
       },
       "hconcat": [
        {
         "encoding": {
          "color": {
           "field": "match",
           "type": "nominal"
          },
          "row": {
           "field": "column",
           "sort": {
            "field": "gamma"
           },
           "type": "nominal"
          },
          "tooltip": [
           {
            "field": "column",
            "type": "nominal"
           },
           {
            "field": "probability",
            "format": ".4f",
            "type": "quantitative"
           },
           {
            "field": "value",
            "type": "ordinal"
           }
          ],
          "x": {
           "field": "probability",
           "type": "quantitative"
          },
          "y": {
           "axis": {
            "title": "𝛾 value"
           },
           "field": "value",
           "type": "nominal"
          }
         },
         "mark": "bar",
         "resolve": {
          "scale": {
           "y": "independent"
          }
         },
         "transform": [
          {
           "filter": "(datum.match === 0)"
          }
         ],
         "width": 150
        },
        {
         "encoding": {
          "color": {
           "field": "match",
           "type": "nominal"
          },
          "row": {
           "field": "column",
           "sort": {
            "field": "gamma"
           },
           "type": "nominal"
          },
          "tooltip": [
           {
            "field": "column",
            "type": "nominal"
           },
           {
            "field": "probability",
            "format": ".4f",
            "type": "quantitative"
           },
           {
            "field": "value",
            "type": "ordinal"
           }
          ],
          "x": {
           "field": "probability",
           "type": "quantitative"
          },
          "y": {
           "axis": {
            "title": "𝛾 value"
           },
           "field": "value",
           "type": "nominal"
          }
         },
         "mark": "bar",
         "resolve": {
          "scale": {
           "y": "independent"
          }
         },
         "transform": [
          {
           "filter": "(datum.match === 1)"
          }
         ],
         "width": 150
        }
       ],
       "title": "Probability distribution of comparison vector values, m=0 and m=1"
      },
      "image/png": "[encoded data removed]",
      "text/plain": [
       "<VegaLite 3 object>\n",
       "\n",
       "If you see this message, it means the renderer has not been properly enabled\n",
       "for the frontend that you are using. For more information, see\n",
       "https://altair-viz.github.io/user_guide/troubleshooting.html\n"
      ]
     },
     "execution_count": 10,
     "metadata": {},
     "output_type": "execute_result"
    }
   ],
   "source": [
    "# Note there are various graphical representations of the information contained in parameters, such as:\n",
    "params.probability_distribution_chart()"
   ]
  },
  {
   "cell_type": "markdown",
   "metadata": {},
   "source": [
    "## Step 5:  Repeatedly apply expectation and maximisation step to improve parameter estimates"
   ]
  },
  {
   "cell_type": "code",
   "execution_count": 11,
   "metadata": {},
   "outputs": [
    {
     "name": "stderr",
     "output_type": "stream",
     "text": [
      "INFO:sparklink.expectation_step:\n",
      "Log likelihood for iteration 0:  -22022.170996069908\n",
      "\n",
      "INFO:sparklink.expectation_step:\n",
      "Log likelihood for iteration 1:  -15746.24022948742\n",
      "\n",
      "INFO:sparklink.expectation_step:\n",
      "Log likelihood for iteration 2:  -15521.784611105919\n",
      "\n",
      "INFO:sparklink.expectation_step:\n",
      "Log likelihood for iteration 3:  -15474.522659540176\n",
      "\n",
      "INFO:sparklink.expectation_step:\n",
      "Log likelihood for iteration 4:  -15458.776454925537\n",
      "\n",
      "INFO:sparklink.expectation_step:\n",
      "Log likelihood for iteration 5:  -15450.697553277016\n",
      "\n",
      "INFO:sparklink.expectation_step:\n",
      "Log likelihood for iteration 6:  -15445.675500750542\n",
      "\n",
      "INFO:sparklink.expectation_step:\n",
      "Log likelihood for iteration 7:  -15442.159262657166\n",
      "\n",
      "INFO:sparklink.expectation_step:\n",
      "Log likelihood for iteration 8:  -15439.608337163925\n",
      "\n",
      "INFO:sparklink.expectation_step:\n",
      "Log likelihood for iteration 9:  -15437.720843076706\n",
      "\n",
      "INFO:sparklink.expectation_step:\n",
      "Log likelihood for iteration 10:  -15436.233827471733\n",
      "\n",
      "INFO:sparklink.expectation_step:\n",
      "Log likelihood for iteration 11:  -15435.070166945457\n",
      "\n",
      "INFO:sparklink.expectation_step:\n",
      "Log likelihood for iteration 12:  -15434.158876776695\n",
      "\n",
      "INFO:sparklink.expectation_step:\n",
      "Log likelihood for iteration 13:  -15433.38587152958\n",
      "\n",
      "INFO:sparklink.expectation_step:\n",
      "Log likelihood for iteration 14:  -15432.771425366402\n",
      "\n",
      "INFO:sparklink.expectation_step:\n",
      "Log likelihood for iteration 15:  -15432.236063599586\n",
      "\n",
      "INFO:sparklink.expectation_step:\n",
      "Log likelihood for iteration 16:  -15431.79319691658\n",
      "\n",
      "INFO:sparklink.expectation_step:\n",
      "Log likelihood for iteration 17:  -15431.449283838272\n",
      "\n",
      "INFO:sparklink.expectation_step:\n",
      "Log likelihood for iteration 18:  -15431.111328125\n",
      "\n",
      "INFO:sparklink.expectation_step:\n",
      "Log likelihood for iteration 19:  -15430.83970117569\n",
      "\n",
      "INFO:sparklink.expectation_step:\n",
      "Log likelihood for iteration 20:  -15430.593148231506\n",
      "\n"
     ]
    }
   ],
   "source": [
    "from sparklink.iterate import iterate\n",
    "logging.getLogger(\"sparklink\").setLevel(logging.INFO)\n",
    "df_e = iterate(df_gammas, spark, params, num_iterations=20, compute_ll=True)"
   ]
  },
  {
   "cell_type": "markdown",
   "metadata": {},
   "source": [
    "## Step 6: Inspect results \n",
    "\n"
   ]
  },
  {
   "cell_type": "code",
   "execution_count": 12,
   "metadata": {},
   "outputs": [
    {
     "data": {
      "text/html": [
       "<div>\n",
       "<style scoped>\n",
       "    .dataframe tbody tr th:only-of-type {\n",
       "        vertical-align: middle;\n",
       "    }\n",
       "\n",
       "    .dataframe tbody tr th {\n",
       "        vertical-align: top;\n",
       "    }\n",
       "\n",
       "    .dataframe thead th {\n",
       "        text-align: right;\n",
       "    }\n",
       "</style>\n",
       "<table border=\"1\" class=\"dataframe\">\n",
       "  <thead>\n",
       "    <tr style=\"text-align: right;\">\n",
       "      <th></th>\n",
       "      <th>unique_id_l</th>\n",
       "      <th>unique_id_r</th>\n",
       "      <th>first_name_l</th>\n",
       "      <th>first_name_r</th>\n",
       "      <th>surname_l</th>\n",
       "      <th>surname_r</th>\n",
       "      <th>dob_l</th>\n",
       "      <th>dob_r</th>\n",
       "      <th>city_l</th>\n",
       "      <th>city_r</th>\n",
       "      <th>email_l</th>\n",
       "      <th>email_r</th>\n",
       "      <th>gamma_0</th>\n",
       "      <th>gamma_1</th>\n",
       "      <th>gamma_2</th>\n",
       "      <th>gamma_3</th>\n",
       "      <th>gamma_4</th>\n",
       "      <th>prob_gamma_0_non_match</th>\n",
       "      <th>prob_gamma_0_match</th>\n",
       "      <th>prob_gamma_1_non_match</th>\n",
       "      <th>prob_gamma_1_match</th>\n",
       "      <th>prob_gamma_2_non_match</th>\n",
       "      <th>prob_gamma_2_match</th>\n",
       "      <th>prob_gamma_3_non_match</th>\n",
       "      <th>prob_gamma_3_match</th>\n",
       "      <th>prob_gamma_4_non_match</th>\n",
       "      <th>prob_gamma_4_match</th>\n",
       "      <th>match_probability</th>\n",
       "    </tr>\n",
       "  </thead>\n",
       "  <tbody>\n",
       "    <tr>\n",
       "      <td>758</td>\n",
       "      <td>71</td>\n",
       "      <td>72</td>\n",
       "      <td>Isabella</td>\n",
       "      <td>Isabella</td>\n",
       "      <td>Cooper</td>\n",
       "      <td>Cooper</td>\n",
       "      <td>1987-11-18</td>\n",
       "      <td>1987-11-18</td>\n",
       "      <td>Stockton-on-Tees</td>\n",
       "      <td>Stockton-on-Tees</td>\n",
       "      <td>imoore@turner-gonzalez.info</td>\n",
       "      <td>imoore@turner-gonzalez.info</td>\n",
       "      <td>2</td>\n",
       "      <td>2</td>\n",
       "      <td>1</td>\n",
       "      <td>1</td>\n",
       "      <td>1</td>\n",
       "      <td>0.48735401034355164000</td>\n",
       "      <td>0.47899198532104490</td>\n",
       "      <td>0.6847820281982422000</td>\n",
       "      <td>0.49587100744247437</td>\n",
       "      <td>0.011895000003278255</td>\n",
       "      <td>0.79593002796173100</td>\n",
       "      <td>0.14225199818611145</td>\n",
       "      <td>0.67918002605438230</td>\n",
       "      <td>0.011711999773979187</td>\n",
       "      <td>0.68514299392700200</td>\n",
       "      <td>0.999886</td>\n",
       "    </tr>\n",
       "    <tr>\n",
       "      <td>372</td>\n",
       "      <td>142</td>\n",
       "      <td>749</td>\n",
       "      <td>Harry</td>\n",
       "      <td>Michael</td>\n",
       "      <td>Taylor</td>\n",
       "      <td>Taylor</td>\n",
       "      <td>2017-11-24</td>\n",
       "      <td>1993-06-23</td>\n",
       "      <td>London</td>\n",
       "      <td>Brighton</td>\n",
       "      <td>coltonray@lee.com</td>\n",
       "      <td>rhmndawilliams@gnzalez-scott.coo</td>\n",
       "      <td>0</td>\n",
       "      <td>2</td>\n",
       "      <td>0</td>\n",
       "      <td>0</td>\n",
       "      <td>0</td>\n",
       "      <td>0.51226699352264400000</td>\n",
       "      <td>0.43492001295089720</td>\n",
       "      <td>0.6847820281982422000</td>\n",
       "      <td>0.49587100744247437</td>\n",
       "      <td>0.988104999065399200</td>\n",
       "      <td>0.20407000184059143</td>\n",
       "      <td>0.85774797201156620</td>\n",
       "      <td>0.32082000374794006</td>\n",
       "      <td>0.988287985324859600</td>\n",
       "      <td>0.31485700607299805</td>\n",
       "      <td>0.009902</td>\n",
       "    </tr>\n",
       "    <tr>\n",
       "      <td>2346</td>\n",
       "      <td>681</td>\n",
       "      <td>721</td>\n",
       "      <td>Sienna</td>\n",
       "      <td>Sienna</td>\n",
       "      <td>Daies</td>\n",
       "      <td>Taylor</td>\n",
       "      <td>2016-01-10</td>\n",
       "      <td>2005-06-04</td>\n",
       "      <td>Plymouth</td>\n",
       "      <td>Liverpool</td>\n",
       "      <td>heather69@martin-bradford.biz</td>\n",
       "      <td>javierfrederick@kelly.org</td>\n",
       "      <td>2</td>\n",
       "      <td>0</td>\n",
       "      <td>0</td>\n",
       "      <td>0</td>\n",
       "      <td>0</td>\n",
       "      <td>0.48735401034355164000</td>\n",
       "      <td>0.47899198532104490</td>\n",
       "      <td>0.3137150108814239500</td>\n",
       "      <td>0.43201300501823425</td>\n",
       "      <td>0.988104999065399200</td>\n",
       "      <td>0.20407000184059143</td>\n",
       "      <td>0.85774797201156620</td>\n",
       "      <td>0.32082000374794006</td>\n",
       "      <td>0.988287985324859600</td>\n",
       "      <td>0.31485700607299805</td>\n",
       "      <td>0.021550</td>\n",
       "    </tr>\n",
       "    <tr>\n",
       "      <td>895</td>\n",
       "      <td>508</td>\n",
       "      <td>629</td>\n",
       "      <td>Alfie</td>\n",
       "      <td>Alfie</td>\n",
       "      <td>None</td>\n",
       "      <td>None</td>\n",
       "      <td>2005-06-20</td>\n",
       "      <td>2015-02-05</td>\n",
       "      <td>London</td>\n",
       "      <td>London</td>\n",
       "      <td>michellejackson@smith-trujillo.com</td>\n",
       "      <td>garciarichard@brady.com</td>\n",
       "      <td>2</td>\n",
       "      <td>-1</td>\n",
       "      <td>0</td>\n",
       "      <td>1</td>\n",
       "      <td>0</td>\n",
       "      <td>0.48735401034355164000</td>\n",
       "      <td>0.47899198532104490</td>\n",
       "      <td>1.0000000000000000000</td>\n",
       "      <td>1.00000000000000000</td>\n",
       "      <td>0.988104999065399200</td>\n",
       "      <td>0.20407000184059143</td>\n",
       "      <td>0.14225199818611145</td>\n",
       "      <td>0.67918002605438230</td>\n",
       "      <td>0.988287985324859600</td>\n",
       "      <td>0.31485700607299805</td>\n",
       "      <td>0.169516</td>\n",
       "    </tr>\n",
       "    <tr>\n",
       "      <td>1293</td>\n",
       "      <td>781</td>\n",
       "      <td>783</td>\n",
       "      <td>Moh medm</td>\n",
       "      <td>Mohammed</td>\n",
       "      <td>Patel</td>\n",
       "      <td>Patel</td>\n",
       "      <td>1989-03-19</td>\n",
       "      <td>1989-05-06</td>\n",
       "      <td>Sheffield</td>\n",
       "      <td>Sheffield</td>\n",
       "      <td>he3ther1@cabrera-reed.com</td>\n",
       "      <td>heather31@cabrera-reed.com</td>\n",
       "      <td>0</td>\n",
       "      <td>2</td>\n",
       "      <td>0</td>\n",
       "      <td>1</td>\n",
       "      <td>0</td>\n",
       "      <td>0.51226699352264400000</td>\n",
       "      <td>0.43492001295089720</td>\n",
       "      <td>0.6847820281982422000</td>\n",
       "      <td>0.49587100744247437</td>\n",
       "      <td>0.988104999065399200</td>\n",
       "      <td>0.20407000184059143</td>\n",
       "      <td>0.14225199818611145</td>\n",
       "      <td>0.67918002605438230</td>\n",
       "      <td>0.988287985324859600</td>\n",
       "      <td>0.31485700607299805</td>\n",
       "      <td>0.113237</td>\n",
       "    </tr>\n",
       "  </tbody>\n",
       "</table>\n",
       "</div>"
      ],
      "text/plain": [
       "      unique_id_l  unique_id_r first_name_l first_name_r surname_l surname_r  \\\n",
       "758            71           72    Isabella     Isabella     Cooper    Cooper   \n",
       "372           142          749       Harry      Michael     Taylor    Taylor   \n",
       "2346          681          721      Sienna       Sienna      Daies    Taylor   \n",
       "895           508          629       Alfie        Alfie       None      None   \n",
       "1293          781          783     Moh medm    Mohammed      Patel     Patel   \n",
       "\n",
       "           dob_l       dob_r            city_l            city_r  \\\n",
       "758   1987-11-18  1987-11-18  Stockton-on-Tees  Stockton-on-Tees   \n",
       "372   2017-11-24  1993-06-23            London          Brighton   \n",
       "2346  2016-01-10  2005-06-04          Plymouth         Liverpool   \n",
       "895   2005-06-20  2015-02-05            London            London   \n",
       "1293  1989-03-19  1989-05-06         Sheffield         Sheffield   \n",
       "\n",
       "                                 email_l                           email_r  \\\n",
       "758          imoore@turner-gonzalez.info       imoore@turner-gonzalez.info   \n",
       "372                    coltonray@lee.com  rhmndawilliams@gnzalez-scott.coo   \n",
       "2346       heather69@martin-bradford.biz         javierfrederick@kelly.org   \n",
       "895   michellejackson@smith-trujillo.com           garciarichard@brady.com   \n",
       "1293           he3ther1@cabrera-reed.com        heather31@cabrera-reed.com   \n",
       "\n",
       "      gamma_0  gamma_1  gamma_2  gamma_3  gamma_4  prob_gamma_0_non_match  \\\n",
       "758         2        2        1        1        1  0.48735401034355164000   \n",
       "372         0        2        0        0        0  0.51226699352264400000   \n",
       "2346        2        0        0        0        0  0.48735401034355164000   \n",
       "895         2       -1        0        1        0  0.48735401034355164000   \n",
       "1293        0        2        0        1        0  0.51226699352264400000   \n",
       "\n",
       "       prob_gamma_0_match prob_gamma_1_non_match   prob_gamma_1_match  \\\n",
       "758   0.47899198532104490  0.6847820281982422000  0.49587100744247437   \n",
       "372   0.43492001295089720  0.6847820281982422000  0.49587100744247437   \n",
       "2346  0.47899198532104490  0.3137150108814239500  0.43201300501823425   \n",
       "895   0.47899198532104490  1.0000000000000000000  1.00000000000000000   \n",
       "1293  0.43492001295089720  0.6847820281982422000  0.49587100744247437   \n",
       "\n",
       "     prob_gamma_2_non_match   prob_gamma_2_match prob_gamma_3_non_match  \\\n",
       "758    0.011895000003278255  0.79593002796173100    0.14225199818611145   \n",
       "372    0.988104999065399200  0.20407000184059143    0.85774797201156620   \n",
       "2346   0.988104999065399200  0.20407000184059143    0.85774797201156620   \n",
       "895    0.988104999065399200  0.20407000184059143    0.14225199818611145   \n",
       "1293   0.988104999065399200  0.20407000184059143    0.14225199818611145   \n",
       "\n",
       "       prob_gamma_3_match prob_gamma_4_non_match   prob_gamma_4_match  \\\n",
       "758   0.67918002605438230   0.011711999773979187  0.68514299392700200   \n",
       "372   0.32082000374794006   0.988287985324859600  0.31485700607299805   \n",
       "2346  0.32082000374794006   0.988287985324859600  0.31485700607299805   \n",
       "895   0.67918002605438230   0.988287985324859600  0.31485700607299805   \n",
       "1293  0.67918002605438230   0.988287985324859600  0.31485700607299805   \n",
       "\n",
       "     match_probability  \n",
       "758           0.999886  \n",
       "372           0.009902  \n",
       "2346          0.021550  \n",
       "895           0.169516  \n",
       "1293          0.113237  "
      ]
     },
     "execution_count": 12,
     "metadata": {},
     "output_type": "execute_result"
    }
   ],
   "source": [
    "# Inspect main dataframe that contains the match scores\n",
    "df_e.toPandas().sample(5)"
   ]
  },
  {
   "cell_type": "markdown",
   "metadata": {},
   "source": [
    "Note that the `params` object is updated during the process of iteration.\n",
    "\n",
    "This means that if we inspect it again, we will see a new set of parameters - those that result from the application of the expectation maximiastion algorithm"
   ]
  },
  {
   "cell_type": "code",
   "execution_count": 13,
   "metadata": {},
   "outputs": [
    {
     "data": {
      "application/vnd.vegalite.v3+json": {
       "$schema": "https://vega.github.io/schema/vega-lite/v3.4.0.json",
       "config": {
        "mark": {
         "tooltip": null
        },
        "title": {
         "anchor": "middle"
        },
        "view": {
         "height": 300,
         "width": 400
        }
       },
       "data": {
        "name": "data-f4d175dbc5d6e29f5e53b085958a2f58"
       },
       "datasets": {
        "data-f4d175dbc5d6e29f5e53b085958a2f58": [
         {
          "column": "first_name",
          "gamma": "gamma_0",
          "match": 1,
          "probability": 0.4349200129508972,
          "value": 0,
          "value_of_gamma": "level_0"
         },
         {
          "column": "first_name",
          "gamma": "gamma_0",
          "match": 1,
          "probability": 0.08608800172805786,
          "value": 1,
          "value_of_gamma": "level_1"
         },
         {
          "column": "first_name",
          "gamma": "gamma_0",
          "match": 1,
          "probability": 0.4789919853210449,
          "value": 2,
          "value_of_gamma": "level_2"
         },
         {
          "column": "first_name",
          "gamma": "gamma_0",
          "match": 0,
          "probability": 0.512266993522644,
          "value": 0,
          "value_of_gamma": "level_0"
         },
         {
          "column": "first_name",
          "gamma": "gamma_0",
          "match": 0,
          "probability": 0.00037799999699927866,
          "value": 1,
          "value_of_gamma": "level_1"
         },
         {
          "column": "first_name",
          "gamma": "gamma_0",
          "match": 0,
          "probability": 0.48735401034355164,
          "value": 2,
          "value_of_gamma": "level_2"
         },
         {
          "column": "surname",
          "gamma": "gamma_1",
          "match": 1,
          "probability": 0.43201300501823425,
          "value": 0,
          "value_of_gamma": "level_0"
         },
         {
          "column": "surname",
          "gamma": "gamma_1",
          "match": 1,
          "probability": 0.07211600244045258,
          "value": 1,
          "value_of_gamma": "level_1"
         },
         {
          "column": "surname",
          "gamma": "gamma_1",
          "match": 1,
          "probability": 0.49587100744247437,
          "value": 2,
          "value_of_gamma": "level_2"
         },
         {
          "column": "surname",
          "gamma": "gamma_1",
          "match": 0,
          "probability": 0.31371501088142395,
          "value": 0,
          "value_of_gamma": "level_0"
         },
         {
          "column": "surname",
          "gamma": "gamma_1",
          "match": 0,
          "probability": 0.0015040000434964895,
          "value": 1,
          "value_of_gamma": "level_1"
         },
         {
          "column": "surname",
          "gamma": "gamma_1",
          "match": 0,
          "probability": 0.6847820281982422,
          "value": 2,
          "value_of_gamma": "level_2"
         },
         {
          "column": "dob",
          "gamma": "gamma_2",
          "match": 1,
          "probability": 0.20407000184059143,
          "value": 0,
          "value_of_gamma": "level_0"
         },
         {
          "column": "dob",
          "gamma": "gamma_2",
          "match": 1,
          "probability": 0.795930027961731,
          "value": 1,
          "value_of_gamma": "level_1"
         },
         {
          "column": "dob",
          "gamma": "gamma_2",
          "match": 0,
          "probability": 0.9881049990653992,
          "value": 0,
          "value_of_gamma": "level_0"
         },
         {
          "column": "dob",
          "gamma": "gamma_2",
          "match": 0,
          "probability": 0.011895000003278255,
          "value": 1,
          "value_of_gamma": "level_1"
         },
         {
          "column": "city",
          "gamma": "gamma_3",
          "match": 1,
          "probability": 0.32082000374794006,
          "value": 0,
          "value_of_gamma": "level_0"
         },
         {
          "column": "city",
          "gamma": "gamma_3",
          "match": 1,
          "probability": 0.6791800260543823,
          "value": 1,
          "value_of_gamma": "level_1"
         },
         {
          "column": "city",
          "gamma": "gamma_3",
          "match": 0,
          "probability": 0.8577479720115662,
          "value": 0,
          "value_of_gamma": "level_0"
         },
         {
          "column": "city",
          "gamma": "gamma_3",
          "match": 0,
          "probability": 0.14225199818611145,
          "value": 1,
          "value_of_gamma": "level_1"
         },
         {
          "column": "email",
          "gamma": "gamma_4",
          "match": 1,
          "probability": 0.31485700607299805,
          "value": 0,
          "value_of_gamma": "level_0"
         },
         {
          "column": "email",
          "gamma": "gamma_4",
          "match": 1,
          "probability": 0.685142993927002,
          "value": 1,
          "value_of_gamma": "level_1"
         },
         {
          "column": "email",
          "gamma": "gamma_4",
          "match": 0,
          "probability": 0.9882879853248596,
          "value": 0,
          "value_of_gamma": "level_0"
         },
         {
          "column": "email",
          "gamma": "gamma_4",
          "match": 0,
          "probability": 0.011711999773979187,
          "value": 1,
          "value_of_gamma": "level_1"
         }
        ]
       },
       "hconcat": [
        {
         "encoding": {
          "color": {
           "field": "match",
           "type": "nominal"
          },
          "row": {
           "field": "column",
           "sort": {
            "field": "gamma"
           },
           "type": "nominal"
          },
          "tooltip": [
           {
            "field": "column",
            "type": "nominal"
           },
           {
            "field": "probability",
            "format": ".4f",
            "type": "quantitative"
           },
           {
            "field": "value",
            "type": "ordinal"
           }
          ],
          "x": {
           "field": "probability",
           "type": "quantitative"
          },
          "y": {
           "axis": {
            "title": "𝛾 value"
           },
           "field": "value",
           "type": "nominal"
          }
         },
         "mark": "bar",
         "resolve": {
          "scale": {
           "y": "independent"
          }
         },
         "transform": [
          {
           "filter": "(datum.match === 0)"
          }
         ],
         "width": 150
        },
        {
         "encoding": {
          "color": {
           "field": "match",
           "type": "nominal"
          },
          "row": {
           "field": "column",
           "sort": {
            "field": "gamma"
           },
           "type": "nominal"
          },
          "tooltip": [
           {
            "field": "column",
            "type": "nominal"
           },
           {
            "field": "probability",
            "format": ".4f",
            "type": "quantitative"
           },
           {
            "field": "value",
            "type": "ordinal"
           }
          ],
          "x": {
           "field": "probability",
           "type": "quantitative"
          },
          "y": {
           "axis": {
            "title": "𝛾 value"
           },
           "field": "value",
           "type": "nominal"
          }
         },
         "mark": "bar",
         "resolve": {
          "scale": {
           "y": "independent"
          }
         },
         "transform": [
          {
           "filter": "(datum.match === 1)"
          }
         ],
         "width": 150
        }
       ],
       "title": "Probability distribution of comparison vector values, m=0 and m=1"
      },
      "image/png": "[encoded data removed]",
      "text/plain": [
       "<VegaLite 3 object>\n",
       "\n",
       "If you see this message, it means the renderer has not been properly enabled\n",
       "for the frontend that you are using. For more information, see\n",
       "https://altair-viz.github.io/user_guide/troubleshooting.html\n"
      ]
     },
     "execution_count": 13,
     "metadata": {},
     "output_type": "execute_result"
    }
   ],
   "source": [
    "params.probability_distribution_chart()"
   ]
  },
  {
   "cell_type": "markdown",
   "metadata": {},
   "source": [
    "An alternative representation of the parameters displays them in terms of the effect different values in the comparison vectors have on the match probability:"
   ]
  },
  {
   "cell_type": "code",
   "execution_count": 14,
   "metadata": {},
   "outputs": [
    {
     "data": {
      "application/vnd.vegalite.v3+json": {
       "$schema": "https://vega.github.io/schema/vega-lite/v3.4.0.json",
       "config": {
        "mark": {
         "tooltip": null
        },
        "title": {
         "anchor": "middle"
        },
        "view": {
         "height": 300,
         "width": 400
        }
       },
       "data": {
        "name": "data-ceeb28f19ff3a71b01daca34286ca0cb"
       },
       "datasets": {
        "data-ceeb28f19ff3a71b01daca34286ca0cb": [
         {
          "adjustment": 0.45917016384139586,
          "col_name": "first_name",
          "level": "level_0",
          "m": 0.4349200129508972,
          "normalised_adjustment": -0.04082983615860414,
          "u": 0.512266993522644
         },
         {
          "adjustment": 0.995628339584832,
          "col_name": "first_name",
          "level": "level_1",
          "m": 0.08608800172805786,
          "normalised_adjustment": 0.495628339584832,
          "u": 0.00037799999699927866
         },
         {
          "adjustment": 0.49567337937963113,
          "col_name": "first_name",
          "level": "level_2",
          "m": 0.4789919853210449,
          "normalised_adjustment": -0.004326620620368871,
          "u": 0.48735401034355164
         },
         {
          "adjustment": 0.5793171180474518,
          "col_name": "surname",
          "level": "level_0",
          "m": 0.43201300501823425,
          "normalised_adjustment": 0.07931711804745178,
          "u": 0.31371501088142395
         },
         {
          "adjustment": 0.9795707689112834,
          "col_name": "surname",
          "level": "level_1",
          "m": 0.07211600244045258,
          "normalised_adjustment": 0.47957076891128336,
          "u": 0.0015040000434964895
         },
         {
          "adjustment": 0.4199972324412609,
          "col_name": "surname",
          "level": "level_2",
          "m": 0.49587100744247437,
          "normalised_adjustment": -0.08000276755873909,
          "u": 0.6847820281982422
         },
         {
          "adjustment": 0.1711745353538775,
          "col_name": "dob",
          "level": "level_0",
          "m": 0.20407000184059143,
          "normalised_adjustment": -0.3288254646461225,
          "u": 0.9881049990653992
         },
         {
          "adjustment": 0.9852752767103008,
          "col_name": "dob",
          "level": "level_1",
          "m": 0.795930027961731,
          "normalised_adjustment": 0.4852752767103008,
          "u": 0.011895000003278255
         },
         {
          "adjustment": 0.2722117097583562,
          "col_name": "city",
          "level": "level_0",
          "m": 0.32082000374794006,
          "normalised_adjustment": -0.22778829024164382,
          "u": 0.8577479720115662
         },
         {
          "adjustment": 0.826824382312536,
          "col_name": "city",
          "level": "level_1",
          "m": 0.6791800260543823,
          "normalised_adjustment": 0.32682438231253597,
          "u": 0.14225199818611145
         },
         {
          "adjustment": 0.24161318053738381,
          "col_name": "email",
          "level": "level_0",
          "m": 0.31485700607299805,
          "normalised_adjustment": -0.2583868194626162,
          "u": 0.9882879853248596
         },
         {
          "adjustment": 0.9831930604216854,
          "col_name": "email",
          "level": "level_1",
          "m": 0.685142993927002,
          "normalised_adjustment": 0.4831930604216854,
          "u": 0.011711999773979187
         }
        ]
       },
       "encoding": {
        "color": {
         "field": "normalised_adjustment",
         "scale": {
          "domain": [
           -0.5,
           -0.4,
           0,
           0.4,
           0.5
          ],
          "range": [
           "red",
           "orange",
           "green",
           "orange",
           "red"
          ]
         },
         "type": "quantitative"
        },
        "row": {
         "field": "col_name",
         "sort": {
          "field": "gamma"
         },
         "type": "nominal"
        },
        "tooltip": [
         {
          "field": "col_name",
          "type": "nominal"
         },
         {
          "field": "normalised_adjustment",
          "type": "quantitative"
         }
        ],
        "x": {
         "axis": {
          "title": "Influence on match probabiity."
         },
         "field": "normalised_adjustment",
         "scale": {
          "domain": [
           -0.5,
           0.5
          ]
         },
         "type": "quantitative"
        },
        "y": {
         "field": "level",
         "type": "nominal"
        }
       },
       "height": 50,
       "mark": "bar",
       "resolve": {
        "scale": {
         "y": "independent"
        }
       },
       "title": "Influence of comparison vector values on match probability"
      },
      "image/png": "[encoded data removed]",
      "text/plain": [
       "<VegaLite 3 object>\n",
       "\n",
       "If you see this message, it means the renderer has not been properly enabled\n",
       "for the frontend that you are using. For more information, see\n",
       "https://altair-viz.github.io/user_guide/troubleshooting.html\n"
      ]
     },
     "execution_count": 14,
     "metadata": {},
     "output_type": "execute_result"
    }
   ],
   "source": [
    "params.adjustment_factor_chart()"
   ]
  },
  {
   "cell_type": "code",
   "execution_count": 15,
   "metadata": {},
   "outputs": [],
   "source": [
    "# If charts aren't displaying correctly in your notebook, you can write them to a file (by default sparklink_charts.html)\n",
    "params.all_charts_write_html_file()"
   ]
  },
  {
   "cell_type": "markdown",
   "metadata": {},
   "source": [
    "You can also generate a report which explains how the match probability was computed for an individual comparison row.  \n",
    "\n",
    "Note that you need to convert the row to a dictionary for this to work"
   ]
  },
  {
   "cell_type": "code",
   "execution_count": 21,
   "metadata": {},
   "outputs": [
    {
     "name": "stdout",
     "output_type": "stream",
     "text": [
      "\n",
      "Initial probability of match (prior) = λ = 0.3979940116405487\n",
      "\n",
      "Comparison of first_name.  Values are:\n",
      "first_name_l: Ethan \n",
      "first_name_r: Isabelle \n",
      "Comparison has 3 levels\n",
      "𝛾 for this comparison = gamma_0 = 0\n",
      "Amongst matches, P(𝛾 = 0.4349200129508972):\n",
      "Amongst non matches, P(𝛾 = 0.512266993522644):\n",
      "Adjustment factor = p1/(p1 + p2) = 0.45917016384139586\n",
      "New probability of match (updated belief): 0.3595047630703848\n",
      "\n",
      "Comparison of surname.  Values are:\n",
      "surname_l: Brown\n",
      "surname_r: Brown\n",
      "Comparison has 3 levels\n",
      "𝛾 for this comparison = gamma_1 = 2\n",
      "Amongst matches, P(𝛾 = 0.49587100744247437):\n",
      "Amongst non matches, P(𝛾 = 0.6847820281982422):\n",
      "Adjustment factor = p1/(p1 + p2) = 0.4199972324412609\n",
      "New probability of match (updated belief): 0.2889890542039875\n",
      "\n",
      "Comparison of dob.  Values are:\n",
      "dob_l: 2010-12-22\n",
      "dob_r: 1979-01-22\n",
      "Comparison has 2 levels\n",
      "𝛾 for this comparison = gamma_2 = 0\n",
      "Amongst matches, P(𝛾 = 0.20407000184059143):\n",
      "Amongst non matches, P(𝛾 = 0.9881049990653992):\n",
      "Adjustment factor = p1/(p1 + p2) = 0.1711745353538775\n",
      "New probability of match (updated belief): 0.07744171996139512\n",
      "\n",
      "Comparison of city.  Values are:\n",
      "city_l: Manchester\n",
      "city_r: Stoke-on-Trent\n",
      "Comparison has 2 levels\n",
      "𝛾 for this comparison = gamma_3 = 0\n",
      "Amongst matches, P(𝛾 = 0.32082000374794006):\n",
      "Amongst non matches, P(𝛾 = 0.8577479720115662):\n",
      "Adjustment factor = p1/(p1 + p2) = 0.2722117097583562\n",
      "New probability of match (updated belief): 0.030440880770495598\n",
      "\n",
      "Comparison of email.  Values are:\n",
      "email_l: petersbrandon@cox.com\n",
      "email_r: josephwatson@smith.com\n",
      "Comparison has 2 levels\n",
      "𝛾 for this comparison = gamma_4 = 0\n",
      "Amongst matches, P(𝛾 = 0.31485700607299805):\n",
      "Amongst non matches, P(𝛾 = 0.9882879853248596):\n",
      "Adjustment factor = p1/(p1 + p2) = 0.24161318053738381\n",
      "New probability of match (updated belief): 0.009903535758468399\n",
      "\n",
      "Final probability of match = 0.009903535758468399\n",
      "\n"
     ]
    }
   ],
   "source": [
    "from sparklink.intuition import intuition_report\n",
    "row_dict = df_e.toPandas().sample(1).to_dict(orient=\"records\")[0]\n",
    "print(intuition_report(row_dict, params))"
   ]
  },
  {
   "cell_type": "markdown",
   "metadata": {},
   "source": [
    "## Step 7: Term frequency adjustments\n",
    "\n",
    "Sparklink enables you to make adjustments for term frequency on any number of columns\n",
    "\n",
    "This enables match probabilities to be adjusted for e.g. the fact John Smith is more prevalent than Robin Linacre"
   ]
  },
  {
   "cell_type": "code",
   "execution_count": 22,
   "metadata": {},
   "outputs": [],
   "source": [
    "from sparklink.term_frequencies import make_adjustment_for_term_frequencies\n",
    "df_e_adj = make_adjustment_for_term_frequencies(df_e, params, [\"first_name\", \"surname\"], retain_adjustment_columns=True, spark=spark)"
   ]
  },
  {
   "cell_type": "code",
   "execution_count": 23,
   "metadata": {},
   "outputs": [
    {
     "data": {
      "text/html": [
       "<div>\n",
       "<style scoped>\n",
       "    .dataframe tbody tr th:only-of-type {\n",
       "        vertical-align: middle;\n",
       "    }\n",
       "\n",
       "    .dataframe tbody tr th {\n",
       "        vertical-align: top;\n",
       "    }\n",
       "\n",
       "    .dataframe thead th {\n",
       "        text-align: right;\n",
       "    }\n",
       "</style>\n",
       "<table border=\"1\" class=\"dataframe\">\n",
       "  <thead>\n",
       "    <tr style=\"text-align: right;\">\n",
       "      <th></th>\n",
       "      <th>match_probability</th>\n",
       "      <th>tf_adjusted_match_prob</th>\n",
       "      <th>unique_id_l</th>\n",
       "      <th>unique_id_r</th>\n",
       "      <th>first_name_l</th>\n",
       "      <th>first_name_r</th>\n",
       "      <th>surname_l</th>\n",
       "      <th>surname_r</th>\n",
       "      <th>dob_l</th>\n",
       "      <th>dob_r</th>\n",
       "      <th>city_l</th>\n",
       "      <th>city_r</th>\n",
       "      <th>email_l</th>\n",
       "      <th>email_r</th>\n",
       "      <th>gamma_0</th>\n",
       "      <th>gamma_1</th>\n",
       "      <th>gamma_2</th>\n",
       "      <th>gamma_3</th>\n",
       "      <th>gamma_4</th>\n",
       "      <th>prob_gamma_0_non_match</th>\n",
       "      <th>prob_gamma_0_match</th>\n",
       "      <th>prob_gamma_1_non_match</th>\n",
       "      <th>prob_gamma_1_match</th>\n",
       "      <th>prob_gamma_2_non_match</th>\n",
       "      <th>prob_gamma_2_match</th>\n",
       "      <th>prob_gamma_3_non_match</th>\n",
       "      <th>prob_gamma_3_match</th>\n",
       "      <th>prob_gamma_4_non_match</th>\n",
       "      <th>prob_gamma_4_match</th>\n",
       "      <th>match_probability</th>\n",
       "      <th>first_name_adj</th>\n",
       "      <th>surname_adj</th>\n",
       "      <th>tf_adjusted_match_prob</th>\n",
       "    </tr>\n",
       "  </thead>\n",
       "  <tbody>\n",
       "    <tr>\n",
       "      <td>3723</td>\n",
       "      <td>0.974067</td>\n",
       "      <td>0.974064</td>\n",
       "      <td>930</td>\n",
       "      <td>932</td>\n",
       "      <td>ahoTs</td>\n",
       "      <td>Thomas</td>\n",
       "      <td>None</td>\n",
       "      <td>Mills</td>\n",
       "      <td>1970-03-09</td>\n",
       "      <td>1970-03-09</td>\n",
       "      <td>None</td>\n",
       "      <td>London</td>\n",
       "      <td>hensondebbie@garcia.com</td>\n",
       "      <td>None</td>\n",
       "      <td>0</td>\n",
       "      <td>-1</td>\n",
       "      <td>1</td>\n",
       "      <td>-1</td>\n",
       "      <td>-1</td>\n",
       "      <td>0.51226699352264400000</td>\n",
       "      <td>0.43492001295089720</td>\n",
       "      <td>1.0000000000000000000</td>\n",
       "      <td>1.00000000000000000</td>\n",
       "      <td>0.011895000003278255</td>\n",
       "      <td>0.79593002796173100</td>\n",
       "      <td>1.00000000000000000</td>\n",
       "      <td>1.00000000000000000</td>\n",
       "      <td>1.000000000000000000</td>\n",
       "      <td>1.00000000000000000</td>\n",
       "      <td>0.974067</td>\n",
       "      <td>0.500000</td>\n",
       "      <td>0.500000</td>\n",
       "      <td>0.974064</td>\n",
       "    </tr>\n",
       "    <tr>\n",
       "      <td>5146</td>\n",
       "      <td>0.011644</td>\n",
       "      <td>0.002130</td>\n",
       "      <td>93</td>\n",
       "      <td>135</td>\n",
       "      <td>None</td>\n",
       "      <td>None</td>\n",
       "      <td>Jones</td>\n",
       "      <td>Jones</td>\n",
       "      <td>2003-11-25</td>\n",
       "      <td>1980-06-23</td>\n",
       "      <td>Brighton</td>\n",
       "      <td>Lnoon</td>\n",
       "      <td>samuel91@curry.info</td>\n",
       "      <td>trobinson@garza.com</td>\n",
       "      <td>-1</td>\n",
       "      <td>2</td>\n",
       "      <td>0</td>\n",
       "      <td>0</td>\n",
       "      <td>0</td>\n",
       "      <td>1.00000000000000000000</td>\n",
       "      <td>1.00000000000000000</td>\n",
       "      <td>0.6847820281982422000</td>\n",
       "      <td>0.49587100744247437</td>\n",
       "      <td>0.988104999065399200</td>\n",
       "      <td>0.20407000184059143</td>\n",
       "      <td>0.85774797201156620</td>\n",
       "      <td>0.32082000374794006</td>\n",
       "      <td>0.988287985324859600</td>\n",
       "      <td>0.31485700607299805</td>\n",
       "      <td>0.011644</td>\n",
       "      <td>0.500000</td>\n",
       "      <td>0.153456</td>\n",
       "      <td>0.002130</td>\n",
       "    </tr>\n",
       "    <tr>\n",
       "      <td>4386</td>\n",
       "      <td>0.055604</td>\n",
       "      <td>0.017551</td>\n",
       "      <td>153</td>\n",
       "      <td>730</td>\n",
       "      <td>Harry</td>\n",
       "      <td>Harry</td>\n",
       "      <td>Hil</td>\n",
       "      <td>Lawrence</td>\n",
       "      <td>2017-10-23</td>\n",
       "      <td>2016-12-25</td>\n",
       "      <td>None</td>\n",
       "      <td>Stoke-on-ernt</td>\n",
       "      <td>zporter@robinson.com</td>\n",
       "      <td>barbarapace@manning.org</td>\n",
       "      <td>2</td>\n",
       "      <td>0</td>\n",
       "      <td>0</td>\n",
       "      <td>-1</td>\n",
       "      <td>0</td>\n",
       "      <td>0.48735401034355164000</td>\n",
       "      <td>0.47899198532104490</td>\n",
       "      <td>0.3137150108814239500</td>\n",
       "      <td>0.43201300501823425</td>\n",
       "      <td>0.988104999065399200</td>\n",
       "      <td>0.20407000184059143</td>\n",
       "      <td>1.00000000000000000</td>\n",
       "      <td>1.00000000000000000</td>\n",
       "      <td>0.988287985324859600</td>\n",
       "      <td>0.31485700607299805</td>\n",
       "      <td>0.055604</td>\n",
       "      <td>0.232790</td>\n",
       "      <td>0.500000</td>\n",
       "      <td>0.017551</td>\n",
       "    </tr>\n",
       "    <tr>\n",
       "      <td>219</td>\n",
       "      <td>0.999865</td>\n",
       "      <td>0.999871</td>\n",
       "      <td>195</td>\n",
       "      <td>202</td>\n",
       "      <td>Jacob</td>\n",
       "      <td>Jacob</td>\n",
       "      <td>Eans</td>\n",
       "      <td>Evans</td>\n",
       "      <td>1987-02-06</td>\n",
       "      <td>1987-02-06</td>\n",
       "      <td>Southend-on-Sea</td>\n",
       "      <td>Southend-on-Sea</td>\n",
       "      <td>None</td>\n",
       "      <td>baorygary@flores.cm</td>\n",
       "      <td>2</td>\n",
       "      <td>1</td>\n",
       "      <td>1</td>\n",
       "      <td>1</td>\n",
       "      <td>-1</td>\n",
       "      <td>0.48735401034355164000</td>\n",
       "      <td>0.47899198532104490</td>\n",
       "      <td>0.0015040000434964895</td>\n",
       "      <td>0.07211600244045258</td>\n",
       "      <td>0.011895000003278255</td>\n",
       "      <td>0.79593002796173100</td>\n",
       "      <td>0.14225199818611145</td>\n",
       "      <td>0.67918002605438230</td>\n",
       "      <td>1.000000000000000000</td>\n",
       "      <td>1.00000000000000000</td>\n",
       "      <td>0.999865</td>\n",
       "      <td>0.513230</td>\n",
       "      <td>0.500000</td>\n",
       "      <td>0.999871</td>\n",
       "    </tr>\n",
       "    <tr>\n",
       "      <td>1522</td>\n",
       "      <td>0.009902</td>\n",
       "      <td>0.007313</td>\n",
       "      <td>121</td>\n",
       "      <td>989</td>\n",
       "      <td>Daniel</td>\n",
       "      <td>Sophia</td>\n",
       "      <td>Ellis</td>\n",
       "      <td>Ellis</td>\n",
       "      <td>2013-01-14</td>\n",
       "      <td>1981-10-17</td>\n",
       "      <td>Stoke-on-Trent</td>\n",
       "      <td>Shefield</td>\n",
       "      <td>wmcdaniel@nelson.net</td>\n",
       "      <td>danielle24@garia-jonee.nst</td>\n",
       "      <td>0</td>\n",
       "      <td>2</td>\n",
       "      <td>0</td>\n",
       "      <td>0</td>\n",
       "      <td>0</td>\n",
       "      <td>0.51226699352264400000</td>\n",
       "      <td>0.43492001295089720</td>\n",
       "      <td>0.6847820281982422000</td>\n",
       "      <td>0.49587100744247437</td>\n",
       "      <td>0.988104999065399200</td>\n",
       "      <td>0.20407000184059143</td>\n",
       "      <td>0.85774797201156620</td>\n",
       "      <td>0.32082000374794006</td>\n",
       "      <td>0.988287985324859600</td>\n",
       "      <td>0.31485700607299805</td>\n",
       "      <td>0.009902</td>\n",
       "      <td>0.500000</td>\n",
       "      <td>0.424170</td>\n",
       "      <td>0.007313</td>\n",
       "    </tr>\n",
       "    <tr>\n",
       "      <td>5031</td>\n",
       "      <td>0.950852</td>\n",
       "      <td>0.950852</td>\n",
       "      <td>665</td>\n",
       "      <td>669</td>\n",
       "      <td>Taylor</td>\n",
       "      <td>Ivy</td>\n",
       "      <td>Ivy</td>\n",
       "      <td>Taylor</td>\n",
       "      <td>1980-01-13</td>\n",
       "      <td>1980-01-13</td>\n",
       "      <td>London</td>\n",
       "      <td>Lodno</td>\n",
       "      <td>None</td>\n",
       "      <td>jonesjennifer@pitts.com</td>\n",
       "      <td>0</td>\n",
       "      <td>0</td>\n",
       "      <td>1</td>\n",
       "      <td>0</td>\n",
       "      <td>-1</td>\n",
       "      <td>0.51226699352264400000</td>\n",
       "      <td>0.43492001295089720</td>\n",
       "      <td>0.3137150108814239500</td>\n",
       "      <td>0.43201300501823425</td>\n",
       "      <td>0.011895000003278255</td>\n",
       "      <td>0.79593002796173100</td>\n",
       "      <td>0.85774797201156620</td>\n",
       "      <td>0.32082000374794006</td>\n",
       "      <td>1.000000000000000000</td>\n",
       "      <td>1.00000000000000000</td>\n",
       "      <td>0.950852</td>\n",
       "      <td>0.500000</td>\n",
       "      <td>0.500000</td>\n",
       "      <td>0.950852</td>\n",
       "    </tr>\n",
       "    <tr>\n",
       "      <td>2495</td>\n",
       "      <td>0.026046</td>\n",
       "      <td>0.005658</td>\n",
       "      <td>515</td>\n",
       "      <td>669</td>\n",
       "      <td>Alfie</td>\n",
       "      <td>Ivy</td>\n",
       "      <td>Taylor</td>\n",
       "      <td>Taylor</td>\n",
       "      <td>2005-06-20</td>\n",
       "      <td>1980-01-13</td>\n",
       "      <td>None</td>\n",
       "      <td>Lodno</td>\n",
       "      <td>michellejackson@smith-trujillo.com</td>\n",
       "      <td>jonesjennifer@pitts.com</td>\n",
       "      <td>0</td>\n",
       "      <td>2</td>\n",
       "      <td>0</td>\n",
       "      <td>-1</td>\n",
       "      <td>0</td>\n",
       "      <td>0.51226699352264400000</td>\n",
       "      <td>0.43492001295089720</td>\n",
       "      <td>0.6847820281982422000</td>\n",
       "      <td>0.49587100744247437</td>\n",
       "      <td>0.988104999065399200</td>\n",
       "      <td>0.20407000184059143</td>\n",
       "      <td>1.00000000000000000</td>\n",
       "      <td>1.00000000000000000</td>\n",
       "      <td>0.988287985324859600</td>\n",
       "      <td>0.31485700607299805</td>\n",
       "      <td>0.026046</td>\n",
       "      <td>0.500000</td>\n",
       "      <td>0.175443</td>\n",
       "      <td>0.005658</td>\n",
       "    </tr>\n",
       "    <tr>\n",
       "      <td>5027</td>\n",
       "      <td>0.995959</td>\n",
       "      <td>0.995956</td>\n",
       "      <td>668</td>\n",
       "      <td>671</td>\n",
       "      <td>Taylor</td>\n",
       "      <td>Ivy</td>\n",
       "      <td>Ivy</td>\n",
       "      <td>Taylor</td>\n",
       "      <td>1980-01-13</td>\n",
       "      <td>1980-01-13</td>\n",
       "      <td>London</td>\n",
       "      <td>London</td>\n",
       "      <td>jonesjennifer@pitts.com</td>\n",
       "      <td>None</td>\n",
       "      <td>0</td>\n",
       "      <td>0</td>\n",
       "      <td>1</td>\n",
       "      <td>1</td>\n",
       "      <td>-1</td>\n",
       "      <td>0.51226699352264400000</td>\n",
       "      <td>0.43492001295089720</td>\n",
       "      <td>0.3137150108814239500</td>\n",
       "      <td>0.43201300501823425</td>\n",
       "      <td>0.011895000003278255</td>\n",
       "      <td>0.79593002796173100</td>\n",
       "      <td>0.14225199818611145</td>\n",
       "      <td>0.67918002605438230</td>\n",
       "      <td>1.000000000000000000</td>\n",
       "      <td>1.00000000000000000</td>\n",
       "      <td>0.995959</td>\n",
       "      <td>0.500000</td>\n",
       "      <td>0.500000</td>\n",
       "      <td>0.995956</td>\n",
       "    </tr>\n",
       "    <tr>\n",
       "      <td>2522</td>\n",
       "      <td>0.113237</td>\n",
       "      <td>0.026451</td>\n",
       "      <td>142</td>\n",
       "      <td>367</td>\n",
       "      <td>Harry</td>\n",
       "      <td>Nacy</td>\n",
       "      <td>Taylor</td>\n",
       "      <td>Taylor</td>\n",
       "      <td>2017-11-24</td>\n",
       "      <td>1989-07-25</td>\n",
       "      <td>London</td>\n",
       "      <td>London</td>\n",
       "      <td>coltonray@lee.com</td>\n",
       "      <td>wagnershane@landry.com</td>\n",
       "      <td>0</td>\n",
       "      <td>2</td>\n",
       "      <td>0</td>\n",
       "      <td>1</td>\n",
       "      <td>0</td>\n",
       "      <td>0.51226699352264400000</td>\n",
       "      <td>0.43492001295089720</td>\n",
       "      <td>0.6847820281982422000</td>\n",
       "      <td>0.49587100744247437</td>\n",
       "      <td>0.988104999065399200</td>\n",
       "      <td>0.20407000184059143</td>\n",
       "      <td>0.14225199818611145</td>\n",
       "      <td>0.67918002605438230</td>\n",
       "      <td>0.988287985324859600</td>\n",
       "      <td>0.31485700607299805</td>\n",
       "      <td>0.113237</td>\n",
       "      <td>0.500000</td>\n",
       "      <td>0.175443</td>\n",
       "      <td>0.026451</td>\n",
       "    </tr>\n",
       "    <tr>\n",
       "      <td>2708</td>\n",
       "      <td>0.009902</td>\n",
       "      <td>0.002124</td>\n",
       "      <td>364</td>\n",
       "      <td>974</td>\n",
       "      <td>Nancy</td>\n",
       "      <td>Reuben</td>\n",
       "      <td>Taylor</td>\n",
       "      <td>Taylor</td>\n",
       "      <td>1989-07-25</td>\n",
       "      <td>1978-05-09</td>\n",
       "      <td>London</td>\n",
       "      <td>Lonno</td>\n",
       "      <td>wagnershane@landry.com</td>\n",
       "      <td>tiffanyrodrigueu@rodrigzez-u.com</td>\n",
       "      <td>0</td>\n",
       "      <td>2</td>\n",
       "      <td>0</td>\n",
       "      <td>0</td>\n",
       "      <td>0</td>\n",
       "      <td>0.51226699352264400000</td>\n",
       "      <td>0.43492001295089720</td>\n",
       "      <td>0.6847820281982422000</td>\n",
       "      <td>0.49587100744247437</td>\n",
       "      <td>0.988104999065399200</td>\n",
       "      <td>0.20407000184059143</td>\n",
       "      <td>0.85774797201156620</td>\n",
       "      <td>0.32082000374794006</td>\n",
       "      <td>0.988287985324859600</td>\n",
       "      <td>0.31485700607299805</td>\n",
       "      <td>0.009902</td>\n",
       "      <td>0.500000</td>\n",
       "      <td>0.175443</td>\n",
       "      <td>0.002124</td>\n",
       "    </tr>\n",
       "  </tbody>\n",
       "</table>\n",
       "</div>"
      ],
      "text/plain": [
       "     match_probability tf_adjusted_match_prob  unique_id_l  unique_id_r  \\\n",
       "3723          0.974067               0.974064          930          932   \n",
       "5146          0.011644               0.002130           93          135   \n",
       "4386          0.055604               0.017551          153          730   \n",
       "219           0.999865               0.999871          195          202   \n",
       "1522          0.009902               0.007313          121          989   \n",
       "5031          0.950852               0.950852          665          669   \n",
       "2495          0.026046               0.005658          515          669   \n",
       "5027          0.995959               0.995956          668          671   \n",
       "2522          0.113237               0.026451          142          367   \n",
       "2708          0.009902               0.002124          364          974   \n",
       "\n",
       "     first_name_l first_name_r surname_l surname_r       dob_l       dob_r  \\\n",
       "3723       ahoTs       Thomas       None     Mills  1970-03-09  1970-03-09   \n",
       "5146         None         None     Jones     Jones  2003-11-25  1980-06-23   \n",
       "4386       Harry        Harry        Hil  Lawrence  2017-10-23  2016-12-25   \n",
       "219        Jacob        Jacob       Eans     Evans  1987-02-06  1987-02-06   \n",
       "1522       Daniel      Sophia      Ellis     Ellis  2013-01-14  1981-10-17   \n",
       "5031       Taylor         Ivy       Ivy     Taylor  1980-01-13  1980-01-13   \n",
       "2495       Alfie          Ivy     Taylor    Taylor  2005-06-20  1980-01-13   \n",
       "5027       Taylor         Ivy       Ivy     Taylor  1980-01-13  1980-01-13   \n",
       "2522       Harry         Nacy     Taylor    Taylor  2017-11-24  1989-07-25   \n",
       "2708       Nancy       Reuben     Taylor    Taylor  1989-07-25  1978-05-09   \n",
       "\n",
       "               city_l           city_r                             email_l  \\\n",
       "3723             None           London             hensondebbie@garcia.com   \n",
       "5146         Brighton            Lnoon                 samuel91@curry.info   \n",
       "4386             None    Stoke-on-ernt                zporter@robinson.com   \n",
       "219   Southend-on-Sea  Southend-on-Sea                                None   \n",
       "1522   Stoke-on-Trent         Shefield                wmcdaniel@nelson.net   \n",
       "5031           London            Lodno                                None   \n",
       "2495             None            Lodno  michellejackson@smith-trujillo.com   \n",
       "5027           London           London             jonesjennifer@pitts.com   \n",
       "2522           London           London                   coltonray@lee.com   \n",
       "2708           London            Lonno              wagnershane@landry.com   \n",
       "\n",
       "                               email_r  gamma_0  gamma_1  gamma_2  gamma_3  \\\n",
       "3723                              None        0       -1        1       -1   \n",
       "5146               trobinson@garza.com       -1        2        0        0   \n",
       "4386           barbarapace@manning.org        2        0        0       -1   \n",
       "219                baorygary@flores.cm        2        1        1        1   \n",
       "1522        danielle24@garia-jonee.nst        0        2        0        0   \n",
       "5031           jonesjennifer@pitts.com        0        0        1        0   \n",
       "2495           jonesjennifer@pitts.com        0        2        0       -1   \n",
       "5027                              None        0        0        1        1   \n",
       "2522            wagnershane@landry.com        0        2        0        1   \n",
       "2708  tiffanyrodrigueu@rodrigzez-u.com        0        2        0        0   \n",
       "\n",
       "      gamma_4  prob_gamma_0_non_match   prob_gamma_0_match  \\\n",
       "3723       -1  0.51226699352264400000  0.43492001295089720   \n",
       "5146        0  1.00000000000000000000  1.00000000000000000   \n",
       "4386        0  0.48735401034355164000  0.47899198532104490   \n",
       "219        -1  0.48735401034355164000  0.47899198532104490   \n",
       "1522        0  0.51226699352264400000  0.43492001295089720   \n",
       "5031       -1  0.51226699352264400000  0.43492001295089720   \n",
       "2495        0  0.51226699352264400000  0.43492001295089720   \n",
       "5027       -1  0.51226699352264400000  0.43492001295089720   \n",
       "2522        0  0.51226699352264400000  0.43492001295089720   \n",
       "2708        0  0.51226699352264400000  0.43492001295089720   \n",
       "\n",
       "     prob_gamma_1_non_match   prob_gamma_1_match prob_gamma_2_non_match  \\\n",
       "3723  1.0000000000000000000  1.00000000000000000   0.011895000003278255   \n",
       "5146  0.6847820281982422000  0.49587100744247437   0.988104999065399200   \n",
       "4386  0.3137150108814239500  0.43201300501823425   0.988104999065399200   \n",
       "219   0.0015040000434964895  0.07211600244045258   0.011895000003278255   \n",
       "1522  0.6847820281982422000  0.49587100744247437   0.988104999065399200   \n",
       "5031  0.3137150108814239500  0.43201300501823425   0.011895000003278255   \n",
       "2495  0.6847820281982422000  0.49587100744247437   0.988104999065399200   \n",
       "5027  0.3137150108814239500  0.43201300501823425   0.011895000003278255   \n",
       "2522  0.6847820281982422000  0.49587100744247437   0.988104999065399200   \n",
       "2708  0.6847820281982422000  0.49587100744247437   0.988104999065399200   \n",
       "\n",
       "       prob_gamma_2_match prob_gamma_3_non_match   prob_gamma_3_match  \\\n",
       "3723  0.79593002796173100    1.00000000000000000  1.00000000000000000   \n",
       "5146  0.20407000184059143    0.85774797201156620  0.32082000374794006   \n",
       "4386  0.20407000184059143    1.00000000000000000  1.00000000000000000   \n",
       "219   0.79593002796173100    0.14225199818611145  0.67918002605438230   \n",
       "1522  0.20407000184059143    0.85774797201156620  0.32082000374794006   \n",
       "5031  0.79593002796173100    0.85774797201156620  0.32082000374794006   \n",
       "2495  0.20407000184059143    1.00000000000000000  1.00000000000000000   \n",
       "5027  0.79593002796173100    0.14225199818611145  0.67918002605438230   \n",
       "2522  0.20407000184059143    0.14225199818611145  0.67918002605438230   \n",
       "2708  0.20407000184059143    0.85774797201156620  0.32082000374794006   \n",
       "\n",
       "     prob_gamma_4_non_match   prob_gamma_4_match match_probability  \\\n",
       "3723   1.000000000000000000  1.00000000000000000          0.974067   \n",
       "5146   0.988287985324859600  0.31485700607299805          0.011644   \n",
       "4386   0.988287985324859600  0.31485700607299805          0.055604   \n",
       "219    1.000000000000000000  1.00000000000000000          0.999865   \n",
       "1522   0.988287985324859600  0.31485700607299805          0.009902   \n",
       "5031   1.000000000000000000  1.00000000000000000          0.950852   \n",
       "2495   0.988287985324859600  0.31485700607299805          0.026046   \n",
       "5027   1.000000000000000000  1.00000000000000000          0.995959   \n",
       "2522   0.988287985324859600  0.31485700607299805          0.113237   \n",
       "2708   0.988287985324859600  0.31485700607299805          0.009902   \n",
       "\n",
       "     first_name_adj surname_adj tf_adjusted_match_prob  \n",
       "3723       0.500000    0.500000               0.974064  \n",
       "5146       0.500000    0.153456               0.002130  \n",
       "4386       0.232790    0.500000               0.017551  \n",
       "219        0.513230    0.500000               0.999871  \n",
       "1522       0.500000    0.424170               0.007313  \n",
       "5031       0.500000    0.500000               0.950852  \n",
       "2495       0.500000    0.175443               0.005658  \n",
       "5027       0.500000    0.500000               0.995956  \n",
       "2522       0.500000    0.175443               0.026451  \n",
       "2708       0.500000    0.175443               0.002124  "
      ]
     },
     "execution_count": 23,
     "metadata": {},
     "output_type": "execute_result"
    }
   ],
   "source": [
    "pdtf = df_e_adj.toPandas()\n",
    "sam = pdtf.sample(10)\n",
    "sam[[\"match_probability\", \"tf_adjusted_match_prob\"] + list(pdtf.columns)]"
   ]
  }
 ],
 "metadata": {
  "kernelspec": {
   "display_name": "Python 3",
   "language": "python",
   "name": "python3"
  },
  "language_info": {
   "codemirror_mode": {
    "name": "ipython",
    "version": 3
   },
   "file_extension": ".py",
   "mimetype": "text/x-python",
   "name": "python",
   "nbconvert_exporter": "python",
   "pygments_lexer": "ipython3",
   "version": "3.6.9"
  }
 },
 "nbformat": 4,
 "nbformat_minor": 4
}
